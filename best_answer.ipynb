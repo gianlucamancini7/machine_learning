{
 "cells": [
  {
   "cell_type": "code",
   "execution_count": 6,
   "metadata": {},
   "outputs": [
    {
     "name": "stdout",
     "output_type": "stream",
     "text": [
      "The autoreload extension is already loaded. To reload it, use:\n",
      "  %reload_ext autoreload\n"
     ]
    }
   ],
   "source": [
    "# Useful starting lines\n",
    "%matplotlib inline\n",
    "import numpy as np\n",
    "import matplotlib.pyplot as plt\n",
    "%load_ext autoreload\n",
    "%autoreload 2\n",
    "#allows to print the dataframe nicely\n",
    "from IPython.core import display as ICD\n",
    "# !pip install plotly\n",
    "# import plotly.plotly as py\n",
    "# from plotly.graph_objs import *\n",
    "# import plotly.tools as tls\n",
    "# from scipy import stats"
   ]
  },
  {
   "cell_type": "code",
   "execution_count": 7,
   "metadata": {},
   "outputs": [],
   "source": [
    "# import additional packages to insepct data and clean them\n",
    "import pandas as pd\n",
    "import os \n",
    "import random \n",
    "from zipfile import ZipFile\n",
    "import datetime"
   ]
  },
  {
   "cell_type": "code",
   "execution_count": 23,
   "metadata": {},
   "outputs": [],
   "source": [
    "# import helping functions from the implementation file\n",
    "#from proj1_helpers import load_csv_data\n",
    "from proj1_helpers import *\n",
    "import implementations\n",
    "from additional_implementations import *\n",
    "import seaborn as sns"
   ]
  },
  {
   "cell_type": "code",
   "execution_count": 9,
   "metadata": {},
   "outputs": [
    {
     "data": {
      "text/plain": [
       "[<ZipInfo filename='train.csv' compress_type=deflate file_size=48103379 compress_size=17670847>,\n",
       " <ZipInfo filename='test.csv' compress_type=deflate file_size=109335584 compress_size=40089137>,\n",
       " <ZipInfo filename='sample-submission.csv' compress_type=deflate file_size=5682394 compress_size=1263762>]"
      ]
     },
     "execution_count": 9,
     "metadata": {},
     "output_type": "execute_result"
    }
   ],
   "source": [
    "# import zipped files from the github repository\n",
    "data_folder='./data/'\n",
    "zip_file = ZipFile(data_folder+'all.zip')\n",
    "# zip file creates a list of files with certain properties\n",
    "zip_file.infolist()"
   ]
  },
  {
   "cell_type": "code",
   "execution_count": 10,
   "metadata": {},
   "outputs": [],
   "source": [
    "# now we want to access the 'filename' property in the zipfile variable\n",
    "# and we create a dictionary of dataframe\n",
    "dfs = {text_file.filename: pd.read_csv(zip_file.open(text_file.filename))\n",
    "       for text_file in zip_file.infolist()\n",
    "       if text_file.filename.endswith('.csv')}\n",
    "df_train=dfs['train.csv']\n",
    "df_test=dfs['test.csv']\n",
    "df_sample_submission=dfs['sample-submission.csv']"
   ]
  },
  {
   "cell_type": "code",
   "execution_count": 11,
   "metadata": {},
   "outputs": [],
   "source": [
    "df_train_gau=df_train.drop(columns=['Prediction', 'Id'])"
   ]
  },
  {
   "cell_type": "code",
   "execution_count": 12,
   "metadata": {},
   "outputs": [],
   "source": [
    "df_train_gau[df_train_gau==-999.0]=0"
   ]
  },
  {
   "cell_type": "code",
   "execution_count": 13,
   "metadata": {},
   "outputs": [],
   "source": [
    "y_train_gau=np.array(df_train['Prediction'])\n",
    "y_train_gau[np.where(y_train_gau=='b')] = -1.\n",
    "y_train_gau[np.where(y_train_gau=='s')] = 1.\n",
    "y_train_gau=y_train_gau.astype('float')"
   ]
  },
  {
   "cell_type": "code",
   "execution_count": 14,
   "metadata": {},
   "outputs": [],
   "source": [
    "tx_train_gau_polynomial=polynomial_features_simple(df_train_gau, 9)"
   ]
  },
  {
   "cell_type": "code",
   "execution_count": 15,
   "metadata": {},
   "outputs": [],
   "source": [
    "# lambdas=np.logspace(-10,-2,15)\n",
    "# mses=[]\n",
    "# ws=[]\n",
    "# for lambda_ in lambdas:\n",
    "#     w,loss=implementations.ridge_regression(y_train_gau,tx_train_gau_polynomial,lambda_)\n",
    "#     mses.append(loss)\n",
    "#     ws.append(w)\n",
    "# #cross_validation_visualization(lambdas, mses, mses)\n",
    "# w_final=ws[np.argmin(mses)]\n",
    "# mses[np.argmin(mses)]"
   ]
  },
  {
   "cell_type": "code",
   "execution_count": 19,
   "metadata": {},
   "outputs": [
    {
     "name": "stdout",
     "output_type": "stream",
     "text": [
      "MSE:  28.156430834296494    Degree:  8    Lambda:  5.994842503189421e-09\n",
      "\n",
      "Ws:  [-1.35920207e+01 -4.90403746e-01  1.14650361e-02 -9.31723762e-05\n",
      "  3.62961474e-07 -7.58490040e-10  8.68839510e-13 -5.12717919e-16\n",
      "  1.21559587e-19  1.31597429e-01 -6.26190953e-03  7.43072690e-05\n",
      " -3.86110854e-07  1.01338436e-09 -1.36008470e-12  8.39465433e-16\n",
      " -1.60336417e-19 -1.63544453e-01  1.27570711e-03 -8.54705620e-06\n",
      "  3.49835260e-08 -7.76325638e-11  9.14874726e-14 -5.37884823e-17\n",
      "  1.23826513e-20 -5.16785036e-02  9.87617970e-04 -9.96743402e-06\n",
      "  5.41953229e-08 -1.60307244e-10  2.54672759e-13 -2.01307861e-16\n",
      "  6.09472001e-20 -1.34034340e+00  2.71302283e+00 -4.66745911e+00\n",
      "  3.39243895e+00 -1.17857775e+00  2.11918752e-01 -1.91389813e-02\n",
      "  6.88898165e-04 -4.99571828e-02  1.20593124e-04 -1.52627910e-07\n",
      "  1.09993003e-10 -4.67345319e-14  1.15239443e-17 -1.51782072e-21\n",
      "  8.22357184e-26 -5.89116574e-01 -3.02914817e-02  2.80741280e-03\n",
      "  2.40657183e-04 -1.98647295e-05 -1.05196771e-08  9.25132678e-08\n",
      " -5.27845785e-09 -3.95846671e+01  7.22504592e+01 -5.77932196e+01\n",
      "  2.54296235e+01 -6.51640836e+00  9.52802644e-01 -7.09940069e-02\n",
      "  1.92668183e-03  8.51151538e-03 -8.12460671e-04  1.44587268e-05\n",
      " -7.95684407e-08  1.44190745e-10  3.71257338e-14 -2.91759245e-16\n",
      "  1.45722153e-19 -1.22871968e+01  7.81387421e-04 -3.00284535e-06\n",
      "  6.56836632e-09 -8.28483653e-12  5.98818007e-15 -2.30340802e-18\n",
      "  3.65321447e-22 -2.36638670e+00  4.88878347e-01  4.08770052e-01\n",
      " -1.92650082e-01  3.29282621e-02 -2.70877907e-03  1.07449954e-04\n",
      " -1.64658181e-06 -1.09181365e+00 -2.14872656e+00  1.53660082e+00\n",
      "  5.75952922e+00  2.65234579e-03 -4.39870743e+00 -1.97858117e-01\n",
      "  1.03987987e+00 -3.34677668e+00  6.14398475e+00  1.43255113e+01\n",
      " -1.47505904e+01 -5.09202958e+00  3.98614358e+00 -3.44729125e+00\n",
      "  5.00126946e+00  1.26189993e+01 -4.71423794e-03  1.96613130e-05\n",
      "  1.00967278e-08 -3.50367113e-10  1.14254252e-12 -1.53408053e-15\n",
      "  7.60626735e-19  8.19581258e-02  3.28394493e-01 -1.42218919e-01\n",
      " -4.00229897e-01  5.35518697e-02  1.00306141e-01 -5.59478490e-03\n",
      " -8.09479729e-03 -2.97040548e-02 -4.26603932e-03  9.70714028e-03\n",
      " -4.32342485e-03 -7.57559424e-04  6.13183536e-04  2.11275035e-06\n",
      " -8.12580596e-06  1.33037993e+01 -3.05734417e-02  4.28813529e-04\n",
      " -3.32776837e-06  1.47908709e-08 -3.73347780e-11  4.96333705e-14\n",
      " -2.69310946e-17  1.91486626e-02 -2.49991169e-01 -2.81464314e-02\n",
      " -8.05995951e-02  1.08641843e-02  2.14793592e-02 -1.38817836e-03\n",
      " -1.61439421e-03  3.96790366e-02  2.69072475e-02 -1.46564127e-02\n",
      " -1.47495500e-02  2.75037614e-03  2.27881755e-03 -2.02372965e-04\n",
      " -1.05529782e-04 -1.07669509e-01  2.97732046e-03 -2.92904924e-05\n",
      "  1.36298090e-07 -3.07897487e-10  2.95125257e-13 -2.75548648e-17\n",
      " -8.18952048e-20  3.12174002e-02 -4.11946934e-02 -3.45785639e-02\n",
      "  2.08307442e-02  8.63020919e-03 -2.73754980e-03 -5.85994119e-04\n",
      "  9.64186656e-05  1.95553402e-02 -7.09803403e-06 -4.08108527e-07\n",
      "  1.33476376e-09 -1.83310404e-12  1.25301530e-15 -4.14490165e-19\n",
      "  5.16779834e-23  4.39053843e+02  3.15299092e+02  1.34889997e+02\n",
      " -8.97965791e+01 -4.17855698e+02 -1.56796781e+03  1.48574388e+03\n",
      " -3.05634182e+02  2.20478666e-01 -2.60509443e-03  1.70403854e-05\n",
      " -6.12093858e-08  1.17809987e-10 -1.08099307e-13  2.69479896e-17\n",
      "  1.18019383e-20 -2.68052520e-02  4.03112751e-01 -5.20907744e-03\n",
      "  2.63165123e-02  1.62128967e-03 -3.56565451e-03 -6.43071514e-05\n",
      "  1.01830365e-04 -5.58139744e-02  4.76136398e-02  2.12257507e-02\n",
      " -1.60102536e-02 -2.87032688e-03  2.65831552e-03  1.60826283e-04\n",
      " -1.59549781e-04  1.72397259e-01 -1.63337172e-03  1.03701174e-05\n",
      " -4.81180314e-08  1.58754840e-10 -3.32265617e-13  3.75733226e-16\n",
      " -1.70736335e-19 -3.17412291e-03  5.49283399e-01  2.25267889e-03\n",
      " -1.89530305e-02 -2.87173138e-04  4.10414981e-04  1.52391651e-05\n",
      " -2.84773177e-06  5.76557636e-02 -2.07495480e-01 -5.98603266e-02\n",
      "  6.89503743e-02  1.26591124e-02 -9.50944177e-03 -7.33176001e-04\n",
      "  4.69642029e-04  1.21776341e+01  2.63485313e-06 -1.76925312e-07\n",
      "  5.90524435e-10 -1.11316873e-12  1.18656571e-15 -6.29557295e-19\n",
      "  1.27488329e-22]\n"
     ]
    }
   ],
   "source": [
    "lambdas=np.logspace(-10,-2,10)\n",
    "degrees=np.linspace(1,15,3).astype('int')\n",
    "mses= np.zeros((len(degrees), len(lambdas)))\n",
    "\n",
    "for ind_degree,degree in enumerate(degrees):\n",
    "    tx_train_gau_polynomial=polynomial_features_simple(df_train_gau, degree)\n",
    "    for ind_lambda,lambda_ in enumerate(lambdas):\n",
    "        w,loss=implementations.ridge_regression(y_train_gau,tx_train_gau_polynomial,lambda_)\n",
    "        mses[ind_degree, ind_lambda]=loss\n",
    "        \n",
    "mse_final, degree_final,lambda_final=get_best_parameters(degrees, lambdas, mses)\n",
    "tx_train_gau_polynomial=polynomial_features_simple(df_train_gau, degree_final)\n",
    "w_final,loss=implementations.ridge_regression(y_train_gau,tx_train_gau_polynomial,lambda_final)\n",
    "\n",
    "print('MSE: ',mse_final,'   Degree: ',degree_final,'   Lambda: ',lambda_final)\n",
    "print('')\n",
    "print('Ws: ',w_final)"
   ]
  },
  {
   "cell_type": "code",
   "execution_count": 25,
   "metadata": {},
   "outputs": [
    {
     "data": {
      "text/plain": [
       "0.81104"
      ]
     },
     "execution_count": 25,
     "metadata": {},
     "output_type": "execute_result"
    }
   ],
   "source": [
    "y_pred=predict_labels(w_final,tx_train_gau_polynomial)\n",
    "list(y_pred*y_train_gau).count(1.)/len(tx_train_gau_polynomial)\n"
   ]
  },
  {
   "cell_type": "code",
   "execution_count": null,
   "metadata": {},
   "outputs": [],
   "source": [
    "df_test_gau=df_test"
   ]
  },
  {
   "cell_type": "code",
   "execution_count": null,
   "metadata": {},
   "outputs": [],
   "source": [
    "df_test_gau=df_test_gau.drop(columns=['Id', 'Prediction'])"
   ]
  },
  {
   "cell_type": "code",
   "execution_count": null,
   "metadata": {},
   "outputs": [],
   "source": [
    "df_test_gau[df_test_gau==-999.0]=0"
   ]
  },
  {
   "cell_type": "code",
   "execution_count": null,
   "metadata": {},
   "outputs": [],
   "source": [
    "tx_test_gau_polynomial=polynomial_features_simple(df_test_gau,9)"
   ]
  },
  {
   "cell_type": "code",
   "execution_count": null,
   "metadata": {},
   "outputs": [],
   "source": [
    "# tx_test=tx_test_gau_polynomial\n",
    "# y_pred=predict_labels(w_final,tx_test)\n",
    "# create_csv_submission(df_test['Id'], y_pred, 'trial_ridge_polynomial_gau_basic')"
   ]
  },
  {
   "cell_type": "code",
   "execution_count": null,
   "metadata": {},
   "outputs": [],
   "source": [
    "gau_std=pd.read_csv('trial_ridge_polynomial_gau')\n",
    "gau_basic=pd.read_csv('trial_ridge_polynomial_gau_basic')\n",
    "\n",
    "check=gau_basic['Prediction']*gau_std['Prediction']\n",
    "check.value_counts().plot(kind='bar')"
   ]
  },
  {
   "cell_type": "code",
   "execution_count": null,
   "metadata": {},
   "outputs": [],
   "source": []
  }
 ],
 "metadata": {
  "kernelspec": {
   "display_name": "Python 3",
   "language": "python",
   "name": "python3"
  },
  "language_info": {
   "codemirror_mode": {
    "name": "ipython",
    "version": 3
   },
   "file_extension": ".py",
   "mimetype": "text/x-python",
   "name": "python",
   "nbconvert_exporter": "python",
   "pygments_lexer": "ipython3",
   "version": "3.6.5"
  }
 },
 "nbformat": 4,
 "nbformat_minor": 2
}
