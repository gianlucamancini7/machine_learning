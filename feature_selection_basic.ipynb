{
 "cells": [
  {
   "cell_type": "code",
   "execution_count": 1,
   "metadata": {},
   "outputs": [],
   "source": [
    "# Useful starting lines\n",
    "%matplotlib inline\n",
    "import numpy as np\n",
    "import matplotlib.pyplot as plt\n",
    "%load_ext autoreload\n",
    "%autoreload 2\n",
    "#allows to print the dataframe nicely\n",
    "from IPython.core import display as ICD\n",
    "# !pip install plotly\n",
    "# import plotly.plotly as py\n",
    "# from plotly.graph_objs import *\n",
    "# import plotly.tools as tls\n",
    "# from scipy import stats"
   ]
  },
  {
   "cell_type": "code",
   "execution_count": 2,
   "metadata": {},
   "outputs": [],
   "source": [
    "# import additional packages to insepct data and clean them\n",
    "import pandas as pd\n",
    "import os \n",
    "import random \n",
    "from zipfile import ZipFile\n",
    "import datetime"
   ]
  },
  {
   "cell_type": "code",
   "execution_count": 3,
   "metadata": {},
   "outputs": [],
   "source": [
    "# import helping functions from the implementation file\n",
    "#from proj1_helpers import load_csv_data\n",
    "from proj1_helpers import *\n",
    "import implementations\n",
    "from additional_implementations import *\n",
    "import seaborn as sns"
   ]
  },
  {
   "cell_type": "code",
   "execution_count": 4,
   "metadata": {},
   "outputs": [
    {
     "data": {
      "text/plain": [
       "[<ZipInfo filename='train.csv' compress_type=deflate file_size=48103379 compress_size=17670847>,\n",
       " <ZipInfo filename='test.csv' compress_type=deflate file_size=109335584 compress_size=40089137>,\n",
       " <ZipInfo filename='sample-submission.csv' compress_type=deflate file_size=5682394 compress_size=1263762>]"
      ]
     },
     "execution_count": 4,
     "metadata": {},
     "output_type": "execute_result"
    }
   ],
   "source": [
    "# import zipped files from the github repository\n",
    "data_folder='./data/'\n",
    "zip_file = ZipFile(data_folder+'all.zip')\n",
    "# zip file creates a list of files with certain properties\n",
    "zip_file.infolist()"
   ]
  },
  {
   "cell_type": "code",
   "execution_count": 5,
   "metadata": {},
   "outputs": [],
   "source": [
    "# now we want to access the 'filename' property in the zipfile variable\n",
    "# and we create a dictionary of dataframe\n",
    "dfs = {text_file.filename: pd.read_csv(zip_file.open(text_file.filename))\n",
    "       for text_file in zip_file.infolist()\n",
    "       if text_file.filename.endswith('.csv')}\n",
    "df_train=dfs['train.csv']\n",
    "df_test=dfs['test.csv']\n",
    "df_sample_submission=dfs['sample-submission.csv']"
   ]
  },
  {
   "cell_type": "code",
   "execution_count": 6,
   "metadata": {},
   "outputs": [],
   "source": [
    "df_train_selection=df_train.drop(columns=['Prediction', 'Id'])"
   ]
  },
  {
   "cell_type": "code",
   "execution_count": 7,
   "metadata": {},
   "outputs": [
    {
     "data": {
      "text/plain": [
       "{'DER_mass_MMC': 38114,\n",
       " 'DER_mass_transverse_met_lep': 0,\n",
       " 'DER_mass_vis': 0,\n",
       " 'DER_pt_h': 0,\n",
       " 'DER_deltaeta_jet_jet': 177457,\n",
       " 'DER_mass_jet_jet': 177457,\n",
       " 'DER_prodeta_jet_jet': 177457,\n",
       " 'DER_deltar_tau_lep': 0,\n",
       " 'DER_pt_tot': 0,\n",
       " 'DER_sum_pt': 0,\n",
       " 'DER_pt_ratio_lep_tau': 0,\n",
       " 'DER_met_phi_centrality': 0,\n",
       " 'DER_lep_eta_centrality': 177457,\n",
       " 'PRI_tau_pt': 0,\n",
       " 'PRI_tau_eta': 0,\n",
       " 'PRI_tau_phi': 0,\n",
       " 'PRI_lep_pt': 0,\n",
       " 'PRI_lep_eta': 0,\n",
       " 'PRI_lep_phi': 0,\n",
       " 'PRI_met': 0,\n",
       " 'PRI_met_phi': 0,\n",
       " 'PRI_met_sumet': 0,\n",
       " 'PRI_jet_num': 0,\n",
       " 'PRI_jet_leading_pt': 99913,\n",
       " 'PRI_jet_leading_eta': 99913,\n",
       " 'PRI_jet_leading_phi': 99913,\n",
       " 'PRI_jet_subleading_pt': 177457,\n",
       " 'PRI_jet_subleading_eta': 177457,\n",
       " 'PRI_jet_subleading_phi': 177457,\n",
       " 'PRI_jet_all_pt': 0}"
      ]
     },
     "execution_count": 7,
     "metadata": {},
     "output_type": "execute_result"
    }
   ],
   "source": [
    "counts={}\n",
    "for column_name in df_train_selection.columns.values:\n",
    "    \n",
    "    check=df_train_selection[column_name]==-999.0\n",
    "    counts[column_name]=np.sum(check.astype('int'))\n",
    "counts"
   ]
  },
  {
   "cell_type": "code",
   "execution_count": 8,
   "metadata": {},
   "outputs": [],
   "source": [
    "df_train_selection=df_train_selection.drop(columns=['PRI_jet_subleading_pt', 'PRI_jet_subleading_eta', 'PRI_jet_subleading_phi', 'DER_lep_eta_centrality', 'DER_prodeta_jet_jet', 'DER_mass_jet_jet', 'DER_deltaeta_jet_jet','PRI_jet_leading_pt','PRI_jet_leading_eta','PRI_jet_leading_phi'])"
   ]
  },
  {
   "cell_type": "code",
   "execution_count": 9,
   "metadata": {},
   "outputs": [],
   "source": [
    "df_train_selection=df_train_selection.drop(columns=['PRI_jet_all_pt', 'DER_sum_pt', 'PRI_met_sumet', 'DER_pt_h'])"
   ]
  },
  {
   "cell_type": "code",
   "execution_count": 10,
   "metadata": {},
   "outputs": [
    {
     "data": {
      "text/plain": [
       "{'DER_mass_MMC': 38114,\n",
       " 'DER_mass_transverse_met_lep': 0,\n",
       " 'DER_mass_vis': 0,\n",
       " 'DER_deltar_tau_lep': 0,\n",
       " 'DER_pt_tot': 0,\n",
       " 'DER_pt_ratio_lep_tau': 0,\n",
       " 'DER_met_phi_centrality': 0,\n",
       " 'PRI_tau_pt': 0,\n",
       " 'PRI_tau_eta': 0,\n",
       " 'PRI_tau_phi': 0,\n",
       " 'PRI_lep_pt': 0,\n",
       " 'PRI_lep_eta': 0,\n",
       " 'PRI_lep_phi': 0,\n",
       " 'PRI_met': 0,\n",
       " 'PRI_met_phi': 0,\n",
       " 'PRI_jet_num': 0}"
      ]
     },
     "execution_count": 10,
     "metadata": {},
     "output_type": "execute_result"
    }
   ],
   "source": [
    "counts={}\n",
    "for column_name in df_train_selection.columns.values:\n",
    "    \n",
    "    check=df_train_selection[column_name]==-999.0\n",
    "    counts[column_name]=np.sum(check.astype('int'))\n",
    "counts"
   ]
  },
  {
   "cell_type": "code",
   "execution_count": 11,
   "metadata": {},
   "outputs": [
    {
     "name": "stderr",
     "output_type": "stream",
     "text": [
      "C:\\Users\\Tullio\\Anaconda3\\lib\\site-packages\\ipykernel_launcher.py:2: SettingWithCopyWarning: \n",
      "A value is trying to be set on a copy of a slice from a DataFrame\n",
      "\n",
      "See the caveats in the documentation: http://pandas.pydata.org/pandas-docs/stable/indexing.html#indexing-view-versus-copy\n",
      "  \n"
     ]
    }
   ],
   "source": [
    "median=np.median(df_train_selection['DER_mass_MMC'])\n",
    "df_train_selection['DER_mass_MMC'][df_train_selection['DER_mass_MMC']==-999.0]=median"
   ]
  },
  {
   "cell_type": "code",
   "execution_count": 12,
   "metadata": {},
   "outputs": [],
   "source": [
    "y_train_selection=np.array(df_train['Prediction'])\n",
    "y_train_selection[np.where(y_train_selection=='b')] = -1.\n",
    "y_train_selection[np.where(y_train_selection=='s')] = 1.\n",
    "y_train_selection=y_train_selection.astype('float')"
   ]
  },
  {
   "cell_type": "code",
   "execution_count": null,
   "metadata": {},
   "outputs": [],
   "source": [
    "tx_train_selection_polynomial=polynomial_features_simple(df_train_selection, 9)"
   ]
  },
  {
   "cell_type": "code",
   "execution_count": null,
   "metadata": {},
   "outputs": [],
   "source": [
    "w,loss=implementations.least_squares(y_train_selection,tx_train_selection_polynomial)\n",
    "print('Weigths: ',w,\"\\n\\n\",'MSE: ',loss)"
   ]
  },
  {
   "cell_type": "markdown",
   "metadata": {},
   "source": [
    "## Ridge"
   ]
  },
  {
   "cell_type": "code",
   "execution_count": null,
   "metadata": {},
   "outputs": [],
   "source": [
    "# lambdas=np.logspace(-10,1,15)\n",
    "# mses=[]\n",
    "# ws=[]\n",
    "# for lambda_ in lambdas:\n",
    "#     w,loss=implementations.ridge_regression(y_train_selection,tx_train_selection_polynomial,lambda_)\n",
    "#     mses.append(loss)\n",
    "#     ws.append(w)\n",
    "# cross_validation_visualization(lambdas, mses, mses)\n",
    "# w_final=ws[np.argmin(mses)]\n",
    "# mses[np.argmin(mses)]"
   ]
  },
  {
   "cell_type": "code",
   "execution_count": null,
   "metadata": {},
   "outputs": [],
   "source": [
    "lambdas=np.logspace(-10,-2,10)\n",
    "degrees=np.linspace(1,15,15).astype('int')\n",
    "mses= np.zeros((len(degrees), len(lambdas)))\n",
    "\n",
    "for ind_degree,degree in enumerate(degrees):\n",
    "    tx_train_selection_polynomial=polynomial_features_simple(df_train_selection, degree)\n",
    "    for ind_lambda,lambda_ in enumerate(lambdas):\n",
    "        w,loss=implementations.ridge_regression(y_train_selection,tx_train_selection_polynomial,lambda_)\n",
    "        mses[ind_degree, ind_lambda]=loss\n",
    "        \n",
    "mse_final, degree_final,lambda_final=get_best_parameters(degrees, lambdas, mses)\n",
    "tx_train_selection_polynomial=polynomial_features_simple(df_train_selection, degree_final)\n",
    "w_final,loss=implementations.ridge_regression(y_train_selection,tx_train_selection_polynomial,lambda_final)\n",
    "\n",
    "print('MSE: ',mse_final,'   Degree: ',degree_final,'   Lambda: ',lambda_final)\n",
    "print('')\n",
    "print('Ws: ',w_final)"
   ]
  },
  {
   "cell_type": "code",
   "execution_count": null,
   "metadata": {},
   "outputs": [],
   "source": [
    "y_pred=predict_labels(w_final,tx_train_selection_polynomial)\n",
    "print('Performance: ',list(y_pred*y_train_selection).count(1.)/len(tx_train_selection_polynomial))\n",
    "print('Degree: ',degree_final)\n",
    "print('Lambda: ',lambda_final)"
   ]
  },
  {
   "cell_type": "markdown",
   "metadata": {},
   "source": [
    "## Logistic regression"
   ]
  },
  {
   "cell_type": "code",
   "execution_count": null,
   "metadata": {},
   "outputs": [],
   "source": [
    "y_train_selection=np.array(df_train['Prediction'])\n",
    "y_train_selection[np.where(y_train_selection=='b')] = 0.\n",
    "y_train_selection[np.where(y_train_selection=='s')] = 1.\n",
    "y_train_selection=y_train_selection.astype('float')"
   ]
  },
  {
   "cell_type": "code",
   "execution_count": null,
   "metadata": {},
   "outputs": [],
   "source": [
    "tx_train_selection_polynomial=polynomial_features_simple(df_train_selection, 3)"
   ]
  },
  {
   "cell_type": "code",
   "execution_count": null,
   "metadata": {},
   "outputs": [],
   "source": [
    "gamma = 0.000001\n",
    "lambda_ = 0.0001\n",
    "points=7000\n",
    "tx_train_selection_polynomial=tx_train_selection_polynomial[:points]\n",
    "y_train_selection=y_train_selection[:points]\n",
    "\n",
    "initial_w = np.zeros((tx_train_selection_polynomial.shape[1], 1))\n",
    "max_iters = 10\n",
    "implementations.reg_logistic_regression(y_train_selection, tx_train_selection_polynomial, lambda_, initial_w, max_iters, gamma, keeptrack=False, log_info=True)"
   ]
  },
  {
   "cell_type": "markdown",
   "metadata": {},
   "source": [
    "## Optimized ridge cross validation"
   ]
  },
  {
   "cell_type": "code",
   "execution_count": 13,
   "metadata": {},
   "outputs": [],
   "source": [
    "def cross_validation_ridge_loop(y, tx, lambda_, k_fold, seed=1):\n",
    "    k_indices=build_k_indices(y, k_fold, seed)\n",
    "    mse_tr = []\n",
    "    mse_te = []\n",
    "    wsi_train_lst=[]\n",
    "    for k in range(k_fold):\n",
    "        loss_tr, loss_te,wsi_train=cross_validation_ridge(y, tx, k_indices, k, lambda_)\n",
    "        mse_tr.append(loss_tr)\n",
    "        mse_te.append(loss_te)\n",
    "        wsi_train_lst.append(wsi_train)\n",
    "    return  np.mean(wsi_train_lst, axis=0), np.mean(mse_tr), np.mean(mse_te)"
   ]
  },
  {
   "cell_type": "code",
   "execution_count": 19,
   "metadata": {},
   "outputs": [
    {
     "name": "stdout",
     "output_type": "stream",
     "text": [
      "Degree under optimization:  1\n"
     ]
    },
    {
     "ename": "KeyboardInterrupt",
     "evalue": "",
     "output_type": "error",
     "traceback": [
      "\u001b[1;31m---------------------------------------------------------------------------\u001b[0m",
      "\u001b[1;31mKeyboardInterrupt\u001b[0m                         Traceback (most recent call last)",
      "\u001b[1;32m<ipython-input-19-4af0c0417a62>\u001b[0m in \u001b[0;36m<module>\u001b[1;34m()\u001b[0m\n\u001b[0;32m      8\u001b[0m     \u001b[0mprint\u001b[0m\u001b[1;33m(\u001b[0m\u001b[1;34m'Degree under optimization: '\u001b[0m\u001b[1;33m,\u001b[0m\u001b[0mdegree\u001b[0m\u001b[1;33m)\u001b[0m\u001b[1;33m\u001b[0m\u001b[0m\n\u001b[0;32m      9\u001b[0m     \u001b[1;32mfor\u001b[0m \u001b[0mind_lambda\u001b[0m\u001b[1;33m,\u001b[0m\u001b[0mlambda_\u001b[0m \u001b[1;32min\u001b[0m \u001b[0menumerate\u001b[0m\u001b[1;33m(\u001b[0m\u001b[0mlambdas\u001b[0m\u001b[1;33m)\u001b[0m\u001b[1;33m:\u001b[0m\u001b[1;33m\u001b[0m\u001b[0m\n\u001b[1;32m---> 10\u001b[1;33m         \u001b[0mw\u001b[0m\u001b[1;33m,\u001b[0m \u001b[0mloss_tr\u001b[0m\u001b[1;33m,\u001b[0m \u001b[0mloss_te\u001b[0m \u001b[1;33m=\u001b[0m \u001b[0mcross_validation_ridge_loop\u001b[0m\u001b[1;33m(\u001b[0m\u001b[0my_train_selection\u001b[0m\u001b[1;33m,\u001b[0m \u001b[0mtx_train_selection_polynomial\u001b[0m\u001b[1;33m,\u001b[0m \u001b[0mlambda_\u001b[0m\u001b[1;33m,\u001b[0m \u001b[0mk_fold\u001b[0m\u001b[1;33m,\u001b[0m \u001b[0mseed\u001b[0m\u001b[1;33m=\u001b[0m\u001b[1;36m1\u001b[0m\u001b[1;33m)\u001b[0m\u001b[1;33m\u001b[0m\u001b[0m\n\u001b[0m\u001b[0;32m     11\u001b[0m         \u001b[0mmses\u001b[0m\u001b[1;33m[\u001b[0m\u001b[0mind_degree\u001b[0m\u001b[1;33m,\u001b[0m \u001b[0mind_lambda\u001b[0m\u001b[1;33m]\u001b[0m\u001b[1;33m[\u001b[0m\u001b[1;36m0\u001b[0m\u001b[1;33m]\u001b[0m\u001b[1;33m=\u001b[0m\u001b[0mloss_tr\u001b[0m\u001b[1;33m\u001b[0m\u001b[0m\n\u001b[0;32m     12\u001b[0m         \u001b[0mmses\u001b[0m\u001b[1;33m[\u001b[0m\u001b[0mind_degree\u001b[0m\u001b[1;33m,\u001b[0m \u001b[0mind_lambda\u001b[0m\u001b[1;33m]\u001b[0m\u001b[1;33m[\u001b[0m\u001b[1;36m1\u001b[0m\u001b[1;33m]\u001b[0m\u001b[1;33m=\u001b[0m\u001b[0mloss_te\u001b[0m\u001b[1;33m\u001b[0m\u001b[0m\n",
      "\u001b[1;32m<ipython-input-13-dfee1017c549>\u001b[0m in \u001b[0;36mcross_validation_ridge_loop\u001b[1;34m(y, tx, lambda_, k_fold, seed)\u001b[0m\n\u001b[0;32m      5\u001b[0m     \u001b[0mwsi_train_lst\u001b[0m\u001b[1;33m=\u001b[0m\u001b[1;33m[\u001b[0m\u001b[1;33m]\u001b[0m\u001b[1;33m\u001b[0m\u001b[0m\n\u001b[0;32m      6\u001b[0m     \u001b[1;32mfor\u001b[0m \u001b[0mk\u001b[0m \u001b[1;32min\u001b[0m \u001b[0mrange\u001b[0m\u001b[1;33m(\u001b[0m\u001b[0mk_fold\u001b[0m\u001b[1;33m)\u001b[0m\u001b[1;33m:\u001b[0m\u001b[1;33m\u001b[0m\u001b[0m\n\u001b[1;32m----> 7\u001b[1;33m         \u001b[0mloss_tr\u001b[0m\u001b[1;33m,\u001b[0m \u001b[0mloss_te\u001b[0m\u001b[1;33m,\u001b[0m\u001b[0mwsi_train\u001b[0m\u001b[1;33m=\u001b[0m\u001b[0mcross_validation_ridge\u001b[0m\u001b[1;33m(\u001b[0m\u001b[0my\u001b[0m\u001b[1;33m,\u001b[0m \u001b[0mtx\u001b[0m\u001b[1;33m,\u001b[0m \u001b[0mk_indices\u001b[0m\u001b[1;33m,\u001b[0m \u001b[0mk\u001b[0m\u001b[1;33m,\u001b[0m \u001b[0mlambda_\u001b[0m\u001b[1;33m)\u001b[0m\u001b[1;33m\u001b[0m\u001b[0m\n\u001b[0m\u001b[0;32m      8\u001b[0m         \u001b[0mmse_tr\u001b[0m\u001b[1;33m.\u001b[0m\u001b[0mappend\u001b[0m\u001b[1;33m(\u001b[0m\u001b[0mloss_tr\u001b[0m\u001b[1;33m)\u001b[0m\u001b[1;33m\u001b[0m\u001b[0m\n\u001b[0;32m      9\u001b[0m         \u001b[0mmse_te\u001b[0m\u001b[1;33m.\u001b[0m\u001b[0mappend\u001b[0m\u001b[1;33m(\u001b[0m\u001b[0mloss_te\u001b[0m\u001b[1;33m)\u001b[0m\u001b[1;33m\u001b[0m\u001b[0m\n",
      "\u001b[1;32m~\\Documents\\Minor\\Courses\\Machine Learning\\machine_learning_project1\\additional_implementations.py\u001b[0m in \u001b[0;36mcross_validation_ridge\u001b[1;34m(y, x, k_indices, k, lambda_)\u001b[0m\n\u001b[0;32m    160\u001b[0m \u001b[1;33m\u001b[0m\u001b[0m\n\u001b[0;32m    161\u001b[0m \u001b[1;33m\u001b[0m\u001b[0m\n\u001b[1;32m--> 162\u001b[1;33m     \u001b[0mwsi_train\u001b[0m\u001b[1;33m,\u001b[0m\u001b[0m_\u001b[0m\u001b[1;33m=\u001b[0m\u001b[0mimplementations\u001b[0m\u001b[1;33m.\u001b[0m\u001b[0mridge_regression\u001b[0m\u001b[1;33m(\u001b[0m\u001b[0myi_train\u001b[0m\u001b[1;33m,\u001b[0m\u001b[0mxi_train\u001b[0m\u001b[1;33m,\u001b[0m\u001b[0mlambda_\u001b[0m\u001b[1;33m)\u001b[0m\u001b[1;33m\u001b[0m\u001b[0m\n\u001b[0m\u001b[0;32m    163\u001b[0m \u001b[1;33m\u001b[0m\u001b[0m\n\u001b[0;32m    164\u001b[0m     \u001b[0mloss_tr\u001b[0m\u001b[1;33m=\u001b[0m\u001b[0mcompute_mse\u001b[0m\u001b[1;33m(\u001b[0m\u001b[0myi_train\u001b[0m\u001b[1;33m,\u001b[0m\u001b[0mxi_train\u001b[0m\u001b[1;33m,\u001b[0m\u001b[0mwsi_train\u001b[0m\u001b[1;33m)\u001b[0m\u001b[1;33m\u001b[0m\u001b[0m\n",
      "\u001b[1;32m~\\Documents\\Minor\\Courses\\Machine Learning\\machine_learning_project1\\implementations.py\u001b[0m in \u001b[0;36mridge_regression\u001b[1;34m(y, tx, lambda_)\u001b[0m\n\u001b[0;32m     73\u001b[0m     \u001b[0mb\u001b[0m \u001b[1;33m=\u001b[0m \u001b[0mtx\u001b[0m\u001b[1;33m.\u001b[0m\u001b[0mT\u001b[0m\u001b[1;33m.\u001b[0m\u001b[0mdot\u001b[0m\u001b[1;33m(\u001b[0m\u001b[0my\u001b[0m\u001b[1;33m)\u001b[0m\u001b[1;33m\u001b[0m\u001b[0m\n\u001b[0;32m     74\u001b[0m     \u001b[0mw\u001b[0m \u001b[1;33m=\u001b[0m \u001b[0mnp\u001b[0m\u001b[1;33m.\u001b[0m\u001b[0mlinalg\u001b[0m\u001b[1;33m.\u001b[0m\u001b[0msolve\u001b[0m\u001b[1;33m(\u001b[0m\u001b[0ma\u001b[0m\u001b[1;33m,\u001b[0m \u001b[0mb\u001b[0m\u001b[1;33m)\u001b[0m\u001b[1;33m\u001b[0m\u001b[0m\n\u001b[1;32m---> 75\u001b[1;33m     \u001b[0mloss\u001b[0m \u001b[1;33m=\u001b[0m \u001b[0mcompute_mse\u001b[0m\u001b[1;33m(\u001b[0m\u001b[0my\u001b[0m\u001b[1;33m,\u001b[0m \u001b[0mtx\u001b[0m\u001b[1;33m,\u001b[0m \u001b[0mw\u001b[0m\u001b[1;33m)\u001b[0m\u001b[1;33m\u001b[0m\u001b[0m\n\u001b[0m\u001b[0;32m     76\u001b[0m     \u001b[1;32mreturn\u001b[0m \u001b[0mw\u001b[0m\u001b[1;33m,\u001b[0m \u001b[0mloss\u001b[0m\u001b[1;33m\u001b[0m\u001b[0m\n\u001b[0;32m     77\u001b[0m \u001b[1;33m\u001b[0m\u001b[0m\n",
      "\u001b[1;32m~\\Documents\\Minor\\Courses\\Machine Learning\\machine_learning_project1\\implementations.py\u001b[0m in \u001b[0;36mcompute_mse\u001b[1;34m(y, tx, w)\u001b[0m\n\u001b[0;32m    136\u001b[0m \u001b[1;32mdef\u001b[0m \u001b[0mcompute_mse\u001b[0m\u001b[1;33m(\u001b[0m\u001b[0my\u001b[0m\u001b[1;33m,\u001b[0m \u001b[0mtx\u001b[0m\u001b[1;33m,\u001b[0m \u001b[0mw\u001b[0m\u001b[1;33m)\u001b[0m\u001b[1;33m:\u001b[0m\u001b[1;33m\u001b[0m\u001b[0m\n\u001b[0;32m    137\u001b[0m     \u001b[1;34m\"\"\"compute the loss by mse.\"\"\"\u001b[0m\u001b[1;33m\u001b[0m\u001b[0m\n\u001b[1;32m--> 138\u001b[1;33m     \u001b[0me\u001b[0m \u001b[1;33m=\u001b[0m \u001b[0my\u001b[0m \u001b[1;33m-\u001b[0m \u001b[0mtx\u001b[0m\u001b[1;33m.\u001b[0m\u001b[0mdot\u001b[0m\u001b[1;33m(\u001b[0m\u001b[0mw\u001b[0m\u001b[1;33m)\u001b[0m\u001b[1;33m\u001b[0m\u001b[0m\n\u001b[0m\u001b[0;32m    139\u001b[0m     \u001b[0mmse\u001b[0m \u001b[1;33m=\u001b[0m \u001b[0me\u001b[0m\u001b[1;33m.\u001b[0m\u001b[0mdot\u001b[0m\u001b[1;33m(\u001b[0m\u001b[0me\u001b[0m\u001b[1;33m)\u001b[0m \u001b[1;33m/\u001b[0m \u001b[1;33m(\u001b[0m\u001b[1;36m2\u001b[0m \u001b[1;33m*\u001b[0m \u001b[0mlen\u001b[0m\u001b[1;33m(\u001b[0m\u001b[0me\u001b[0m\u001b[1;33m)\u001b[0m\u001b[1;33m)\u001b[0m\u001b[1;33m\u001b[0m\u001b[0m\n\u001b[0;32m    140\u001b[0m     \u001b[1;32mreturn\u001b[0m \u001b[0mmse\u001b[0m\u001b[1;33m\u001b[0m\u001b[0m\n",
      "\u001b[1;31mKeyboardInterrupt\u001b[0m: "
     ]
    }
   ],
   "source": [
    "lambdas=np.logspace(-10,-2,15)\n",
    "degrees=np.linspace(1,15,15).astype('int')\n",
    "k_fold=4\n",
    "mses= np.zeros((len(degrees), len(lambdas),2))\n",
    "\n",
    "for ind_degree,degree in enumerate(degrees):\n",
    "    tx_train_selection_polynomial=polynomial_features_simple(df_train_selection, degree)\n",
    "    print('Degree under optimization: ',degree)\n",
    "    for ind_lambda,lambda_ in enumerate(lambdas):\n",
    "        w, loss_tr, loss_te = cross_validation_ridge_loop(y_train_selection, tx_train_selection_polynomial, lambda_, k_fold, seed=1)\n",
    "        mses[ind_degree, ind_lambda][0]=loss_tr\n",
    "        mses[ind_degree, ind_lambda][1]=loss_te\n",
    "        \n",
    "mse_tr_final, degree_final,lambda_final, min_row, min_col=get_best_parameters(degrees, lambdas, mses[:,:,0],return_idx=True)\n",
    "mse_te_final=mses[min_row,min_col,1]\n",
    "tx_train_selection_polynomial=polynomial_features_simple(df_train_selection, degree_final)\n",
    "w_final,loss=implementations.ridge_regression(y_train_selection,tx_train_selection_polynomial,lambda_final)\n",
    "print('')\n",
    "print('MSE train: ',mse_tr_final,'   MSE test: ',mse_te_final,'   Degree: ',degree_final,'   Lambda: ',lambda_final)\n",
    "\n",
    "#print('Ws: ',w_final)"
   ]
  },
  {
   "cell_type": "code",
   "execution_count": 18,
   "metadata": {},
   "outputs": [
    {
     "name": "stdout",
     "output_type": "stream",
     "text": [
      "Performance:  0.805456\n",
      "Degree:  10\n",
      "Lambda:  7.196856730011513e-08\n"
     ]
    },
    {
     "data": {
      "image/png": "[encoded data removed]",
      "text/plain": [
       "<Figure size 432x288 with 1 Axes>"
      ]
     },
     "metadata": {},
     "output_type": "display_data"
    }
   ],
   "source": [
    "y_pred=predict_labels(w_final,tx_train_selection_polynomial)\n",
    "print('Performance: ',list(y_pred*y_train_selection).count(1.)/len(tx_train_selection_polynomial))\n",
    "print('Degree: ',degree_final)\n",
    "print('Lambda: ',lambda_final)\n",
    "\n",
    "plt.bar(np.arange(2),[mse_tr_final,mse_te_final], align='center')\n",
    "plt.yscale('log')\n",
    "plt.xticks([0,1], ('Mse_tr','Mse_te'))\n",
    "plt.show()"
   ]
  },
  {
   "cell_type": "markdown",
   "metadata": {},
   "source": [
    "## Submission preliminary operations"
   ]
  },
  {
   "cell_type": "code",
   "execution_count": null,
   "metadata": {},
   "outputs": [],
   "source": [
    "df_test_selection=df_test"
   ]
  },
  {
   "cell_type": "code",
   "execution_count": null,
   "metadata": {},
   "outputs": [],
   "source": [
    "df_test_selection=df_test_selection.drop(columns=['Id', 'Prediction'])"
   ]
  },
  {
   "cell_type": "code",
   "execution_count": null,
   "metadata": {},
   "outputs": [],
   "source": [
    "df_test_selection=df_test_selection.drop(columns=['PRI_jet_subleading_pt', 'PRI_jet_subleading_eta', 'PRI_jet_subleading_phi', 'DER_lep_eta_centrality', 'DER_prodeta_jet_jet', 'DER_mass_jet_jet', 'DER_deltaeta_jet_jet','PRI_jet_leading_pt','PRI_jet_leading_eta','PRI_jet_leading_phi'])"
   ]
  },
  {
   "cell_type": "code",
   "execution_count": null,
   "metadata": {},
   "outputs": [],
   "source": [
    "df_test_selection['DER_mass_MMC'][df_test_selection['DER_mass_MMC']==-999.0]=median"
   ]
  },
  {
   "cell_type": "code",
   "execution_count": null,
   "metadata": {},
   "outputs": [],
   "source": [
    "tx_test_selection_polynomial=polynomial_features_simple(df_test_selection, 9)"
   ]
  },
  {
   "cell_type": "markdown",
   "metadata": {},
   "source": [
    "# Submission"
   ]
  },
  {
   "cell_type": "code",
   "execution_count": null,
   "metadata": {},
   "outputs": [],
   "source": [
    "tx_test=tx_test_selection_polynomial\n",
    "y_pred=predict_labels(w_final,tx_test)\n",
    "create_csv_submission(df_test['Id'], y_pred, 'trial_ridge_polynomial_selection')"
   ]
  },
  {
   "cell_type": "markdown",
   "metadata": {},
   "source": [
    "### Comparison"
   ]
  },
  {
   "cell_type": "code",
   "execution_count": null,
   "metadata": {},
   "outputs": [],
   "source": [
    "best=pd.read_csv('trial_ridge_polynomial_gau_basic3.csv')\n",
    "selection=pd.read_csv('trial_ridge_polynomial_selection')\n",
    "\n",
    "check=selection['Prediction']*best['Prediction']\n",
    "check.value_counts().plot(kind='bar')"
   ]
  },
  {
   "cell_type": "code",
   "execution_count": null,
   "metadata": {},
   "outputs": [],
   "source": [
    "def standardize_test(x, train_set):\n",
    "    x=(x-np.mean(train_set,axis=0))/np.std(train_set, axis=0)\n",
    "    return x\n",
    "df_test_gau_std=standardize_test(df_test_gau, df_train_gau)"
   ]
  }
 ],
 "metadata": {
  "kernelspec": {
   "display_name": "Python 3",
   "language": "python",
   "name": "python3"
  },
  "language_info": {
   "codemirror_mode": {
    "name": "ipython",
    "version": 3
   },
   "file_extension": ".py",
   "mimetype": "text/x-python",
   "name": "python",
   "nbconvert_exporter": "python",
   "pygments_lexer": "ipython3",
   "version": "3.6.5"
  }
 },
 "nbformat": 4,
 "nbformat_minor": 2
}
