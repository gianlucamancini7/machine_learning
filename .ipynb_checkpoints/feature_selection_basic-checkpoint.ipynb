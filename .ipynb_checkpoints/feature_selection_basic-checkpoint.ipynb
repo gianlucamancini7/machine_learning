{
 "cells": [
  {
   "cell_type": "code",
   "execution_count": 3,
   "metadata": {},
   "outputs": [
    {
     "name": "stdout",
     "output_type": "stream",
     "text": [
      "The autoreload extension is already loaded. To reload it, use:\n",
      "  %reload_ext autoreload\n",
      "Requirement already satisfied: plotly in /Users/gianlucamancini/anaconda3/lib/python3.6/site-packages (3.3.0)\n",
      "Requirement already satisfied: six in /Users/gianlucamancini/anaconda3/lib/python3.6/site-packages (from plotly) (1.11.0)\n",
      "Requirement already satisfied: retrying>=1.3.3 in /Users/gianlucamancini/anaconda3/lib/python3.6/site-packages (from plotly) (1.3.3)\n",
      "Requirement already satisfied: nbformat>=4.2 in /Users/gianlucamancini/anaconda3/lib/python3.6/site-packages (from plotly) (4.4.0)\n",
      "Requirement already satisfied: pytz in /Users/gianlucamancini/anaconda3/lib/python3.6/site-packages (from plotly) (2018.4)\n",
      "Requirement already satisfied: requests in /Users/gianlucamancini/anaconda3/lib/python3.6/site-packages (from plotly) (2.18.4)\n",
      "Requirement already satisfied: decorator>=4.0.6 in /Users/gianlucamancini/anaconda3/lib/python3.6/site-packages (from plotly) (4.3.0)\n",
      "Requirement already satisfied: ipython_genutils in /Users/gianlucamancini/anaconda3/lib/python3.6/site-packages (from nbformat>=4.2->plotly) (0.2.0)\n",
      "Requirement already satisfied: traitlets>=4.1 in /Users/gianlucamancini/anaconda3/lib/python3.6/site-packages (from nbformat>=4.2->plotly) (4.3.2)\n",
      "Requirement already satisfied: jsonschema!=2.5.0,>=2.4 in /Users/gianlucamancini/anaconda3/lib/python3.6/site-packages (from nbformat>=4.2->plotly) (2.6.0)\n",
      "Requirement already satisfied: jupyter_core in /Users/gianlucamancini/anaconda3/lib/python3.6/site-packages (from nbformat>=4.2->plotly) (4.4.0)\n",
      "Requirement already satisfied: chardet<3.1.0,>=3.0.2 in /Users/gianlucamancini/anaconda3/lib/python3.6/site-packages (from requests->plotly) (3.0.4)\n",
      "Requirement already satisfied: idna<2.7,>=2.5 in /Users/gianlucamancini/anaconda3/lib/python3.6/site-packages (from requests->plotly) (2.6)\n",
      "Requirement already satisfied: urllib3<1.23,>=1.21.1 in /Users/gianlucamancini/anaconda3/lib/python3.6/site-packages (from requests->plotly) (1.22)\n",
      "Requirement already satisfied: certifi>=2017.4.17 in /Users/gianlucamancini/anaconda3/lib/python3.6/site-packages (from requests->plotly) (2018.4.16)\n",
      "\u001b[31mdistributed 1.21.8 requires msgpack, which is not installed.\u001b[0m\n",
      "\u001b[33mYou are using pip version 10.0.1, however version 18.1 is available.\n",
      "You should consider upgrading via the 'pip install --upgrade pip' command.\u001b[0m\n"
     ]
    }
   ],
   "source": [
    "# Useful starting lines\n",
    "%matplotlib inline\n",
    "import numpy as np\n",
    "import matplotlib.pyplot as plt\n",
    "%load_ext autoreload\n",
    "%autoreload 2\n",
    "#allows to print the dataframe nicely\n",
    "from IPython.core import display as ICD\n",
    "!pip install plotly\n",
    "import plotly.plotly as py\n",
    "from plotly.graph_objs import *\n",
    "import plotly.tools as tls\n",
    "from scipy import stats"
   ]
  },
  {
   "cell_type": "code",
   "execution_count": 4,
   "metadata": {},
   "outputs": [],
   "source": [
    "# import additional packages to insepct data and clean them\n",
    "import pandas as pd\n",
    "import os \n",
    "import random \n",
    "from zipfile import ZipFile\n",
    "import datetime"
   ]
  },
  {
   "cell_type": "code",
   "execution_count": 5,
   "metadata": {},
   "outputs": [],
   "source": [
    "# import helping functions from the implementation file\n",
    "#from proj1_helpers import load_csv_data\n",
    "from proj1_helpers import *\n",
    "import implementations\n",
    "from additional_implementations import *\n",
    "import seaborn as sns"
   ]
  },
  {
   "cell_type": "code",
   "execution_count": 6,
   "metadata": {},
   "outputs": [
    {
     "data": {
      "text/plain": [
       "[<ZipInfo filename='train.csv' compress_type=deflate file_size=48103379 compress_size=17670847>,\n",
       " <ZipInfo filename='test.csv' compress_type=deflate file_size=109335584 compress_size=40089137>,\n",
       " <ZipInfo filename='sample-submission.csv' compress_type=deflate file_size=5682394 compress_size=1263762>]"
      ]
     },
     "execution_count": 6,
     "metadata": {},
     "output_type": "execute_result"
    }
   ],
   "source": [
    "# import zipped files from the github repository\n",
    "data_folder='./data/'\n",
    "zip_file = ZipFile(data_folder+'all.zip')\n",
    "# zip file creates a list of files with certain properties\n",
    "zip_file.infolist()"
   ]
  },
  {
   "cell_type": "code",
   "execution_count": 7,
   "metadata": {},
   "outputs": [],
   "source": [
    "# now we want to access the 'filename' property in the zipfile variable\n",
    "# and we create a dictionary of dataframe\n",
    "dfs = {text_file.filename: pd.read_csv(zip_file.open(text_file.filename))\n",
    "       for text_file in zip_file.infolist()\n",
    "       if text_file.filename.endswith('.csv')}\n",
    "df_train=dfs['train.csv']\n",
    "df_test=dfs['test.csv']\n",
    "df_sample_submission=dfs['sample-submission.csv']"
   ]
  },
  {
   "cell_type": "code",
   "execution_count": 332,
   "metadata": {},
   "outputs": [],
   "source": [
    "df_train_selection=df_train.drop(columns=['Prediction', 'Id'])"
   ]
  },
  {
   "cell_type": "code",
   "execution_count": 336,
   "metadata": {},
   "outputs": [
    {
     "data": {
      "text/plain": [
       "{'DER_mass_MMC': 0,\n",
       " 'DER_mass_transverse_met_lep': 0,\n",
       " 'DER_mass_vis': 0,\n",
       " 'DER_pt_h': 0,\n",
       " 'DER_deltar_tau_lep': 0,\n",
       " 'DER_pt_tot': 0,\n",
       " 'DER_sum_pt': 0,\n",
       " 'DER_pt_ratio_lep_tau': 0,\n",
       " 'DER_met_phi_centrality': 0,\n",
       " 'PRI_tau_pt': 0,\n",
       " 'PRI_tau_eta': 0,\n",
       " 'PRI_tau_phi': 0,\n",
       " 'PRI_lep_pt': 0,\n",
       " 'PRI_lep_eta': 0,\n",
       " 'PRI_lep_phi': 0,\n",
       " 'PRI_met': 0,\n",
       " 'PRI_met_phi': 0,\n",
       " 'PRI_met_sumet': 0,\n",
       " 'PRI_jet_num': 0,\n",
       " 'PRI_jet_leading_pt': 0,\n",
       " 'PRI_jet_leading_eta': 0,\n",
       " 'PRI_jet_leading_phi': 0,\n",
       " 'PRI_jet_all_pt': 0}"
      ]
     },
     "execution_count": 336,
     "metadata": {},
     "output_type": "execute_result"
    }
   ],
   "source": [
    "counts={}\n",
    "for column_name in df_train_gau.columns.values:\n",
    "    \n",
    "    check=df_train_gau[column_name]==-999.0\n",
    "    counts[column_name]=np.sum(check.astype('int'))\n",
    "counts"
   ]
  },
  {
   "cell_type": "code",
   "execution_count": 334,
   "metadata": {},
   "outputs": [],
   "source": [
    "df_train_gau=df_train_gau.drop(columns=['PRI_jet_subleading_pt', 'PRI_jet_subleading_eta', 'PRI_jet_subleading_phi', 'DER_lep_eta_centrality', 'DER_prodeta_jet_jet', 'DER_mass_jet_jet', 'DER_deltaeta_jet_jet'])"
   ]
  },
  {
   "cell_type": "code",
   "execution_count": 335,
   "metadata": {},
   "outputs": [
    {
     "name": "stderr",
     "output_type": "stream",
     "text": [
      "/Users/gianlucamancini/anaconda3/lib/python3.6/site-packages/ipykernel/__main__.py:3: SettingWithCopyWarning:\n",
      "\n",
      "\n",
      "A value is trying to be set on a copy of a slice from a DataFrame\n",
      "\n",
      "See the caveats in the documentation: http://pandas.pydata.org/pandas-docs/stable/indexing.html#indexing-view-versus-copy\n",
      "\n"
     ]
    }
   ],
   "source": [
    "for column_name in df_train_gau.columns.values:\n",
    "    \n",
    "    df_train_gau[column_name][df_train_gau[column_name]==-999.0]=0"
   ]
  },
  {
   "cell_type": "code",
   "execution_count": 337,
   "metadata": {},
   "outputs": [],
   "source": [
    "y_train_gau=np.array(df_train['Prediction'])\n",
    "y_train_gau[np.where(y_train_gau=='b')] = -1.\n",
    "y_train_gau[np.where(y_train_gau=='s')] = 1.\n",
    "y_train_gau=y_train_gau.astype('float')"
   ]
  },
  {
   "cell_type": "code",
   "execution_count": 338,
   "metadata": {},
   "outputs": [],
   "source": [
    "df_train_gau_std=standardize_personal(df_train_gau)"
   ]
  },
  {
   "cell_type": "code",
   "execution_count": 339,
   "metadata": {},
   "outputs": [],
   "source": [
    "tx_train_gau_std_polynomial=polynomial_features_simple(df_train_gau_std, 9)"
   ]
  },
  {
   "cell_type": "code",
   "execution_count": 285,
   "metadata": {},
   "outputs": [
    {
     "name": "stderr",
     "output_type": "stream",
     "text": [
      "/Users/gianlucamancini/anaconda3/lib/python3.6/site-packages/ipykernel/__main__.py:5: SettingWithCopyWarning:\n",
      "\n",
      "\n",
      "A value is trying to be set on a copy of a slice from a DataFrame\n",
      "\n",
      "See the caveats in the documentation: http://pandas.pydata.org/pandas-docs/stable/indexing.html#indexing-view-versus-copy\n",
      "\n"
     ]
    }
   ],
   "source": [
    "df_train_all=df_train\n",
    "df_train_all['PRI_jet_num']=df_train_all['PRI_jet_num'].astype('float')\n",
    "for column_name in df_train_all.iloc[:,2:].columns.values:\n",
    "    \n",
    "    df_train_all[column_name][df_train_all[column_name]==-999.0]=np.median(df_train_all[column_name])"
   ]
  },
  {
   "cell_type": "code",
   "execution_count": 303,
   "metadata": {},
   "outputs": [
    {
     "data": {
      "text/html": [
       "<div>\n",
       "<style scoped>\n",
       "    .dataframe tbody tr th:only-of-type {\n",
       "        vertical-align: middle;\n",
       "    }\n",
       "\n",
       "    .dataframe tbody tr th {\n",
       "        vertical-align: top;\n",
       "    }\n",
       "\n",
       "    .dataframe thead th {\n",
       "        text-align: right;\n",
       "    }\n",
       "</style>\n",
       "<table border=\"1\" class=\"dataframe\">\n",
       "  <thead>\n",
       "    <tr style=\"text-align: right;\">\n",
       "      <th></th>\n",
       "      <th>Id</th>\n",
       "      <th>Prediction</th>\n",
       "      <th>DER_mass_MMC</th>\n",
       "      <th>DER_mass_transverse_met_lep</th>\n",
       "      <th>DER_mass_vis</th>\n",
       "      <th>DER_pt_h</th>\n",
       "      <th>DER_deltaeta_jet_jet</th>\n",
       "      <th>DER_mass_jet_jet</th>\n",
       "      <th>DER_prodeta_jet_jet</th>\n",
       "      <th>DER_deltar_tau_lep</th>\n",
       "      <th>...</th>\n",
       "      <th>PRI_met_phi</th>\n",
       "      <th>PRI_met_sumet</th>\n",
       "      <th>PRI_jet_num</th>\n",
       "      <th>PRI_jet_leading_pt</th>\n",
       "      <th>PRI_jet_leading_eta</th>\n",
       "      <th>PRI_jet_leading_phi</th>\n",
       "      <th>PRI_jet_subleading_pt</th>\n",
       "      <th>PRI_jet_subleading_eta</th>\n",
       "      <th>PRI_jet_subleading_phi</th>\n",
       "      <th>PRI_jet_all_pt</th>\n",
       "    </tr>\n",
       "  </thead>\n",
       "  <tbody>\n",
       "    <tr>\n",
       "      <th>0</th>\n",
       "      <td>100000</td>\n",
       "      <td>s</td>\n",
       "      <td>138.470</td>\n",
       "      <td>51.655</td>\n",
       "      <td>97.827</td>\n",
       "      <td>27.980</td>\n",
       "      <td>0.91</td>\n",
       "      <td>124.711</td>\n",
       "      <td>2.666</td>\n",
       "      <td>3.064</td>\n",
       "      <td>...</td>\n",
       "      <td>-0.277</td>\n",
       "      <td>258.733</td>\n",
       "      <td>2.0</td>\n",
       "      <td>67.435</td>\n",
       "      <td>2.150</td>\n",
       "      <td>0.444</td>\n",
       "      <td>46.062</td>\n",
       "      <td>1.24</td>\n",
       "      <td>-2.475</td>\n",
       "      <td>113.497</td>\n",
       "    </tr>\n",
       "    <tr>\n",
       "      <th>1</th>\n",
       "      <td>100001</td>\n",
       "      <td>b</td>\n",
       "      <td>160.937</td>\n",
       "      <td>68.768</td>\n",
       "      <td>103.235</td>\n",
       "      <td>48.146</td>\n",
       "      <td>-999.00</td>\n",
       "      <td>-999.000</td>\n",
       "      <td>-999.000</td>\n",
       "      <td>3.473</td>\n",
       "      <td>...</td>\n",
       "      <td>-1.916</td>\n",
       "      <td>164.546</td>\n",
       "      <td>1.0</td>\n",
       "      <td>46.226</td>\n",
       "      <td>0.725</td>\n",
       "      <td>1.158</td>\n",
       "      <td>-999.000</td>\n",
       "      <td>-999.00</td>\n",
       "      <td>-999.000</td>\n",
       "      <td>46.226</td>\n",
       "    </tr>\n",
       "    <tr>\n",
       "      <th>2</th>\n",
       "      <td>100002</td>\n",
       "      <td>b</td>\n",
       "      <td>105.012</td>\n",
       "      <td>162.172</td>\n",
       "      <td>125.953</td>\n",
       "      <td>35.635</td>\n",
       "      <td>-999.00</td>\n",
       "      <td>-999.000</td>\n",
       "      <td>-999.000</td>\n",
       "      <td>3.148</td>\n",
       "      <td>...</td>\n",
       "      <td>-2.186</td>\n",
       "      <td>260.414</td>\n",
       "      <td>1.0</td>\n",
       "      <td>44.251</td>\n",
       "      <td>2.053</td>\n",
       "      <td>-2.028</td>\n",
       "      <td>-999.000</td>\n",
       "      <td>-999.00</td>\n",
       "      <td>-999.000</td>\n",
       "      <td>44.251</td>\n",
       "    </tr>\n",
       "    <tr>\n",
       "      <th>3</th>\n",
       "      <td>100003</td>\n",
       "      <td>b</td>\n",
       "      <td>143.905</td>\n",
       "      <td>81.417</td>\n",
       "      <td>80.943</td>\n",
       "      <td>0.414</td>\n",
       "      <td>-999.00</td>\n",
       "      <td>-999.000</td>\n",
       "      <td>-999.000</td>\n",
       "      <td>3.310</td>\n",
       "      <td>...</td>\n",
       "      <td>0.060</td>\n",
       "      <td>86.062</td>\n",
       "      <td>0.0</td>\n",
       "      <td>38.960</td>\n",
       "      <td>-1.872</td>\n",
       "      <td>-2.093</td>\n",
       "      <td>-999.000</td>\n",
       "      <td>-999.00</td>\n",
       "      <td>-999.000</td>\n",
       "      <td>0.000</td>\n",
       "    </tr>\n",
       "    <tr>\n",
       "      <th>4</th>\n",
       "      <td>100004</td>\n",
       "      <td>b</td>\n",
       "      <td>175.864</td>\n",
       "      <td>16.915</td>\n",
       "      <td>134.805</td>\n",
       "      <td>16.405</td>\n",
       "      <td>-999.00</td>\n",
       "      <td>-999.000</td>\n",
       "      <td>-999.000</td>\n",
       "      <td>3.891</td>\n",
       "      <td>...</td>\n",
       "      <td>-0.871</td>\n",
       "      <td>53.131</td>\n",
       "      <td>0.0</td>\n",
       "      <td>38.960</td>\n",
       "      <td>-1.872</td>\n",
       "      <td>-2.093</td>\n",
       "      <td>-999.000</td>\n",
       "      <td>-999.00</td>\n",
       "      <td>-999.000</td>\n",
       "      <td>0.000</td>\n",
       "    </tr>\n",
       "  </tbody>\n",
       "</table>\n",
       "<p>5 rows × 32 columns</p>\n",
       "</div>"
      ],
      "text/plain": [
       "       Id Prediction  DER_mass_MMC  DER_mass_transverse_met_lep  DER_mass_vis  \\\n",
       "0  100000          s       138.470                       51.655        97.827   \n",
       "1  100001          b       160.937                       68.768       103.235   \n",
       "2  100002          b       105.012                      162.172       125.953   \n",
       "3  100003          b       143.905                       81.417        80.943   \n",
       "4  100004          b       175.864                       16.915       134.805   \n",
       "\n",
       "   DER_pt_h  DER_deltaeta_jet_jet  DER_mass_jet_jet  DER_prodeta_jet_jet  \\\n",
       "0    27.980                  0.91           124.711                2.666   \n",
       "1    48.146               -999.00          -999.000             -999.000   \n",
       "2    35.635               -999.00          -999.000             -999.000   \n",
       "3     0.414               -999.00          -999.000             -999.000   \n",
       "4    16.405               -999.00          -999.000             -999.000   \n",
       "\n",
       "   DER_deltar_tau_lep       ...        PRI_met_phi  PRI_met_sumet  \\\n",
       "0               3.064       ...             -0.277        258.733   \n",
       "1               3.473       ...             -1.916        164.546   \n",
       "2               3.148       ...             -2.186        260.414   \n",
       "3               3.310       ...              0.060         86.062   \n",
       "4               3.891       ...             -0.871         53.131   \n",
       "\n",
       "   PRI_jet_num  PRI_jet_leading_pt  PRI_jet_leading_eta  PRI_jet_leading_phi  \\\n",
       "0          2.0              67.435                2.150                0.444   \n",
       "1          1.0              46.226                0.725                1.158   \n",
       "2          1.0              44.251                2.053               -2.028   \n",
       "3          0.0              38.960               -1.872               -2.093   \n",
       "4          0.0              38.960               -1.872               -2.093   \n",
       "\n",
       "   PRI_jet_subleading_pt  PRI_jet_subleading_eta  PRI_jet_subleading_phi  \\\n",
       "0                 46.062                    1.24                  -2.475   \n",
       "1               -999.000                 -999.00                -999.000   \n",
       "2               -999.000                 -999.00                -999.000   \n",
       "3               -999.000                 -999.00                -999.000   \n",
       "4               -999.000                 -999.00                -999.000   \n",
       "\n",
       "   PRI_jet_all_pt  \n",
       "0         113.497  \n",
       "1          46.226  \n",
       "2          44.251  \n",
       "3           0.000  \n",
       "4           0.000  \n",
       "\n",
       "[5 rows x 32 columns]"
      ]
     },
     "execution_count": 303,
     "metadata": {},
     "output_type": "execute_result"
    }
   ],
   "source": [
    "df_train_all.head()"
   ]
  },
  {
   "cell_type": "code",
   "execution_count": 287,
   "metadata": {},
   "outputs": [],
   "source": [
    "y_train_all, input_data_train_all, ids_train_all=np.array(df_train_all['Prediction']), np.array(df_train_all.iloc[:,2:]), np.array(df_train_all['Id'])\n",
    "y_train_all[np.where(y_train_all=='b')] = 1.\n",
    "y_train_all[np.where(y_train_all=='s')] = 0.\n",
    "y_train_all=y_train_all.astype('float')\n",
    "tx_train_all=np.array(input_data_train_all)"
   ]
  },
  {
   "cell_type": "code",
   "execution_count": 288,
   "metadata": {},
   "outputs": [],
   "source": [
    "tx_train_all_polynomial=polynomial_features_simple(tx_train_all, 4)"
   ]
  },
  {
   "cell_type": "code",
   "execution_count": 270,
   "metadata": {},
   "outputs": [
    {
     "name": "stderr",
     "output_type": "stream",
     "text": [
      "/Users/gianlucamancini/anaconda3/lib/python3.6/site-packages/ipykernel/__main__.py:8: SettingWithCopyWarning:\n",
      "\n",
      "\n",
      "A value is trying to be set on a copy of a slice from a DataFrame.\n",
      "Try using .loc[row_indexer,col_indexer] = value instead\n",
      "\n",
      "See the caveats in the documentation: http://pandas.pydata.org/pandas-docs/stable/indexing.html#indexing-view-versus-copy\n",
      "\n"
     ]
    }
   ],
   "source": [
    "# defining the independent features\n",
    "df_features_train_independent=df_train[['Id','DER_mass_MMC','DER_mass_transverse_met_lep', 'DER_mass_vis', 'DER_pt_h', 'DER_deltar_tau_lep', \n",
    "                              'DER_pt_tot', 'DER_sum_pt', 'DER_pt_ratio_lep_tau', 'DER_met_phi_centrality', 'PRI_tau_pt', \n",
    "                              'PRI_tau_eta', 'PRI_tau_phi', 'PRI_lep_pt', 'PRI_lep_eta','PRI_lep_phi', 'PRI_met', 'PRI_met_phi', \n",
    "                               'PRI_met_sumet','PRI_jet_num', 'PRI_jet_all_pt' ]]\n",
    "\n",
    "# defining the dependent features\n",
    "df_features_train_independent['PRI_jet_num']=df_features_train_independent['PRI_jet_num'].astype('float')\n",
    "\n",
    "# defining the dataframe of predictions\n",
    "prediction=df_train[['Id','Prediction']]"
   ]
  },
  {
   "cell_type": "code",
   "execution_count": 271,
   "metadata": {},
   "outputs": [],
   "source": [
    "# for column_name in df_features_train_independent.columns.values:\n",
    "    \n",
    "#     index_to_drop=df_features_train_independent.index[np.abs(df_features_train_independent[column_name]-df_features_train_independent[column_name].mean()) >= (3*df_features_train_independent[column_name].std())]\n",
    "#     df_features_train_independent=df_features_train_independent.drop(index_to_drop)\n",
    "#     prediction=prediction.drop(index_to_drop)\n",
    "#     prediction_independent=prediction\n",
    "# ICD.display(len(df_features_train_independent.iloc[:,1:]))\n",
    "# ICD.display(len(prediction_independent))"
   ]
  },
  {
   "cell_type": "code",
   "execution_count": 272,
   "metadata": {},
   "outputs": [],
   "source": [
    "# df_features_train_independent['DER_mass_MMC'][df_features_train_independent['DER_mass_MMC']==-999.0]=np.median(df_features_train_independent[column_name])"
   ]
  },
  {
   "cell_type": "code",
   "execution_count": 273,
   "metadata": {},
   "outputs": [],
   "source": [
    "df_features_train_final=df_features_train_independent"
   ]
  },
  {
   "cell_type": "code",
   "execution_count": 275,
   "metadata": {},
   "outputs": [],
   "source": [
    "y_train_final, input_data_train_final, ids_train_final=np.array(prediction['Prediction']), np.array(df_features_train_final.iloc[:,1:]), np.array(df_features_train_final['Id'])\n",
    "y_train_final[np.where(y_train_final=='b')] = 1.\n",
    "y_train_final[np.where(y_train_final=='s')] = 0.\n",
    "y_train_final=y_train_final.astype('float')\n",
    "tx_train_final=np.array(input_data_train_final)"
   ]
  },
  {
   "cell_type": "code",
   "execution_count": 276,
   "metadata": {},
   "outputs": [],
   "source": [
    "tx_train_final_polynomial=polynomial_features_simple(tx_train_final, 4)"
   ]
  },
  {
   "cell_type": "code",
   "execution_count": 292,
   "metadata": {},
   "outputs": [
    {
     "name": "stdout",
     "output_type": "stream",
     "text": [
      "Weigths:  [ 7.08834435e+04 -1.16670925e-02  5.32331707e-05 -8.41312718e-08\n",
      "  4.26131985e-11  4.86744270e-03 -1.34271882e-05 -3.40941136e-08\n",
      "  7.73100420e-11  4.96330282e-03 -6.41728194e-06 -1.35857084e-09\n",
      "  2.98807589e-12  2.72017326e-04 -1.03172018e-05  2.91432841e-08\n",
      " -2.43931558e-11  8.15952921e-02 -1.33730345e-02  1.61184568e-04\n",
      " -2.28208650e-07  6.32312137e-04 -6.95926660e-07  2.84728552e-10\n",
      " -3.60320831e-14  2.68176339e-02  1.24539801e-03 -1.12337148e-04\n",
      " -6.10908776e-07 -2.20317292e-01 -8.12391792e-02  5.01668277e-02\n",
      " -6.80002195e-03  9.85014677e-04 -1.02133186e-05 -6.87024108e-09\n",
      "  5.82697274e-11  1.05984523e+00 -1.61259827e-06  9.76458191e-10\n",
      " -1.60415625e-13  2.38300822e-01 -6.41712345e-02  6.25441690e-03\n",
      " -1.76870159e-04  3.80430482e-02  1.63575722e-03 -3.36231257e-02\n",
      " -7.07391371e-03 -1.61459492e-01 -3.97931289e-03  1.06697219e-04\n",
      "  6.03751887e-07 -1.07167546e+00  9.67753778e-05 -2.64882661e-07\n",
      "  2.13638896e-10  1.24029461e-03  9.23522168e-03 -1.79169381e-04\n",
      "  3.90310380e-04  1.51857129e-04  1.09287403e-03 -1.02419732e-05\n",
      " -1.10601097e-04 -1.06965653e+00  7.73088666e-05 -2.39393940e-07\n",
      "  2.20604396e-10 -1.01597764e-03  2.04908506e-02  3.47789355e-04\n",
      " -6.84224475e-04 -1.62584414e-03  1.42211607e-04  2.45711739e-04\n",
      " -2.26819385e-05  1.95968948e-03 -2.02939956e-05  6.42270503e-08\n",
      " -5.89826027e-11  9.94250463e-05 -1.07100965e-03  8.17042666e-06\n",
      "  1.27043750e-04 -1.21992036e-03  4.29091211e-06 -4.33028610e-09\n",
      "  1.39406799e-12  7.19577644e+03  3.20930787e+04 -5.18720535e+04\n",
      "  1.25831989e+04 -4.37147083e-03  2.65540097e-05 -6.35811655e-08\n",
      "  4.91916662e-11  1.94419869e-03 -2.88353431e-02 -2.56972821e-04\n",
      "  6.92735737e-04  1.95817286e-03 -1.64285864e-03 -3.33782945e-04\n",
      "  1.68521216e-04 -3.01046978e-03  8.06031874e-06 -2.03370934e-09\n",
      " -6.72045487e-12 -2.37060611e-03 -1.85856144e-02  2.02131022e-04\n",
      "  9.51891964e-08  2.74936905e-03  7.27104141e-04 -3.91358341e-04\n",
      "  6.92702083e-08 -1.05976340e+00  3.35276516e-06 -3.07254033e-09\n",
      "  6.90246051e-13] \n",
      "\n",
      " MSE:  0.07469326532148383\n"
     ]
    }
   ],
   "source": [
    "w,loss=implementations.least_squares(y_train_all,tx_train_all_polynomial)\n",
    "print('Weigths: ',w,\"\\n\\n\",'MSE: ',loss)"
   ]
  },
  {
   "cell_type": "code",
   "execution_count": 340,
   "metadata": {},
   "outputs": [
    {
     "data": {
      "text/plain": [
       "0.28644984910142396"
      ]
     },
     "execution_count": 340,
     "metadata": {},
     "output_type": "execute_result"
    },
    {
     "data": {
      "image/png": "[encoded data removed]",
      "text/plain": [
       "<Figure size 432x288 with 1 Axes>"
      ]
     },
     "metadata": {},
     "output_type": "display_data"
    }
   ],
   "source": [
    "lambdas=np.logspace(-10,-5,15)\n",
    "mses=[]\n",
    "ws=[]\n",
    "for lambda_ in lambdas:\n",
    "    w,loss=implementations.ridge_regression(y_train_gau,tx_train_gau_std_polynomial,lambda_)\n",
    "    mses.append(loss)\n",
    "    ws.append(w)\n",
    "cross_validation_visualization(lambdas, mses, mses)\n",
    "w_final=ws[np.argmin(mses)]\n",
    "mses[np.argmin(mses)]"
   ]
  },
  {
   "cell_type": "code",
   "execution_count": 341,
   "metadata": {},
   "outputs": [
    {
     "data": {
      "text/plain": [
       "array([ 9.21918327e+00,  8.23057658e-01, -6.96563093e-01, -1.60198182e-01,\n",
       "        2.42060906e-01, -7.79501254e-02,  1.19448423e-02, -9.70043312e-04,\n",
       "        4.02139442e-05, -6.69894099e-07, -3.56207961e-01, -1.94651240e-02,\n",
       "        9.31244406e-02, -8.96037801e-03, -5.83675567e-03,  1.56324276e-03,\n",
       "       -1.56470246e-04,  7.09662570e-06, -1.21674809e-07, -2.06159906e-01,\n",
       "        3.02620784e-02, -7.13998094e-02,  3.25850979e-02, -5.83118213e-03,\n",
       "        5.15039390e-04, -2.38943038e-05,  5.57611233e-07, -5.15748147e-09,\n",
       "        8.58946256e-03,  5.87284637e-02, -3.74514626e-02,  1.56590691e-02,\n",
       "       -2.90564493e-03,  1.57928786e-04,  1.05656409e-05, -1.00011345e-06,\n",
       "        2.88531665e-09,  6.73713749e-02,  5.98769777e-02,  4.11794459e-02,\n",
       "       -7.46658052e-02,  7.21018681e-03,  1.75981082e-02, -2.71590931e-03,\n",
       "       -1.30509012e-03,  2.54460006e-04, -3.08105937e-02, -6.86335898e-04,\n",
       "        7.61368918e-03, -1.45261054e-03,  9.97629828e-05, -2.55011776e-06,\n",
       "        8.23084051e-09,  5.17480386e-11,  1.07567771e-11, -2.36979919e+00,\n",
       "        5.28005243e-02, -9.35364008e-02,  7.94066809e-02, -2.95052881e-02,\n",
       "        5.70571442e-03, -5.98380952e-04,  3.21869838e-05, -6.94589252e-07,\n",
       "        2.02427704e-02,  4.45670340e-02, -1.57339179e-03, -7.94864803e-03,\n",
       "        2.40047320e-03, -3.00847445e-04,  1.89322069e-05, -5.89961391e-07,\n",
       "        7.24762817e-09, -1.17813870e-01, -5.00800712e-01,  3.04556204e-01,\n",
       "        1.66745638e+00, -6.35621970e-01, -1.98373208e+00,  9.91716934e-01,\n",
       "        7.90779435e-01, -4.82846815e-01,  8.70086208e-01, -1.30896881e-01,\n",
       "        1.30522599e-02,  2.31743309e-03, -7.25990278e-04,  7.74305944e-05,\n",
       "       -4.14087679e-06,  1.11116594e-07, -1.18756683e-09,  1.15587560e-02,\n",
       "        5.59851202e-02, -3.36084079e-02, -9.57871508e-02,  2.27793052e-02,\n",
       "        3.50509953e-02, -5.41730465e-03, -4.12533975e-03,  4.00073510e-04,\n",
       "        9.10688788e-03,  2.14089922e-03, -6.52084810e-02, -7.30394895e-03,\n",
       "        9.30766919e-02,  3.28542321e-03, -4.57165400e-02, -2.67134338e-04,\n",
       "        7.26362102e-03,  4.71198321e-01, -6.13812889e-02,  8.10475843e-02,\n",
       "       -3.48880541e-02,  7.27782152e-03, -8.35823794e-04,  5.40906889e-05,\n",
       "       -1.85012450e-06,  2.59912720e-08, -1.24891613e-03, -5.05379837e-02,\n",
       "        1.46481815e-02, -1.74356277e-02, -1.55396809e-02,  7.21643676e-03,\n",
       "        5.93800069e-03, -7.52600558e-04, -7.86393701e-04, -5.96882001e-03,\n",
       "        1.30505081e-02,  5.67819233e-02, -2.37105371e-02, -7.90807577e-02,\n",
       "        1.43047867e-02,  3.87029422e-02, -2.64250881e-03, -6.28124040e-03,\n",
       "        7.93096718e-02,  5.07976441e-02, -3.75158932e-02,  7.99554199e-03,\n",
       "       -6.83554543e-04,  1.93492415e-05,  1.92689107e-07, -4.73116717e-09,\n",
       "       -3.36472072e-10,  3.85509844e-03, -6.78926409e-03, -8.82637262e-03,\n",
       "        1.39766554e-02,  5.22528220e-04, -4.95696595e-03,  4.30996459e-03,\n",
       "        2.58158724e-04, -1.29476901e-03, -5.37805320e-02, -1.01743285e-01,\n",
       "        3.13269220e-02,  1.01863107e-02, -7.49607407e-03,  1.65287122e-03,\n",
       "       -1.71523658e-04,  8.34354518e-06, -1.46315616e-07, -4.52117940e+02,\n",
       "        5.20836948e+02, -5.28046315e+02,  2.04841232e+02,  8.61803830e+01,\n",
       "        9.96409261e+02,  2.27308607e+02, -1.71688501e+03,  6.59229703e+02,\n",
       "        1.66451908e-01, -3.73018538e-01,  2.60166517e-01, -9.54399590e-02,\n",
       "        2.01038818e-02, -2.54761122e-03,  1.98992679e-04, -9.27667256e-06,\n",
       "        2.04464909e-07, -5.23359819e-03,  7.91655639e-02,  1.41192410e-03,\n",
       "        1.06085620e-02, -3.89968409e-04, -3.08143710e-03,  1.22652768e-04,\n",
       "        1.81456551e-04, -8.99140054e-06, -3.62446884e-03,  2.37760260e-02,\n",
       "       -2.42687174e-03, -2.03082221e-02,  5.06185048e-03,  6.97504407e-03,\n",
       "       -1.97150342e-03, -7.80721316e-04,  2.29319868e-04,  2.18259263e+00,\n",
       "        3.06151049e-03, -2.58919856e-02, -8.98619317e-03,  7.46264910e-03,\n",
       "       -1.69742181e-03,  1.80191082e-04, -9.18923583e-06,  1.81070797e-07])"
      ]
     },
     "execution_count": 341,
     "metadata": {},
     "output_type": "execute_result"
    }
   ],
   "source": [
    "w_final"
   ]
  },
  {
   "cell_type": "code",
   "execution_count": 348,
   "metadata": {},
   "outputs": [],
   "source": [
    "df_test_gau=df_test"
   ]
  },
  {
   "cell_type": "code",
   "execution_count": 349,
   "metadata": {},
   "outputs": [],
   "source": [
    "df_test_gau=df_test_gau.drop(columns=['Id'])"
   ]
  },
  {
   "cell_type": "code",
   "execution_count": 350,
   "metadata": {},
   "outputs": [
    {
     "data": {
      "text/plain": [
       "{'DER_mass_MMC': 86488,\n",
       " 'DER_mass_transverse_met_lep': 0,\n",
       " 'DER_mass_vis': 0,\n",
       " 'DER_pt_h': 0,\n",
       " 'DER_deltaeta_jet_jet': 402796,\n",
       " 'DER_mass_jet_jet': 402796,\n",
       " 'DER_prodeta_jet_jet': 402796,\n",
       " 'DER_deltar_tau_lep': 0,\n",
       " 'DER_pt_tot': 0,\n",
       " 'DER_sum_pt': 0,\n",
       " 'DER_pt_ratio_lep_tau': 0,\n",
       " 'DER_met_phi_centrality': 0,\n",
       " 'DER_lep_eta_centrality': 402796,\n",
       " 'PRI_tau_pt': 0,\n",
       " 'PRI_tau_eta': 0,\n",
       " 'PRI_tau_phi': 0,\n",
       " 'PRI_lep_pt': 0,\n",
       " 'PRI_lep_eta': 0,\n",
       " 'PRI_lep_phi': 0,\n",
       " 'PRI_met': 0,\n",
       " 'PRI_met_phi': 0,\n",
       " 'PRI_met_sumet': 0,\n",
       " 'PRI_jet_num': 0,\n",
       " 'PRI_jet_leading_pt': 227458,\n",
       " 'PRI_jet_leading_eta': 227458,\n",
       " 'PRI_jet_leading_phi': 227458,\n",
       " 'PRI_jet_subleading_pt': 402796,\n",
       " 'PRI_jet_subleading_eta': 402796,\n",
       " 'PRI_jet_subleading_phi': 402796,\n",
       " 'PRI_jet_all_pt': 0}"
      ]
     },
     "execution_count": 350,
     "metadata": {},
     "output_type": "execute_result"
    }
   ],
   "source": [
    "counts={}\n",
    "for column_name in df_test_gau.columns.values:\n",
    "    \n",
    "    check=df_test_gau[column_name]==-999.0\n",
    "    counts[column_name]=np.sum(check.astype('int'))\n",
    "counts"
   ]
  },
  {
   "cell_type": "code",
   "execution_count": 351,
   "metadata": {},
   "outputs": [],
   "source": [
    "df_test_gau=df_test_gau.drop(columns=['PRI_jet_subleading_pt', 'PRI_jet_subleading_eta', 'PRI_jet_subleading_phi', 'DER_lep_eta_centrality', 'DER_prodeta_jet_jet', 'DER_mass_jet_jet', 'DER_deltaeta_jet_jet'])"
   ]
  },
  {
   "cell_type": "code",
   "execution_count": 352,
   "metadata": {},
   "outputs": [],
   "source": [
    "def standardize_test(x, train_set):\n",
    "    x=(x-np.mean(train_set,axis=0))/np.std(train_set, axis=0)\n",
    "    return x\n",
    "df_test_gau_std=standardize_test(df_test_gau, df_train_gau)"
   ]
  },
  {
   "cell_type": "code",
   "execution_count": 326,
   "metadata": {},
   "outputs": [],
   "source": [
    "df_test_gau_std_polynomial=polynomial_features_simple(df_test_gau_std, 9)"
   ]
  },
  {
   "cell_type": "code",
   "execution_count": 295,
   "metadata": {},
   "outputs": [
    {
     "name": "stderr",
     "output_type": "stream",
     "text": [
      "/Users/gianlucamancini/anaconda3/lib/python3.6/site-packages/ipykernel/__main__.py:5: SettingWithCopyWarning:\n",
      "\n",
      "\n",
      "A value is trying to be set on a copy of a slice from a DataFrame\n",
      "\n",
      "See the caveats in the documentation: http://pandas.pydata.org/pandas-docs/stable/indexing.html#indexing-view-versus-copy\n",
      "\n"
     ]
    }
   ],
   "source": [
    "df_test_all=df_test\n",
    "df_test_all['PRI_jet_num']=df_test_all['PRI_jet_num'].astype('float')\n",
    "for column_name in df_test_all.iloc[:,2:].columns.values:\n",
    "    \n",
    "    df_test_all[column_name][df_test_all[column_name]==-999.0]=np.median(df_test_all[column_name])"
   ]
  },
  {
   "cell_type": "code",
   "execution_count": 296,
   "metadata": {},
   "outputs": [],
   "source": [
    "tx_test_all=df_test_all.iloc[:,2:]"
   ]
  },
  {
   "cell_type": "code",
   "execution_count": 297,
   "metadata": {},
   "outputs": [],
   "source": [
    "tx_test_all_polynomial=polynomial_features_simple(tx_test_all, 4)"
   ]
  },
  {
   "cell_type": "code",
   "execution_count": 280,
   "metadata": {},
   "outputs": [
    {
     "name": "stderr",
     "output_type": "stream",
     "text": [
      "/Users/gianlucamancini/anaconda3/lib/python3.6/site-packages/ipykernel/__main__.py:7: SettingWithCopyWarning:\n",
      "\n",
      "\n",
      "A value is trying to be set on a copy of a slice from a DataFrame.\n",
      "Try using .loc[row_indexer,col_indexer] = value instead\n",
      "\n",
      "See the caveats in the documentation: http://pandas.pydata.org/pandas-docs/stable/indexing.html#indexing-view-versus-copy\n",
      "\n"
     ]
    },
    {
     "name": "stdout",
     "output_type": "stream",
     "text": [
      "<class 'pandas.core.frame.DataFrame'>\n",
      "RangeIndex: 568238 entries, 0 to 568237\n",
      "Data columns (total 20 columns):\n",
      "DER_mass_MMC                   568238 non-null float64\n",
      "DER_mass_transverse_met_lep    568238 non-null float64\n",
      "DER_mass_vis                   568238 non-null float64\n",
      "DER_pt_h                       568238 non-null float64\n",
      "DER_deltar_tau_lep             568238 non-null float64\n",
      "DER_pt_tot                     568238 non-null float64\n",
      "DER_sum_pt                     568238 non-null float64\n",
      "DER_pt_ratio_lep_tau           568238 non-null float64\n",
      "DER_met_phi_centrality         568238 non-null float64\n",
      "PRI_tau_pt                     568238 non-null float64\n",
      "PRI_tau_eta                    568238 non-null float64\n",
      "PRI_tau_phi                    568238 non-null float64\n",
      "PRI_lep_pt                     568238 non-null float64\n",
      "PRI_lep_eta                    568238 non-null float64\n",
      "PRI_lep_phi                    568238 non-null float64\n",
      "PRI_met                        568238 non-null float64\n",
      "PRI_met_phi                    568238 non-null float64\n",
      "PRI_met_sumet                  568238 non-null float64\n",
      "PRI_jet_num                    568238 non-null float64\n",
      "PRI_jet_all_pt                 568238 non-null float64\n",
      "dtypes: float64(20)\n",
      "memory usage: 86.7 MB\n"
     ]
    },
    {
     "data": {
      "text/plain": [
       "None"
      ]
     },
     "metadata": {},
     "output_type": "display_data"
    }
   ],
   "source": [
    "df_test_1=df_test[['Id','DER_mass_MMC','DER_mass_transverse_met_lep', 'DER_mass_vis', 'DER_pt_h', 'DER_deltar_tau_lep', \n",
    "                              'DER_pt_tot', 'DER_sum_pt', 'DER_pt_ratio_lep_tau', 'DER_met_phi_centrality', 'PRI_tau_pt', \n",
    "                              'PRI_tau_eta', 'PRI_tau_phi', 'PRI_lep_pt', 'PRI_lep_eta','PRI_lep_phi', 'PRI_met', 'PRI_met_phi', \n",
    "                               'PRI_met_sumet','PRI_jet_num', 'PRI_jet_all_pt' ]]\n",
    "\n",
    "# defining the dependent features\n",
    "df_test_1['PRI_jet_num']=df_test_1['PRI_jet_num'].astype('float')\n",
    "\n",
    "# df_test_1['DER_mass_MMC'][df_test_1['DER_mass_MMC']==-999.0]=np.median(df_test_1[column_name])\n",
    "# df_test_1=df_test_1.drop(columns=['PRI_jet_num', 'DER_sum_pt', 'PRI_met_sumet', 'DER_pt_h','Id'])\n",
    "df_test_1=df_test_1.drop(columns=['Id'])\n",
    "ICD.display(df_test_1.info())\n",
    "# ICD.display(df_test_1)\n",
    "df_test_1_array=polynomial_features_simple(df_test_1, 4)\n"
   ]
  },
  {
   "cell_type": "markdown",
   "metadata": {},
   "source": [
    "# Submission"
   ]
  },
  {
   "cell_type": "code",
   "execution_count": 355,
   "metadata": {},
   "outputs": [],
   "source": [
    "tx_test=df_test_gau_std_polynomial\n",
    "y_pred=predict_labels(w_final,tx_test)\n",
    "create_csv_submission(df_test['Id'], y_pred, 'trial_ridge_polynomial_gau_basic')"
   ]
  },
  {
   "cell_type": "markdown",
   "metadata": {},
   "source": [
    "### Comparison"
   ]
  },
  {
   "cell_type": "code",
   "execution_count": 330,
   "metadata": {},
   "outputs": [
    {
     "data": {
      "text/plain": [
       "<matplotlib.axes._subplots.AxesSubplot at 0x1a3db711d0>"
      ]
     },
     "execution_count": 330,
     "metadata": {},
     "output_type": "execute_result"
    },
    {
     "data": {
      "image/png": "[encoded data removed]",
      "text/plain": [
       "<Figure size 432x288 with 1 Axes>"
      ]
     },
     "metadata": {},
     "output_type": "display_data"
    }
   ],
   "source": [
    "old_file=pd.read_csv('trial_ridge_polynomial_new data_cleaning.csv')\n",
    "new_file=pd.read_csv('trial_ridge_polynomial_new data_cleaning2.csv')\n",
    "original_file=pd.read_csv('trial1_72.csv')\n",
    "original_file_nooutliers_polynomial=pd.read_csv('trial_ridge_polynomial_new data_cleaning3.csv')\n",
    "original_file_outliers_polynomial=pd.read_csv('trial_ridge_polynomial_new data_cleaning3_withoutliers')\n",
    "original_file_polynomial=pd.read_csv('trial_ridge_polynomial_alldata')\n",
    "gau_file=pd.read_csv('trial_ridge_polynomial_gau')\n",
    "\n",
    "check['Prediction']=original_file['Prediction']*gau_file['Prediction']\n",
    "check['Prediction']=pd.Categorical(check['Prediction'])\n",
    "check['Prediction'].value_counts().plot(kind='bar')"
   ]
  },
  {
   "cell_type": "code",
   "execution_count": null,
   "metadata": {},
   "outputs": [],
   "source": []
  }
 ],
 "metadata": {
  "kernelspec": {
   "display_name": "Python [conda env:anaconda3]",
   "language": "python",
   "name": "conda-env-anaconda3-py"
  },
  "language_info": {
   "codemirror_mode": {
    "name": "ipython",
    "version": 3
   },
   "file_extension": ".py",
   "mimetype": "text/x-python",
   "name": "python",
   "nbconvert_exporter": "python",
   "pygments_lexer": "ipython3",
   "version": "3.6.5"
  }
 },
 "nbformat": 4,
 "nbformat_minor": 2
}
