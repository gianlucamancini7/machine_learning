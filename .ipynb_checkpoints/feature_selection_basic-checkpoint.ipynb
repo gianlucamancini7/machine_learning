{
 "cells": [
  {
   "cell_type": "code",
   "execution_count": 3,
   "metadata": {},
   "outputs": [
    {
     "name": "stdout",
     "output_type": "stream",
     "text": [
      "The autoreload extension is already loaded. To reload it, use:\n",
      "  %reload_ext autoreload\n",
      "Requirement already satisfied: plotly in /Users/gianlucamancini/anaconda3/lib/python3.6/site-packages (3.3.0)\n",
      "Requirement already satisfied: six in /Users/gianlucamancini/anaconda3/lib/python3.6/site-packages (from plotly) (1.11.0)\n",
      "Requirement already satisfied: retrying>=1.3.3 in /Users/gianlucamancini/anaconda3/lib/python3.6/site-packages (from plotly) (1.3.3)\n",
      "Requirement already satisfied: nbformat>=4.2 in /Users/gianlucamancini/anaconda3/lib/python3.6/site-packages (from plotly) (4.4.0)\n",
      "Requirement already satisfied: pytz in /Users/gianlucamancini/anaconda3/lib/python3.6/site-packages (from plotly) (2018.4)\n",
      "Requirement already satisfied: requests in /Users/gianlucamancini/anaconda3/lib/python3.6/site-packages (from plotly) (2.18.4)\n",
      "Requirement already satisfied: decorator>=4.0.6 in /Users/gianlucamancini/anaconda3/lib/python3.6/site-packages (from plotly) (4.3.0)\n",
      "Requirement already satisfied: ipython_genutils in /Users/gianlucamancini/anaconda3/lib/python3.6/site-packages (from nbformat>=4.2->plotly) (0.2.0)\n",
      "Requirement already satisfied: traitlets>=4.1 in /Users/gianlucamancini/anaconda3/lib/python3.6/site-packages (from nbformat>=4.2->plotly) (4.3.2)\n",
      "Requirement already satisfied: jsonschema!=2.5.0,>=2.4 in /Users/gianlucamancini/anaconda3/lib/python3.6/site-packages (from nbformat>=4.2->plotly) (2.6.0)\n",
      "Requirement already satisfied: jupyter_core in /Users/gianlucamancini/anaconda3/lib/python3.6/site-packages (from nbformat>=4.2->plotly) (4.4.0)\n",
      "Requirement already satisfied: chardet<3.1.0,>=3.0.2 in /Users/gianlucamancini/anaconda3/lib/python3.6/site-packages (from requests->plotly) (3.0.4)\n",
      "Requirement already satisfied: idna<2.7,>=2.5 in /Users/gianlucamancini/anaconda3/lib/python3.6/site-packages (from requests->plotly) (2.6)\n",
      "Requirement already satisfied: urllib3<1.23,>=1.21.1 in /Users/gianlucamancini/anaconda3/lib/python3.6/site-packages (from requests->plotly) (1.22)\n",
      "Requirement already satisfied: certifi>=2017.4.17 in /Users/gianlucamancini/anaconda3/lib/python3.6/site-packages (from requests->plotly) (2018.4.16)\n",
      "\u001b[31mdistributed 1.21.8 requires msgpack, which is not installed.\u001b[0m\n",
      "\u001b[33mYou are using pip version 10.0.1, however version 18.1 is available.\n",
      "You should consider upgrading via the 'pip install --upgrade pip' command.\u001b[0m\n"
     ]
    }
   ],
   "source": [
    "# Useful starting lines\n",
    "%matplotlib inline\n",
    "import numpy as np\n",
    "import matplotlib.pyplot as plt\n",
    "%load_ext autoreload\n",
    "%autoreload 2\n",
    "#allows to print the dataframe nicely\n",
    "from IPython.core import display as ICD\n",
    "!pip install plotly\n",
    "import plotly.plotly as py\n",
    "from plotly.graph_objs import *\n",
    "import plotly.tools as tls\n",
    "from scipy import stats"
   ]
  },
  {
   "cell_type": "code",
   "execution_count": 4,
   "metadata": {},
   "outputs": [],
   "source": [
    "# import additional packages to insepct data and clean them\n",
    "import pandas as pd\n",
    "import os \n",
    "import random \n",
    "from zipfile import ZipFile\n",
    "import datetime"
   ]
  },
  {
   "cell_type": "code",
   "execution_count": 5,
   "metadata": {},
   "outputs": [],
   "source": [
    "# import helping functions from the implementation file\n",
    "#from proj1_helpers import load_csv_data\n",
    "from proj1_helpers import *\n",
    "import implementations\n",
    "from additional_implementations import *\n",
    "import seaborn as sns"
   ]
  },
  {
   "cell_type": "code",
   "execution_count": 6,
   "metadata": {},
   "outputs": [
    {
     "data": {
      "text/plain": [
       "[<ZipInfo filename='train.csv' compress_type=deflate file_size=48103379 compress_size=17670847>,\n",
       " <ZipInfo filename='test.csv' compress_type=deflate file_size=109335584 compress_size=40089137>,\n",
       " <ZipInfo filename='sample-submission.csv' compress_type=deflate file_size=5682394 compress_size=1263762>]"
      ]
     },
     "execution_count": 6,
     "metadata": {},
     "output_type": "execute_result"
    }
   ],
   "source": [
    "# import zipped files from the github repository\n",
    "data_folder='./data/'\n",
    "zip_file = ZipFile(data_folder+'all.zip')\n",
    "# zip file creates a list of files with certain properties\n",
    "zip_file.infolist()"
   ]
  },
  {
   "cell_type": "code",
   "execution_count": 13,
   "metadata": {},
   "outputs": [],
   "source": [
    "# now we want to access the 'filename' property in the zipfile variable\n",
    "# and we create a dictionary of dataframe\n",
    "dfs = {text_file.filename: pd.read_csv(zip_file.open(text_file.filename))\n",
    "       for text_file in zip_file.infolist()\n",
    "       if text_file.filename.endswith('.csv')}\n",
    "df_train=dfs['train.csv']\n",
    "df_test=dfs['test.csv']\n",
    "df_sample_submission=dfs['sample-submission.csv']"
   ]
  },
  {
   "cell_type": "code",
   "execution_count": 24,
   "metadata": {},
   "outputs": [],
   "source": [
    "df_train_selection=df_train.drop(columns=['Prediction', 'Id'])"
   ]
  },
  {
   "cell_type": "code",
   "execution_count": 25,
   "metadata": {},
   "outputs": [
    {
     "data": {
      "text/plain": [
       "{'DER_mass_MMC': 38114,\n",
       " 'DER_mass_transverse_met_lep': 0,\n",
       " 'DER_mass_vis': 0,\n",
       " 'DER_pt_h': 0,\n",
       " 'DER_deltaeta_jet_jet': 177457,\n",
       " 'DER_mass_jet_jet': 177457,\n",
       " 'DER_prodeta_jet_jet': 177457,\n",
       " 'DER_deltar_tau_lep': 0,\n",
       " 'DER_pt_tot': 0,\n",
       " 'DER_sum_pt': 0,\n",
       " 'DER_pt_ratio_lep_tau': 0,\n",
       " 'DER_met_phi_centrality': 0,\n",
       " 'DER_lep_eta_centrality': 177457,\n",
       " 'PRI_tau_pt': 0,\n",
       " 'PRI_tau_eta': 0,\n",
       " 'PRI_tau_phi': 0,\n",
       " 'PRI_lep_pt': 0,\n",
       " 'PRI_lep_eta': 0,\n",
       " 'PRI_lep_phi': 0,\n",
       " 'PRI_met': 0,\n",
       " 'PRI_met_phi': 0,\n",
       " 'PRI_met_sumet': 0,\n",
       " 'PRI_jet_num': 0,\n",
       " 'PRI_jet_leading_pt': 99913,\n",
       " 'PRI_jet_leading_eta': 99913,\n",
       " 'PRI_jet_leading_phi': 99913,\n",
       " 'PRI_jet_subleading_pt': 177457,\n",
       " 'PRI_jet_subleading_eta': 177457,\n",
       " 'PRI_jet_subleading_phi': 177457,\n",
       " 'PRI_jet_all_pt': 0}"
      ]
     },
     "execution_count": 25,
     "metadata": {},
     "output_type": "execute_result"
    }
   ],
   "source": [
    "counts={}\n",
    "for column_name in df_train_selection.columns.values:\n",
    "    \n",
    "    check=df_train_selection[column_name]==-999.0\n",
    "    counts[column_name]=np.sum(check.astype('int'))\n",
    "counts"
   ]
  },
  {
   "cell_type": "code",
   "execution_count": 26,
   "metadata": {},
   "outputs": [],
   "source": [
    "df_train_selection=df_train_selection.drop(columns=['PRI_jet_subleading_pt', 'PRI_jet_subleading_eta', 'PRI_jet_subleading_phi', 'DER_lep_eta_centrality', 'DER_prodeta_jet_jet', 'DER_mass_jet_jet', 'DER_deltaeta_jet_jet','PRI_jet_leading_pt','PRI_jet_leading_eta','PRI_jet_leading_phi'])"
   ]
  },
  {
   "cell_type": "code",
   "execution_count": 27,
   "metadata": {},
   "outputs": [
    {
     "data": {
      "text/plain": [
       "{'DER_mass_MMC': 38114,\n",
       " 'DER_mass_transverse_met_lep': 0,\n",
       " 'DER_mass_vis': 0,\n",
       " 'DER_pt_h': 0,\n",
       " 'DER_deltar_tau_lep': 0,\n",
       " 'DER_pt_tot': 0,\n",
       " 'DER_sum_pt': 0,\n",
       " 'DER_pt_ratio_lep_tau': 0,\n",
       " 'DER_met_phi_centrality': 0,\n",
       " 'PRI_tau_pt': 0,\n",
       " 'PRI_tau_eta': 0,\n",
       " 'PRI_tau_phi': 0,\n",
       " 'PRI_lep_pt': 0,\n",
       " 'PRI_lep_eta': 0,\n",
       " 'PRI_lep_phi': 0,\n",
       " 'PRI_met': 0,\n",
       " 'PRI_met_phi': 0,\n",
       " 'PRI_met_sumet': 0,\n",
       " 'PRI_jet_num': 0,\n",
       " 'PRI_jet_all_pt': 0}"
      ]
     },
     "execution_count": 27,
     "metadata": {},
     "output_type": "execute_result"
    }
   ],
   "source": [
    "counts={}\n",
    "for column_name in df_train_selection.columns.values:\n",
    "    \n",
    "    check=df_train_selection[column_name]==-999.0\n",
    "    counts[column_name]=np.sum(check.astype('int'))\n",
    "counts"
   ]
  },
  {
   "cell_type": "code",
   "execution_count": 28,
   "metadata": {},
   "outputs": [
    {
     "name": "stderr",
     "output_type": "stream",
     "text": [
      "/Users/gianlucamancini/anaconda3/lib/python3.6/site-packages/ipykernel/__main__.py:2: SettingWithCopyWarning:\n",
      "\n",
      "\n",
      "A value is trying to be set on a copy of a slice from a DataFrame\n",
      "\n",
      "See the caveats in the documentation: http://pandas.pydata.org/pandas-docs/stable/indexing.html#indexing-view-versus-copy\n",
      "\n"
     ]
    }
   ],
   "source": [
    "median=np.median(df_train_selection['DER_mass_MMC'])\n",
    "df_train_selection['DER_mass_MMC'][df_train_selection['DER_mass_MMC']==-999.0]=median"
   ]
  },
  {
   "cell_type": "code",
   "execution_count": 32,
   "metadata": {},
   "outputs": [],
   "source": [
    "y_train_selection=np.array(df_train['Prediction'])\n",
    "y_train_selection[np.where(y_train_selection=='b')] = -1.\n",
    "y_train_selection[np.where(y_train_selection=='s')] = 1.\n",
    "y_train_selection=y_train_selection.astype('float')"
   ]
  },
  {
   "cell_type": "code",
   "execution_count": 30,
   "metadata": {},
   "outputs": [],
   "source": [
    "tx_train_selection_polynomial=polynomial_features_simple(df_train_selection, 9)"
   ]
  },
  {
   "cell_type": "code",
   "execution_count": 33,
   "metadata": {},
   "outputs": [
    {
     "name": "stdout",
     "output_type": "stream",
     "text": [
      "Weigths:  [-7.66614177e+00 -2.46055946e-01  4.32202478e-03 -3.52267443e-05\n",
      "  1.55706091e-07 -4.02189851e-10  6.22712680e-13 -5.67438230e-16\n",
      "  2.79864212e-19 -5.75049063e-23  9.43137951e-03 -3.64508123e-04\n",
      "  5.86859975e-07  4.31495243e-08 -4.06731035e-10  1.61257322e-12\n",
      " -3.26294772e-15  3.30867917e-18 -1.33265406e-21 -2.39327879e-02\n",
      "  3.04874037e-04 -3.09389726e-06  1.69025043e-08 -4.99939469e-11\n",
      "  8.31575837e-14 -7.76585181e-17  3.79243784e-20 -7.52320594e-24\n",
      " -7.08397211e-03  1.69088541e-04 -1.71003418e-06  9.83265420e-09\n",
      " -3.10347650e-11  5.14449874e-14 -3.81940577e-17  3.48333283e-21\n",
      "  6.37068730e-24  4.83572791e+01 -1.00957808e+02  1.16902562e+02\n",
      " -8.10421097e+01  3.49675704e+01 -9.45442579e+00  1.55521953e+00\n",
      " -1.42067706e-01  5.51832408e-03  2.45211319e-04 -5.84420413e-05\n",
      "  1.24105962e-06 -7.80472919e-09  2.11334018e-11 -2.72547571e-14\n",
      "  1.83748996e-17 -4.72981865e-21 -5.68972771e-24 -8.21812541e+01\n",
      "  2.15808047e-04 -1.07709781e-06  3.04577881e-09 -5.18117810e-12\n",
      "  5.39539571e-15 -3.35525608e-18  1.14011824e-21 -1.62378999e-25\n",
      " -1.49836560e-01 -2.05184215e-01  2.05865887e-01 -7.38811083e-02\n",
      "  1.34182006e-02 -1.35430584e-03  7.67892778e-05 -2.28549739e-06\n",
      "  2.77674292e-08 -1.43562489e-01 -8.75841882e-02  5.04971336e-01\n",
      "  3.51329083e-01 -6.53288333e-01 -2.64611371e-01  4.16482660e-01\n",
      "  5.69502060e-02 -9.63072312e-02  8.21925285e+01 -2.00330690e-04\n",
      " -2.06105368e-06  3.86308922e-08 -2.51884140e-10  8.70106313e-13\n",
      " -1.68711950e-15  1.72935159e-18 -7.27533653e-22  8.76550759e-03\n",
      "  3.96592362e-02 -1.77051564e-02 -4.39201534e-02  7.09294197e-03\n",
      "  1.07977517e-02 -8.23933328e-04 -8.61863863e-04  1.07710386e-05\n",
      "  3.83827511e-03 -1.82488217e-04 -8.24892385e-03 -5.71571731e-04\n",
      "  3.67688730e-03  8.15490550e-05 -5.59248191e-04 -1.74274435e-06\n",
      "  2.74215828e-05  8.23250180e+01 -4.93843724e-03  8.04599460e-05\n",
      " -7.67160924e-07  4.47196412e-09 -1.61202530e-11  3.50103446e-14\n",
      " -4.19226874e-17  2.12267854e-20 -3.54416388e-03 -2.60405067e-02\n",
      "  6.51579866e-03 -9.07949797e-03 -4.22822616e-03  2.33728680e-03\n",
      "  1.04174894e-03 -1.69112547e-04 -8.77605906e-05 -2.03256122e-03\n",
      " -1.81204227e-05  8.10032206e-03 -2.53717210e-04 -3.35866433e-03\n",
      "  4.69515222e-05  4.94915140e-04 -2.18625487e-06 -2.44408396e-05\n",
      " -1.11921613e-02  2.96212364e-04 -3.34745846e-06  1.80702927e-08\n",
      " -4.85685457e-11  6.04882192e-14 -2.13846571e-17 -1.37584986e-20\n",
      "  6.78064607e-24  3.56683483e-03 -2.80642974e-03 -3.58011115e-03\n",
      "  1.38067155e-03  1.03703722e-03 -1.45994591e-04 -1.00696274e-04\n",
      "  1.81658711e-06  2.55986573e-06  1.00973476e-03  1.67115742e-05\n",
      " -1.53618731e-07  4.75628608e-10 -7.44167997e-13  6.40525605e-16\n",
      " -2.98919791e-19  6.71220335e-23 -4.88494764e-27 -2.51207159e+05\n",
      "  8.93992478e+05 -8.95322396e+05 -3.38362954e+04  4.06323297e+05\n",
      " -8.85638646e+04 -3.74405267e+04  3.95036798e+03  2.10398299e+03\n",
      "  8.21657080e+01 -6.21401754e-05  4.01250569e-07 -1.51153020e-09\n",
      "  3.30244318e-12 -4.24280120e-15  3.14868936e-18 -1.24352313e-21\n",
      "  2.01573836e-25] \n",
      "\n",
      " MSE:  0.28780229768443216\n"
     ]
    }
   ],
   "source": [
    "w,loss=implementations.least_squares(y_train_selection,tx_train_selection_polynomial)\n",
    "print('Weigths: ',w,\"\\n\\n\",'MSE: ',loss)"
   ]
  },
  {
   "cell_type": "code",
   "execution_count": 37,
   "metadata": {},
   "outputs": [
    {
     "data": {
      "text/plain": [
       "0.2866423509559663"
      ]
     },
     "execution_count": 37,
     "metadata": {},
     "output_type": "execute_result"
    },
    {
     "data": {
      "image/png": "[encoded data removed]",
      "text/plain": [
       "<Figure size 432x288 with 1 Axes>"
      ]
     },
     "metadata": {},
     "output_type": "display_data"
    }
   ],
   "source": [
    "lambdas=np.logspace(-10,1,15)\n",
    "mses=[]\n",
    "ws=[]\n",
    "for lambda_ in lambdas:\n",
    "    w,loss=implementations.ridge_regression(y_train_selection,tx_train_selection_polynomial,lambda_)\n",
    "    mses.append(loss)\n",
    "    ws.append(w)\n",
    "cross_validation_visualization(lambdas, mses, mses)\n",
    "w_final=ws[np.argmin(mses)]\n",
    "mses[np.argmin(mses)]"
   ]
  },
  {
   "cell_type": "code",
   "execution_count": 38,
   "metadata": {},
   "outputs": [
    {
     "data": {
      "text/plain": [
       "array([ 3.42941283e-01, -2.46572308e-01,  4.33286532e-03, -3.53192980e-05,\n",
       "        1.56110488e-07, -4.03194416e-10,  6.24191854e-13, -5.68716702e-16,\n",
       "        2.80463028e-19, -5.76220972e-23,  8.91082191e-03, -3.46253225e-04,\n",
       "        3.00610590e-07,  4.55882598e-08, -4.18932020e-10,  1.64918567e-12,\n",
       "       -3.32726470e-15,  3.36923703e-18, -1.35612767e-21, -2.44465324e-02,\n",
       "        3.05426556e-04, -3.09206047e-06,  1.69395948e-08, -5.02606679e-11,\n",
       "        8.38252738e-14, -7.84512943e-17,  3.83775720e-20, -7.62361988e-24,\n",
       "       -7.70154666e-03,  1.89105904e-04, -1.93820627e-06,  1.10190697e-08,\n",
       "       -3.41328645e-11,  5.55504575e-14, -4.06448427e-17,  3.78080281e-21,\n",
       "        6.52605238e-24,  4.54390138e+00, -5.19924408e+00,  5.80806415e+00,\n",
       "       -4.64332304e+00,  2.32176372e+00, -7.09852860e-01,  1.29068108e-01,\n",
       "       -1.27903239e-02,  5.30474361e-04,  3.26382036e-04, -5.95746804e-05,\n",
       "        1.22600032e-06, -7.52526494e-09,  1.97810900e-11, -2.51739743e-14,\n",
       "        1.89247158e-17, -7.06467859e-21, -6.01674761e-24,  4.25574371e+00,\n",
       "        2.28642362e-04, -1.15594715e-06,  3.30240960e-09, -5.65982319e-12,\n",
       "        5.92342864e-15, -3.69519577e-18,  1.25801589e-21, -1.79385824e-25,\n",
       "       -1.83493622e-01, -1.87056717e-01,  1.99496917e-01, -7.25410650e-02,\n",
       "        1.32482035e-02, -1.34100131e-03,  7.61456144e-05, -2.26749949e-06,\n",
       "        2.75439776e-08, -1.40525648e-01, -8.30780944e-02,  4.75718416e-01,\n",
       "        3.47532232e-01, -6.11329271e-01, -2.67182969e-01,  3.93703986e-01,\n",
       "        5.87512362e-02, -9.19585408e-02, -4.24550672e+00, -2.00900055e-04,\n",
       "       -2.02304302e-06,  3.81501272e-08, -2.49021790e-10,  8.60729976e-13,\n",
       "       -1.66950248e-15,  1.71138184e-18, -7.19803279e-22,  9.06360822e-03,\n",
       "        3.72501172e-02, -1.88965372e-02, -4.17826733e-02,  8.01283240e-03,\n",
       "        1.01886585e-02, -1.06664877e-03, -8.08645181e-04,  3.16494190e-05,\n",
       "        3.71272764e-03, -1.00911564e-03, -7.89085210e-03, -1.97898382e-04,\n",
       "        3.55593112e-03,  1.89199448e-05, -5.42953572e-04,  1.72823792e-06,\n",
       "        2.65985864e-05, -4.10971641e+00, -5.01991824e-03,  8.16549164e-05,\n",
       "       -7.76723235e-07,  4.51347644e-09, -1.62114727e-11,  3.50792248e-14,\n",
       "       -4.18596077e-17,  2.11294580e-20, -2.18575011e-03, -2.46121313e-02,\n",
       "        4.19612462e-03, -1.01363974e-02, -3.13761629e-03,  2.58437060e-03,\n",
       "        8.47422407e-04, -1.87246542e-04, -7.62490948e-05, -2.55125460e-03,\n",
       "        2.48186525e-04,  8.75836924e-03, -2.63749831e-04, -3.58865951e-03,\n",
       "        3.79354232e-05,  5.25235129e-04, -1.42246908e-06, -2.57896567e-05,\n",
       "       -1.16792084e-02,  3.10069246e-04, -3.52663555e-06,  1.91980659e-08,\n",
       "       -5.21480955e-11,  6.59351696e-14, -2.40539425e-17, -1.55238534e-20,\n",
       "        8.43875996e-24,  3.02640589e-03, -2.74028817e-03, -2.80002422e-03,\n",
       "        1.24885792e-03,  6.80421174e-04, -1.25768514e-04, -4.48149256e-05,\n",
       "        1.15053856e-06, -1.87777378e-07,  1.11195963e-03,  1.60370762e-05,\n",
       "       -1.50887210e-07,  4.67846860e-10, -7.28763576e-13,  6.21041421e-16,\n",
       "       -2.84340595e-19,  6.12611396e-23, -3.90804838e-27, -2.81118110e+02,\n",
       "       -2.59039228e+02, -1.82134165e+02, -1.08958575e+02,  3.31640846e+02,\n",
       "        2.07375817e+02,  1.22546447e+03, -1.17938971e+03,  2.46051774e+02,\n",
       "       -4.27273705e+00, -5.56925712e-05,  3.63664369e-07, -1.39577251e-09,\n",
       "        3.09873870e-12, -4.03300102e-15,  3.02488429e-18, -1.20518360e-21,\n",
       "        1.96809612e-25])"
      ]
     },
     "execution_count": 38,
     "metadata": {},
     "output_type": "execute_result"
    }
   ],
   "source": [
    "w_final"
   ]
  },
  {
   "cell_type": "code",
   "execution_count": 39,
   "metadata": {},
   "outputs": [
    {
     "data": {
      "text/plain": [
       "0.8068"
      ]
     },
     "execution_count": 39,
     "metadata": {},
     "output_type": "execute_result"
    }
   ],
   "source": [
    "y_pred=predict_labels(w_final,tx_train_selection_polynomial)\n",
    "list(y_pred*y_train_selection).count(1.)/len(tx_train_selection_polynomial)"
   ]
  },
  {
   "cell_type": "code",
   "execution_count": 46,
   "metadata": {},
   "outputs": [],
   "source": [
    "df_test_selection=df_test"
   ]
  },
  {
   "cell_type": "code",
   "execution_count": 47,
   "metadata": {},
   "outputs": [],
   "source": [
    "df_test_selection=df_test_selection.drop(columns=['Id', 'Prediction'])"
   ]
  },
  {
   "cell_type": "code",
   "execution_count": 48,
   "metadata": {},
   "outputs": [],
   "source": [
    "df_test_selection=df_test_selection.drop(columns=['PRI_jet_subleading_pt', 'PRI_jet_subleading_eta', 'PRI_jet_subleading_phi', 'DER_lep_eta_centrality', 'DER_prodeta_jet_jet', 'DER_mass_jet_jet', 'DER_deltaeta_jet_jet','PRI_jet_leading_pt','PRI_jet_leading_eta','PRI_jet_leading_phi'])"
   ]
  },
  {
   "cell_type": "code",
   "execution_count": 49,
   "metadata": {},
   "outputs": [
    {
     "name": "stderr",
     "output_type": "stream",
     "text": [
      "/Users/gianlucamancini/anaconda3/lib/python3.6/site-packages/ipykernel/__main__.py:1: SettingWithCopyWarning:\n",
      "\n",
      "\n",
      "A value is trying to be set on a copy of a slice from a DataFrame\n",
      "\n",
      "See the caveats in the documentation: http://pandas.pydata.org/pandas-docs/stable/indexing.html#indexing-view-versus-copy\n",
      "\n"
     ]
    }
   ],
   "source": [
    "df_test_selection['DER_mass_MMC'][df_test_selection['DER_mass_MMC']==-999.0]=median"
   ]
  },
  {
   "cell_type": "code",
   "execution_count": 50,
   "metadata": {},
   "outputs": [],
   "source": [
    "tx_test_selection_polynomial=polynomial_features_simple(df_test_selection, 9)"
   ]
  },
  {
   "cell_type": "markdown",
   "metadata": {},
   "source": [
    "# Submission"
   ]
  },
  {
   "cell_type": "code",
   "execution_count": 51,
   "metadata": {},
   "outputs": [],
   "source": [
    "tx_test=tx_test_selection_polynomial\n",
    "y_pred=predict_labels(w_final,tx_test)\n",
    "create_csv_submission(df_test['Id'], y_pred, 'trial_ridge_polynomial_selection')"
   ]
  },
  {
   "cell_type": "markdown",
   "metadata": {},
   "source": [
    "### Comparison"
   ]
  },
  {
   "cell_type": "code",
   "execution_count": 52,
   "metadata": {},
   "outputs": [
    {
     "data": {
      "text/plain": [
       "<matplotlib.axes._subplots.AxesSubplot at 0x1143cd7b8>"
      ]
     },
     "execution_count": 52,
     "metadata": {},
     "output_type": "execute_result"
    },
    {
     "data": {
      "image/png": "[encoded data removed]",
      "text/plain": [
       "<Figure size 432x288 with 1 Axes>"
      ]
     },
     "metadata": {},
     "output_type": "display_data"
    }
   ],
   "source": [
    "best=pd.read_csv('trial_ridge_polynomial_gau_basic3.csv')\n",
    "selection=pd.read_csv('trial_ridge_polynomial_selection')\n",
    "\n",
    "check=selection['Prediction']*best['Prediction']\n",
    "check.value_counts().plot(kind='bar')"
   ]
  },
  {
   "cell_type": "code",
   "execution_count": null,
   "metadata": {},
   "outputs": [],
   "source": [
    "def standardize_test(x, train_set):\n",
    "    x=(x-np.mean(train_set,axis=0))/np.std(train_set, axis=0)\n",
    "    return x\n",
    "df_test_gau_std=standardize_test(df_test_gau, df_train_gau)"
   ]
  }
 ],
 "metadata": {
  "kernelspec": {
   "display_name": "Python [conda env:anaconda3]",
   "language": "python",
   "name": "conda-env-anaconda3-py"
  },
  "language_info": {
   "codemirror_mode": {
    "name": "ipython",
    "version": 3
   },
   "file_extension": ".py",
   "mimetype": "text/x-python",
   "name": "python",
   "nbconvert_exporter": "python",
   "pygments_lexer": "ipython3",
   "version": "3.6.5"
  }
 },
 "nbformat": 4,
 "nbformat_minor": 2
}
