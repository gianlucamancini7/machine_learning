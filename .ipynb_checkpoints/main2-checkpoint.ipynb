{
 "cells": [
  {
   "cell_type": "code",
   "execution_count": 13,
   "metadata": {},
   "outputs": [
    {
     "name": "stdout",
     "output_type": "stream",
     "text": [
      "The autoreload extension is already loaded. To reload it, use:\n",
      "  %reload_ext autoreload\n"
     ]
    }
   ],
   "source": [
    "# Useful starting lines\n",
    "%matplotlib inline\n",
    "import numpy as np\n",
    "import matplotlib.pyplot as plt\n",
    "%load_ext autoreload\n",
    "%autoreload 2\n",
    "#allows to print the dataframe nicely\n",
    "from IPython.core import display as ICD\n",
    "# !pip install plotly\n",
    "# import plotly.plotly as py\n",
    "# from plotly.graph_objs import *\n",
    "# import plotly.tools as tls\n",
    "# from scipy import stats"
   ]
  },
  {
   "cell_type": "code",
   "execution_count": 14,
   "metadata": {},
   "outputs": [],
   "source": [
    "# import additional packages to insepct data and clean them\n",
    "import pandas as pd\n",
    "import os \n",
    "import random \n",
    "from zipfile import ZipFile\n",
    "import datetime"
   ]
  },
  {
   "cell_type": "code",
   "execution_count": 15,
   "metadata": {},
   "outputs": [],
   "source": [
    "# import helping functions from the implementation file\n",
    "#from proj1_helpers import load_csv_data\n",
    "from proj1_helpers import *\n",
    "import implementations\n",
    "from additional_implementations import *\n",
    "import seaborn as sns"
   ]
  },
  {
   "cell_type": "code",
   "execution_count": 16,
   "metadata": {},
   "outputs": [
    {
     "data": {
      "text/plain": [
       "[<ZipInfo filename='train.csv' compress_type=deflate file_size=48103379 compress_size=17670847>,\n",
       " <ZipInfo filename='test.csv' compress_type=deflate file_size=109335584 compress_size=40089137>,\n",
       " <ZipInfo filename='sample-submission.csv' compress_type=deflate file_size=5682394 compress_size=1263762>]"
      ]
     },
     "execution_count": 16,
     "metadata": {},
     "output_type": "execute_result"
    }
   ],
   "source": [
    "# import zipped files from the github repository\n",
    "data_folder='./data/'\n",
    "zip_file = ZipFile(data_folder+'all.zip')\n",
    "# zip file creates a list of files with certain properties\n",
    "zip_file.infolist()"
   ]
  },
  {
   "cell_type": "code",
   "execution_count": 17,
   "metadata": {},
   "outputs": [],
   "source": [
    "# now we want to access the 'filename' property in the zipfile variable\n",
    "# and we create a dictionary of dataframe\n",
    "dfs = {text_file.filename: pd.read_csv(zip_file.open(text_file.filename))\n",
    "       for text_file in zip_file.infolist()\n",
    "       if text_file.filename.endswith('.csv')}\n",
    "df_train=dfs['train.csv']\n",
    "df_test=dfs['test.csv']\n",
    "df_sample_submission=dfs['sample-submission.csv']"
   ]
  },
  {
   "cell_type": "code",
   "execution_count": 18,
   "metadata": {},
   "outputs": [],
   "source": [
    "df_train_gau=df_train.drop(columns=['Prediction', 'Id'])"
   ]
  },
  {
   "cell_type": "code",
   "execution_count": 19,
   "metadata": {},
   "outputs": [],
   "source": [
    "df_train_gau[df_train_gau==-999.0]=0"
   ]
  },
  {
   "cell_type": "code",
   "execution_count": 20,
   "metadata": {},
   "outputs": [],
   "source": [
    "y_train_gau=np.array(df_train['Prediction'])\n",
    "y_train_gau[np.where(y_train_gau=='b')] = -1.\n",
    "y_train_gau[np.where(y_train_gau=='s')] = 1.\n",
    "y_train_gau=y_train_gau.astype('float')"
   ]
  },
  {
   "cell_type": "code",
   "execution_count": null,
   "metadata": {},
   "outputs": [],
   "source": [
    "tx_train_gau_polynomial=polynomial_features_simple(df_train_gau, 9)"
   ]
  },
  {
   "cell_type": "code",
   "execution_count": null,
   "metadata": {},
   "outputs": [],
   "source": [
    "lambdas=np.logspace(-10,-2,15)\n",
    "mses=[]\n",
    "ws=[]\n",
    "for lambda_ in lambdas:\n",
    "    w,loss=implementations.ridge_regression(y_train_gau,tx_train_gau_polynomial,lambda_)\n",
    "    mses.append(loss)\n",
    "    ws.append(w)\n",
    "#cross_validation_visualization(lambdas, mses, mses)\n",
    "w_final=ws[np.argmin(mses)]\n",
    "mses[np.argmin(mses)]"
   ]
  },
  {
   "cell_type": "code",
   "execution_count": 22,
   "metadata": {},
   "outputs": [
    {
     "name": "stdout",
     "output_type": "stream",
     "text": [
      "MSE:  0.2798575650907608    Degree:  10    Lambda:  0.01\n",
      "\n",
      "Ws:  (array([-3.35774965e-03, -1.53012943e-02, -4.73325558e-05,  7.22360604e-06,\n",
      "       -8.22845527e-08,  4.13909704e-10, -1.13523591e-12,  1.81133018e-15,\n",
      "       -1.67640971e-18,  8.33483084e-22, -1.71942035e-25, -7.33520489e-03,\n",
      "        5.80514391e-04, -2.26078265e-05,  3.43945100e-07, -2.64388455e-09,\n",
      "        1.15374064e-11, -2.98179908e-14,  4.51490130e-17, -3.69664054e-20,\n",
      "        1.26215514e-23, -4.66308620e-02,  1.11022793e-03, -1.35846592e-05,\n",
      "        8.72472098e-08, -3.18388493e-10,  6.93491991e-13, -9.15279293e-16,\n",
      "        7.15172060e-19, -3.03537169e-22,  5.38098797e-26, -4.70108182e-03,\n",
      "        6.95504886e-05, -5.21693535e-07,  2.00138732e-09, -3.88089194e-12,\n",
      "        3.50687564e-15, -1.88260504e-18,  2.06288838e-21, -5.07918100e-25,\n",
      "       -1.28445768e-27, -2.25157269e-02, -2.66934635e-02, -1.78827502e-02,\n",
      "        4.03548388e-03,  1.74870366e-02, -9.47188902e-03,  1.88884122e-03,\n",
      "       -1.54235426e-04,  2.44743699e-06,  1.89514908e-07, -5.40266853e-03,\n",
      "        1.42782145e-05, -2.05664798e-08,  1.74691442e-11, -9.04573071e-15,\n",
      "        2.82745693e-18, -4.99835526e-22,  3.99391305e-26,  2.23847500e-31,\n",
      "       -1.61635948e-34, -4.58004496e-02, -3.49373236e-03, -2.30838404e-04,\n",
      "        7.02904577e-05,  6.11739742e-06, -8.13543316e-07, -3.26074744e-08,\n",
      "        3.96594126e-09,  5.70151891e-11, -7.07556436e-12,  5.63328522e-02,\n",
      "        7.88737012e-02,  6.15322257e-02,  1.39385966e-02, -1.93451126e-02,\n",
      "       -2.73002569e-02,  2.42378854e-02, -7.31044811e-03,  9.85649319e-04,\n",
      "       -5.05241396e-05,  1.07305285e-03, -9.77038996e-05,  1.82444721e-06,\n",
      "       -1.20709538e-08,  3.55841155e-11, -4.75738546e-14,  2.40589080e-17,\n",
      "       -4.50908776e-21,  6.06506971e-24,  4.57708995e-28, -1.17849032e-02,\n",
      "        3.09370405e-04, -1.89595486e-06,  6.79286429e-09, -1.50028469e-11,\n",
      "        2.09647231e-14, -1.85165250e-17,  9.99191554e-21, -3.00042094e-24,\n",
      "        3.83560261e-28, -6.71706829e-03, -5.70011256e-03,  7.72498767e-03,\n",
      "        4.19852997e-03, -3.05193869e-03,  6.78560691e-04, -7.40741637e-05,\n",
      "        4.32876264e-06, -1.29977038e-07,  1.57765860e-09, -2.73959388e-02,\n",
      "        1.40253354e-02,  1.07380350e-02,  1.21313839e-02,  2.80064446e-02,\n",
      "        3.79267482e-03,  2.89816523e-02, -5.49350763e-03, -1.82941806e-02,\n",
      "        1.03197893e-03,  6.04477960e-02,  5.75826931e-02,  4.59877719e-02,\n",
      "        3.49703007e-02,  2.59273298e-02,  1.87608326e-02,  1.31121634e-02,\n",
      "        8.64338302e-03,  5.08453805e-03,  2.23173763e-03, -1.19708288e-02,\n",
      "        1.09565471e-03, -2.83322195e-05,  3.31190912e-07, -2.17712024e-09,\n",
      "        8.61858540e-12, -2.08473797e-14,  2.99768873e-17, -2.33998222e-20,\n",
      "        7.59267262e-24,  3.58632809e-03,  6.27872661e-03, -4.69651353e-03,\n",
      "       -2.09430663e-03, -4.34552087e-04, -8.07523042e-03,  7.76812304e-04,\n",
      "        2.70717599e-03, -1.03590314e-04, -2.40084834e-04,  4.60006708e-04,\n",
      "       -5.82085793e-04, -5.92132817e-03, -4.80141812e-04,  2.96763865e-03,\n",
      "        4.29685881e-05, -4.66935162e-04,  5.22334519e-06,  2.31666026e-05,\n",
      "       -3.92257286e-07,  1.35468115e-02, -2.05836502e-04, -1.18382377e-05,\n",
      "        3.09533797e-07, -3.32698852e-09,  1.95652311e-11, -6.76313158e-14,\n",
      "        1.37094062e-16, -1.50902506e-19,  6.96616816e-23,  7.11962204e-04,\n",
      "       -1.56531585e-02,  1.31702426e-03, -1.16070792e-02, -2.56214250e-03,\n",
      "        1.73449994e-03,  8.81739500e-04,  1.27448304e-04, -8.70976566e-05,\n",
      "       -2.73964802e-05,  5.91461953e-04,  2.33792520e-03,  4.61505098e-03,\n",
      "       -2.84122394e-03, -2.35151557e-03,  8.60177217e-04,  3.77408161e-04,\n",
      "       -1.04694915e-04, -1.94862774e-05,  4.51452273e-06, -1.18735638e-02,\n",
      "        3.38690646e-04, -3.36459710e-06,  1.60494333e-08, -3.80852653e-11,\n",
      "        4.13012491e-14, -1.19276604e-17, -6.79611609e-21,  2.43454669e-24,\n",
      "       -1.19272825e-27,  1.07260983e-03, -2.96504500e-04, -6.92392860e-04,\n",
      "       -1.56447316e-03, -1.80108606e-04,  8.71346127e-04,  9.04591751e-05,\n",
      "       -1.34243746e-04, -7.07203513e-06,  6.23747546e-06, -1.02271362e-03,\n",
      "        3.50084813e-05, -2.50945206e-07,  8.04498538e-10, -1.40160043e-12,\n",
      "        1.38506131e-15, -7.32105080e-19,  1.47890410e-22,  2.38008226e-26,\n",
      "       -1.09836552e-29, -8.54694260e-03, -8.42909713e-03, -8.19420890e-03,\n",
      "       -7.75945363e-03, -6.87551147e-03, -5.42152784e-03, -2.78626338e-03,\n",
      "        6.22754081e-04,  4.71311321e-03, -1.42878642e-03, -1.53112905e-02,\n",
      "        6.17521518e-04, -8.83351793e-06,  6.70336678e-08, -3.00274373e-10,\n",
      "        8.28596080e-13, -1.41853983e-15,  1.46340689e-18, -8.31163685e-22,\n",
      "        1.99254494e-25, -1.17469464e-03,  2.06570178e-02, -1.45236254e-03,\n",
      "        1.08773714e-02,  3.39024128e-04, -1.69064982e-03, -1.99239761e-05,\n",
      "        9.73060669e-05,  3.55015887e-07, -1.96060214e-06, -2.98375315e-03,\n",
      "        2.24537439e-03, -1.73846534e-03, -8.24715550e-04,  1.21511913e-03,\n",
      "        1.25905254e-04, -2.04662806e-04, -4.34936965e-06,  1.08853396e-05,\n",
      "       -3.17709781e-07,  1.33065188e-02, -2.23467205e-05, -1.58429496e-06,\n",
      "        2.44887041e-08, -1.92353497e-10,  9.09180944e-13, -2.61822761e-15,\n",
      "        4.43969719e-18, -4.04265046e-21,  1.51595478e-24, -2.21256206e-03,\n",
      "        2.13457076e-02,  2.58361395e-03,  1.06777544e-02, -5.91453417e-04,\n",
      "       -1.84162027e-03,  4.73561381e-05,  1.15757445e-04, -1.18851559e-06,\n",
      "       -2.49831163e-06,  7.53570140e-04, -6.46197283e-03, -4.77944184e-03,\n",
      "       -3.64373289e-03,  1.95103202e-03,  1.95056358e-03, -2.73153262e-04,\n",
      "       -2.90008251e-04,  1.28066790e-05,  1.39028445e-05, -1.38005269e-02,\n",
      "       -4.49202747e-05,  4.77690617e-07, -2.57637983e-09,  7.64562008e-12,\n",
      "       -1.32882399e-14,  1.38163042e-17, -8.41882988e-21,  2.76137648e-24,\n",
      "       -3.75019969e-28]), 0.2798575650907608)\n"
     ]
    }
   ],
   "source": [
    "lambdas=np.logspace(-10,-2,2)\n",
    "degrees=np.linspace(1,10,5).astype('int')\n",
    "mses= np.zeros((len(degrees), len(lambdas)))\n",
    "\n",
    "for ind_degree,degree in enumerate(degrees):\n",
    "    tx_train_gau_polynomial=polynomial_features_simple(df_train_gau, degree)\n",
    "    for ind_lambda,lambda_ in enumerate(lambdas):\n",
    "        w,loss=implementations.ridge_regression(y_train_gau,tx_train_gau_polynomial,lambda_)\n",
    "        mses[ind_degree, ind_lambda]=loss\n",
    "        \n",
    "mse_final, degree_final,lambda_final=get_best_parameters(degrees, lambdas, mses)\n",
    "tx_train_gau_polynomial=polynomial_features_simple(df_train_gau, degree_final)\n",
    "w_final=implementations.ridge_regression(y_train_gau,tx_train_gau_polynomial,lambda_final)\n",
    "\n",
    "print('MSE: ',mse_final,'   Degree: ',degree_final,'   Lambda: ',lambda_final)\n",
    "print('')\n",
    "print('Ws: ',w_final)"
   ]
  },
  {
   "cell_type": "code",
   "execution_count": null,
   "metadata": {},
   "outputs": [],
   "source": [
    "y_pred=predict_labels(w_final,tx_train_gau_polynomial)\n",
    "list(y_pred*y_train_gau).count(1.)/len(tx_train_gau_polynomial)\n"
   ]
  },
  {
   "cell_type": "code",
   "execution_count": null,
   "metadata": {},
   "outputs": [],
   "source": [
    "df_test_gau=df_test"
   ]
  },
  {
   "cell_type": "code",
   "execution_count": null,
   "metadata": {},
   "outputs": [],
   "source": [
    "df_test_gau=df_test_gau.drop(columns=['Id', 'Prediction'])"
   ]
  },
  {
   "cell_type": "code",
   "execution_count": null,
   "metadata": {},
   "outputs": [],
   "source": [
    "df_test_gau[df_test_gau==-999.0]=0"
   ]
  },
  {
   "cell_type": "code",
   "execution_count": null,
   "metadata": {},
   "outputs": [],
   "source": [
    "tx_test_gau_polynomial=polynomial_features_simple(df_test_gau,9)"
   ]
  },
  {
   "cell_type": "code",
   "execution_count": null,
   "metadata": {},
   "outputs": [],
   "source": [
    "tx_test=tx_test_gau_polynomial\n",
    "y_pred=predict_labels(w_final,tx_test)\n",
    "create_csv_submission(df_test['Id'], y_pred, 'trial_ridge_polynomial_gau_basic')"
   ]
  },
  {
   "cell_type": "code",
   "execution_count": null,
   "metadata": {},
   "outputs": [],
   "source": [
    "gau_std=pd.read_csv('trial_ridge_polynomial_gau')\n",
    "gau_basic=pd.read_csv('trial_ridge_polynomial_gau_basic')\n",
    "\n",
    "check=gau_basic['Prediction']*gau_std['Prediction']\n",
    "check.value_counts().plot(kind='bar')"
   ]
  },
  {
   "cell_type": "code",
   "execution_count": null,
   "metadata": {},
   "outputs": [],
   "source": []
  }
 ],
 "metadata": {
  "kernelspec": {
   "display_name": "Python 3",
   "language": "python",
   "name": "python3"
  },
  "language_info": {
   "codemirror_mode": {
    "name": "ipython",
    "version": 3
   },
   "file_extension": ".py",
   "mimetype": "text/x-python",
   "name": "python",
   "nbconvert_exporter": "python",
   "pygments_lexer": "ipython3",
   "version": "3.6.5"
  }
 },
 "nbformat": 4,
 "nbformat_minor": 2
}
