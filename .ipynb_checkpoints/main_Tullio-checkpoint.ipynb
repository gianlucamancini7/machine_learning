{
 "cells": [
  {
   "cell_type": "code",
   "execution_count": 18,
   "metadata": {},
   "outputs": [
    {
     "name": "stdout",
     "output_type": "stream",
     "text": [
      "The autoreload extension is already loaded. To reload it, use:\n",
      "  %reload_ext autoreload\n"
     ]
    }
   ],
   "source": [
    "# Useful starting lines\n",
    "%matplotlib inline\n",
    "import numpy as np\n",
    "import matplotlib.pyplot as plt\n",
    "%load_ext autoreload\n",
    "%autoreload 2\n",
    "#allows to print the dataframe nicely\n",
    "from IPython.core import display as ICD"
   ]
  },
  {
   "cell_type": "code",
   "execution_count": 27,
   "metadata": {},
   "outputs": [],
   "source": [
    "# import additional packages to insepct data\n",
    "import pandas as pd\n",
    "import os \n",
    "import random \n",
    "from zipfile import ZipFile\n",
    "import datetime"
   ]
  },
  {
   "cell_type": "code",
   "execution_count": 20,
   "metadata": {},
   "outputs": [],
   "source": [
    "# import helping functions\n",
    "#from proj1_helpers import load_csv_data"
   ]
  },
  {
   "cell_type": "code",
   "execution_count": 21,
   "metadata": {},
   "outputs": [
    {
     "data": {
      "text/plain": [
       "[<ZipInfo filename='train.csv' compress_type=deflate file_size=48103379 compress_size=17670847>,\n",
       " <ZipInfo filename='test.csv' compress_type=deflate file_size=109335584 compress_size=40089137>,\n",
       " <ZipInfo filename='sample-submission.csv' compress_type=deflate file_size=5682394 compress_size=1263762>]"
      ]
     },
     "execution_count": 21,
     "metadata": {},
     "output_type": "execute_result"
    }
   ],
   "source": [
    "# import files\n",
    "data_folder='./data/'\n",
    "zip_file = ZipFile(data_folder+'all.zip')\n",
    "# zip file creates a list of files with certain properties\n",
    "zip_file.infolist()"
   ]
  },
  {
   "cell_type": "markdown",
   "metadata": {},
   "source": [
    "Training set, Validation set and Test set."
   ]
  },
  {
   "cell_type": "code",
   "execution_count": 22,
   "metadata": {},
   "outputs": [],
   "source": [
    "# now we want to access the 'filename' property in the zipfile variable\n",
    "# and we create a dictionary of dataframe\n",
    "dfs = {text_file.filename: pd.read_csv(zip_file.open(text_file.filename))\n",
    "       for text_file in zip_file.infolist()\n",
    "       if text_file.filename.endswith('.csv')}\n",
    "df_train=dfs['train.csv']\n",
    "df_test=dfs['test.csv']\n",
    "df_sample_submission=dfs['sample-submission.csv']"
   ]
  },
  {
   "cell_type": "markdown",
   "metadata": {},
   "source": [
    "variables prefixed with PRI (for PRImitives) are “raw” quantities about the bunch collision as measured by the detector.\n",
    "variables prefixed with DER (for DERived) are quantities computed from the primitive features, which were selected by  the physicists of ATLAS\n",
    "it can happen that for some entries some variables are meaningless or cannot be computed; in this case, their value is −999.0, which is outside the normal range of all variables"
   ]
  },
  {
   "cell_type": "markdown",
   "metadata": {},
   "source": [
    "# Test solving"
   ]
  },
  {
   "cell_type": "code",
   "execution_count": 23,
   "metadata": {},
   "outputs": [],
   "source": [
    "yb, input_data, ids=np.array(df_train['Prediction']), np.array(df_train.iloc[:,2:]), np.array(df_train['Id'])"
   ]
  },
  {
   "cell_type": "code",
   "execution_count": 24,
   "metadata": {},
   "outputs": [
    {
     "data": {
      "text/plain": [
       "array([100000, 100001, 100002, ..., 349997, 349998, 349999], dtype=int64)"
      ]
     },
     "metadata": {},
     "output_type": "display_data"
    }
   ],
   "source": [
    "ICD.display(ids)\n"
   ]
  },
  {
   "cell_type": "code",
   "execution_count": 52,
   "metadata": {},
   "outputs": [
    {
     "data": {
      "text/plain": [
       "200000"
      ]
     },
     "execution_count": 52,
     "metadata": {},
     "output_type": "execute_result"
    }
   ],
   "source": [
    "# transform yb into numerical values\n",
    "yb[np.where(yb=='b')] = 0\n",
    "yb[np.where(yb=='s')] = 1\n",
    "\n",
    "#Cut dataframe for fast testing\n",
    "lines_cut=200000\n",
    "tx=input_data[:lines_cut]\n",
    "y=yb[:lines_cut]\n",
    "y.shape[0]\n",
    "#input_data.shape"
   ]
  },
  {
   "cell_type": "code",
   "execution_count": null,
   "metadata": {},
   "outputs": [],
   "source": [
    "df_train_independent=df_train[['DER_mass_MMC','DER_mass_transverse_met_lep', 'DER_mass_vis', 'DER_pt_h', 'DER_deltar_tau_lep', \n",
    "                              'DER_pt_tot', 'DER_sum_pt', 'DER_pt_ratio_lep_tau', 'DER_met_phi_centrality', 'PRI_tau_pt', \n",
    "                              'PRI_tau_eta', 'PRI_tau_phi', 'PRI_lep_pt', 'PRI_lep_eta','PRI_lep_phi', 'PRI_met', 'PRI_met_phi', \n",
    "                               'PRI_met_sumet','PRI_jet_num', 'PRI_jet_all_pt' ]]\n",
    "ICD.display(df_train.columns.values)\n",
    "df_train_dependent=df_train[['DER_deltaeta_jet_jet','DER_mass_jet_jet', 'DER_prodeta_jet_jet','DER_lep_eta_centrality',\n",
    "                             'PRI_jet_leading_pt', 'PRI_jet_leading_eta','PRI_jet_leading_phi', 'PRI_jet_subleading_pt',\n",
    "                             'PRI_jet_subleading_eta', 'PRI_jet_subleading_phi']]"
   ]
  },
  {
   "cell_type": "code",
   "execution_count": 53,
   "metadata": {},
   "outputs": [],
   "source": [
    "#Import functions\n",
    "from proj1_helpers import *\n",
    "from implementations import *"
   ]
  },
  {
   "cell_type": "markdown",
   "metadata": {},
   "source": [
    "## Stochastic gradient descent "
   ]
  },
  {
   "cell_type": "code",
   "execution_count": 54,
   "metadata": {},
   "outputs": [
    {
     "name": "stdout",
     "output_type": "stream",
     "text": [
      "SGD(0/29): loss=20099632643.835075, w0=10.809375961999935, w1=-2.7465880580000093\n",
      "SGD(1/29): loss=6.567773665832494e+21, w0=-1891453.0535824834, w1=897145.6480012547\n",
      "SGD(2/29): loss=2.173429208944858e+33, w0=1024511503864.391, w1=-514022346233.3137\n",
      "SGD(3/29): loss=7.26236081636064e+44, w0=-6.113281617385256e+17, w1=2.972760871206587e+17\n",
      "SGD(4/29): loss=2.4044530623164867e+56, w0=3.416631782141605e+23, w1=-1.706424269138824e+23\n",
      "SGD(5/29): loss=7.922665757544993e+67, w0=-1.9392609199600784e+29, w1=9.8315329734076e+28\n",
      "SGD(6/29): loss=2.583585985846295e+79, w0=1.083707266500992e+35, w1=-5.586657399470213e+34\n",
      "SGD(7/29): loss=8.524649388819307e+90, w0=-6.014421319306324e+40, w1=3.2069696911194884e+40\n",
      "SGD(8/29): loss=2.8113268819983555e+102, w0=3.577474917563473e+46, w1=-1.8422239277706373e+46\n",
      "SGD(9/29): loss=9.291857680014024e+113, w0=-2.1864291079087923e+52, w1=1.0653008439203015e+52\n",
      "SGD(10/29): loss=3.0755225165396306e+125, w0=1.2427255727728387e+58, w1=-6.1170664819812136e+57\n",
      "SGD(11/29): loss=1.00586513841624e+137, w0=-6.977894834052667e+63, w1=3.500415228184187e+63\n",
      "SGD(12/29): loss=3.3198772954517355e+148, w0=3.850996560870472e+69, w1=-1.9996250131605522e+69\n",
      "SGD(13/29): loss=1.1025394936249569e+160, w0=-2.2984860122511644e+75, w1=1.1540984857718886e+75\n",
      "SGD(14/29): loss=3.6470623848585797e+171, w0=1.3542989448288105e+81, w1=-6.643147361161392e+80\n",
      "SGD(15/29): loss=1.2043481137581462e+183, w0=-7.549742391760752e+86, w1=3.8278316798076476e+86\n",
      "SGD(16/29): loss=3.975425749646874e+194, w0=4.424327368857145e+92, w1=-2.1943982687093554e+92\n",
      "SGD(17/29): loss=1.2960815011585863e+206, w0=-2.448025595360282e+98, w1=1.248335084736321e+98\n",
      "SGD(18/29): loss=4.2364679284653146e+217, w0=1.4278586211785116e+104, w1=-7.154929269862028e+103\n",
      "SGD(19/29): loss=1.3887106774755736e+229, w0=-8.22205454806726e+109, w1=4.116356673273699e+109\n",
      "SGD(20/29): loss=4.550457047386719e+240, w0=4.545160731076343e+115, w1=-2.3427556980594125e+115\n",
      "SGD(21/29): loss=1.495780055063433e+252, w0=-2.706364813589704e+121, w1=1.339145314758116e+121\n",
      "SGD(22/29): loss=4.9455754343182935e+263, w0=1.493502031617011e+127, w1=-7.721715162841512e+126\n",
      "SGD(23/29): loss=1.6229897224373122e+275, w0=-8.4678720791177e+132, w1=4.451047711358402e+132\n",
      "SGD(24/29): loss=5.326147804801574e+286, w0=4.982236679738163e+138, w1=-2.5438964761996003e+138\n",
      "SGD(25/29): loss=1.7596212240240695e+298, w0=-2.8986470327308855e+144, w1=1.4628769365762502e+144\n",
      "SGD(26/29): loss=inf, w0=1.6302788123924513e+150, w1=-8.392327557326791e+149\n",
      "SGD(27/29): loss=inf, w0=-9.457007269531492e+155, w1=4.811018783234707e+155\n",
      "SGD(28/29): loss=inf, w0=5.616475926268172e+161, w1=-2.785407244627344e+161\n",
      "SGD(29/29): loss=inf, w0=-3.170380729844674e+167, w1=1.5842151117789703e+167\n",
      "SGD: execution time=50.360 seconds\n"
     ]
    }
   ],
   "source": [
    "# Define the parameters of the algorithm.\n",
    "max_iters = 30\n",
    "gamma = 0.1\n",
    "batch_size = 50000\n",
    "\n",
    "# Initialization\n",
    "w_initial = np.zeros(tx.shape[1])\n",
    "\n",
    "# Start SGD.\n",
    "start_time = datetime.datetime.now()\n",
    "sgd_losses, sgd_ws = stochastic_gradient_descent(y, tx, w_initial, batch_size, max_iters, gamma)\n",
    "end_time = datetime.datetime.now()\n",
    "\n",
    "# Print result\n",
    "exection_time = (end_time - start_time).total_seconds()\n",
    "print(\"SGD: execution time={t:.3f} seconds\".format(t=exection_time))"
   ]
  },
  {
   "cell_type": "markdown",
   "metadata": {},
   "source": [
    "## Least Squares"
   ]
  },
  {
   "cell_type": "code",
   "execution_count": null,
   "metadata": {},
   "outputs": [],
   "source": []
  },
  {
   "cell_type": "markdown",
   "metadata": {},
   "source": [
    "# Other stuff\n",
    "Build Polynomial"
   ]
  },
  {
   "cell_type": "code",
   "execution_count": 50,
   "metadata": {},
   "outputs": [
    {
     "data": {
      "text/plain": [
       "array([[[ 1.00000000e+00,  1.38470000e+02,  1.91739409e+04],\n",
       "        [ 1.00000000e+00,  1.60937000e+02,  2.59007180e+04],\n",
       "        [ 1.00000000e+00, -9.99000000e+02,  9.98001000e+05]],\n",
       "\n",
       "       [[ 1.00000000e+00,  5.16550000e+01,  2.66823903e+03],\n",
       "        [ 1.00000000e+00,  6.87680000e+01,  4.72903782e+03],\n",
       "        [ 1.00000000e+00,  1.62172000e+02,  2.62997576e+04]],\n",
       "\n",
       "       [[ 1.00000000e+00,  9.78270000e+01,  9.57012193e+03],\n",
       "        [ 1.00000000e+00,  1.03235000e+02,  1.06574652e+04],\n",
       "        [ 1.00000000e+00,  1.25953000e+02,  1.58641582e+04]]])"
      ]
     },
     "metadata": {},
     "output_type": "display_data"
    },
    {
     "data": {
      "text/plain": [
       "array([[[[ 1.93134109e+04,  2.60626550e+04,  9.97003000e+05],\n",
       "         [ 2.72089403e+03,  4.79880582e+03,  2.64629296e+04]],\n",
       "\n",
       "        [[-1.91323435e+07, -2.58487781e+07, -9.97163637e+08],\n",
       "         [-2.65711912e+06, -4.71310300e+06, -2.62472199e+07]],\n",
       "\n",
       "        [[ 1.91392178e+10,  2.58531300e+10,  9.95980140e+11],\n",
       "         [ 2.66426229e+09,  4.72138479e+09,  2.62514039e+10]]],\n",
       "\n",
       "\n",
       "       [[[ 1.93134109e+04,  2.60626550e+04,  9.97003000e+05],\n",
       "         [ 2.72089403e+03,  4.79880582e+03,  2.64629296e+04]],\n",
       "\n",
       "        [[ 3.11905030e+06,  4.21149021e+06,  1.61779171e+08],\n",
       "         [ 4.36317525e+05,  7.71698215e+05,  4.27628819e+06]],\n",
       "\n",
       "        [[ 5.04927496e+08,  6.81946349e+08,  2.62424627e+10],\n",
       "         [ 7.04209862e+07,  1.24700423e+08,  6.92446835e+08]]]])"
      ]
     },
     "metadata": {},
     "output_type": "display_data"
    }
   ],
   "source": [
    "# from helpers import polynomial_regression\n",
    "from helpers import build_poly\n",
    "degree=2\n",
    "tx=build_poly(input_data[:3,:3], degree)\n",
    "#you can select the feature space by slicing the array\n",
    "ICD.display(tx[[0,1,2]])\n",
    "\n",
    "#trial of slicing without for loop\n",
    "# ICD.display(np.transpose(tx[[0,1,2]],(0,2,1)))\n",
    "a = np.tensordot(np.transpose(tx[[0,1]],(0,2,1)),(tx[[0,1]]),axes=([2],[2]))\n",
    "b = tx[[0,1,2]].T.dot(yb[[0,1,2]])\n",
    "\n",
    "# ICD.display(tx.shape)\n",
    "np.transpose(tx,(0,2,1)).shape\n",
    "ICD. display(a)"
   ]
  },
  {
   "cell_type": "code",
   "execution_count": 73,
   "metadata": {},
   "outputs": [
    {
     "data": {
      "text/plain": [
       "(3, 3, 3)"
      ]
     },
     "metadata": {},
     "output_type": "display_data"
    },
    {
     "data": {
      "text/plain": [
       "(3, 3, 3)"
      ]
     },
     "metadata": {},
     "output_type": "display_data"
    },
    {
     "data": {
      "text/plain": [
       "array([[[ 1.00000000e+00,  1.38470000e+02,  1.91739409e+04],\n",
       "        [ 1.00000000e+00,  1.60937000e+02,  2.59007180e+04],\n",
       "        [ 1.00000000e+00, -9.99000000e+02,  9.98001000e+05]],\n",
       "\n",
       "       [[ 1.00000000e+00,  5.16550000e+01,  2.66823903e+03],\n",
       "        [ 1.00000000e+00,  6.87680000e+01,  4.72903782e+03],\n",
       "        [ 1.00000000e+00,  1.62172000e+02,  2.62997576e+04]],\n",
       "\n",
       "       [[ 1.00000000e+00,  9.78270000e+01,  9.57012193e+03],\n",
       "        [ 1.00000000e+00,  1.03235000e+02,  1.06574652e+04],\n",
       "        [ 1.00000000e+00,  1.25953000e+02,  1.58641582e+04]]])"
      ]
     },
     "metadata": {},
     "output_type": "display_data"
    },
    {
     "data": {
      "text/plain": [
       "array([[[ 1.00000000e+00,  1.00000000e+00,  1.00000000e+00],\n",
       "        [ 1.38470000e+02,  1.60937000e+02, -9.99000000e+02],\n",
       "        [ 1.91739409e+04,  2.59007180e+04,  9.98001000e+05]],\n",
       "\n",
       "       [[ 1.00000000e+00,  1.00000000e+00,  1.00000000e+00],\n",
       "        [ 5.16550000e+01,  6.87680000e+01,  1.62172000e+02],\n",
       "        [ 2.66823903e+03,  4.72903782e+03,  2.62997576e+04]],\n",
       "\n",
       "       [[ 1.00000000e+00,  1.00000000e+00,  1.00000000e+00],\n",
       "        [ 9.78270000e+01,  1.03235000e+02,  1.25953000e+02],\n",
       "        [ 9.57012193e+03,  1.06574652e+04,  1.58641582e+04]]])"
      ]
     },
     "metadata": {},
     "output_type": "display_data"
    },
    {
     "data": {
      "text/plain": [
       "array([[[ 6.30000000e+01, -6.99593000e+02,  1.04307566e+06],\n",
       "        [-6.99593000e+02,  1.04313566e+06, -9.90179600e+08],\n",
       "        [ 1.04307566e+06, -9.90179600e+08,  9.97044483e+11]],\n",
       "\n",
       "       [[ 6.30000000e+01, -6.99593000e+02,  1.04307566e+06],\n",
       "        [ 2.82595000e+02, -1.43729845e+05,  1.64619389e+08],\n",
       "        [ 3.36970344e+04, -2.51429096e+07,  2.64208306e+10]],\n",
       "\n",
       "       [[ 6.30000000e+01, -6.99593000e+02,  1.04307566e+06],\n",
       "        [ 3.27015000e+02, -9.56066111e+04,  1.30250810e+08],\n",
       "        [ 3.60917454e+04, -1.28079388e+07,  1.62919788e+10]]])"
      ]
     },
     "metadata": {},
     "output_type": "display_data"
    }
   ],
   "source": [
    "from helpers import ridge_regression\n",
    "lambda_=10\n",
    "aI = 2 * tx.shape[0] * lambda_ * np.identity(tx.shape[1])\n",
    "\n",
    "tx_t=np.transpose(tx,(0,2,1))\n",
    "ICD.display(tx_t.shape)\n",
    "ICD.display(tx.shape)\n",
    "\n",
    "a = np.tensordot(tx_t, tx[0], axes=1)+ aI\n",
    "\n",
    "\n",
    "b = tx.T.dot(yb[:3])\n",
    "ICD.display(tx)\n",
    "ICD.display(tx_t)\n",
    "ICD.display(a)\n",
    "# np.linalg.solve(a, b)"
   ]
  },
  {
   "cell_type": "code",
   "execution_count": 105,
   "metadata": {},
   "outputs": [],
   "source": [
    "#function with foor loop\n",
    "def ridge_regression_loop(y, tx, degrees, lambda_):\n",
    "    \"\"\"calculate the least squares.\"\"\"\n",
    "    #weights has dimension: number of degrees, number of features\n",
    "    \n",
    "    weights=np.ones((degrees+1,tx.shape[0]))\n",
    "    \n",
    "    tx_t=np.transpose(tx,(0,2,1))\n",
    "    \n",
    "    # going through every feature\n",
    "    for i in range(tx.shape[0]):\n",
    "        \n",
    "        aI = 2 * tx[i].shape[0] * lambda_ * np.identity(tx[i].shape[1])\n",
    "        print (aI)\n",
    "        print (tx_t[i])\n",
    "        print (tx[i])\n",
    "        print (y)\n",
    "        a = tx_t[i].dot(tx[i])\n",
    "        print ('a')\n",
    "        print (a)\n",
    "        b = tx_t[i].dot(y)\n",
    "        print ('b')\n",
    "        print (b)\n",
    "        \n",
    "        w=np.linalg.solve(a, b)\n",
    "        print (w)\n",
    "        weights[:][i]=w\n",
    "    \n",
    "    return weights"
   ]
  },
  {
   "cell_type": "code",
   "execution_count": 104,
   "metadata": {},
   "outputs": [
    {
     "data": {
      "text/plain": [
       "array([[[ 1.00000000e+00,  1.38470000e+02,  1.91739409e+04],\n",
       "        [ 1.00000000e+00,  1.60937000e+02,  2.59007180e+04],\n",
       "        [ 1.00000000e+00, -9.99000000e+02,  9.98001000e+05]],\n",
       "\n",
       "       [[ 1.00000000e+00,  5.16550000e+01,  2.66823903e+03],\n",
       "        [ 1.00000000e+00,  6.87680000e+01,  4.72903782e+03],\n",
       "        [ 1.00000000e+00,  1.62172000e+02,  2.62997576e+04]],\n",
       "\n",
       "       [[ 1.00000000e+00,  9.78270000e+01,  9.57012193e+03],\n",
       "        [ 1.00000000e+00,  1.03235000e+02,  1.06574652e+04],\n",
       "        [ 1.00000000e+00,  1.25953000e+02,  1.58641582e+04]]])"
      ]
     },
     "metadata": {},
     "output_type": "display_data"
    },
    {
     "data": {
      "text/plain": [
       "array([1, -1, -1], dtype=object)"
      ]
     },
     "metadata": {},
     "output_type": "display_data"
    },
    {
     "name": "stdout",
     "output_type": "stream",
     "text": [
      "[[0. 0. 0.]\n",
      " [0. 0. 0.]\n",
      " [0. 0. 0.]]\n",
      "[[ 1.00000000e+00  1.00000000e+00  1.00000000e+00]\n",
      " [ 1.38470000e+02  1.60937000e+02 -9.99000000e+02]\n",
      " [ 1.91739409e+04  2.59007180e+04  9.98001000e+05]]\n",
      "[[ 1.00000000e+00  1.38470000e+02  1.91739409e+04]\n",
      " [ 1.00000000e+00  1.60937000e+02  2.59007180e+04]\n",
      " [ 1.00000000e+00 -9.99000000e+02  9.98001000e+05]]\n",
      "[1 -1 -1]\n",
      "a\n",
      "[[ 3.00000000e+00 -6.99593000e+02  1.04307566e+06]\n",
      " [-6.99593000e+02  1.04307566e+06 -9.90179600e+08]\n",
      " [ 1.04307566e+06 -9.90179600e+08  9.97044483e+11]]\n",
      "b\n",
      "[-1.0 976.533 -1004727.7770690001]\n"
     ]
    },
    {
     "ename": "TypeError",
     "evalue": "No loop matching the specified signature and casting\nwas found for ufunc solve1",
     "output_type": "error",
     "traceback": [
      "\u001b[0;31m---------------------------------------------------------------------------\u001b[0m",
      "\u001b[0;31mTypeError\u001b[0m                                 Traceback (most recent call last)",
      "\u001b[0;32m<ipython-input-104-4d5131b0a00f>\u001b[0m in \u001b[0;36m<module>\u001b[0;34m()\u001b[0m\n\u001b[1;32m      7\u001b[0m \u001b[0mICD\u001b[0m\u001b[0;34m.\u001b[0m\u001b[0mdisplay\u001b[0m\u001b[0;34m(\u001b[0m\u001b[0mtx\u001b[0m\u001b[0;34m)\u001b[0m\u001b[0;34m\u001b[0m\u001b[0m\n\u001b[1;32m      8\u001b[0m \u001b[0mICD\u001b[0m\u001b[0;34m.\u001b[0m\u001b[0mdisplay\u001b[0m\u001b[0;34m(\u001b[0m\u001b[0my\u001b[0m\u001b[0;34m)\u001b[0m\u001b[0;34m\u001b[0m\u001b[0m\n\u001b[0;32m----> 9\u001b[0;31m \u001b[0mridge_regression_loop\u001b[0m\u001b[0;34m(\u001b[0m\u001b[0my\u001b[0m\u001b[0;34m,\u001b[0m \u001b[0mtx\u001b[0m\u001b[0;34m,\u001b[0m \u001b[0mdegrees\u001b[0m\u001b[0;34m,\u001b[0m \u001b[0mlambda_\u001b[0m\u001b[0;34m)\u001b[0m\u001b[0;34m\u001b[0m\u001b[0m\n\u001b[0m",
      "\u001b[0;32m<ipython-input-103-8ab2935417ba>\u001b[0m in \u001b[0;36mridge_regression_loop\u001b[0;34m(y, tx, degrees, lambda_)\u001b[0m\n\u001b[1;32m     23\u001b[0m         \u001b[0mprint\u001b[0m \u001b[0;34m(\u001b[0m\u001b[0mb\u001b[0m\u001b[0;34m)\u001b[0m\u001b[0;34m\u001b[0m\u001b[0m\n\u001b[1;32m     24\u001b[0m \u001b[0;34m\u001b[0m\u001b[0m\n\u001b[0;32m---> 25\u001b[0;31m         \u001b[0mw\u001b[0m\u001b[0;34m=\u001b[0m\u001b[0mnp\u001b[0m\u001b[0;34m.\u001b[0m\u001b[0mlinalg\u001b[0m\u001b[0;34m.\u001b[0m\u001b[0msolve\u001b[0m\u001b[0;34m(\u001b[0m\u001b[0ma\u001b[0m\u001b[0;34m,\u001b[0m \u001b[0mb\u001b[0m\u001b[0;34m)\u001b[0m\u001b[0;34m\u001b[0m\u001b[0m\n\u001b[0m\u001b[1;32m     26\u001b[0m         \u001b[0mprint\u001b[0m \u001b[0;34m(\u001b[0m\u001b[0mw\u001b[0m\u001b[0;34m)\u001b[0m\u001b[0;34m\u001b[0m\u001b[0m\n\u001b[1;32m     27\u001b[0m \u001b[0;31m#         weights[:][i]=w\u001b[0m\u001b[0;34m\u001b[0m\u001b[0;34m\u001b[0m\u001b[0m\n",
      "\u001b[0;32m~/anaconda3/lib/python3.6/site-packages/numpy/linalg/linalg.py\u001b[0m in \u001b[0;36msolve\u001b[0;34m(a, b)\u001b[0m\n\u001b[1;32m    388\u001b[0m     \u001b[0msignature\u001b[0m \u001b[0;34m=\u001b[0m \u001b[0;34m'DD->D'\u001b[0m \u001b[0;32mif\u001b[0m \u001b[0misComplexType\u001b[0m\u001b[0;34m(\u001b[0m\u001b[0mt\u001b[0m\u001b[0;34m)\u001b[0m \u001b[0;32melse\u001b[0m \u001b[0;34m'dd->d'\u001b[0m\u001b[0;34m\u001b[0m\u001b[0m\n\u001b[1;32m    389\u001b[0m     \u001b[0mextobj\u001b[0m \u001b[0;34m=\u001b[0m \u001b[0mget_linalg_error_extobj\u001b[0m\u001b[0;34m(\u001b[0m\u001b[0m_raise_linalgerror_singular\u001b[0m\u001b[0;34m)\u001b[0m\u001b[0;34m\u001b[0m\u001b[0m\n\u001b[0;32m--> 390\u001b[0;31m     \u001b[0mr\u001b[0m \u001b[0;34m=\u001b[0m \u001b[0mgufunc\u001b[0m\u001b[0;34m(\u001b[0m\u001b[0ma\u001b[0m\u001b[0;34m,\u001b[0m \u001b[0mb\u001b[0m\u001b[0;34m,\u001b[0m \u001b[0msignature\u001b[0m\u001b[0;34m=\u001b[0m\u001b[0msignature\u001b[0m\u001b[0;34m,\u001b[0m \u001b[0mextobj\u001b[0m\u001b[0;34m=\u001b[0m\u001b[0mextobj\u001b[0m\u001b[0;34m)\u001b[0m\u001b[0;34m\u001b[0m\u001b[0m\n\u001b[0m\u001b[1;32m    391\u001b[0m \u001b[0;34m\u001b[0m\u001b[0m\n\u001b[1;32m    392\u001b[0m     \u001b[0;32mreturn\u001b[0m \u001b[0mwrap\u001b[0m\u001b[0;34m(\u001b[0m\u001b[0mr\u001b[0m\u001b[0;34m.\u001b[0m\u001b[0mastype\u001b[0m\u001b[0;34m(\u001b[0m\u001b[0mresult_t\u001b[0m\u001b[0;34m,\u001b[0m \u001b[0mcopy\u001b[0m\u001b[0;34m=\u001b[0m\u001b[0;32mFalse\u001b[0m\u001b[0;34m)\u001b[0m\u001b[0;34m)\u001b[0m\u001b[0;34m\u001b[0m\u001b[0m\n",
      "\u001b[0;31mTypeError\u001b[0m: No loop matching the specified signature and casting\nwas found for ufunc solve1"
     ]
    }
   ],
   "source": [
    "#testing function least square loop\n",
    "\n",
    "lambda_=0\n",
    "degrees=2\n",
    "tx=build_poly(input_data[:3,:3], degree)\n",
    "y=yb[:3]\n",
    "ICD.display(tx)\n",
    "ICD.display(y)\n",
    "ridge_regression_loop(y, tx, degrees, lambda_)\n"
   ]
  },
  {
   "cell_type": "code",
   "execution_count": 65,
   "metadata": {},
   "outputs": [
    {
     "data": {
      "text/plain": [
       "array([[[0, 0, 1, 0, 0],\n",
       "        [0, 0, 0, 0, 0],\n",
       "        [1, 0, 0, 0, 0]],\n",
       "\n",
       "       [[1, 0, 0, 1, 0],\n",
       "        [1, 1, 0, 0, 0],\n",
       "        [1, 1, 1, 1, 0]]])"
      ]
     },
     "metadata": {},
     "output_type": "display_data"
    },
    {
     "data": {
      "text/plain": [
       "array([[[0, 0, 0, 1],\n",
       "        [0, 1, 1, 1]],\n",
       "\n",
       "       [[1, 1, 1, 0],\n",
       "        [1, 0, 1, 1]],\n",
       "\n",
       "       [[0, 0, 1, 1],\n",
       "        [0, 1, 0, 1]]])"
      ]
     },
     "metadata": {},
     "output_type": "display_data"
    },
    {
     "data": {
      "text/plain": [
       "array([[1, 2, 3, 4],\n",
       "       [1, 1, 1, 2],\n",
       "       [0, 1, 0, 2],\n",
       "       [0, 2, 1, 2],\n",
       "       [0, 0, 0, 0]])"
      ]
     },
     "execution_count": 65,
     "metadata": {},
     "output_type": "execute_result"
    }
   ],
   "source": [
    "# understanding tensordot\n",
    "A = np.random.randint(2, size=(2, 3, 5))\n",
    "B = np.random.randint(2, size=(3, 2, 4))\n",
    "ICD.display(A)\n",
    "ICD.display(B)\n",
    "\n",
    "np.tensordot(A, B, axes=([0,1],[1,0]))"
   ]
  },
  {
   "cell_type": "code",
   "execution_count": null,
   "metadata": {},
   "outputs": [],
   "source": []
  }
 ],
 "metadata": {
  "kernelspec": {
   "display_name": "Python [default]",
   "language": "python",
   "name": "python3"
  },
  "language_info": {
   "codemirror_mode": {
    "name": "ipython",
    "version": 3
   },
   "file_extension": ".py",
   "mimetype": "text/x-python",
   "name": "python",
   "nbconvert_exporter": "python",
   "pygments_lexer": "ipython3",
   "version": "3.6.5"
  }
 },
 "nbformat": 4,
 "nbformat_minor": 2
}
