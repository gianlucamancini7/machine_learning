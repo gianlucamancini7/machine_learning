{
 "cells": [
  {
   "cell_type": "code",
   "execution_count": 29,
   "metadata": {},
   "outputs": [
    {
     "name": "stdout",
     "output_type": "stream",
     "text": [
      "The autoreload extension is already loaded. To reload it, use:\n",
      "  %reload_ext autoreload\n"
     ]
    }
   ],
   "source": [
    "# Useful starting lines\n",
    "%matplotlib inline\n",
    "import numpy as np\n",
    "import matplotlib.pyplot as plt\n",
    "%load_ext autoreload\n",
    "%autoreload 2\n",
    "#allows to print the dataframe nicely\n",
    "from IPython.core import display as ICD"
   ]
  },
  {
   "cell_type": "code",
   "execution_count": 2,
   "metadata": {},
   "outputs": [],
   "source": [
    "# import additional packages to insepct data\n",
    "import pandas as pd\n",
    "import os \n",
    "import random \n",
    "from zipfile import ZipFile\n",
    "import datetime"
   ]
  },
  {
   "cell_type": "code",
   "execution_count": 3,
   "metadata": {},
   "outputs": [],
   "source": [
    "# import helping functions\n",
    "#from proj1_helpers import load_csv_data"
   ]
  },
  {
   "cell_type": "code",
   "execution_count": 4,
   "metadata": {},
   "outputs": [
    {
     "data": {
      "text/plain": [
       "[<ZipInfo filename='train.csv' compress_type=deflate file_size=48103379 compress_size=17670847>,\n",
       " <ZipInfo filename='test.csv' compress_type=deflate file_size=109335584 compress_size=40089137>,\n",
       " <ZipInfo filename='sample-submission.csv' compress_type=deflate file_size=5682394 compress_size=1263762>]"
      ]
     },
     "execution_count": 4,
     "metadata": {},
     "output_type": "execute_result"
    }
   ],
   "source": [
    "# import files\n",
    "data_folder='./data/'\n",
    "zip_file = ZipFile(data_folder+'all.zip')\n",
    "# zip file creates a list of files with certain properties\n",
    "zip_file.infolist()"
   ]
  },
  {
   "cell_type": "markdown",
   "metadata": {},
   "source": [
    "Training set, Validation set and Test set."
   ]
  },
  {
   "cell_type": "code",
   "execution_count": 5,
   "metadata": {},
   "outputs": [],
   "source": [
    "# now we want to access the 'filename' property in the zipfile variable\n",
    "# and we create a dictionary of dataframe\n",
    "dfs = {text_file.filename: pd.read_csv(zip_file.open(text_file.filename))\n",
    "       for text_file in zip_file.infolist()\n",
    "       if text_file.filename.endswith('.csv')}\n",
    "df_train=dfs['train.csv']\n",
    "df_test=dfs['test.csv']\n",
    "df_sample_submission=dfs['sample-submission.csv']"
   ]
  },
  {
   "cell_type": "markdown",
   "metadata": {},
   "source": [
    "variables prefixed with PRI (for PRImitives) are “raw” quantities about the bunch collision as measured by the detector.\n",
    "variables prefixed with DER (for DERived) are quantities computed from the primitive features, which were selected by  the physicists of ATLAS\n",
    "it can happen that for some entries some variables are meaningless or cannot be computed; in this case, their value is −999.0, which is outside the normal range of all variables"
   ]
  },
  {
   "cell_type": "code",
   "execution_count": 12,
   "metadata": {},
   "outputs": [
    {
     "data": {
      "text/plain": [
       "array(['Id', 'Prediction', 'DER_mass_MMC', 'DER_mass_transverse_met_lep',\n",
       "       'DER_mass_vis', 'DER_pt_h', 'DER_deltaeta_jet_jet',\n",
       "       'DER_mass_jet_jet', 'DER_prodeta_jet_jet', 'DER_deltar_tau_lep',\n",
       "       'DER_pt_tot', 'DER_sum_pt', 'DER_pt_ratio_lep_tau',\n",
       "       'DER_met_phi_centrality', 'DER_lep_eta_centrality', 'PRI_tau_pt',\n",
       "       'PRI_tau_eta', 'PRI_tau_phi', 'PRI_lep_pt', 'PRI_lep_eta',\n",
       "       'PRI_lep_phi', 'PRI_met', 'PRI_met_phi', 'PRI_met_sumet',\n",
       "       'PRI_jet_num', 'PRI_jet_leading_pt', 'PRI_jet_leading_eta',\n",
       "       'PRI_jet_leading_phi', 'PRI_jet_subleading_pt',\n",
       "       'PRI_jet_subleading_eta', 'PRI_jet_subleading_phi',\n",
       "       'PRI_jet_all_pt'], dtype=object)"
      ]
     },
     "metadata": {},
     "output_type": "display_data"
    }
   ],
   "source": [
    "df_train_independent=df_train[['DER_mass_MMC','DER_mass_transverse_met_lep', 'DER_mass_vis', 'DER_pt_h', 'DER_deltar_tau_lep', \n",
    "                              'DER_pt_tot', 'DER_sum_pt', 'DER_pt_ratio_lep_tau', 'DER_met_phi_centrality', 'PRI_tau_pt', \n",
    "                              'PRI_tau_eta', 'PRI_tau_phi', 'PRI_lep_pt', 'PRI_lep_eta','PRI_lep_phi', 'PRI_met', 'PRI_met_phi', \n",
    "                               'PRI_met_sumet','PRI_jet_num', 'PRI_jet_all_pt' ]]\n",
    "ICD.display(df_train.columns.values)\n",
    "df_train_dependent=df_train[['DER_deltaeta_jet_jet','DER_mass_jet_jet', 'DER_prodeta_jet_jet','DER_lep_eta_centrality',\n",
    "                             'PRI_jet_leading_pt', 'PRI_jet_leading_eta','PRI_jet_leading_phi', 'PRI_jet_subleading_pt',\n",
    "                             'PRI_jet_subleading_eta', 'PRI_jet_subleading_phi','PRI_jet_num']]\n",
    "#df_train_independent"
   ]
  },
  {
   "cell_type": "markdown",
   "metadata": {},
   "source": [
    "# Test solving"
   ]
  },
  {
   "cell_type": "code",
   "execution_count": 7,
   "metadata": {},
   "outputs": [
    {
     "name": "stderr",
     "output_type": "stream",
     "text": [
      "C:\\Users\\Tullio\\Anaconda3\\lib\\site-packages\\ipykernel_launcher.py:1: SettingWithCopyWarning: \n",
      "A value is trying to be set on a copy of a slice from a DataFrame.\n",
      "Try using .loc[row_indexer,col_indexer] = value instead\n",
      "\n",
      "See the caveats in the documentation: http://pandas.pydata.org/pandas-docs/stable/indexing.html#indexing-view-versus-copy\n",
      "  \"\"\"Entry point for launching an IPython kernel.\n"
     ]
    }
   ],
   "source": [
    "df_train_independent['PRI_jet_num']=df_train_independent['PRI_jet_num'].astype('float')\n",
    "\n",
    "for column_name in df_train_independent.columns.values:\n",
    "    \n",
    "    df_train_independent=df_train_independent.drop(df_train_independent.index[np.abs(df_train_independent[column_name]-df_train_independent[column_name].mean()) >= (3*df_train_independent[column_name].std())])\n",
    "\n",
    "yb, input_data, ids=np.array(df_train['Prediction']), np.array(df_train_independent), np.array(df_train['Id'])\n"
   ]
  },
  {
   "cell_type": "code",
   "execution_count": 8,
   "metadata": {},
   "outputs": [
    {
     "data": {
      "text/plain": [
       "array([[ 138.47 ,   51.655,   97.827, ...,  258.733,    2.   ,  113.497],\n",
       "       [ 160.937,   68.768,  103.235, ...,  164.546,    1.   ,   46.226],\n",
       "       [ 143.905,   81.417,   80.943, ...,   86.062,    0.   ,    0.   ],\n",
       "       ...,\n",
       "       [ 105.457,   60.526,   75.839, ...,  198.907,    1.   ,   41.992],\n",
       "       [  94.951,   19.362,   68.812, ...,  112.718,    0.   ,    0.   ],\n",
       "       [-999.   ,   72.756,   70.831, ...,   99.405,    0.   ,    0.   ]])"
      ]
     },
     "metadata": {},
     "output_type": "display_data"
    }
   ],
   "source": [
    "ICD.display(input_data)\n"
   ]
  },
  {
   "cell_type": "code",
   "execution_count": 50,
   "metadata": {},
   "outputs": [
    {
     "name": "stderr",
     "output_type": "stream",
     "text": [
      "C:\\Users\\Tullio\\Anaconda3\\lib\\site-packages\\ipykernel_launcher.py:2: FutureWarning: elementwise comparison failed; returning scalar instead, but in the future will perform elementwise comparison\n",
      "  \n",
      "C:\\Users\\Tullio\\Anaconda3\\lib\\site-packages\\ipykernel_launcher.py:3: FutureWarning: elementwise comparison failed; returning scalar instead, but in the future will perform elementwise comparison\n",
      "  This is separate from the ipykernel package so we can avoid doing imports until\n"
     ]
    },
    {
     "data": {
      "text/plain": [
       "(200000,)"
      ]
     },
     "execution_count": 50,
     "metadata": {},
     "output_type": "execute_result"
    }
   ],
   "source": [
    "# transform yb into numerical values\n",
    "yb[np.where(yb=='b')] = -1.\n",
    "yb[np.where(yb=='s')] = 1.\n",
    "yb=yb.astype('float')\n",
    "\n",
    "#Cut dataframe for fast testing\n",
    "lines_cut=200000\n",
    "tx=input_data[:lines_cut]\n",
    "y=yb[:lines_cut]\n",
    "y.shape\n",
    "#input_data.shape"
   ]
  },
  {
   "cell_type": "code",
   "execution_count": 46,
   "metadata": {},
   "outputs": [],
   "source": [
    "#Import functions\n",
    "from proj1_helpers import *\n",
    "from implementations import *"
   ]
  },
  {
   "cell_type": "markdown",
   "metadata": {},
   "source": [
    "## Stochastic gradient descent "
   ]
  },
  {
   "cell_type": "code",
   "execution_count": 11,
   "metadata": {
    "scrolled": true
   },
   "outputs": [
    {
     "name": "stdout",
     "output_type": "stream",
     "text": [
      "SGD(0/29): loss=2631720.4673712854, wavg=2.2801637499999985, w1=-1.3526335\n",
      "SGD(1/29): loss=280193619677847.3, wavg=-41998.77931784815, w1=10647.987974730333\n",
      "SGD(2/29): loss=5.417696466344921e+22, wavg=729443521.4199209, w1=-104449756.53082582\n",
      "SGD(3/29): loss=1.4349969121357557e+31, wavg=-12630618008891.713, w1=1159012630907.6006\n",
      "SGD(4/29): loss=3.8416417886935886e+39, wavg=2.096618194625541e+17, w1=-1.5495708247639932e+16\n",
      "SGD(5/29): loss=1.1124454619256443e+48, wavg=-3.583724349948047e+21, w1=2.313621107392894e+20\n",
      "SGD(6/29): loss=2.9672610872841907e+56, wavg=5.867799456027356e+25, w1=-3.403812562986195e+24\n",
      "SGD(7/29): loss=8.45969126290231e+64, wavg=-9.911302539450423e+29, w1=5.5939958101808915e+28\n",
      "SGD(8/29): loss=2.3946859623349666e+73, wavg=1.6673263601549102e+34, w1=-9.707992464431917e+32\n",
      "SGD(9/29): loss=6.399831735645537e+81, wavg=-2.7272860747529563e+38, w1=1.5109978576702707e+37\n",
      "SGD(10/29): loss=1.844200696367579e+90, wavg=4.62726649073737e+42, w1=-2.609939310893287e+41\n",
      "SGD(11/29): loss=5.4007561798710176e+98, wavg=-7.917603659665003e+46, w1=4.611228151253128e+45\n",
      "SGD(12/29): loss=1.7439017438358488e+107, wavg=1.421901729337111e+51, w1=-8.353683000700309e+49\n",
      "SGD(13/29): loss=4.180121427321207e+115, wavg=-2.2033004944440836e+55, w1=1.2288770922281113e+54\n",
      "SGD(14/29): loss=1.3497509303323708e+124, wavg=3.956094116459105e+59, w1=-2.346400353291142e+58\n",
      "SGD(15/29): loss=3.73736392299398e+132, wavg=-6.586517706332244e+63, w1=3.794038912827853e+62\n",
      "SGD(16/29): loss=1.1033229873053213e+141, wavg=1.1316141744207104e+68, w1=-6.5142928012869485e+66\n",
      "SGD(17/29): loss=3.0810636741858727e+149, wavg=-1.891219423308394e+72, w1=1.0877488775848961e+71\n",
      "SGD(18/29): loss=9.781801467793805e+157, wavg=3.3686212112999047e+76, w1=-1.954291402516857e+75\n",
      "SGD(19/29): loss=3.023833896517152e+166, wavg=-5.922315917146342e+80, w1=3.511686014300052e+79\n",
      "SGD(20/29): loss=8.260352332733165e+174, wavg=9.794404723198158e+84, w1=-5.55914404028324e+83\n",
      "SGD(21/29): loss=2.601552674110749e+183, wavg=-1.7369106018649562e+89, w1=1.0285086040775122e+88\n",
      "SGD(22/29): loss=9.134922746965517e+191, wavg=3.253857986760038e+93, w1=-1.9383494486014198e+92\n",
      "SGD(23/29): loss=2.46330511006094e+200, wavg=-5.34737251549047e+97, w1=2.9448657511226883e+96\n",
      "SGD(24/29): loss=6.363069199054914e+208, wavg=8.598586400487314e+101, w1=-4.7841051643965645e+100\n",
      "SGD(25/29): loss=1.8791222498951013e+217, wavg=-1.4774715024062485e+106, w1=8.396424342969961e+104\n",
      "SGD(26/29): loss=4.8694256332000574e+225, wavg=2.378963139392483e+110, w1=-1.322278331826566e+109\n",
      "SGD(27/29): loss=1.2794979803883214e+234, wavg=-3.85691084227331e+114, w1=2.086456762420049e+113\n",
      "SGD(28/29): loss=3.5436026980113075e+242, wavg=6.415159509138794e+118, w1=-3.683764869409465e+117\n",
      "SGD(29/29): loss=1.0070028132557309e+251, wavg=-1.0815721301788993e+123, w1=6.050171738201726e+121\n",
      "SGD: execution time=6.820 seconds\n"
     ]
    }
   ],
   "source": [
    "# Define the parameters of the algorithm.\n",
    "max_iters = 30\n",
    "gamma = 0.1\n",
    "batch_size = 2000\n",
    "\n",
    "# Initialization\n",
    "w_initial = np.zeros(tx.shape[1])\n",
    "\n",
    "# Start SGD.\n",
    "start_time = datetime.datetime.now()\n",
    "sgd_losses, sgd_ws = stochastic_gradient_descent(y, tx, w_initial, batch_size, max_iters, gamma)\n",
    "end_time = datetime.datetime.now()\n",
    "\n",
    "# Print result\n",
    "exection_time = (end_time - start_time).total_seconds()\n",
    "print(\"SGD: execution time={t:.3f} seconds\".format(t=exection_time))"
   ]
  },
  {
   "cell_type": "markdown",
   "metadata": {},
   "source": [
    "## Least Squares"
   ]
  },
  {
   "cell_type": "code",
   "execution_count": 56,
   "metadata": {},
   "outputs": [
    {
     "name": "stdout",
     "output_type": "stream",
     "text": [
      "Weigths:  [ 4.56831593e-05 -2.02286339e-04  1.22193086e-03 -6.36460920e-04\n",
      " -7.40006770e-02  1.57239594e-04  1.44409793e+00 -6.26926351e-02\n",
      "  4.50634573e-03 -1.44757150e+00  3.75116925e-03  1.33629650e-04\n",
      " -1.44361282e+00 -2.07213577e-03  8.92500846e-04  2.99407850e-04\n",
      " -8.54036826e-04 -2.89410447e-05 -1.28443819e-02 -1.44396692e+00] \n",
      "\n",
      " Loss:  0.4509042639516767\n"
     ]
    }
   ],
   "source": [
    "w=least_squares(y,tx)\n",
    "loss=compute_mse(y, tx, w)\n",
    "print('Weigths: ',w,\"\\n\\n\",'Loss: ',loss)"
   ]
  },
  {
   "cell_type": "markdown",
   "metadata": {},
   "source": [
    "## Cross Validation"
   ]
  },
  {
   "cell_type": "markdown",
   "metadata": {},
   "source": [
    "### Ridge regression"
   ]
  },
  {
   "cell_type": "code",
   "execution_count": 45,
   "metadata": {},
   "outputs": [
    {
     "name": "stdout",
     "output_type": "stream",
     "text": [
      "-0.005454309501519591\n",
      "0.9489181106837536\n"
     ]
    },
    {
     "data": {
      "image/png": "[encoded data removed]",
      "text/plain": [
       "<Figure size 432x288 with 1 Axes>"
      ]
     },
     "metadata": {},
     "output_type": "display_data"
    }
   ],
   "source": [
    "# Define the parameters of the algorithm.\n",
    "seed = 1\n",
    "k_fold = 8\n",
    "lambdas = np.logspace(-8, 3, 50)\n",
    "\n",
    "# Initialization\n",
    "k_indices=build_k_indices(y, k_fold, seed)\n",
    "cross_rmse_train=[]\n",
    "cross_rmse_test=[]\n",
    "wsi_train_avg=[]\n",
    "for lambda_ in lambdas:\n",
    "    rmse_tr = []\n",
    "    rmse_te = []\n",
    "    wsi_train_lst=[]\n",
    "    for k in range(k_fold):\n",
    "        loss_tr, loss_te,wsi_train=cross_validation_ridge(y, tx, k_indices, k, lambda_)\n",
    "        rmse_tr.append(loss_tr)\n",
    "        rmse_te.append(loss_te)\n",
    "        wsi_train_lst.append(wsi_train)\n",
    "    cross_rmse_train.append(np.mean(rmse_tr))\n",
    "    cross_rmse_test.append(np.mean(rmse_te))\n",
    "    wsi_train_avg.append(np.mean(wsi_train))\n",
    "cross_validation_visualization(lambdas, cross_rmse_train, cross_rmse_test)    \n",
    "print(wsi_train_avg[np.argmin(cross_rmse_test)])\n",
    "print(np.min(cross_rmse_test))"
   ]
  },
  {
   "cell_type": "markdown",
   "metadata": {},
   "source": [
    "### Least squares"
   ]
  },
  {
   "cell_type": "code",
   "execution_count": 55,
   "metadata": {},
   "outputs": [
    {
     "name": "stdout",
     "output_type": "stream",
     "text": [
      "[ 4.56811272e-05 -2.02211052e-04  1.22192917e-03 -6.36518249e-04\n",
      " -7.39979981e-02  1.57415920e-04  1.44505760e+00 -6.26948036e-02\n",
      "  4.50581976e-03 -1.44853121e+00  3.75173582e-03  1.33334916e-04\n",
      " -1.44457258e+00 -2.07337763e-03  8.92045866e-04  2.99305164e-04\n",
      " -8.53910540e-04 -2.89674619e-05 -1.28475538e-02 -1.44492642e+00]\n",
      "0.9497302370393241\n"
     ]
    }
   ],
   "source": [
    "# Define the parameters of the algorithm.\n",
    "seed = 1\n",
    "k_fold = 8\n",
    "\n",
    "# Initialization\n",
    "k_indices=build_k_indices(y, k_fold, seed)\n",
    "\n",
    "cross_rmse_train=[]\n",
    "cross_rmse_test=[]\n",
    "wsi_train_lst=[]\n",
    "\n",
    "for k in range(k_fold):\n",
    "    loss_tr, loss_te,wsi_train=cross_validation_least_squares(y, tx, k_indices, k)\n",
    "    cross_rmse_train.append(loss_tr)\n",
    "    cross_rmse_test.append(loss_te)\n",
    "    wsi_train_lst.append(wsi_train)\n",
    "cross_rmse_train=np.average(cross_rmse_train)\n",
    "cross_rmse_test=np.average(cross_rmse_test)\n",
    "wsi_train_lst=np.average(wsi_train_lst,axis=0)\n",
    "    \n",
    "print(wsi_train_lst)\n",
    "print(cross_rmse_test)"
   ]
  },
  {
   "cell_type": "markdown",
   "metadata": {},
   "source": [
    "# Other stuff\n",
    "Build Polynomial"
   ]
  },
  {
   "cell_type": "code",
   "execution_count": 50,
   "metadata": {},
   "outputs": [
    {
     "data": {
      "text/plain": [
       "array([[[ 1.00000000e+00,  1.38470000e+02,  1.91739409e+04],\n",
       "        [ 1.00000000e+00,  1.60937000e+02,  2.59007180e+04],\n",
       "        [ 1.00000000e+00, -9.99000000e+02,  9.98001000e+05]],\n",
       "\n",
       "       [[ 1.00000000e+00,  5.16550000e+01,  2.66823903e+03],\n",
       "        [ 1.00000000e+00,  6.87680000e+01,  4.72903782e+03],\n",
       "        [ 1.00000000e+00,  1.62172000e+02,  2.62997576e+04]],\n",
       "\n",
       "       [[ 1.00000000e+00,  9.78270000e+01,  9.57012193e+03],\n",
       "        [ 1.00000000e+00,  1.03235000e+02,  1.06574652e+04],\n",
       "        [ 1.00000000e+00,  1.25953000e+02,  1.58641582e+04]]])"
      ]
     },
     "metadata": {},
     "output_type": "display_data"
    },
    {
     "data": {
      "text/plain": [
       "array([[[[ 1.93134109e+04,  2.60626550e+04,  9.97003000e+05],\n",
       "         [ 2.72089403e+03,  4.79880582e+03,  2.64629296e+04]],\n",
       "\n",
       "        [[-1.91323435e+07, -2.58487781e+07, -9.97163637e+08],\n",
       "         [-2.65711912e+06, -4.71310300e+06, -2.62472199e+07]],\n",
       "\n",
       "        [[ 1.91392178e+10,  2.58531300e+10,  9.95980140e+11],\n",
       "         [ 2.66426229e+09,  4.72138479e+09,  2.62514039e+10]]],\n",
       "\n",
       "\n",
       "       [[[ 1.93134109e+04,  2.60626550e+04,  9.97003000e+05],\n",
       "         [ 2.72089403e+03,  4.79880582e+03,  2.64629296e+04]],\n",
       "\n",
       "        [[ 3.11905030e+06,  4.21149021e+06,  1.61779171e+08],\n",
       "         [ 4.36317525e+05,  7.71698215e+05,  4.27628819e+06]],\n",
       "\n",
       "        [[ 5.04927496e+08,  6.81946349e+08,  2.62424627e+10],\n",
       "         [ 7.04209862e+07,  1.24700423e+08,  6.92446835e+08]]]])"
      ]
     },
     "metadata": {},
     "output_type": "display_data"
    }
   ],
   "source": [
    "# from helpers import polynomial_regression\n",
    "from helpers import build_poly\n",
    "degree=2\n",
    "tx=build_poly(input_data[:3,:3], degree)\n",
    "#you can select the feature space by slicing the array\n",
    "ICD.display(tx[[0,1,2]])\n",
    "\n",
    "#trial of slicing without for loop\n",
    "# ICD.display(np.transpose(tx[[0,1,2]],(0,2,1)))\n",
    "a = np.tensordot(np.transpose(tx[[0,1]],(0,2,1)),(tx[[0,1]]),axes=([2],[2]))\n",
    "b = tx[[0,1,2]].T.dot(yb[[0,1,2]])\n",
    "\n",
    "# ICD.display(tx.shape)\n",
    "np.transpose(tx,(0,2,1)).shape\n",
    "ICD. display(a)"
   ]
  },
  {
   "cell_type": "code",
   "execution_count": 73,
   "metadata": {},
   "outputs": [
    {
     "data": {
      "text/plain": [
       "(3, 3, 3)"
      ]
     },
     "metadata": {},
     "output_type": "display_data"
    },
    {
     "data": {
      "text/plain": [
       "(3, 3, 3)"
      ]
     },
     "metadata": {},
     "output_type": "display_data"
    },
    {
     "data": {
      "text/plain": [
       "array([[[ 1.00000000e+00,  1.38470000e+02,  1.91739409e+04],\n",
       "        [ 1.00000000e+00,  1.60937000e+02,  2.59007180e+04],\n",
       "        [ 1.00000000e+00, -9.99000000e+02,  9.98001000e+05]],\n",
       "\n",
       "       [[ 1.00000000e+00,  5.16550000e+01,  2.66823903e+03],\n",
       "        [ 1.00000000e+00,  6.87680000e+01,  4.72903782e+03],\n",
       "        [ 1.00000000e+00,  1.62172000e+02,  2.62997576e+04]],\n",
       "\n",
       "       [[ 1.00000000e+00,  9.78270000e+01,  9.57012193e+03],\n",
       "        [ 1.00000000e+00,  1.03235000e+02,  1.06574652e+04],\n",
       "        [ 1.00000000e+00,  1.25953000e+02,  1.58641582e+04]]])"
      ]
     },
     "metadata": {},
     "output_type": "display_data"
    },
    {
     "data": {
      "text/plain": [
       "array([[[ 1.00000000e+00,  1.00000000e+00,  1.00000000e+00],\n",
       "        [ 1.38470000e+02,  1.60937000e+02, -9.99000000e+02],\n",
       "        [ 1.91739409e+04,  2.59007180e+04,  9.98001000e+05]],\n",
       "\n",
       "       [[ 1.00000000e+00,  1.00000000e+00,  1.00000000e+00],\n",
       "        [ 5.16550000e+01,  6.87680000e+01,  1.62172000e+02],\n",
       "        [ 2.66823903e+03,  4.72903782e+03,  2.62997576e+04]],\n",
       "\n",
       "       [[ 1.00000000e+00,  1.00000000e+00,  1.00000000e+00],\n",
       "        [ 9.78270000e+01,  1.03235000e+02,  1.25953000e+02],\n",
       "        [ 9.57012193e+03,  1.06574652e+04,  1.58641582e+04]]])"
      ]
     },
     "metadata": {},
     "output_type": "display_data"
    },
    {
     "data": {
      "text/plain": [
       "array([[[ 6.30000000e+01, -6.99593000e+02,  1.04307566e+06],\n",
       "        [-6.99593000e+02,  1.04313566e+06, -9.90179600e+08],\n",
       "        [ 1.04307566e+06, -9.90179600e+08,  9.97044483e+11]],\n",
       "\n",
       "       [[ 6.30000000e+01, -6.99593000e+02,  1.04307566e+06],\n",
       "        [ 2.82595000e+02, -1.43729845e+05,  1.64619389e+08],\n",
       "        [ 3.36970344e+04, -2.51429096e+07,  2.64208306e+10]],\n",
       "\n",
       "       [[ 6.30000000e+01, -6.99593000e+02,  1.04307566e+06],\n",
       "        [ 3.27015000e+02, -9.56066111e+04,  1.30250810e+08],\n",
       "        [ 3.60917454e+04, -1.28079388e+07,  1.62919788e+10]]])"
      ]
     },
     "metadata": {},
     "output_type": "display_data"
    }
   ],
   "source": [
    "from helpers import ridge_regression\n",
    "lambda_=10\n",
    "aI = 2 * tx.shape[0] * lambda_ * np.identity(tx.shape[1])\n",
    "\n",
    "tx_t=np.transpose(tx,(0,2,1))\n",
    "ICD.display(tx_t.shape)\n",
    "ICD.display(tx.shape)\n",
    "\n",
    "a = np.tensordot(tx_t, tx[0], axes=1)+ aI\n",
    "\n",
    "\n",
    "b = tx.T.dot(yb[:3])\n",
    "ICD.display(tx)\n",
    "ICD.display(tx_t)\n",
    "ICD.display(a)\n",
    "# np.linalg.solve(a, b)"
   ]
  },
  {
   "cell_type": "code",
   "execution_count": 105,
   "metadata": {},
   "outputs": [],
   "source": [
    "#function with foor loop\n",
    "def ridge_regression_loop(y, tx, degrees, lambda_):\n",
    "    \"\"\"calculate the least squares.\"\"\"\n",
    "    #weights has dimension: number of degrees, number of features\n",
    "    \n",
    "    weights=np.ones((degrees+1,tx.shape[0]))\n",
    "    \n",
    "    tx_t=np.transpose(tx,(0,2,1))\n",
    "    \n",
    "    # going through every feature\n",
    "    for i in range(tx.shape[0]):\n",
    "        \n",
    "        aI = 2 * tx[i].shape[0] * lambda_ * np.identity(tx[i].shape[1])\n",
    "        print (aI)\n",
    "        print (tx_t[i])\n",
    "        print (tx[i])\n",
    "        print (y)\n",
    "        a = tx_t[i].dot(tx[i])\n",
    "        print ('a')\n",
    "        print (a)\n",
    "        b = tx_t[i].dot(y)\n",
    "        print ('b')\n",
    "        print (b)\n",
    "        \n",
    "        w=np.linalg.solve(a, b)\n",
    "        print (w)\n",
    "        weights[:][i]=w\n",
    "    \n",
    "    return weights"
   ]
  },
  {
   "cell_type": "code",
   "execution_count": 104,
   "metadata": {},
   "outputs": [
    {
     "data": {
      "text/plain": [
       "array([[[ 1.00000000e+00,  1.38470000e+02,  1.91739409e+04],\n",
       "        [ 1.00000000e+00,  1.60937000e+02,  2.59007180e+04],\n",
       "        [ 1.00000000e+00, -9.99000000e+02,  9.98001000e+05]],\n",
       "\n",
       "       [[ 1.00000000e+00,  5.16550000e+01,  2.66823903e+03],\n",
       "        [ 1.00000000e+00,  6.87680000e+01,  4.72903782e+03],\n",
       "        [ 1.00000000e+00,  1.62172000e+02,  2.62997576e+04]],\n",
       "\n",
       "       [[ 1.00000000e+00,  9.78270000e+01,  9.57012193e+03],\n",
       "        [ 1.00000000e+00,  1.03235000e+02,  1.06574652e+04],\n",
       "        [ 1.00000000e+00,  1.25953000e+02,  1.58641582e+04]]])"
      ]
     },
     "metadata": {},
     "output_type": "display_data"
    },
    {
     "data": {
      "text/plain": [
       "array([1, -1, -1], dtype=object)"
      ]
     },
     "metadata": {},
     "output_type": "display_data"
    },
    {
     "name": "stdout",
     "output_type": "stream",
     "text": [
      "[[0. 0. 0.]\n",
      " [0. 0. 0.]\n",
      " [0. 0. 0.]]\n",
      "[[ 1.00000000e+00  1.00000000e+00  1.00000000e+00]\n",
      " [ 1.38470000e+02  1.60937000e+02 -9.99000000e+02]\n",
      " [ 1.91739409e+04  2.59007180e+04  9.98001000e+05]]\n",
      "[[ 1.00000000e+00  1.38470000e+02  1.91739409e+04]\n",
      " [ 1.00000000e+00  1.60937000e+02  2.59007180e+04]\n",
      " [ 1.00000000e+00 -9.99000000e+02  9.98001000e+05]]\n",
      "[1 -1 -1]\n",
      "a\n",
      "[[ 3.00000000e+00 -6.99593000e+02  1.04307566e+06]\n",
      " [-6.99593000e+02  1.04307566e+06 -9.90179600e+08]\n",
      " [ 1.04307566e+06 -9.90179600e+08  9.97044483e+11]]\n",
      "b\n",
      "[-1.0 976.533 -1004727.7770690001]\n"
     ]
    },
    {
     "ename": "TypeError",
     "evalue": "No loop matching the specified signature and casting\nwas found for ufunc solve1",
     "output_type": "error",
     "traceback": [
      "\u001b[0;31m---------------------------------------------------------------------------\u001b[0m",
      "\u001b[0;31mTypeError\u001b[0m                                 Traceback (most recent call last)",
      "\u001b[0;32m<ipython-input-104-4d5131b0a00f>\u001b[0m in \u001b[0;36m<module>\u001b[0;34m()\u001b[0m\n\u001b[1;32m      7\u001b[0m \u001b[0mICD\u001b[0m\u001b[0;34m.\u001b[0m\u001b[0mdisplay\u001b[0m\u001b[0;34m(\u001b[0m\u001b[0mtx\u001b[0m\u001b[0;34m)\u001b[0m\u001b[0;34m\u001b[0m\u001b[0m\n\u001b[1;32m      8\u001b[0m \u001b[0mICD\u001b[0m\u001b[0;34m.\u001b[0m\u001b[0mdisplay\u001b[0m\u001b[0;34m(\u001b[0m\u001b[0my\u001b[0m\u001b[0;34m)\u001b[0m\u001b[0;34m\u001b[0m\u001b[0m\n\u001b[0;32m----> 9\u001b[0;31m \u001b[0mridge_regression_loop\u001b[0m\u001b[0;34m(\u001b[0m\u001b[0my\u001b[0m\u001b[0;34m,\u001b[0m \u001b[0mtx\u001b[0m\u001b[0;34m,\u001b[0m \u001b[0mdegrees\u001b[0m\u001b[0;34m,\u001b[0m \u001b[0mlambda_\u001b[0m\u001b[0;34m)\u001b[0m\u001b[0;34m\u001b[0m\u001b[0m\n\u001b[0m",
      "\u001b[0;32m<ipython-input-103-8ab2935417ba>\u001b[0m in \u001b[0;36mridge_regression_loop\u001b[0;34m(y, tx, degrees, lambda_)\u001b[0m\n\u001b[1;32m     23\u001b[0m         \u001b[0mprint\u001b[0m \u001b[0;34m(\u001b[0m\u001b[0mb\u001b[0m\u001b[0;34m)\u001b[0m\u001b[0;34m\u001b[0m\u001b[0m\n\u001b[1;32m     24\u001b[0m \u001b[0;34m\u001b[0m\u001b[0m\n\u001b[0;32m---> 25\u001b[0;31m         \u001b[0mw\u001b[0m\u001b[0;34m=\u001b[0m\u001b[0mnp\u001b[0m\u001b[0;34m.\u001b[0m\u001b[0mlinalg\u001b[0m\u001b[0;34m.\u001b[0m\u001b[0msolve\u001b[0m\u001b[0;34m(\u001b[0m\u001b[0ma\u001b[0m\u001b[0;34m,\u001b[0m \u001b[0mb\u001b[0m\u001b[0;34m)\u001b[0m\u001b[0;34m\u001b[0m\u001b[0m\n\u001b[0m\u001b[1;32m     26\u001b[0m         \u001b[0mprint\u001b[0m \u001b[0;34m(\u001b[0m\u001b[0mw\u001b[0m\u001b[0;34m)\u001b[0m\u001b[0;34m\u001b[0m\u001b[0m\n\u001b[1;32m     27\u001b[0m \u001b[0;31m#         weights[:][i]=w\u001b[0m\u001b[0;34m\u001b[0m\u001b[0;34m\u001b[0m\u001b[0m\n",
      "\u001b[0;32m~/anaconda3/lib/python3.6/site-packages/numpy/linalg/linalg.py\u001b[0m in \u001b[0;36msolve\u001b[0;34m(a, b)\u001b[0m\n\u001b[1;32m    388\u001b[0m     \u001b[0msignature\u001b[0m \u001b[0;34m=\u001b[0m \u001b[0;34m'DD->D'\u001b[0m \u001b[0;32mif\u001b[0m \u001b[0misComplexType\u001b[0m\u001b[0;34m(\u001b[0m\u001b[0mt\u001b[0m\u001b[0;34m)\u001b[0m \u001b[0;32melse\u001b[0m \u001b[0;34m'dd->d'\u001b[0m\u001b[0;34m\u001b[0m\u001b[0m\n\u001b[1;32m    389\u001b[0m     \u001b[0mextobj\u001b[0m \u001b[0;34m=\u001b[0m \u001b[0mget_linalg_error_extobj\u001b[0m\u001b[0;34m(\u001b[0m\u001b[0m_raise_linalgerror_singular\u001b[0m\u001b[0;34m)\u001b[0m\u001b[0;34m\u001b[0m\u001b[0m\n\u001b[0;32m--> 390\u001b[0;31m     \u001b[0mr\u001b[0m \u001b[0;34m=\u001b[0m \u001b[0mgufunc\u001b[0m\u001b[0;34m(\u001b[0m\u001b[0ma\u001b[0m\u001b[0;34m,\u001b[0m \u001b[0mb\u001b[0m\u001b[0;34m,\u001b[0m \u001b[0msignature\u001b[0m\u001b[0;34m=\u001b[0m\u001b[0msignature\u001b[0m\u001b[0;34m,\u001b[0m \u001b[0mextobj\u001b[0m\u001b[0;34m=\u001b[0m\u001b[0mextobj\u001b[0m\u001b[0;34m)\u001b[0m\u001b[0;34m\u001b[0m\u001b[0m\n\u001b[0m\u001b[1;32m    391\u001b[0m \u001b[0;34m\u001b[0m\u001b[0m\n\u001b[1;32m    392\u001b[0m     \u001b[0;32mreturn\u001b[0m \u001b[0mwrap\u001b[0m\u001b[0;34m(\u001b[0m\u001b[0mr\u001b[0m\u001b[0;34m.\u001b[0m\u001b[0mastype\u001b[0m\u001b[0;34m(\u001b[0m\u001b[0mresult_t\u001b[0m\u001b[0;34m,\u001b[0m \u001b[0mcopy\u001b[0m\u001b[0;34m=\u001b[0m\u001b[0;32mFalse\u001b[0m\u001b[0;34m)\u001b[0m\u001b[0;34m)\u001b[0m\u001b[0;34m\u001b[0m\u001b[0m\n",
      "\u001b[0;31mTypeError\u001b[0m: No loop matching the specified signature and casting\nwas found for ufunc solve1"
     ]
    }
   ],
   "source": [
    "#testing function least square loop\n",
    "\n",
    "lambda_=0\n",
    "degrees=2\n",
    "tx=build_poly(input_data[:3,:3], degree)\n",
    "y=yb[:3]\n",
    "ICD.display(tx)\n",
    "ICD.display(y)\n",
    "ridge_regression_loop(y, tx, degrees, lambda_)\n"
   ]
  },
  {
   "cell_type": "code",
   "execution_count": 65,
   "metadata": {},
   "outputs": [
    {
     "data": {
      "text/plain": [
       "array([[[0, 0, 1, 0, 0],\n",
       "        [0, 0, 0, 0, 0],\n",
       "        [1, 0, 0, 0, 0]],\n",
       "\n",
       "       [[1, 0, 0, 1, 0],\n",
       "        [1, 1, 0, 0, 0],\n",
       "        [1, 1, 1, 1, 0]]])"
      ]
     },
     "metadata": {},
     "output_type": "display_data"
    },
    {
     "data": {
      "text/plain": [
       "array([[[0, 0, 0, 1],\n",
       "        [0, 1, 1, 1]],\n",
       "\n",
       "       [[1, 1, 1, 0],\n",
       "        [1, 0, 1, 1]],\n",
       "\n",
       "       [[0, 0, 1, 1],\n",
       "        [0, 1, 0, 1]]])"
      ]
     },
     "metadata": {},
     "output_type": "display_data"
    },
    {
     "data": {
      "text/plain": [
       "array([[1, 2, 3, 4],\n",
       "       [1, 1, 1, 2],\n",
       "       [0, 1, 0, 2],\n",
       "       [0, 2, 1, 2],\n",
       "       [0, 0, 0, 0]])"
      ]
     },
     "execution_count": 65,
     "metadata": {},
     "output_type": "execute_result"
    }
   ],
   "source": [
    "# understanding tensordot\n",
    "A = np.random.randint(2, size=(2, 3, 5))\n",
    "B = np.random.randint(2, size=(3, 2, 4))\n",
    "ICD.display(A)\n",
    "ICD.display(B)\n",
    "\n",
    "np.tensordot(A, B, axes=([0,1],[1,0]))"
   ]
  },
  {
   "cell_type": "code",
   "execution_count": null,
   "metadata": {},
   "outputs": [],
   "source": []
  }
 ],
 "metadata": {
  "kernelspec": {
   "display_name": "Python 3",
   "language": "python",
   "name": "python3"
  },
  "language_info": {
   "codemirror_mode": {
    "name": "ipython",
    "version": 3
   },
   "file_extension": ".py",
   "mimetype": "text/x-python",
   "name": "python",
   "nbconvert_exporter": "python",
   "pygments_lexer": "ipython3",
   "version": "3.6.5"
  }
 },
 "nbformat": 4,
 "nbformat_minor": 2
}
