{
 "cells": [
  {
   "cell_type": "code",
   "execution_count": 1,
   "metadata": {},
   "outputs": [
    {
     "name": "stdout",
     "output_type": "stream",
     "text": [
      "Requirement already satisfied: plotly in /Users/gianlucamancini/anaconda3/lib/python3.6/site-packages (3.3.0)\n",
      "Requirement already satisfied: six in /Users/gianlucamancini/anaconda3/lib/python3.6/site-packages (from plotly) (1.11.0)\n",
      "Requirement already satisfied: nbformat>=4.2 in /Users/gianlucamancini/anaconda3/lib/python3.6/site-packages (from plotly) (4.4.0)\n",
      "Requirement already satisfied: requests in /Users/gianlucamancini/anaconda3/lib/python3.6/site-packages (from plotly) (2.18.4)\n",
      "Requirement already satisfied: decorator>=4.0.6 in /Users/gianlucamancini/anaconda3/lib/python3.6/site-packages (from plotly) (4.3.0)\n",
      "Requirement already satisfied: retrying>=1.3.3 in /Users/gianlucamancini/anaconda3/lib/python3.6/site-packages (from plotly) (1.3.3)\n",
      "Requirement already satisfied: pytz in /Users/gianlucamancini/anaconda3/lib/python3.6/site-packages (from plotly) (2018.4)\n",
      "Requirement already satisfied: ipython_genutils in /Users/gianlucamancini/anaconda3/lib/python3.6/site-packages (from nbformat>=4.2->plotly) (0.2.0)\n",
      "Requirement already satisfied: traitlets>=4.1 in /Users/gianlucamancini/anaconda3/lib/python3.6/site-packages (from nbformat>=4.2->plotly) (4.3.2)\n",
      "Requirement already satisfied: jsonschema!=2.5.0,>=2.4 in /Users/gianlucamancini/anaconda3/lib/python3.6/site-packages (from nbformat>=4.2->plotly) (2.6.0)\n",
      "Requirement already satisfied: jupyter_core in /Users/gianlucamancini/anaconda3/lib/python3.6/site-packages (from nbformat>=4.2->plotly) (4.4.0)\n",
      "Requirement already satisfied: chardet<3.1.0,>=3.0.2 in /Users/gianlucamancini/anaconda3/lib/python3.6/site-packages (from requests->plotly) (3.0.4)\n",
      "Requirement already satisfied: idna<2.7,>=2.5 in /Users/gianlucamancini/anaconda3/lib/python3.6/site-packages (from requests->plotly) (2.6)\n",
      "Requirement already satisfied: urllib3<1.23,>=1.21.1 in /Users/gianlucamancini/anaconda3/lib/python3.6/site-packages (from requests->plotly) (1.22)\n",
      "Requirement already satisfied: certifi>=2017.4.17 in /Users/gianlucamancini/anaconda3/lib/python3.6/site-packages (from requests->plotly) (2018.4.16)\n",
      "\u001b[31mdistributed 1.21.8 requires msgpack, which is not installed.\u001b[0m\n",
      "\u001b[33mYou are using pip version 10.0.1, however version 18.1 is available.\n",
      "You should consider upgrading via the 'pip install --upgrade pip' command.\u001b[0m\n"
     ]
    }
   ],
   "source": [
    "# Useful starting lines\n",
    "%matplotlib inline\n",
    "import numpy as np\n",
    "import matplotlib.pyplot as plt\n",
    "%load_ext autoreload\n",
    "%autoreload 2\n",
    "#allows to print the dataframe nicely\n",
    "from IPython.core import display as ICD\n",
    "!pip install plotly\n",
    "import plotly.plotly as py\n",
    "from plotly.graph_objs import *\n",
    "import plotly.tools as tls\n",
    "from scipy import stats"
   ]
  },
  {
   "cell_type": "code",
   "execution_count": 2,
   "metadata": {},
   "outputs": [],
   "source": [
    "# import additional packages to insepct data and clean them\n",
    "import pandas as pd\n",
    "import os \n",
    "import random \n",
    "from zipfile import ZipFile\n",
    "import datetime"
   ]
  },
  {
   "cell_type": "code",
   "execution_count": 3,
   "metadata": {},
   "outputs": [],
   "source": [
    "# import helping functions from the implementation file\n",
    "#from proj1_helpers import load_csv_data\n",
    "from proj1_helpers import *\n",
    "import implementations\n",
    "from additional_implementations import *\n",
    "import seaborn as sns"
   ]
  },
  {
   "cell_type": "code",
   "execution_count": 4,
   "metadata": {},
   "outputs": [
    {
     "data": {
      "text/plain": [
       "[<ZipInfo filename='train.csv' compress_type=deflate file_size=48103379 compress_size=17670847>,\n",
       " <ZipInfo filename='test.csv' compress_type=deflate file_size=109335584 compress_size=40089137>,\n",
       " <ZipInfo filename='sample-submission.csv' compress_type=deflate file_size=5682394 compress_size=1263762>]"
      ]
     },
     "execution_count": 4,
     "metadata": {},
     "output_type": "execute_result"
    }
   ],
   "source": [
    "# import zipped files from the github repository\n",
    "data_folder='./data/'\n",
    "zip_file = ZipFile(data_folder+'all.zip')\n",
    "# zip file creates a list of files with certain properties\n",
    "zip_file.infolist()"
   ]
  },
  {
   "cell_type": "code",
   "execution_count": 5,
   "metadata": {},
   "outputs": [],
   "source": [
    "# now we want to access the 'filename' property in the zipfile variable\n",
    "# and we create a dictionary of dataframe\n",
    "dfs = {text_file.filename: pd.read_csv(zip_file.open(text_file.filename))\n",
    "       for text_file in zip_file.infolist()\n",
    "       if text_file.filename.endswith('.csv')}\n",
    "df_train=dfs['train.csv']\n",
    "df_test=dfs['test.csv']\n",
    "df_sample_submission=dfs['sample-submission.csv']"
   ]
  },
  {
   "cell_type": "code",
   "execution_count": 6,
   "metadata": {},
   "outputs": [],
   "source": [
    "df_train_pca=df_train.drop(columns=['Prediction', 'Id'])"
   ]
  },
  {
   "cell_type": "code",
   "execution_count": 7,
   "metadata": {},
   "outputs": [
    {
     "data": {
      "text/plain": [
       "{'DER_mass_MMC': 38114,\n",
       " 'DER_mass_transverse_met_lep': 0,\n",
       " 'DER_mass_vis': 0,\n",
       " 'DER_pt_h': 0,\n",
       " 'DER_deltaeta_jet_jet': 177457,\n",
       " 'DER_mass_jet_jet': 177457,\n",
       " 'DER_prodeta_jet_jet': 177457,\n",
       " 'DER_deltar_tau_lep': 0,\n",
       " 'DER_pt_tot': 0,\n",
       " 'DER_sum_pt': 0,\n",
       " 'DER_pt_ratio_lep_tau': 0,\n",
       " 'DER_met_phi_centrality': 0,\n",
       " 'DER_lep_eta_centrality': 177457,\n",
       " 'PRI_tau_pt': 0,\n",
       " 'PRI_tau_eta': 0,\n",
       " 'PRI_tau_phi': 0,\n",
       " 'PRI_lep_pt': 0,\n",
       " 'PRI_lep_eta': 0,\n",
       " 'PRI_lep_phi': 0,\n",
       " 'PRI_met': 0,\n",
       " 'PRI_met_phi': 0,\n",
       " 'PRI_met_sumet': 0,\n",
       " 'PRI_jet_num': 0,\n",
       " 'PRI_jet_leading_pt': 99913,\n",
       " 'PRI_jet_leading_eta': 99913,\n",
       " 'PRI_jet_leading_phi': 99913,\n",
       " 'PRI_jet_subleading_pt': 177457,\n",
       " 'PRI_jet_subleading_eta': 177457,\n",
       " 'PRI_jet_subleading_phi': 177457,\n",
       " 'PRI_jet_all_pt': 0}"
      ]
     },
     "execution_count": 7,
     "metadata": {},
     "output_type": "execute_result"
    }
   ],
   "source": [
    "counts={}\n",
    "for column_name in df_train_pca.columns.values:\n",
    "    \n",
    "    check=df_train_pca[column_name]==-999.0\n",
    "    counts[column_name]=np.sum(check.astype('int'))\n",
    "counts"
   ]
  },
  {
   "cell_type": "code",
   "execution_count": 8,
   "metadata": {},
   "outputs": [],
   "source": [
    "df_train_pca=df_train_pca.drop(columns=['PRI_jet_subleading_pt', 'PRI_jet_subleading_eta', 'PRI_jet_subleading_phi', 'DER_lep_eta_centrality', 'DER_prodeta_jet_jet', 'DER_mass_jet_jet', 'DER_deltaeta_jet_jet','PRI_jet_leading_pt','PRI_jet_leading_eta','PRI_jet_leading_phi'])"
   ]
  },
  {
   "cell_type": "code",
   "execution_count": 9,
   "metadata": {
    "scrolled": true
   },
   "outputs": [
    {
     "name": "stderr",
     "output_type": "stream",
     "text": [
      "/Users/gianlucamancini/anaconda3/lib/python3.6/site-packages/ipykernel/__main__.py:2: SettingWithCopyWarning:\n",
      "\n",
      "\n",
      "A value is trying to be set on a copy of a slice from a DataFrame\n",
      "\n",
      "See the caveats in the documentation: http://pandas.pydata.org/pandas-docs/stable/indexing.html#indexing-view-versus-copy\n",
      "\n"
     ]
    }
   ],
   "source": [
    "median=np.median(df_train_pca['DER_mass_MMC'])\n",
    "df_train_pca['DER_mass_MMC'][df_train_pca['DER_mass_MMC']==-999.0]=median"
   ]
  },
  {
   "cell_type": "markdown",
   "metadata": {},
   "source": [
    "### PCA"
   ]
  },
  {
   "cell_type": "code",
   "execution_count": 45,
   "metadata": {},
   "outputs": [
    {
     "data": {
      "text/html": [
       "<div>\n",
       "<style scoped>\n",
       "    .dataframe tbody tr th:only-of-type {\n",
       "        vertical-align: middle;\n",
       "    }\n",
       "\n",
       "    .dataframe tbody tr th {\n",
       "        vertical-align: top;\n",
       "    }\n",
       "\n",
       "    .dataframe thead th {\n",
       "        text-align: right;\n",
       "    }\n",
       "</style>\n",
       "<table border=\"1\" class=\"dataframe\">\n",
       "  <thead>\n",
       "    <tr style=\"text-align: right;\">\n",
       "      <th></th>\n",
       "      <th>DER_mass_MMC</th>\n",
       "      <th>DER_mass_transverse_met_lep</th>\n",
       "      <th>DER_mass_vis</th>\n",
       "      <th>DER_pt_h</th>\n",
       "      <th>DER_deltar_tau_lep</th>\n",
       "      <th>DER_pt_tot</th>\n",
       "      <th>DER_sum_pt</th>\n",
       "      <th>DER_pt_ratio_lep_tau</th>\n",
       "      <th>DER_met_phi_centrality</th>\n",
       "      <th>PRI_tau_pt</th>\n",
       "      <th>PRI_tau_eta</th>\n",
       "      <th>PRI_tau_phi</th>\n",
       "      <th>PRI_lep_pt</th>\n",
       "      <th>PRI_lep_eta</th>\n",
       "      <th>PRI_lep_phi</th>\n",
       "      <th>PRI_met</th>\n",
       "      <th>PRI_met_phi</th>\n",
       "      <th>PRI_met_sumet</th>\n",
       "      <th>PRI_jet_num</th>\n",
       "      <th>PRI_jet_all_pt</th>\n",
       "    </tr>\n",
       "  </thead>\n",
       "  <tbody>\n",
       "    <tr>\n",
       "      <th>0</th>\n",
       "      <td>0.361227</td>\n",
       "      <td>0.068332</td>\n",
       "      <td>0.407680</td>\n",
       "      <td>-0.469966</td>\n",
       "      <td>0.882478</td>\n",
       "      <td>1.033099</td>\n",
       "      <td>0.339894</td>\n",
       "      <td>0.170929</td>\n",
       "      <td>1.277084</td>\n",
       "      <td>-0.270811</td>\n",
       "      <td>0.846712</td>\n",
       "      <td>0.214212</td>\n",
       "      <td>0.225054</td>\n",
       "      <td>1.812288</td>\n",
       "      <td>-1.352820</td>\n",
       "      <td>-0.756757</td>\n",
       "      <td>-0.147267</td>\n",
       "      <td>0.386847</td>\n",
       "      <td>1.044402</td>\n",
       "      <td>0.412510</td>\n",
       "    </tr>\n",
       "    <tr>\n",
       "      <th>1</th>\n",
       "      <td>0.784365</td>\n",
       "      <td>0.552505</td>\n",
       "      <td>0.540136</td>\n",
       "      <td>-0.153167</td>\n",
       "      <td>1.404888</td>\n",
       "      <td>-0.756027</td>\n",
       "      <td>-0.287584</td>\n",
       "      <td>-0.661279</td>\n",
       "      <td>1.292164</td>\n",
       "      <td>0.147536</td>\n",
       "      <td>1.688504</td>\n",
       "      <td>-1.652849</td>\n",
       "      <td>-0.441526</td>\n",
       "      <td>0.411475</td>\n",
       "      <td>0.032730</td>\n",
       "      <td>0.090798</td>\n",
       "      <td>-1.051683</td>\n",
       "      <td>-0.357719</td>\n",
       "      <td>0.021305</td>\n",
       "      <td>-0.273820</td>\n",
       "    </tr>\n",
       "    <tr>\n",
       "      <th>2</th>\n",
       "      <td>-0.268911</td>\n",
       "      <td>3.195156</td>\n",
       "      <td>1.096560</td>\n",
       "      <td>-0.349710</td>\n",
       "      <td>0.989770</td>\n",
       "      <td>-0.430168</td>\n",
       "      <td>0.340361</td>\n",
       "      <td>2.768174</td>\n",
       "      <td>1.292164</td>\n",
       "      <td>-0.292406</td>\n",
       "      <td>-0.571650</td>\n",
       "      <td>-1.147554</td>\n",
       "      <td>3.387682</td>\n",
       "      <td>-0.737951</td>\n",
       "      <td>0.555132</td>\n",
       "      <td>0.382001</td>\n",
       "      <td>-1.200672</td>\n",
       "      <td>0.400135</td>\n",
       "      <td>0.021305</td>\n",
       "      <td>-0.293970</td>\n",
       "    </tr>\n",
       "    <tr>\n",
       "      <th>3</th>\n",
       "      <td>0.463589</td>\n",
       "      <td>0.910379</td>\n",
       "      <td>-0.005853</td>\n",
       "      <td>-0.903016</td>\n",
       "      <td>1.196690</td>\n",
       "      <td>-0.830735</td>\n",
       "      <td>-0.712705</td>\n",
       "      <td>1.084818</td>\n",
       "      <td>-0.969095</td>\n",
       "      <td>-0.716598</td>\n",
       "      <td>-1.354138</td>\n",
       "      <td>0.010002</td>\n",
       "      <td>0.301873</td>\n",
       "      <td>-0.397234</td>\n",
       "      <td>-1.730447</td>\n",
       "      <td>-0.323312</td>\n",
       "      <td>0.038692</td>\n",
       "      <td>-0.978149</td>\n",
       "      <td>-1.001792</td>\n",
       "      <td>-0.745439</td>\n",
       "    </tr>\n",
       "    <tr>\n",
       "      <th>4</th>\n",
       "      <td>1.065496</td>\n",
       "      <td>-0.914556</td>\n",
       "      <td>1.313369</td>\n",
       "      <td>-0.651804</td>\n",
       "      <td>1.938794</td>\n",
       "      <td>-0.112795</td>\n",
       "      <td>-0.868143</td>\n",
       "      <td>-0.451747</td>\n",
       "      <td>-1.052877</td>\n",
       "      <td>-0.468428</td>\n",
       "      <td>-1.800568</td>\n",
       "      <td>-1.223513</td>\n",
       "      <td>-0.765298</td>\n",
       "      <td>0.646261</td>\n",
       "      <td>0.839728</td>\n",
       "      <td>-1.185429</td>\n",
       "      <td>-0.475042</td>\n",
       "      <td>-1.238475</td>\n",
       "      <td>-1.001792</td>\n",
       "      <td>-0.745439</td>\n",
       "    </tr>\n",
       "  </tbody>\n",
       "</table>\n",
       "</div>"
      ],
      "text/plain": [
       "   DER_mass_MMC  DER_mass_transverse_met_lep  DER_mass_vis  DER_pt_h  \\\n",
       "0      0.361227                     0.068332      0.407680 -0.469966   \n",
       "1      0.784365                     0.552505      0.540136 -0.153167   \n",
       "2     -0.268911                     3.195156      1.096560 -0.349710   \n",
       "3      0.463589                     0.910379     -0.005853 -0.903016   \n",
       "4      1.065496                    -0.914556      1.313369 -0.651804   \n",
       "\n",
       "   DER_deltar_tau_lep  DER_pt_tot  DER_sum_pt  DER_pt_ratio_lep_tau  \\\n",
       "0            0.882478    1.033099    0.339894              0.170929   \n",
       "1            1.404888   -0.756027   -0.287584             -0.661279   \n",
       "2            0.989770   -0.430168    0.340361              2.768174   \n",
       "3            1.196690   -0.830735   -0.712705              1.084818   \n",
       "4            1.938794   -0.112795   -0.868143             -0.451747   \n",
       "\n",
       "   DER_met_phi_centrality  PRI_tau_pt  PRI_tau_eta  PRI_tau_phi  PRI_lep_pt  \\\n",
       "0                1.277084   -0.270811     0.846712     0.214212    0.225054   \n",
       "1                1.292164    0.147536     1.688504    -1.652849   -0.441526   \n",
       "2                1.292164   -0.292406    -0.571650    -1.147554    3.387682   \n",
       "3               -0.969095   -0.716598    -1.354138     0.010002    0.301873   \n",
       "4               -1.052877   -0.468428    -1.800568    -1.223513   -0.765298   \n",
       "\n",
       "   PRI_lep_eta  PRI_lep_phi   PRI_met  PRI_met_phi  PRI_met_sumet  \\\n",
       "0     1.812288    -1.352820 -0.756757    -0.147267       0.386847   \n",
       "1     0.411475     0.032730  0.090798    -1.051683      -0.357719   \n",
       "2    -0.737951     0.555132  0.382001    -1.200672       0.400135   \n",
       "3    -0.397234    -1.730447 -0.323312     0.038692      -0.978149   \n",
       "4     0.646261     0.839728 -1.185429    -0.475042      -1.238475   \n",
       "\n",
       "   PRI_jet_num  PRI_jet_all_pt  \n",
       "0     1.044402        0.412510  \n",
       "1     0.021305       -0.273820  \n",
       "2     0.021305       -0.293970  \n",
       "3    -1.001792       -0.745439  \n",
       "4    -1.001792       -0.745439  "
      ]
     },
     "execution_count": 45,
     "metadata": {},
     "output_type": "execute_result"
    }
   ],
   "source": [
    "features = df_train_pca.columns.values\n",
    "df_train_pca_std=pd.DataFrame()\n",
    "\n",
    "df_train_pca_std=standardize_personal(df_train_pca)\n",
    "df_train_pca_std.head()"
   ]
  },
  {
   "cell_type": "code",
   "execution_count": 46,
   "metadata": {},
   "outputs": [],
   "source": [
    "cov_df_train_pca_std=np.cov(df_train_pca_std.T)\n",
    "eig_vals, eig_vecs = np.linalg.eig(cov_df_train_pca_std)"
   ]
  },
  {
   "cell_type": "code",
   "execution_count": 47,
   "metadata": {},
   "outputs": [],
   "source": [
    "# Make a list of (eigenvalue, eigenvector) tuples\n",
    "eig_pairs = [(np.abs(eig_vals[i]), eig_vecs[:,i]) for i in range(len(eig_vals))]\n",
    "\n",
    "# Sort the (eigenvalue, eigenvector) tuples from high to low\n",
    "eig_pairs.sort()\n",
    "eig_pairs.reverse()"
   ]
  },
  {
   "cell_type": "code",
   "execution_count": 48,
   "metadata": {},
   "outputs": [
    {
     "name": "stderr",
     "output_type": "stream",
     "text": [
      "/Users/gianlucamancini/anaconda3/lib/python3.6/site-packages/plotly/graph_objs/_deprecations.py:39: DeprecationWarning:\n",
      "\n",
      "plotly.graph_objs.Data is deprecated.\n",
      "Please replace it with a list or tuple of instances of the following types\n",
      "  - plotly.graph_objs.Scatter\n",
      "  - plotly.graph_objs.Bar\n",
      "  - plotly.graph_objs.Area\n",
      "  - plotly.graph_objs.Histogram\n",
      "  - etc.\n",
      "\n",
      "\n",
      "/Users/gianlucamancini/anaconda3/lib/python3.6/site-packages/plotly/graph_objs/_deprecations.py:558: DeprecationWarning:\n",
      "\n",
      "plotly.graph_objs.YAxis is deprecated.\n",
      "Please replace it with one of the following more specific types\n",
      "  - plotly.graph_objs.layout.YAxis\n",
      "  - plotly.graph_objs.layout.scene.YAxis\n",
      "\n",
      "\n"
     ]
    },
    {
     "data": {
      "text/html": [
       "<iframe id=\"igraph\" scrolling=\"no\" style=\"border:none;\" seamless=\"seamless\" src=\"https://plot.ly/~gianlucamancini7/32.embed\" height=\"525px\" width=\"100%\"></iframe>"
      ],
      "text/plain": [
       "<plotly.tools.PlotlyDisplay object>"
      ]
     },
     "execution_count": 48,
     "metadata": {},
     "output_type": "execute_result"
    }
   ],
   "source": [
    "tot = sum(eig_vals)\n",
    "var_exp = [(i / tot)*100 for i in sorted(eig_vals, reverse=True)]\n",
    "cum_var_exp = np.cumsum(var_exp)\n",
    "\n",
    "trace1 = Bar(\n",
    "        x=['PC %s' %i for i in range(1,20)],\n",
    "        y=var_exp,\n",
    "        showlegend=False)\n",
    "\n",
    "trace2 = Scatter(\n",
    "        x=['PC %s' %i for i in range(1,20)], \n",
    "        y=cum_var_exp,\n",
    "        name='cumulative explained variance')\n",
    "\n",
    "data = Data([trace1, trace2])\n",
    "\n",
    "layout=Layout(\n",
    "        yaxis=YAxis(title='Explained variance in percent'),\n",
    "        title='Explained variance by different principal components')\n",
    "\n",
    "fig = Figure(data=data, layout=layout)\n",
    "py.iplot(fig)"
   ]
  },
  {
   "cell_type": "code",
   "execution_count": 49,
   "metadata": {},
   "outputs": [],
   "source": [
    "number_features=20\n",
    "#decide how many principal components i get\n",
    "number_pa=15\n",
    "#define matrix to be filled in\n",
    "matrix_w=np.ones((number_features, number_pa))\n",
    "for i in range(number_pa):\n",
    "    matrix_w[:,i] = eig_pairs[i][1]"
   ]
  },
  {
   "cell_type": "code",
   "execution_count": 50,
   "metadata": {},
   "outputs": [],
   "source": [
    "df_train_pca_std_transf = df_train_pca_std.dot(matrix_w)"
   ]
  },
  {
   "cell_type": "code",
   "execution_count": 51,
   "metadata": {},
   "outputs": [],
   "source": [
    "y_train_pca=np.array(df_train['Prediction'])\n",
    "y_train_pca[np.where(y_train_pca=='b')] = -1.\n",
    "y_train_pca[np.where(y_train_pca=='s')] = 1.\n",
    "y_train_pca=y_train_pca.astype('float')"
   ]
  },
  {
   "cell_type": "code",
   "execution_count": 52,
   "metadata": {},
   "outputs": [
    {
     "name": "stdout",
     "output_type": "stream",
     "text": [
      "MSE:  0.30512169018909663    Degree:  15    Lambda:  1e-06\n",
      "\n",
      "Ws:  [ 2.66326859e-01 -1.38105432e-01 -1.52926653e-02  6.64838439e-03\n",
      "  1.90988693e-03  2.46034130e-04  1.91660823e-05  8.29471896e-07\n",
      "  1.27392465e-08  1.53229075e-11  1.68933379e-11  2.07285090e-13\n",
      " -2.58881938e-14 -7.07518154e-17  1.36176203e-17 -8.69529201e-20\n",
      "  8.08082356e-02 -2.21471085e-01  2.10104322e-02  1.80471760e-02\n",
      " -3.93698913e-03 -1.12936904e-04  9.70970769e-05 -6.69579246e-06\n",
      " -5.62851961e-07  1.03170288e-07 -5.29563939e-09  5.12340874e-11\n",
      "  5.11947485e-12 -1.94966351e-13  2.14964358e-15 -3.92581327e-01\n",
      "  4.70590763e-02  3.75748658e-02 -5.52103578e-03 -1.37919955e-03\n",
      "  1.99683609e-04  2.23687059e-05 -3.22519691e-06 -1.60530926e-07\n",
      "  2.59963413e-08  3.61270058e-10 -1.02378881e-10  9.27274530e-13\n",
      "  1.56352483e-13 -3.80352622e-15 -9.69046844e-03 -5.87208728e-02\n",
      "  4.20975438e-02  2.58349327e-02 -5.33627819e-02 -1.47321167e-02\n",
      "  2.81383545e-02  4.05938324e-03 -7.39058836e-03 -6.48926680e-04\n",
      "  1.00350988e-03  5.78536625e-05 -6.53078403e-05 -2.14569456e-06\n",
      "  1.48996832e-06  1.09809131e-01 -1.91760430e-02 -7.49295905e-03\n",
      "  2.32223693e-03  2.90976746e-04 -3.01472061e-05 -2.59583224e-06\n",
      " -1.19117669e-07 -4.47342873e-08 -3.10324481e-09 -4.79152834e-11\n",
      " -7.45419902e-13  1.36043692e-14  1.45155871e-17  2.16215215e-17\n",
      "  1.11263323e-01 -5.53111773e-01 -3.64311560e-01  8.34685124e-01\n",
      "  3.66392162e-01 -6.11282278e-01 -1.59270513e-01  2.31494132e-01\n",
      "  2.94031521e-02 -4.62270107e-02 -1.16370545e-03  4.63745264e-03\n",
      " -2.54666932e-04 -1.84390637e-04  2.18769143e-05 -1.08919910e-02\n",
      " -2.52406379e-01  2.80642915e-03  6.34586558e-01  1.14185405e-01\n",
      " -6.91645408e-01 -2.07445326e-01  3.94782025e-01  1.46281631e-01\n",
      " -1.22095153e-01 -4.97502750e-02  1.92680525e-02  8.16728154e-03\n",
      " -1.21285128e-03 -5.18693907e-04 -1.04501033e-01  7.46422132e-03\n",
      "  6.13362117e-03  2.22927796e-05 -1.59929539e-04  1.33982430e-05\n",
      " -3.65571067e-07  2.03434909e-09  8.38518128e-11  1.48943918e-14\n",
      " -3.94931657e-15  2.11105399e-17 -1.43235583e-19 -1.81892636e-21\n",
      " -2.67000758e-23  1.79360863e-03  5.12094304e-02 -2.45106864e-02\n",
      " -9.92065683e-02  3.40952430e-02  8.09088961e-02 -1.56115787e-02\n",
      " -3.59689694e-02  1.68967687e-03  8.76755191e-03  5.76446183e-04\n",
      " -1.07547881e-03 -1.54516188e-04  5.10442593e-05  1.00366735e-05\n",
      " -1.43474777e-01  1.33098083e-02  3.54245267e-03 -1.24430703e-03\n",
      " -1.29164319e-04  3.78642208e-05  2.01185051e-06 -4.10242368e-07\n",
      " -7.37389511e-09  1.39408509e-09 -5.58252854e-11 -2.07293344e-12\n",
      "  1.25817130e-13  2.19891905e-15 -2.28796803e-17  6.12240528e-02\n",
      " -4.75111105e-02 -2.49506475e-03  5.35419491e-03  4.36907522e-04\n",
      " -1.18436565e-04 -1.25028852e-05  2.44097357e-07 -5.50793175e-10\n",
      " -1.08235338e-10 -6.88418785e-13 -8.56904299e-14 -2.58252743e-15\n",
      "  2.96768028e-17  1.15925569e-18 -1.86026354e-01  9.32590645e-02\n",
      "  2.08743071e-02 -1.21839939e-02 -8.21864192e-04  4.25179562e-04\n",
      "  2.64938218e-06 -3.06766448e-06  3.89897167e-07  8.93547946e-09\n",
      " -1.33586581e-12  1.58786517e-12  1.06514187e-13  1.13749501e-14\n",
      "  1.82794086e-16  1.87512882e-02 -1.87772132e-01 -3.73973983e-02\n",
      " -1.80068993e-01  7.86933849e-02 -1.95799989e-04 -6.05012593e-02\n",
      "  5.10942518e-02  2.15992646e-02 -1.73186697e-02 -3.92204259e-03\n",
      "  2.21369406e-03  3.50801674e-04 -1.00306088e-04 -1.22285385e-05\n",
      " -6.13724720e-03 -1.28871234e-02  6.94424971e-02  1.78538952e-02\n",
      " -2.70808957e-02 -4.16419504e-03  3.70125174e-03  3.33024967e-04\n",
      " -2.31645555e-04 -1.16385596e-05  7.23868480e-06  1.82089544e-07\n",
      " -1.09592155e-07 -1.04175634e-09  6.39735208e-10 -6.49393204e-02\n",
      "  2.72557216e-02  1.03413032e-02 -5.43794422e-03 -1.18614321e-03\n",
      "  3.01461675e-04  3.57636192e-05 -5.83973208e-06 -3.59556537e-07\n",
      "  4.10992617e-08  7.90089850e-10 -6.66089919e-11  1.08761471e-12\n",
      "  4.21843408e-14 -3.69383471e-16]\n"
     ]
    }
   ],
   "source": [
    "lambdas=np.logspace(-10,-1,10)\n",
    "degrees=np.linspace(1,15,15).astype('int')\n",
    "mses= np.zeros((len(degrees), len(lambdas)))\n",
    "\n",
    "for ind_degree,degree in enumerate(degrees):\n",
    "    tx_train_pca_std_transf_polynomial=polynomial_features_simple(df_train_pca_std_transf, degree)\n",
    "    for ind_lambda,lambda_ in enumerate(lambdas):\n",
    "        w,loss=implementations.ridge_regression(y_train_pca,tx_train_pca_std_transf_polynomial,lambda_)\n",
    "        mses[ind_degree, ind_lambda]=loss\n",
    "        \n",
    "mse_final, degree_final,lambda_final=get_best_parameters(degrees, lambdas, mses)\n",
    "tx_train_pca_std_transf_polynomial=polynomial_features_simple(df_train_pca_std_transf, degree_final)\n",
    "w_final,loss=implementations.ridge_regression(y_train_pca,tx_train_pca_std_transf_polynomial,lambda_final)\n",
    "\n",
    "print('MSE: ',mse_final,'   Degree: ',degree_final,'   Lambda: ',lambda_final)\n",
    "print('')\n",
    "print('Ws: ',w_final)"
   ]
  },
  {
   "cell_type": "code",
   "execution_count": 53,
   "metadata": {},
   "outputs": [
    {
     "data": {
      "text/plain": [
       "0.788272"
      ]
     },
     "execution_count": 53,
     "metadata": {},
     "output_type": "execute_result"
    }
   ],
   "source": [
    "y_pred=predict_labels(w_final,tx_train_pca_std_transf_polynomial)\n",
    "list(y_pred*y_train_pca).count(1.)/len(tx_train_pca_std_transf_polynomial)"
   ]
  },
  {
   "cell_type": "code",
   "execution_count": 54,
   "metadata": {},
   "outputs": [],
   "source": [
    "df_test_pca=df_test.drop(columns=['Prediction', 'Id'])"
   ]
  },
  {
   "cell_type": "code",
   "execution_count": 55,
   "metadata": {},
   "outputs": [],
   "source": [
    "df_test_pca=df_test_pca.drop(columns=['PRI_jet_subleading_pt', 'PRI_jet_subleading_eta', 'PRI_jet_subleading_phi', 'DER_lep_eta_centrality', 'DER_prodeta_jet_jet', 'DER_mass_jet_jet', 'DER_deltaeta_jet_jet','PRI_jet_leading_pt','PRI_jet_leading_eta','PRI_jet_leading_phi'])"
   ]
  },
  {
   "cell_type": "code",
   "execution_count": 56,
   "metadata": {
    "scrolled": true
   },
   "outputs": [
    {
     "name": "stderr",
     "output_type": "stream",
     "text": [
      "/Users/gianlucamancini/anaconda3/lib/python3.6/site-packages/ipykernel/__main__.py:1: SettingWithCopyWarning:\n",
      "\n",
      "\n",
      "A value is trying to be set on a copy of a slice from a DataFrame\n",
      "\n",
      "See the caveats in the documentation: http://pandas.pydata.org/pandas-docs/stable/indexing.html#indexing-view-versus-copy\n",
      "\n"
     ]
    }
   ],
   "source": [
    "df_test_pca['DER_mass_MMC'][df_test_pca['DER_mass_MMC']==-999.0]=median"
   ]
  },
  {
   "cell_type": "code",
   "execution_count": 57,
   "metadata": {},
   "outputs": [
    {
     "data": {
      "text/html": [
       "<div>\n",
       "<style scoped>\n",
       "    .dataframe tbody tr th:only-of-type {\n",
       "        vertical-align: middle;\n",
       "    }\n",
       "\n",
       "    .dataframe tbody tr th {\n",
       "        vertical-align: top;\n",
       "    }\n",
       "\n",
       "    .dataframe thead th {\n",
       "        text-align: right;\n",
       "    }\n",
       "</style>\n",
       "<table border=\"1\" class=\"dataframe\">\n",
       "  <thead>\n",
       "    <tr style=\"text-align: right;\">\n",
       "      <th></th>\n",
       "      <th>DER_mass_MMC</th>\n",
       "      <th>DER_mass_transverse_met_lep</th>\n",
       "      <th>DER_mass_vis</th>\n",
       "      <th>DER_pt_h</th>\n",
       "      <th>DER_deltar_tau_lep</th>\n",
       "      <th>DER_pt_tot</th>\n",
       "      <th>DER_sum_pt</th>\n",
       "      <th>DER_pt_ratio_lep_tau</th>\n",
       "      <th>DER_met_phi_centrality</th>\n",
       "      <th>PRI_tau_pt</th>\n",
       "      <th>PRI_tau_eta</th>\n",
       "      <th>PRI_tau_phi</th>\n",
       "      <th>PRI_lep_pt</th>\n",
       "      <th>PRI_lep_eta</th>\n",
       "      <th>PRI_lep_phi</th>\n",
       "      <th>PRI_met</th>\n",
       "      <th>PRI_met_phi</th>\n",
       "      <th>PRI_met_sumet</th>\n",
       "      <th>PRI_jet_num</th>\n",
       "      <th>PRI_jet_all_pt</th>\n",
       "    </tr>\n",
       "  </thead>\n",
       "  <tbody>\n",
       "    <tr>\n",
       "      <th>0</th>\n",
       "      <td>-0.268911</td>\n",
       "      <td>0.858660</td>\n",
       "      <td>-1.402594</td>\n",
       "      <td>-0.861825</td>\n",
       "      <td>-1.877739</td>\n",
       "      <td>-0.713016</td>\n",
       "      <td>-0.885125</td>\n",
       "      <td>0.116474</td>\n",
       "      <td>-1.068795</td>\n",
       "      <td>-0.741540</td>\n",
       "      <td>-0.435744</td>\n",
       "      <td>-0.330715</td>\n",
       "      <td>-0.576944</td>\n",
       "      <td>-0.383004</td>\n",
       "      <td>-0.855740</td>\n",
       "      <td>0.206470</td>\n",
       "      <td>1.121343</td>\n",
       "      <td>-0.879382</td>\n",
       "      <td>-1.001792</td>\n",
       "      <td>-0.745439</td>\n",
       "    </tr>\n",
       "    <tr>\n",
       "      <th>1</th>\n",
       "      <td>-0.242808</td>\n",
       "      <td>0.516347</td>\n",
       "      <td>0.165742</td>\n",
       "      <td>-0.124136</td>\n",
       "      <td>-0.415246</td>\n",
       "      <td>-0.729044</td>\n",
       "      <td>-0.220967</td>\n",
       "      <td>0.401769</td>\n",
       "      <td>-0.901232</td>\n",
       "      <td>-0.356568</td>\n",
       "      <td>-1.460392</td>\n",
       "      <td>1.685513</td>\n",
       "      <td>0.358660</td>\n",
       "      <td>-0.118178</td>\n",
       "      <td>0.964136</td>\n",
       "      <td>-0.626979</td>\n",
       "      <td>-0.622376</td>\n",
       "      <td>-0.265189</td>\n",
       "      <td>0.021305</td>\n",
       "      <td>-0.260057</td>\n",
       "    </tr>\n",
       "    <tr>\n",
       "      <th>2</th>\n",
       "      <td>-0.028179</td>\n",
       "      <td>0.197658</td>\n",
       "      <td>0.371701</td>\n",
       "      <td>-0.844529</td>\n",
       "      <td>0.487796</td>\n",
       "      <td>-0.663585</td>\n",
       "      <td>-0.525749</td>\n",
       "      <td>-0.404395</td>\n",
       "      <td>-1.072147</td>\n",
       "      <td>0.350552</td>\n",
       "      <td>-0.236416</td>\n",
       "      <td>1.699273</td>\n",
       "      <td>0.198315</td>\n",
       "      <td>-0.417787</td>\n",
       "      <td>0.160991</td>\n",
       "      <td>-0.676592</td>\n",
       "      <td>-1.025197</td>\n",
       "      <td>-0.777018</td>\n",
       "      <td>-1.001792</td>\n",
       "      <td>-0.745439</td>\n",
       "    </tr>\n",
       "    <tr>\n",
       "      <th>3</th>\n",
       "      <td>0.312090</td>\n",
       "      <td>-0.527258</td>\n",
       "      <td>0.394479</td>\n",
       "      <td>-0.766500</td>\n",
       "      <td>0.559324</td>\n",
       "      <td>-0.440584</td>\n",
       "      <td>-0.555894</td>\n",
       "      <td>-0.732306</td>\n",
       "      <td>-1.050363</td>\n",
       "      <td>0.581544</td>\n",
       "      <td>0.328623</td>\n",
       "      <td>-0.770509</td>\n",
       "      <td>-0.194391</td>\n",
       "      <td>-0.217784</td>\n",
       "      <td>1.158454</td>\n",
       "      <td>-0.504223</td>\n",
       "      <td>0.652305</td>\n",
       "      <td>-0.356446</td>\n",
       "      <td>-1.001792</td>\n",
       "      <td>-0.745439</td>\n",
       "    </tr>\n",
       "    <tr>\n",
       "      <th>4</th>\n",
       "      <td>-0.849988</td>\n",
       "      <td>0.948716</td>\n",
       "      <td>-0.549884</td>\n",
       "      <td>0.498779</td>\n",
       "      <td>-1.718078</td>\n",
       "      <td>2.617272</td>\n",
       "      <td>4.866821</td>\n",
       "      <td>0.326006</td>\n",
       "      <td>-0.657429</td>\n",
       "      <td>0.284650</td>\n",
       "      <td>-1.266005</td>\n",
       "      <td>1.037656</td>\n",
       "      <td>1.386447</td>\n",
       "      <td>-1.496856</td>\n",
       "      <td>1.538283</td>\n",
       "      <td>-0.593326</td>\n",
       "      <td>-0.121884</td>\n",
       "      <td>5.215974</td>\n",
       "      <td>2.067499</td>\n",
       "      <td>5.368014</td>\n",
       "    </tr>\n",
       "  </tbody>\n",
       "</table>\n",
       "</div>"
      ],
      "text/plain": [
       "   DER_mass_MMC  DER_mass_transverse_met_lep  DER_mass_vis  DER_pt_h  \\\n",
       "0     -0.268911                     0.858660     -1.402594 -0.861825   \n",
       "1     -0.242808                     0.516347      0.165742 -0.124136   \n",
       "2     -0.028179                     0.197658      0.371701 -0.844529   \n",
       "3      0.312090                    -0.527258      0.394479 -0.766500   \n",
       "4     -0.849988                     0.948716     -0.549884  0.498779   \n",
       "\n",
       "   DER_deltar_tau_lep  DER_pt_tot  DER_sum_pt  DER_pt_ratio_lep_tau  \\\n",
       "0           -1.877739   -0.713016   -0.885125              0.116474   \n",
       "1           -0.415246   -0.729044   -0.220967              0.401769   \n",
       "2            0.487796   -0.663585   -0.525749             -0.404395   \n",
       "3            0.559324   -0.440584   -0.555894             -0.732306   \n",
       "4           -1.718078    2.617272    4.866821              0.326006   \n",
       "\n",
       "   DER_met_phi_centrality  PRI_tau_pt  PRI_tau_eta  PRI_tau_phi  PRI_lep_pt  \\\n",
       "0               -1.068795   -0.741540    -0.435744    -0.330715   -0.576944   \n",
       "1               -0.901232   -0.356568    -1.460392     1.685513    0.358660   \n",
       "2               -1.072147    0.350552    -0.236416     1.699273    0.198315   \n",
       "3               -1.050363    0.581544     0.328623    -0.770509   -0.194391   \n",
       "4               -0.657429    0.284650    -1.266005     1.037656    1.386447   \n",
       "\n",
       "   PRI_lep_eta  PRI_lep_phi   PRI_met  PRI_met_phi  PRI_met_sumet  \\\n",
       "0    -0.383004    -0.855740  0.206470     1.121343      -0.879382   \n",
       "1    -0.118178     0.964136 -0.626979    -0.622376      -0.265189   \n",
       "2    -0.417787     0.160991 -0.676592    -1.025197      -0.777018   \n",
       "3    -0.217784     1.158454 -0.504223     0.652305      -0.356446   \n",
       "4    -1.496856     1.538283 -0.593326    -0.121884       5.215974   \n",
       "\n",
       "   PRI_jet_num  PRI_jet_all_pt  \n",
       "0    -1.001792       -0.745439  \n",
       "1     0.021305       -0.260057  \n",
       "2    -1.001792       -0.745439  \n",
       "3    -1.001792       -0.745439  \n",
       "4     2.067499        5.368014  "
      ]
     },
     "execution_count": 57,
     "metadata": {},
     "output_type": "execute_result"
    }
   ],
   "source": [
    "features = df_test_pca.columns.values\n",
    "df_test_pca_std=pd.DataFrame()\n",
    "\n",
    "def standardize_test(x, train_set):\n",
    "    x=(x-np.mean(train_set, axis=0))/np.std(train_set, axis=0)\n",
    "    return x\n",
    "\n",
    "df_test_pca_std=standardize_test(df_test_pca, df_train_pca)\n",
    "df_test_pca_std.head()"
   ]
  },
  {
   "cell_type": "code",
   "execution_count": 58,
   "metadata": {},
   "outputs": [],
   "source": [
    "df_test_pca_std_transf = df_test_pca_std.dot(matrix_w)"
   ]
  },
  {
   "cell_type": "code",
   "execution_count": 59,
   "metadata": {},
   "outputs": [],
   "source": [
    "tx_test_pca_std_transf_polynomial=polynomial_features_simple(df_test_pca_std_transf, degree_final)"
   ]
  },
  {
   "cell_type": "markdown",
   "metadata": {},
   "source": [
    "# Submission"
   ]
  },
  {
   "cell_type": "code",
   "execution_count": 60,
   "metadata": {},
   "outputs": [],
   "source": [
    "tx_test=tx_test_pca_std_transf_polynomial\n",
    "y_pred=predict_labels(w_final,tx_test)\n",
    "create_csv_submission(df_test['Id'], y_pred, 'trial_ridge_polynomial_pca')"
   ]
  },
  {
   "cell_type": "code",
   "execution_count": null,
   "metadata": {},
   "outputs": [],
   "source": []
  }
 ],
 "metadata": {
  "kernelspec": {
   "display_name": "Python [conda env:anaconda3]",
   "language": "python",
   "name": "conda-env-anaconda3-py"
  },
  "language_info": {
   "codemirror_mode": {
    "name": "ipython",
    "version": 3
   },
   "file_extension": ".py",
   "mimetype": "text/x-python",
   "name": "python",
   "nbconvert_exporter": "python",
   "pygments_lexer": "ipython3",
   "version": "3.6.5"
  }
 },
 "nbformat": 4,
 "nbformat_minor": 2
}
