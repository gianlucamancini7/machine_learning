{
 "cells": [
  {
   "cell_type": "code",
   "execution_count": 2,
   "metadata": {},
   "outputs": [],
   "source": [
    "# Useful starting lines\n",
    "%matplotlib inline\n",
    "import numpy as np\n",
    "import matplotlib.pyplot as plt\n",
    "%load_ext autoreload\n",
    "%autoreload 2\n",
    "#allows to print the dataframe nicely\n",
    "from IPython.core import display as ICD"
   ]
  },
  {
   "cell_type": "code",
   "execution_count": 3,
   "metadata": {},
   "outputs": [],
   "source": [
    "# import additional packages to insepct data\n",
    "import pandas as pd\n",
    "import os \n",
    "import random \n",
    "from zipfile import ZipFile"
   ]
  },
  {
   "cell_type": "code",
   "execution_count": 4,
   "metadata": {},
   "outputs": [],
   "source": [
    "# import helping functions\n",
    "from proj1_helpers import load_csv_data"
   ]
  },
  {
   "cell_type": "code",
   "execution_count": 5,
   "metadata": {},
   "outputs": [
    {
     "data": {
      "text/plain": [
       "[<ZipInfo filename='train.csv' compress_type=deflate file_size=48103379 compress_size=17670847>,\n",
       " <ZipInfo filename='test.csv' compress_type=deflate file_size=109335584 compress_size=40089137>,\n",
       " <ZipInfo filename='sample-submission.csv' compress_type=deflate file_size=5682394 compress_size=1263762>]"
      ]
     },
     "execution_count": 5,
     "metadata": {},
     "output_type": "execute_result"
    }
   ],
   "source": [
    "# import files\n",
    "data_folder='./data/'\n",
    "zip_file = ZipFile(data_folder+'all.zip')\n",
    "# zip file creates a list of files with certain properties\n",
    "zip_file.infolist()"
   ]
  },
  {
   "cell_type": "markdown",
   "metadata": {},
   "source": [
    "Training set, Validation set and Test set."
   ]
  },
  {
   "cell_type": "code",
   "execution_count": 6,
   "metadata": {},
   "outputs": [],
   "source": [
    "# now we want to access the 'filename' property in the zipfile variable\n",
    "# and we create a dictionary of dataframe\n",
    "dfs = {text_file.filename: pd.read_csv(zip_file.open(text_file.filename))\n",
    "       for text_file in zip_file.infolist()\n",
    "       if text_file.filename.endswith('.csv')}\n",
    "df_train=dfs['train.csv']\n",
    "df_test=dfs['test.csv']\n",
    "df_sample_submission=dfs['sample-submission.csv']"
   ]
  },
  {
   "cell_type": "markdown",
   "metadata": {},
   "source": [
    "variables prefixed with PRI (for PRImitives) are “raw” quantities about the bunch collision as measured by the detector.\n",
    "variables prefixed with DER (for DERived) are quantities computed from the primitive features, which were selected by  the physicists of ATLAS\n",
    "it can happen that for some entries some variables are meaningless or cannot be computed; in this case, their value is −999.0, which is outside the normal range of all variables"
   ]
  },
  {
   "cell_type": "code",
   "execution_count": 67,
   "metadata": {},
   "outputs": [
    {
     "data": {
      "text/plain": [
       "array(['Id', 'Prediction', 'DER_mass_MMC', 'DER_mass_transverse_met_lep',\n",
       "       'DER_mass_vis', 'DER_pt_h', 'DER_deltaeta_jet_jet',\n",
       "       'DER_mass_jet_jet', 'DER_prodeta_jet_jet', 'DER_deltar_tau_lep',\n",
       "       'DER_pt_tot', 'DER_sum_pt', 'DER_pt_ratio_lep_tau',\n",
       "       'DER_met_phi_centrality', 'DER_lep_eta_centrality', 'PRI_tau_pt',\n",
       "       'PRI_tau_eta', 'PRI_tau_phi', 'PRI_lep_pt', 'PRI_lep_eta',\n",
       "       'PRI_lep_phi', 'PRI_met', 'PRI_met_phi', 'PRI_met_sumet',\n",
       "       'PRI_jet_num', 'PRI_jet_leading_pt', 'PRI_jet_leading_eta',\n",
       "       'PRI_jet_leading_phi', 'PRI_jet_subleading_pt',\n",
       "       'PRI_jet_subleading_eta', 'PRI_jet_subleading_phi',\n",
       "       'PRI_jet_all_pt'], dtype=object)"
      ]
     },
     "metadata": {},
     "output_type": "display_data"
    },
    {
     "name": "stdout",
     "output_type": "stream",
     "text": [
      "<class 'pandas.core.frame.DataFrame'>\n",
      "Int64Index: 211885 entries, 0 to 249998\n",
      "Data columns (total 20 columns):\n",
      "DER_mass_MMC                   211885 non-null float64\n",
      "DER_mass_transverse_met_lep    211885 non-null float64\n",
      "DER_mass_vis                   211885 non-null float64\n",
      "DER_pt_h                       211885 non-null float64\n",
      "DER_deltar_tau_lep             211885 non-null float64\n",
      "DER_pt_tot                     211885 non-null float64\n",
      "DER_sum_pt                     211885 non-null float64\n",
      "DER_pt_ratio_lep_tau           211885 non-null float64\n",
      "DER_met_phi_centrality         211885 non-null float64\n",
      "PRI_tau_pt                     211885 non-null float64\n",
      "PRI_tau_eta                    211885 non-null float64\n",
      "PRI_tau_phi                    211885 non-null float64\n",
      "PRI_lep_pt                     211885 non-null float64\n",
      "PRI_lep_eta                    211885 non-null float64\n",
      "PRI_lep_phi                    211885 non-null float64\n",
      "PRI_met                        211885 non-null float64\n",
      "PRI_met_phi                    211885 non-null float64\n",
      "PRI_met_sumet                  211885 non-null float64\n",
      "PRI_jet_num                    211885 non-null float64\n",
      "PRI_jet_all_pt                 211885 non-null float64\n",
      "dtypes: float64(20)\n",
      "memory usage: 33.9 MB\n"
     ]
    },
    {
     "name": "stderr",
     "output_type": "stream",
     "text": [
      "/Users/gianlucamancini/anaconda3/lib/python3.6/site-packages/ipykernel/__main__.py:9: SettingWithCopyWarning: \n",
      "A value is trying to be set on a copy of a slice from a DataFrame.\n",
      "Try using .loc[row_indexer,col_indexer] = value instead\n",
      "\n",
      "See the caveats in the documentation: http://pandas.pydata.org/pandas-docs/stable/indexing.html#indexing-view-versus-copy\n"
     ]
    }
   ],
   "source": [
    "df_train_independent=df_train[['DER_mass_MMC','DER_mass_transverse_met_lep', 'DER_mass_vis', 'DER_pt_h', 'DER_deltar_tau_lep', \n",
    "                              'DER_pt_tot', 'DER_sum_pt', 'DER_pt_ratio_lep_tau', 'DER_met_phi_centrality', 'PRI_tau_pt', \n",
    "                              'PRI_tau_eta', 'PRI_tau_phi', 'PRI_lep_pt', 'PRI_lep_eta','PRI_lep_phi', 'PRI_met', 'PRI_met_phi', \n",
    "                               'PRI_met_sumet','PRI_jet_num', 'PRI_jet_all_pt' ,'PRI_jet_num']]\n",
    "ICD.display(df_train.columns.values)\n",
    "df_train_dependent=df_train[['DER_deltaeta_jet_jet','DER_mass_jet_jet', 'DER_prodeta_jet_jet','DER_lep_eta_centrality',\n",
    "                             'PRI_jet_leading_pt', 'PRI_jet_leading_eta','PRI_jet_leading_phi', 'PRI_jet_subleading_pt',\n",
    "                             'PRI_jet_subleading_eta', 'PRI_jet_subleading_phi']]\n",
    "df_train_independent['PRI_jet_num']=df_train_independent['PRI_jet_num'].astype('float')\n",
    "df_train_independent.info()"
   ]
  },
  {
   "cell_type": "code",
   "execution_count": 63,
   "metadata": {},
   "outputs": [
    {
     "name": "stdout",
     "output_type": "stream",
     "text": [
      "the same\n",
      "<class 'pandas.core.frame.DataFrame'>\n",
      "Int64Index: 211885 entries, 0 to 249998\n",
      "Data columns (total 20 columns):\n",
      "DER_mass_MMC                   211885 non-null float64\n",
      "DER_mass_transverse_met_lep    211885 non-null float64\n",
      "DER_mass_vis                   211885 non-null float64\n",
      "DER_pt_h                       211885 non-null float64\n",
      "DER_deltar_tau_lep             211885 non-null float64\n",
      "DER_pt_tot                     211885 non-null float64\n",
      "DER_sum_pt                     211885 non-null float64\n",
      "DER_pt_ratio_lep_tau           211885 non-null float64\n",
      "DER_met_phi_centrality         211885 non-null float64\n",
      "PRI_tau_pt                     211885 non-null float64\n",
      "PRI_tau_eta                    211885 non-null float64\n",
      "PRI_tau_phi                    211885 non-null float64\n",
      "PRI_lep_pt                     211885 non-null float64\n",
      "PRI_lep_eta                    211885 non-null float64\n",
      "PRI_lep_phi                    211885 non-null float64\n",
      "PRI_met                        211885 non-null float64\n",
      "PRI_met_phi                    211885 non-null float64\n",
      "PRI_met_sumet                  211885 non-null float64\n",
      "PRI_jet_num                    211885 non-null int64\n",
      "PRI_jet_all_pt                 211885 non-null float64\n",
      "dtypes: float64(19), int64(1)\n",
      "memory usage: 43.9 MB\n",
      "<class 'pandas.core.frame.DataFrame'>\n",
      "Int64Index: 176691 entries, 0 to 249998\n",
      "Data columns (total 20 columns):\n",
      "DER_mass_MMC                   176691 non-null float64\n",
      "DER_mass_transverse_met_lep    176691 non-null float64\n",
      "DER_mass_vis                   176691 non-null float64\n",
      "DER_pt_h                       176691 non-null float64\n",
      "DER_deltar_tau_lep             176691 non-null float64\n",
      "DER_pt_tot                     176691 non-null float64\n",
      "DER_sum_pt                     176691 non-null float64\n",
      "DER_pt_ratio_lep_tau           176691 non-null float64\n",
      "DER_met_phi_centrality         176691 non-null float64\n",
      "PRI_tau_pt                     176691 non-null float64\n",
      "PRI_tau_eta                    176691 non-null float64\n",
      "PRI_tau_phi                    176691 non-null float64\n",
      "PRI_lep_pt                     176691 non-null float64\n",
      "PRI_lep_eta                    176691 non-null float64\n",
      "PRI_lep_phi                    176691 non-null float64\n",
      "PRI_met                        176691 non-null float64\n",
      "PRI_met_phi                    176691 non-null float64\n",
      "PRI_met_sumet                  176691 non-null float64\n",
      "PRI_jet_num                    176691 non-null int64\n",
      "PRI_jet_all_pt                 176691 non-null float64\n",
      "dtypes: float64(19), int64(1)\n",
      "memory usage: 28.3 MB\n"
     ]
    }
   ],
   "source": [
    "# take out negative values being -999\n",
    "df_train['DER_mass_MMC'][df_train['DER_mass_MMC'].apply(lambda x: x<0)].unique()\n",
    "\n",
    "df_train=df_train.drop(df_train.index[df_train['DER_mass_MMC'].apply(lambda x: x<0)])\n",
    "df_train['DER_mass_transverse_met_lep'].describe()\n",
    "df_train['DER_mass_vis'].describe()\n",
    "df_train['DER_pt_h'].describe()\n",
    "\n",
    "# changing almost consistently between zero and -1000\n",
    "df_train['DER_deltaeta_jet_jet'].describe()\n",
    "# plt.plot(range(100),df_train['DER_deltaeta_jet_jet'][:100])\n",
    "\n",
    "# changing almost consistently between zero and -1000\n",
    "df_train['DER_mass_jet_jet'].describe()\n",
    "# plt.plot(range(100),df_train['DER_mass_jet_jet'][:100])\n",
    "\n",
    "# changing almost consistently between zero and -1000\n",
    "df_train['DER_prodeta_jet_jet'].describe()\n",
    "# plt.plot(range(100),df_train['DER_prodeta_jet_jet'][:100])\n",
    "\n",
    "df_train['DER_deltar_tau_lep'].describe()\n",
    "# plt.plot(range(100),df_train['DER_deltar_tau_lep'][:100])\n",
    "\n",
    "# remove outlier\n",
    "df_train['DER_pt_tot'].describe()\n",
    "df_train=df_train.drop(df_train.index[df_train['DER_pt_tot']>2800])\n",
    "# plt.plot(range(df_train.shape[0]),df_train['DER_pt_tot'])\n",
    "\n",
    "# ok variation\n",
    "df_train['DER_sum_pt'].describe()\n",
    "# plt.plot(range(df_train.shape[0]),df_train['DER_sum_pt'])\n",
    "\n",
    "# ok variation\n",
    "df_train['DER_pt_ratio_lep_tau'].describe()\n",
    "# plt.plot(range(df_train.shape[0]),df_train['DER_pt_ratio_lep_tau'])\n",
    "\n",
    "# oscillation between max of 1.41 and -1.41\n",
    "df_train['DER_met_phi_centrality'].describe()\n",
    "# plt.plot(range(20),df_train['DER_met_phi_centrality'][:20])\n",
    "\n",
    "# changing almost consistently between zero and -1000\n",
    "df_train['DER_lep_eta_centrality'].describe()\n",
    "# plt.plot(range(100),df_train['DER_lep_eta_centrality'][:100])\n",
    "\n",
    "# analysis of pri_jet_num\n",
    "df_train['PRI_jet_num'].describe()\n",
    "\n",
    "# plt.plot(range(100),df_train['PRI_jet_num'][:100])\n",
    "df_train.index[df_train['DER_lep_eta_centrality']==-999.0]\n",
    "df_train.index[df_train['PRI_jet_num']<=1]\n",
    "\n",
    "if df_train.index[df_train['PRI_jet_num']<=1].all()==df_train.index[df_train['DER_lep_eta_centrality']==-999.0].all():\n",
    "    print ('the same')\n",
    "\n",
    "# ok values with a peak at 600 which is not completely outlier\n",
    "df_train['PRI_tau_pt'].describe()\n",
    "# plt.plot(range(len(df_train['PRI_tau_pt'])),df_train['PRI_tau_pt'])\n",
    "\n",
    "# fluctuation between -2.499 and 2.499\n",
    "df_train['PRI_tau_eta'].describe()\n",
    "# plt.plot(range(len(df_train['PRI_tau_eta'][:100])),df_train['PRI_tau_eta'][:100])\n",
    "\n",
    "# fluctuation between -3.14 and 3,14\n",
    "df_train['PRI_tau_phi'].describe()\n",
    "# plt.plot(range(len(df_train['PRI_tau_phi'][:100])),df_train['PRI_tau_phi'][:100])\n",
    "\n",
    "# ok values with a peak at 461 which is not completely outlier\n",
    "df_train['PRI_lep_pt'].describe()\n",
    "# plt.plot(range(len(df_train['PRI_lep_pt'])),df_train['PRI_lep_pt'])\n",
    "\n",
    "# fluctuation between -2.502 and 2.502\n",
    "df_train['PRI_lep_eta'].describe()\n",
    "# plt.plot(range(len(df_train['PRI_lep_eta'])),df_train['PRI_lep_eta'])\n",
    "\n",
    "# fluctuation between -3.14 and 3,14\n",
    "df_train['PRI_lep_phi'].describe()\n",
    "# plt.plot(range(len(df_train['PRI_lep_phi'])),df_train['PRI_lep_phi'])\n",
    "\n",
    "# removing outlier\n",
    "df_train['PRI_met'].describe()\n",
    "# plt.plot(range(len(df_train['PRI_met'])),df_train['PRI_met'])\n",
    "\n",
    "# removing outliers\n",
    "df_train_independent.info()\n",
    "for column_name in df_train_independent.columns.values:\n",
    "    \n",
    "    df_train_independent=df_train_independent.drop(df_train_independent.index[np.abs(df_train_independent[column_name]-df_train_independent[column_name].mean()) >= (3*df_train_independent[column_name].std())])\n",
    "df_train_independent.info()"
   ]
  },
  {
   "cell_type": "markdown",
   "metadata": {},
   "source": [
    "Divide the data into those who depend on PRI_jet_num and those who don't."
   ]
  },
  {
   "cell_type": "markdown",
   "metadata": {},
   "source": [
    "Certain columns show values of -999.0. These values correspond to undefined values. They are all undefined when the values taken by 'PRI_jet_num' are less than or equal to 1."
   ]
  },
  {
   "cell_type": "code",
   "execution_count": 8,
   "metadata": {},
   "outputs": [],
   "source": [
    "yb, input_data, ids=np.array(df_train['Prediction']), np.array(df_train.iloc[:,2:]), np.array(df_train['Id'])"
   ]
  },
  {
   "cell_type": "code",
   "execution_count": 9,
   "metadata": {},
   "outputs": [
    {
     "data": {
      "text/plain": [
       "array([[ 138.47 ,   51.655,   97.827, ...,    1.24 ,   -2.475,  113.497],\n",
       "       [ 160.937,   68.768,  103.235, ..., -999.   , -999.   ,   46.226],\n",
       "       [-999.   ,  162.172,  125.953, ..., -999.   , -999.   ,   44.251],\n",
       "       ...,\n",
       "       [ 105.457,   60.526,   75.839, ..., -999.   , -999.   ,   41.992],\n",
       "       [  94.951,   19.362,   68.812, ..., -999.   , -999.   ,    0.   ],\n",
       "       [-999.   ,   72.756,   70.831, ..., -999.   , -999.   ,    0.   ]])"
      ]
     },
     "metadata": {},
     "output_type": "display_data"
    }
   ],
   "source": [
    "ICD.display(input_data)\n"
   ]
  },
  {
   "cell_type": "code",
   "execution_count": 10,
   "metadata": {},
   "outputs": [
    {
     "data": {
      "text/plain": [
       "(250000, 30)"
      ]
     },
     "execution_count": 10,
     "metadata": {},
     "output_type": "execute_result"
    }
   ],
   "source": [
    "# transform yb into numerical values\n",
    "yb[np.where(yb=='b')] = -1\n",
    "yb[np.where(yb=='s')] = 1\n",
    "input_data.shape"
   ]
  },
  {
   "cell_type": "markdown",
   "metadata": {},
   "source": [
    "Build Polynomial"
   ]
  },
  {
   "cell_type": "code",
   "execution_count": 50,
   "metadata": {},
   "outputs": [
    {
     "data": {
      "text/plain": [
       "array([[[ 1.00000000e+00,  1.38470000e+02,  1.91739409e+04],\n",
       "        [ 1.00000000e+00,  1.60937000e+02,  2.59007180e+04],\n",
       "        [ 1.00000000e+00, -9.99000000e+02,  9.98001000e+05]],\n",
       "\n",
       "       [[ 1.00000000e+00,  5.16550000e+01,  2.66823903e+03],\n",
       "        [ 1.00000000e+00,  6.87680000e+01,  4.72903782e+03],\n",
       "        [ 1.00000000e+00,  1.62172000e+02,  2.62997576e+04]],\n",
       "\n",
       "       [[ 1.00000000e+00,  9.78270000e+01,  9.57012193e+03],\n",
       "        [ 1.00000000e+00,  1.03235000e+02,  1.06574652e+04],\n",
       "        [ 1.00000000e+00,  1.25953000e+02,  1.58641582e+04]]])"
      ]
     },
     "metadata": {},
     "output_type": "display_data"
    },
    {
     "data": {
      "text/plain": [
       "array([[[[ 1.93134109e+04,  2.60626550e+04,  9.97003000e+05],\n",
       "         [ 2.72089403e+03,  4.79880582e+03,  2.64629296e+04]],\n",
       "\n",
       "        [[-1.91323435e+07, -2.58487781e+07, -9.97163637e+08],\n",
       "         [-2.65711912e+06, -4.71310300e+06, -2.62472199e+07]],\n",
       "\n",
       "        [[ 1.91392178e+10,  2.58531300e+10,  9.95980140e+11],\n",
       "         [ 2.66426229e+09,  4.72138479e+09,  2.62514039e+10]]],\n",
       "\n",
       "\n",
       "       [[[ 1.93134109e+04,  2.60626550e+04,  9.97003000e+05],\n",
       "         [ 2.72089403e+03,  4.79880582e+03,  2.64629296e+04]],\n",
       "\n",
       "        [[ 3.11905030e+06,  4.21149021e+06,  1.61779171e+08],\n",
       "         [ 4.36317525e+05,  7.71698215e+05,  4.27628819e+06]],\n",
       "\n",
       "        [[ 5.04927496e+08,  6.81946349e+08,  2.62424627e+10],\n",
       "         [ 7.04209862e+07,  1.24700423e+08,  6.92446835e+08]]]])"
      ]
     },
     "metadata": {},
     "output_type": "display_data"
    }
   ],
   "source": [
    "# from helpers import polynomial_regression\n",
    "from helpers import build_poly\n",
    "degree=2\n",
    "tx=build_poly(input_data[:3,:3], degree)\n",
    "#you can select the feature space by slicing the array\n",
    "ICD.display(tx[[0,1,2]])\n",
    "\n",
    "#trial of slicing without for loop\n",
    "# ICD.display(np.transpose(tx[[0,1,2]],(0,2,1)))\n",
    "a = np.tensordot(np.transpose(tx[[0,1]],(0,2,1)),(tx[[0,1]]),axes=([2],[2]))\n",
    "b = tx[[0,1,2]].T.dot(yb[[0,1,2]])\n",
    "\n",
    "# ICD.display(tx.shape)\n",
    "np.transpose(tx,(0,2,1)).shape\n",
    "ICD. display(a)"
   ]
  },
  {
   "cell_type": "code",
   "execution_count": 73,
   "metadata": {},
   "outputs": [
    {
     "data": {
      "text/plain": [
       "(3, 3, 3)"
      ]
     },
     "metadata": {},
     "output_type": "display_data"
    },
    {
     "data": {
      "text/plain": [
       "(3, 3, 3)"
      ]
     },
     "metadata": {},
     "output_type": "display_data"
    },
    {
     "data": {
      "text/plain": [
       "array([[[ 1.00000000e+00,  1.38470000e+02,  1.91739409e+04],\n",
       "        [ 1.00000000e+00,  1.60937000e+02,  2.59007180e+04],\n",
       "        [ 1.00000000e+00, -9.99000000e+02,  9.98001000e+05]],\n",
       "\n",
       "       [[ 1.00000000e+00,  5.16550000e+01,  2.66823903e+03],\n",
       "        [ 1.00000000e+00,  6.87680000e+01,  4.72903782e+03],\n",
       "        [ 1.00000000e+00,  1.62172000e+02,  2.62997576e+04]],\n",
       "\n",
       "       [[ 1.00000000e+00,  9.78270000e+01,  9.57012193e+03],\n",
       "        [ 1.00000000e+00,  1.03235000e+02,  1.06574652e+04],\n",
       "        [ 1.00000000e+00,  1.25953000e+02,  1.58641582e+04]]])"
      ]
     },
     "metadata": {},
     "output_type": "display_data"
    },
    {
     "data": {
      "text/plain": [
       "array([[[ 1.00000000e+00,  1.00000000e+00,  1.00000000e+00],\n",
       "        [ 1.38470000e+02,  1.60937000e+02, -9.99000000e+02],\n",
       "        [ 1.91739409e+04,  2.59007180e+04,  9.98001000e+05]],\n",
       "\n",
       "       [[ 1.00000000e+00,  1.00000000e+00,  1.00000000e+00],\n",
       "        [ 5.16550000e+01,  6.87680000e+01,  1.62172000e+02],\n",
       "        [ 2.66823903e+03,  4.72903782e+03,  2.62997576e+04]],\n",
       "\n",
       "       [[ 1.00000000e+00,  1.00000000e+00,  1.00000000e+00],\n",
       "        [ 9.78270000e+01,  1.03235000e+02,  1.25953000e+02],\n",
       "        [ 9.57012193e+03,  1.06574652e+04,  1.58641582e+04]]])"
      ]
     },
     "metadata": {},
     "output_type": "display_data"
    },
    {
     "data": {
      "text/plain": [
       "array([[[ 6.30000000e+01, -6.99593000e+02,  1.04307566e+06],\n",
       "        [-6.99593000e+02,  1.04313566e+06, -9.90179600e+08],\n",
       "        [ 1.04307566e+06, -9.90179600e+08,  9.97044483e+11]],\n",
       "\n",
       "       [[ 6.30000000e+01, -6.99593000e+02,  1.04307566e+06],\n",
       "        [ 2.82595000e+02, -1.43729845e+05,  1.64619389e+08],\n",
       "        [ 3.36970344e+04, -2.51429096e+07,  2.64208306e+10]],\n",
       "\n",
       "       [[ 6.30000000e+01, -6.99593000e+02,  1.04307566e+06],\n",
       "        [ 3.27015000e+02, -9.56066111e+04,  1.30250810e+08],\n",
       "        [ 3.60917454e+04, -1.28079388e+07,  1.62919788e+10]]])"
      ]
     },
     "metadata": {},
     "output_type": "display_data"
    }
   ],
   "source": [
    "from helpers import ridge_regression\n",
    "lambda_=10\n",
    "aI = 2 * tx.shape[0] * lambda_ * np.identity(tx.shape[1])\n",
    "\n",
    "tx_t=np.transpose(tx,(0,2,1))\n",
    "ICD.display(tx_t.shape)\n",
    "ICD.display(tx.shape)\n",
    "\n",
    "a = np.tensordot(tx_t, tx[0], axes=1)+ aI\n",
    "\n",
    "\n",
    "b = tx.T.dot(yb[:3])\n",
    "ICD.display(tx)\n",
    "ICD.display(tx_t)\n",
    "ICD.display(a)\n",
    "# np.linalg.solve(a, b)"
   ]
  },
  {
   "cell_type": "code",
   "execution_count": 105,
   "metadata": {},
   "outputs": [],
   "source": [
    "#function with foor loop\n",
    "def ridge_regression_loop(y, tx, degrees, lambda_):\n",
    "    \"\"\"calculate the least squares.\"\"\"\n",
    "    #weights has dimension: number of degrees, number of features\n",
    "    \n",
    "    weights=np.ones((degrees+1,tx.shape[0]))\n",
    "    \n",
    "    tx_t=np.transpose(tx,(0,2,1))\n",
    "    \n",
    "    # going through every feature\n",
    "    for i in range(tx.shape[0]):\n",
    "        \n",
    "        aI = 2 * tx[i].shape[0] * lambda_ * np.identity(tx[i].shape[1])\n",
    "        print (aI)\n",
    "        print (tx_t[i])\n",
    "        print (tx[i])\n",
    "        print (y)\n",
    "        a = tx_t[i].dot(tx[i])\n",
    "        print ('a')\n",
    "        print (a)\n",
    "        b = tx_t[i].dot(y)\n",
    "        print ('b')\n",
    "        print (b)\n",
    "        \n",
    "        w=np.linalg.solve(a, b)\n",
    "        print (w)\n",
    "        weights[:][i]=w\n",
    "    \n",
    "    return weights"
   ]
  },
  {
   "cell_type": "code",
   "execution_count": 104,
   "metadata": {},
   "outputs": [
    {
     "data": {
      "text/plain": [
       "array([[[ 1.00000000e+00,  1.38470000e+02,  1.91739409e+04],\n",
       "        [ 1.00000000e+00,  1.60937000e+02,  2.59007180e+04],\n",
       "        [ 1.00000000e+00, -9.99000000e+02,  9.98001000e+05]],\n",
       "\n",
       "       [[ 1.00000000e+00,  5.16550000e+01,  2.66823903e+03],\n",
       "        [ 1.00000000e+00,  6.87680000e+01,  4.72903782e+03],\n",
       "        [ 1.00000000e+00,  1.62172000e+02,  2.62997576e+04]],\n",
       "\n",
       "       [[ 1.00000000e+00,  9.78270000e+01,  9.57012193e+03],\n",
       "        [ 1.00000000e+00,  1.03235000e+02,  1.06574652e+04],\n",
       "        [ 1.00000000e+00,  1.25953000e+02,  1.58641582e+04]]])"
      ]
     },
     "metadata": {},
     "output_type": "display_data"
    },
    {
     "data": {
      "text/plain": [
       "array([1, -1, -1], dtype=object)"
      ]
     },
     "metadata": {},
     "output_type": "display_data"
    },
    {
     "name": "stdout",
     "output_type": "stream",
     "text": [
      "[[0. 0. 0.]\n",
      " [0. 0. 0.]\n",
      " [0. 0. 0.]]\n",
      "[[ 1.00000000e+00  1.00000000e+00  1.00000000e+00]\n",
      " [ 1.38470000e+02  1.60937000e+02 -9.99000000e+02]\n",
      " [ 1.91739409e+04  2.59007180e+04  9.98001000e+05]]\n",
      "[[ 1.00000000e+00  1.38470000e+02  1.91739409e+04]\n",
      " [ 1.00000000e+00  1.60937000e+02  2.59007180e+04]\n",
      " [ 1.00000000e+00 -9.99000000e+02  9.98001000e+05]]\n",
      "[1 -1 -1]\n",
      "a\n",
      "[[ 3.00000000e+00 -6.99593000e+02  1.04307566e+06]\n",
      " [-6.99593000e+02  1.04307566e+06 -9.90179600e+08]\n",
      " [ 1.04307566e+06 -9.90179600e+08  9.97044483e+11]]\n",
      "b\n",
      "[-1.0 976.533 -1004727.7770690001]\n"
     ]
    },
    {
     "ename": "TypeError",
     "evalue": "No loop matching the specified signature and casting\nwas found for ufunc solve1",
     "output_type": "error",
     "traceback": [
      "\u001b[0;31m---------------------------------------------------------------------------\u001b[0m",
      "\u001b[0;31mTypeError\u001b[0m                                 Traceback (most recent call last)",
      "\u001b[0;32m<ipython-input-104-4d5131b0a00f>\u001b[0m in \u001b[0;36m<module>\u001b[0;34m()\u001b[0m\n\u001b[1;32m      7\u001b[0m \u001b[0mICD\u001b[0m\u001b[0;34m.\u001b[0m\u001b[0mdisplay\u001b[0m\u001b[0;34m(\u001b[0m\u001b[0mtx\u001b[0m\u001b[0;34m)\u001b[0m\u001b[0;34m\u001b[0m\u001b[0m\n\u001b[1;32m      8\u001b[0m \u001b[0mICD\u001b[0m\u001b[0;34m.\u001b[0m\u001b[0mdisplay\u001b[0m\u001b[0;34m(\u001b[0m\u001b[0my\u001b[0m\u001b[0;34m)\u001b[0m\u001b[0;34m\u001b[0m\u001b[0m\n\u001b[0;32m----> 9\u001b[0;31m \u001b[0mridge_regression_loop\u001b[0m\u001b[0;34m(\u001b[0m\u001b[0my\u001b[0m\u001b[0;34m,\u001b[0m \u001b[0mtx\u001b[0m\u001b[0;34m,\u001b[0m \u001b[0mdegrees\u001b[0m\u001b[0;34m,\u001b[0m \u001b[0mlambda_\u001b[0m\u001b[0;34m)\u001b[0m\u001b[0;34m\u001b[0m\u001b[0m\n\u001b[0m",
      "\u001b[0;32m<ipython-input-103-8ab2935417ba>\u001b[0m in \u001b[0;36mridge_regression_loop\u001b[0;34m(y, tx, degrees, lambda_)\u001b[0m\n\u001b[1;32m     23\u001b[0m         \u001b[0mprint\u001b[0m \u001b[0;34m(\u001b[0m\u001b[0mb\u001b[0m\u001b[0;34m)\u001b[0m\u001b[0;34m\u001b[0m\u001b[0m\n\u001b[1;32m     24\u001b[0m \u001b[0;34m\u001b[0m\u001b[0m\n\u001b[0;32m---> 25\u001b[0;31m         \u001b[0mw\u001b[0m\u001b[0;34m=\u001b[0m\u001b[0mnp\u001b[0m\u001b[0;34m.\u001b[0m\u001b[0mlinalg\u001b[0m\u001b[0;34m.\u001b[0m\u001b[0msolve\u001b[0m\u001b[0;34m(\u001b[0m\u001b[0ma\u001b[0m\u001b[0;34m,\u001b[0m \u001b[0mb\u001b[0m\u001b[0;34m)\u001b[0m\u001b[0;34m\u001b[0m\u001b[0m\n\u001b[0m\u001b[1;32m     26\u001b[0m         \u001b[0mprint\u001b[0m \u001b[0;34m(\u001b[0m\u001b[0mw\u001b[0m\u001b[0;34m)\u001b[0m\u001b[0;34m\u001b[0m\u001b[0m\n\u001b[1;32m     27\u001b[0m \u001b[0;31m#         weights[:][i]=w\u001b[0m\u001b[0;34m\u001b[0m\u001b[0;34m\u001b[0m\u001b[0m\n",
      "\u001b[0;32m~/anaconda3/lib/python3.6/site-packages/numpy/linalg/linalg.py\u001b[0m in \u001b[0;36msolve\u001b[0;34m(a, b)\u001b[0m\n\u001b[1;32m    388\u001b[0m     \u001b[0msignature\u001b[0m \u001b[0;34m=\u001b[0m \u001b[0;34m'DD->D'\u001b[0m \u001b[0;32mif\u001b[0m \u001b[0misComplexType\u001b[0m\u001b[0;34m(\u001b[0m\u001b[0mt\u001b[0m\u001b[0;34m)\u001b[0m \u001b[0;32melse\u001b[0m \u001b[0;34m'dd->d'\u001b[0m\u001b[0;34m\u001b[0m\u001b[0m\n\u001b[1;32m    389\u001b[0m     \u001b[0mextobj\u001b[0m \u001b[0;34m=\u001b[0m \u001b[0mget_linalg_error_extobj\u001b[0m\u001b[0;34m(\u001b[0m\u001b[0m_raise_linalgerror_singular\u001b[0m\u001b[0;34m)\u001b[0m\u001b[0;34m\u001b[0m\u001b[0m\n\u001b[0;32m--> 390\u001b[0;31m     \u001b[0mr\u001b[0m \u001b[0;34m=\u001b[0m \u001b[0mgufunc\u001b[0m\u001b[0;34m(\u001b[0m\u001b[0ma\u001b[0m\u001b[0;34m,\u001b[0m \u001b[0mb\u001b[0m\u001b[0;34m,\u001b[0m \u001b[0msignature\u001b[0m\u001b[0;34m=\u001b[0m\u001b[0msignature\u001b[0m\u001b[0;34m,\u001b[0m \u001b[0mextobj\u001b[0m\u001b[0;34m=\u001b[0m\u001b[0mextobj\u001b[0m\u001b[0;34m)\u001b[0m\u001b[0;34m\u001b[0m\u001b[0m\n\u001b[0m\u001b[1;32m    391\u001b[0m \u001b[0;34m\u001b[0m\u001b[0m\n\u001b[1;32m    392\u001b[0m     \u001b[0;32mreturn\u001b[0m \u001b[0mwrap\u001b[0m\u001b[0;34m(\u001b[0m\u001b[0mr\u001b[0m\u001b[0;34m.\u001b[0m\u001b[0mastype\u001b[0m\u001b[0;34m(\u001b[0m\u001b[0mresult_t\u001b[0m\u001b[0;34m,\u001b[0m \u001b[0mcopy\u001b[0m\u001b[0;34m=\u001b[0m\u001b[0;32mFalse\u001b[0m\u001b[0;34m)\u001b[0m\u001b[0;34m)\u001b[0m\u001b[0;34m\u001b[0m\u001b[0m\n",
      "\u001b[0;31mTypeError\u001b[0m: No loop matching the specified signature and casting\nwas found for ufunc solve1"
     ]
    }
   ],
   "source": [
    "#testing function least square loop\n",
    "\n",
    "lambda_=0\n",
    "degrees=2\n",
    "tx=build_poly(input_data[:3,:3], degree)\n",
    "y=yb[:3]\n",
    "ICD.display(tx)\n",
    "ICD.display(y)\n",
    "ridge_regression_loop(y, tx, degrees, lambda_)\n"
   ]
  },
  {
   "cell_type": "code",
   "execution_count": 65,
   "metadata": {},
   "outputs": [
    {
     "data": {
      "text/plain": [
       "array([[[0, 0, 1, 0, 0],\n",
       "        [0, 0, 0, 0, 0],\n",
       "        [1, 0, 0, 0, 0]],\n",
       "\n",
       "       [[1, 0, 0, 1, 0],\n",
       "        [1, 1, 0, 0, 0],\n",
       "        [1, 1, 1, 1, 0]]])"
      ]
     },
     "metadata": {},
     "output_type": "display_data"
    },
    {
     "data": {
      "text/plain": [
       "array([[[0, 0, 0, 1],\n",
       "        [0, 1, 1, 1]],\n",
       "\n",
       "       [[1, 1, 1, 0],\n",
       "        [1, 0, 1, 1]],\n",
       "\n",
       "       [[0, 0, 1, 1],\n",
       "        [0, 1, 0, 1]]])"
      ]
     },
     "metadata": {},
     "output_type": "display_data"
    },
    {
     "data": {
      "text/plain": [
       "array([[1, 2, 3, 4],\n",
       "       [1, 1, 1, 2],\n",
       "       [0, 1, 0, 2],\n",
       "       [0, 2, 1, 2],\n",
       "       [0, 0, 0, 0]])"
      ]
     },
     "execution_count": 65,
     "metadata": {},
     "output_type": "execute_result"
    }
   ],
   "source": [
    "# understanding tensordot\n",
    "A = np.random.randint(2, size=(2, 3, 5))\n",
    "B = np.random.randint(2, size=(3, 2, 4))\n",
    "ICD.display(A)\n",
    "ICD.display(B)\n",
    "\n",
    "np.tensordot(A, B, axes=([0,1],[1,0]))"
   ]
  },
  {
   "cell_type": "code",
   "execution_count": null,
   "metadata": {},
   "outputs": [],
   "source": []
  }
 ],
 "metadata": {
  "kernelspec": {
   "display_name": "Python [default]",
   "language": "python",
   "name": "python3"
  },
  "language_info": {
   "codemirror_mode": {
    "name": "ipython",
    "version": 3
   },
   "file_extension": ".py",
   "mimetype": "text/x-python",
   "name": "python",
   "nbconvert_exporter": "python",
   "pygments_lexer": "ipython3",
   "version": "3.6.5"
  }
 },
 "nbformat": 4,
 "nbformat_minor": 2
}
