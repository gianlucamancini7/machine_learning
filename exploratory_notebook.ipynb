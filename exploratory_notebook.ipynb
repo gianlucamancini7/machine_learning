{
 "cells": [
  {
   "cell_type": "code",
   "execution_count": 1,
   "metadata": {},
   "outputs": [],
   "source": [
    "# Useful starting lines\n",
    "%matplotlib inline\n",
    "import numpy as np\n",
    "import matplotlib.pyplot as plt\n",
    "%load_ext autoreload\n",
    "%autoreload 2\n",
    "#allows to print the dataframe nicely\n",
    "from IPython.core import display as ICD\n",
    "# !pip install plotly\n",
    "# import plotly.plotly as py\n",
    "# from plotly.graph_objs import *\n",
    "# import plotly.tools as tls\n",
    "from scipy import stats"
   ]
  },
  {
   "cell_type": "code",
   "execution_count": 2,
   "metadata": {},
   "outputs": [],
   "source": [
    "# import additional packages to insepct data and clean them\n",
    "import pandas as pd\n",
    "import os \n",
    "import random \n",
    "from zipfile import ZipFile\n",
    "import datetime"
   ]
  },
  {
   "cell_type": "code",
   "execution_count": 3,
   "metadata": {},
   "outputs": [],
   "source": [
    "# import helping functions from the implementation file\n",
    "#from proj1_helpers import load_csv_data\n",
    "from proj1_helpers import *\n",
    "import implementations\n",
    "from additional_implementations import *\n",
    "import seaborn as sns\n",
    "import physics as phy\n",
    "import PCA as pca\n"
   ]
  },
  {
   "cell_type": "markdown",
   "metadata": {},
   "source": [
    "### Loading relevant files"
   ]
  },
  {
   "cell_type": "code",
   "execution_count": 4,
   "metadata": {},
   "outputs": [
    {
     "data": {
      "text/plain": [
       "[<ZipInfo filename='train.csv' compress_type=deflate file_size=48103379 compress_size=17670847>,\n",
       " <ZipInfo filename='test.csv' compress_type=deflate file_size=109335584 compress_size=40089137>,\n",
       " <ZipInfo filename='sample-submission.csv' compress_type=deflate file_size=5682394 compress_size=1263762>]"
      ]
     },
     "execution_count": 4,
     "metadata": {},
     "output_type": "execute_result"
    }
   ],
   "source": [
    "# import zipped files from the github repository\n",
    "data_folder='./data/'\n",
    "zip_file = ZipFile(data_folder+'all.zip')\n",
    "# zip file creates a list of files with certain properties\n",
    "zip_file.infolist()"
   ]
  },
  {
   "cell_type": "code",
   "execution_count": 5,
   "metadata": {},
   "outputs": [],
   "source": [
    "# now we want to access the 'filename' property in the zipfile variable\n",
    "# and we create a dictionary of dataframe\n",
    "dfs = {text_file.filename: pd.read_csv(zip_file.open(text_file.filename))\n",
    "       for text_file in zip_file.infolist()\n",
    "       if text_file.filename.endswith('.csv')}\n",
    "df_train=dfs['train.csv']\n",
    "df_test=dfs['test.csv']"
   ]
  },
  {
   "cell_type": "markdown",
   "metadata": {},
   "source": [
    "# Code Outline\n",
    "\n",
    "### Data Inspection and preparation \n",
    "In the first section the attributes provided were cleaned and studied. \n",
    "\n",
    "### Feature Generation\n",
    "On the one hand on the base of the scientific knowledge behind the Boson data and on the base of the features data, a method to select features was prepared. On the other a Pricipal Component Analysis was also carried out to perform a feature selection. Hence, before applying regression algorithms, different feature spaces were generated; in this manner the performance results obtained with the different features could be compared in the testing phase and an evaluation of the most important features could be done.\n",
    "\n",
    "### Feature Augmentation\n",
    "The feature spaces were augmented by carrying out a polynomial expansion\n",
    "\n",
    "### Testing\n",
    "Hence the performance of a selection of regression models was compared with different features in order to obtain the best combination according to the prediction results obtained in the Kaggle competition."
   ]
  },
  {
   "cell_type": "markdown",
   "metadata": {},
   "source": [
    "## Data Inspection and preparation"
   ]
  },
  {
   "cell_type": "markdown",
   "metadata": {},
   "source": [
    "The first step was understanding the data structure and learning about the features we have been provided with. By studying the scientific backgroun about the experiment in the [competition description](https://higgsml.lal.in2p3.fr/files/2014/04/documentation_v1.8.pdf), the relationship between the features was understood. "
   ]
  },
  {
   "cell_type": "code",
   "execution_count": 6,
   "metadata": {},
   "outputs": [
    {
     "data": {
      "text/html": [
       "<div>\n",
       "<style scoped>\n",
       "    .dataframe tbody tr th:only-of-type {\n",
       "        vertical-align: middle;\n",
       "    }\n",
       "\n",
       "    .dataframe tbody tr th {\n",
       "        vertical-align: top;\n",
       "    }\n",
       "\n",
       "    .dataframe thead th {\n",
       "        text-align: right;\n",
       "    }\n",
       "</style>\n",
       "<table border=\"1\" class=\"dataframe\">\n",
       "  <thead>\n",
       "    <tr style=\"text-align: right;\">\n",
       "      <th></th>\n",
       "      <th>Id</th>\n",
       "      <th>Prediction</th>\n",
       "      <th>DER_mass_MMC</th>\n",
       "      <th>DER_mass_transverse_met_lep</th>\n",
       "      <th>DER_mass_vis</th>\n",
       "      <th>DER_pt_h</th>\n",
       "      <th>DER_deltaeta_jet_jet</th>\n",
       "      <th>DER_mass_jet_jet</th>\n",
       "      <th>DER_prodeta_jet_jet</th>\n",
       "      <th>DER_deltar_tau_lep</th>\n",
       "      <th>...</th>\n",
       "      <th>PRI_met_phi</th>\n",
       "      <th>PRI_met_sumet</th>\n",
       "      <th>PRI_jet_num</th>\n",
       "      <th>PRI_jet_leading_pt</th>\n",
       "      <th>PRI_jet_leading_eta</th>\n",
       "      <th>PRI_jet_leading_phi</th>\n",
       "      <th>PRI_jet_subleading_pt</th>\n",
       "      <th>PRI_jet_subleading_eta</th>\n",
       "      <th>PRI_jet_subleading_phi</th>\n",
       "      <th>PRI_jet_all_pt</th>\n",
       "    </tr>\n",
       "  </thead>\n",
       "  <tbody>\n",
       "    <tr>\n",
       "      <th>0</th>\n",
       "      <td>100000</td>\n",
       "      <td>s</td>\n",
       "      <td>138.470</td>\n",
       "      <td>51.655</td>\n",
       "      <td>97.827</td>\n",
       "      <td>27.980</td>\n",
       "      <td>0.91</td>\n",
       "      <td>124.711</td>\n",
       "      <td>2.666</td>\n",
       "      <td>3.064</td>\n",
       "      <td>...</td>\n",
       "      <td>-0.277</td>\n",
       "      <td>258.733</td>\n",
       "      <td>2</td>\n",
       "      <td>67.435</td>\n",
       "      <td>2.150</td>\n",
       "      <td>0.444</td>\n",
       "      <td>46.062</td>\n",
       "      <td>1.24</td>\n",
       "      <td>-2.475</td>\n",
       "      <td>113.497</td>\n",
       "    </tr>\n",
       "    <tr>\n",
       "      <th>1</th>\n",
       "      <td>100001</td>\n",
       "      <td>b</td>\n",
       "      <td>160.937</td>\n",
       "      <td>68.768</td>\n",
       "      <td>103.235</td>\n",
       "      <td>48.146</td>\n",
       "      <td>-999.00</td>\n",
       "      <td>-999.000</td>\n",
       "      <td>-999.000</td>\n",
       "      <td>3.473</td>\n",
       "      <td>...</td>\n",
       "      <td>-1.916</td>\n",
       "      <td>164.546</td>\n",
       "      <td>1</td>\n",
       "      <td>46.226</td>\n",
       "      <td>0.725</td>\n",
       "      <td>1.158</td>\n",
       "      <td>-999.000</td>\n",
       "      <td>-999.00</td>\n",
       "      <td>-999.000</td>\n",
       "      <td>46.226</td>\n",
       "    </tr>\n",
       "    <tr>\n",
       "      <th>2</th>\n",
       "      <td>100002</td>\n",
       "      <td>b</td>\n",
       "      <td>-999.000</td>\n",
       "      <td>162.172</td>\n",
       "      <td>125.953</td>\n",
       "      <td>35.635</td>\n",
       "      <td>-999.00</td>\n",
       "      <td>-999.000</td>\n",
       "      <td>-999.000</td>\n",
       "      <td>3.148</td>\n",
       "      <td>...</td>\n",
       "      <td>-2.186</td>\n",
       "      <td>260.414</td>\n",
       "      <td>1</td>\n",
       "      <td>44.251</td>\n",
       "      <td>2.053</td>\n",
       "      <td>-2.028</td>\n",
       "      <td>-999.000</td>\n",
       "      <td>-999.00</td>\n",
       "      <td>-999.000</td>\n",
       "      <td>44.251</td>\n",
       "    </tr>\n",
       "    <tr>\n",
       "      <th>3</th>\n",
       "      <td>100003</td>\n",
       "      <td>b</td>\n",
       "      <td>143.905</td>\n",
       "      <td>81.417</td>\n",
       "      <td>80.943</td>\n",
       "      <td>0.414</td>\n",
       "      <td>-999.00</td>\n",
       "      <td>-999.000</td>\n",
       "      <td>-999.000</td>\n",
       "      <td>3.310</td>\n",
       "      <td>...</td>\n",
       "      <td>0.060</td>\n",
       "      <td>86.062</td>\n",
       "      <td>0</td>\n",
       "      <td>-999.000</td>\n",
       "      <td>-999.000</td>\n",
       "      <td>-999.000</td>\n",
       "      <td>-999.000</td>\n",
       "      <td>-999.00</td>\n",
       "      <td>-999.000</td>\n",
       "      <td>0.000</td>\n",
       "    </tr>\n",
       "    <tr>\n",
       "      <th>4</th>\n",
       "      <td>100004</td>\n",
       "      <td>b</td>\n",
       "      <td>175.864</td>\n",
       "      <td>16.915</td>\n",
       "      <td>134.805</td>\n",
       "      <td>16.405</td>\n",
       "      <td>-999.00</td>\n",
       "      <td>-999.000</td>\n",
       "      <td>-999.000</td>\n",
       "      <td>3.891</td>\n",
       "      <td>...</td>\n",
       "      <td>-0.871</td>\n",
       "      <td>53.131</td>\n",
       "      <td>0</td>\n",
       "      <td>-999.000</td>\n",
       "      <td>-999.000</td>\n",
       "      <td>-999.000</td>\n",
       "      <td>-999.000</td>\n",
       "      <td>-999.00</td>\n",
       "      <td>-999.000</td>\n",
       "      <td>0.000</td>\n",
       "    </tr>\n",
       "  </tbody>\n",
       "</table>\n",
       "<p>5 rows × 32 columns</p>\n",
       "</div>"
      ],
      "text/plain": [
       "       Id Prediction  DER_mass_MMC  DER_mass_transverse_met_lep  DER_mass_vis  \\\n",
       "0  100000          s       138.470                       51.655        97.827   \n",
       "1  100001          b       160.937                       68.768       103.235   \n",
       "2  100002          b      -999.000                      162.172       125.953   \n",
       "3  100003          b       143.905                       81.417        80.943   \n",
       "4  100004          b       175.864                       16.915       134.805   \n",
       "\n",
       "   DER_pt_h  DER_deltaeta_jet_jet  DER_mass_jet_jet  DER_prodeta_jet_jet  \\\n",
       "0    27.980                  0.91           124.711                2.666   \n",
       "1    48.146               -999.00          -999.000             -999.000   \n",
       "2    35.635               -999.00          -999.000             -999.000   \n",
       "3     0.414               -999.00          -999.000             -999.000   \n",
       "4    16.405               -999.00          -999.000             -999.000   \n",
       "\n",
       "   DER_deltar_tau_lep       ...        PRI_met_phi  PRI_met_sumet  \\\n",
       "0               3.064       ...             -0.277        258.733   \n",
       "1               3.473       ...             -1.916        164.546   \n",
       "2               3.148       ...             -2.186        260.414   \n",
       "3               3.310       ...              0.060         86.062   \n",
       "4               3.891       ...             -0.871         53.131   \n",
       "\n",
       "   PRI_jet_num  PRI_jet_leading_pt  PRI_jet_leading_eta  PRI_jet_leading_phi  \\\n",
       "0            2              67.435                2.150                0.444   \n",
       "1            1              46.226                0.725                1.158   \n",
       "2            1              44.251                2.053               -2.028   \n",
       "3            0            -999.000             -999.000             -999.000   \n",
       "4            0            -999.000             -999.000             -999.000   \n",
       "\n",
       "   PRI_jet_subleading_pt  PRI_jet_subleading_eta  PRI_jet_subleading_phi  \\\n",
       "0                 46.062                    1.24                  -2.475   \n",
       "1               -999.000                 -999.00                -999.000   \n",
       "2               -999.000                 -999.00                -999.000   \n",
       "3               -999.000                 -999.00                -999.000   \n",
       "4               -999.000                 -999.00                -999.000   \n",
       "\n",
       "   PRI_jet_all_pt  \n",
       "0         113.497  \n",
       "1          46.226  \n",
       "2          44.251  \n",
       "3           0.000  \n",
       "4           0.000  \n",
       "\n",
       "[5 rows x 32 columns]"
      ]
     },
     "execution_count": 6,
     "metadata": {},
     "output_type": "execute_result"
    }
   ],
   "source": [
    "df_train.head()"
   ]
  },
  {
   "cell_type": "markdown",
   "metadata": {},
   "source": [
    "It was soon discovered that almost half of the datapoints were getting values not in the range of normal values for each features. Discarting all these data was not an option hence an alternative solution was proposed."
   ]
  },
  {
   "cell_type": "code",
   "execution_count": 7,
   "metadata": {},
   "outputs": [
    {
     "data": {
      "text/html": [
       "<div>\n",
       "<style scoped>\n",
       "    .dataframe tbody tr th:only-of-type {\n",
       "        vertical-align: middle;\n",
       "    }\n",
       "\n",
       "    .dataframe tbody tr th {\n",
       "        vertical-align: top;\n",
       "    }\n",
       "\n",
       "    .dataframe thead th {\n",
       "        text-align: right;\n",
       "    }\n",
       "</style>\n",
       "<table border=\"1\" class=\"dataframe\">\n",
       "  <thead>\n",
       "    <tr style=\"text-align: right;\">\n",
       "      <th></th>\n",
       "      <th>Id</th>\n",
       "      <th>Prediction</th>\n",
       "      <th>DER_mass_MMC</th>\n",
       "      <th>DER_mass_transverse_met_lep</th>\n",
       "      <th>DER_mass_vis</th>\n",
       "      <th>DER_pt_h</th>\n",
       "      <th>DER_deltaeta_jet_jet</th>\n",
       "      <th>DER_mass_jet_jet</th>\n",
       "      <th>DER_prodeta_jet_jet</th>\n",
       "      <th>DER_deltar_tau_lep</th>\n",
       "      <th>...</th>\n",
       "      <th>PRI_met_phi</th>\n",
       "      <th>PRI_met_sumet</th>\n",
       "      <th>PRI_jet_num</th>\n",
       "      <th>PRI_jet_leading_pt</th>\n",
       "      <th>PRI_jet_leading_eta</th>\n",
       "      <th>PRI_jet_leading_phi</th>\n",
       "      <th>PRI_jet_subleading_pt</th>\n",
       "      <th>PRI_jet_subleading_eta</th>\n",
       "      <th>PRI_jet_subleading_phi</th>\n",
       "      <th>PRI_jet_all_pt</th>\n",
       "    </tr>\n",
       "  </thead>\n",
       "  <tbody>\n",
       "    <tr>\n",
       "      <th>1</th>\n",
       "      <td>100001</td>\n",
       "      <td>b</td>\n",
       "      <td>160.937</td>\n",
       "      <td>68.768</td>\n",
       "      <td>103.235</td>\n",
       "      <td>48.146</td>\n",
       "      <td>-999.0</td>\n",
       "      <td>-999.0</td>\n",
       "      <td>-999.0</td>\n",
       "      <td>3.473</td>\n",
       "      <td>...</td>\n",
       "      <td>-1.916</td>\n",
       "      <td>164.546</td>\n",
       "      <td>1</td>\n",
       "      <td>46.226</td>\n",
       "      <td>0.725</td>\n",
       "      <td>1.158</td>\n",
       "      <td>-999.0</td>\n",
       "      <td>-999.0</td>\n",
       "      <td>-999.0</td>\n",
       "      <td>46.226</td>\n",
       "    </tr>\n",
       "    <tr>\n",
       "      <th>2</th>\n",
       "      <td>100002</td>\n",
       "      <td>b</td>\n",
       "      <td>-999.000</td>\n",
       "      <td>162.172</td>\n",
       "      <td>125.953</td>\n",
       "      <td>35.635</td>\n",
       "      <td>-999.0</td>\n",
       "      <td>-999.0</td>\n",
       "      <td>-999.0</td>\n",
       "      <td>3.148</td>\n",
       "      <td>...</td>\n",
       "      <td>-2.186</td>\n",
       "      <td>260.414</td>\n",
       "      <td>1</td>\n",
       "      <td>44.251</td>\n",
       "      <td>2.053</td>\n",
       "      <td>-2.028</td>\n",
       "      <td>-999.0</td>\n",
       "      <td>-999.0</td>\n",
       "      <td>-999.0</td>\n",
       "      <td>44.251</td>\n",
       "    </tr>\n",
       "    <tr>\n",
       "      <th>3</th>\n",
       "      <td>100003</td>\n",
       "      <td>b</td>\n",
       "      <td>143.905</td>\n",
       "      <td>81.417</td>\n",
       "      <td>80.943</td>\n",
       "      <td>0.414</td>\n",
       "      <td>-999.0</td>\n",
       "      <td>-999.0</td>\n",
       "      <td>-999.0</td>\n",
       "      <td>3.310</td>\n",
       "      <td>...</td>\n",
       "      <td>0.060</td>\n",
       "      <td>86.062</td>\n",
       "      <td>0</td>\n",
       "      <td>-999.000</td>\n",
       "      <td>-999.000</td>\n",
       "      <td>-999.000</td>\n",
       "      <td>-999.0</td>\n",
       "      <td>-999.0</td>\n",
       "      <td>-999.0</td>\n",
       "      <td>0.000</td>\n",
       "    </tr>\n",
       "    <tr>\n",
       "      <th>4</th>\n",
       "      <td>100004</td>\n",
       "      <td>b</td>\n",
       "      <td>175.864</td>\n",
       "      <td>16.915</td>\n",
       "      <td>134.805</td>\n",
       "      <td>16.405</td>\n",
       "      <td>-999.0</td>\n",
       "      <td>-999.0</td>\n",
       "      <td>-999.0</td>\n",
       "      <td>3.891</td>\n",
       "      <td>...</td>\n",
       "      <td>-0.871</td>\n",
       "      <td>53.131</td>\n",
       "      <td>0</td>\n",
       "      <td>-999.000</td>\n",
       "      <td>-999.000</td>\n",
       "      <td>-999.000</td>\n",
       "      <td>-999.0</td>\n",
       "      <td>-999.0</td>\n",
       "      <td>-999.0</td>\n",
       "      <td>0.000</td>\n",
       "    </tr>\n",
       "    <tr>\n",
       "      <th>7</th>\n",
       "      <td>100007</td>\n",
       "      <td>s</td>\n",
       "      <td>154.916</td>\n",
       "      <td>10.418</td>\n",
       "      <td>94.714</td>\n",
       "      <td>29.169</td>\n",
       "      <td>-999.0</td>\n",
       "      <td>-999.0</td>\n",
       "      <td>-999.0</td>\n",
       "      <td>2.897</td>\n",
       "      <td>...</td>\n",
       "      <td>-1.761</td>\n",
       "      <td>187.299</td>\n",
       "      <td>1</td>\n",
       "      <td>30.638</td>\n",
       "      <td>-0.715</td>\n",
       "      <td>-1.724</td>\n",
       "      <td>-999.0</td>\n",
       "      <td>-999.0</td>\n",
       "      <td>-999.0</td>\n",
       "      <td>30.638</td>\n",
       "    </tr>\n",
       "  </tbody>\n",
       "</table>\n",
       "<p>5 rows × 32 columns</p>\n",
       "</div>"
      ],
      "text/plain": [
       "       Id Prediction  DER_mass_MMC  DER_mass_transverse_met_lep  DER_mass_vis  \\\n",
       "1  100001          b       160.937                       68.768       103.235   \n",
       "2  100002          b      -999.000                      162.172       125.953   \n",
       "3  100003          b       143.905                       81.417        80.943   \n",
       "4  100004          b       175.864                       16.915       134.805   \n",
       "7  100007          s       154.916                       10.418        94.714   \n",
       "\n",
       "   DER_pt_h  DER_deltaeta_jet_jet  DER_mass_jet_jet  DER_prodeta_jet_jet  \\\n",
       "1    48.146                -999.0            -999.0               -999.0   \n",
       "2    35.635                -999.0            -999.0               -999.0   \n",
       "3     0.414                -999.0            -999.0               -999.0   \n",
       "4    16.405                -999.0            -999.0               -999.0   \n",
       "7    29.169                -999.0            -999.0               -999.0   \n",
       "\n",
       "   DER_deltar_tau_lep       ...        PRI_met_phi  PRI_met_sumet  \\\n",
       "1               3.473       ...             -1.916        164.546   \n",
       "2               3.148       ...             -2.186        260.414   \n",
       "3               3.310       ...              0.060         86.062   \n",
       "4               3.891       ...             -0.871         53.131   \n",
       "7               2.897       ...             -1.761        187.299   \n",
       "\n",
       "   PRI_jet_num  PRI_jet_leading_pt  PRI_jet_leading_eta  PRI_jet_leading_phi  \\\n",
       "1            1              46.226                0.725                1.158   \n",
       "2            1              44.251                2.053               -2.028   \n",
       "3            0            -999.000             -999.000             -999.000   \n",
       "4            0            -999.000             -999.000             -999.000   \n",
       "7            1              30.638               -0.715               -1.724   \n",
       "\n",
       "   PRI_jet_subleading_pt  PRI_jet_subleading_eta  PRI_jet_subleading_phi  \\\n",
       "1                 -999.0                  -999.0                  -999.0   \n",
       "2                 -999.0                  -999.0                  -999.0   \n",
       "3                 -999.0                  -999.0                  -999.0   \n",
       "4                 -999.0                  -999.0                  -999.0   \n",
       "7                 -999.0                  -999.0                  -999.0   \n",
       "\n",
       "   PRI_jet_all_pt  \n",
       "1          46.226  \n",
       "2          44.251  \n",
       "3           0.000  \n",
       "4           0.000  \n",
       "7          30.638  \n",
       "\n",
       "[5 rows x 32 columns]"
      ]
     },
     "execution_count": 7,
     "metadata": {},
     "output_type": "execute_result"
    }
   ],
   "source": [
    "# example of the part of the dataset where a column would get a value not in the normal range of values\n",
    "df_train[df_train['DER_lep_eta_centrality']==-999.0].head()"
   ]
  },
  {
   "cell_type": "code",
   "execution_count": 8,
   "metadata": {},
   "outputs": [
    {
     "data": {
      "text/plain": [
       "177457"
      ]
     },
     "execution_count": 8,
     "metadata": {},
     "output_type": "execute_result"
    }
   ],
   "source": [
    "# example of number of data points to be deleted considering the feature 'DER_lep_eta_centrality' only\n",
    "df_train[df_train['DER_lep_eta_centrality']==-999.0].shape[0]"
   ]
  },
  {
   "cell_type": "markdown",
   "metadata": {},
   "source": [
    "A relationship between the values attained by each feature was present: in fact it was found that the value obtained by 'PRI_jet_num', the number of jets during the collision, was directly influencing the values of a big group of other features. In particular any time its value would be smaller or equal to one, a group of features would automatically get values out of the normal range. "
   ]
  },
  {
   "cell_type": "code",
   "execution_count": 9,
   "metadata": {},
   "outputs": [
    {
     "name": "stdout",
     "output_type": "stream",
     "text": [
      "When PRI_jet_num is less or equal to 1, DER_lep_eta_centrality gets values out of range\n"
     ]
    }
   ],
   "source": [
    "# example of relationship between 'PRI_jet_num' and 'DER_lep_eta_centrality'\n",
    "df_train.index[df_train['DER_lep_eta_centrality']==-999.0]\n",
    "df_train.index[df_train['PRI_jet_num']<=1]\n",
    "\n",
    "# checking that the indices at which -999.0 values were obtained were also the same in which 'PRI_jet_num' was less\\\n",
    "# or equal to 1\n",
    "if df_train.index[df_train['PRI_jet_num']<=1].all()==df_train.index[df_train['DER_lep_eta_centrality']==-999.0].all():\n",
    "    print ('When PRI_jet_num is less or equal to 1, DER_lep_eta_centrality gets values out of range')"
   ]
  },
  {
   "cell_type": "markdown",
   "metadata": {},
   "source": [
    "It was then found that the value of 'PRI_jet_num' would automatically influenc the values of the following features: 'DER_deltaeta_jet_jet','DER_mass_jet_jet', 'DER_prodeta_jet_jet','DER_lep_eta_centrality', 'PRI_jet_leading_pt', 'PRI_jet_leading_eta','PRI_jet_leading_phi', 'PRI_jet_subleading_pt', 'PRI_jet_subleading_eta', 'PRI_jet_subleading_phi'. Hence the dataset was divided in two smaller dataset. One containing the features depending directly on 'PRI_jet_num' (df_train_dependent_features) and another with those not directly dependent on 'PRI_jet_num' (df_train_independent_features)."
   ]
  },
  {
   "cell_type": "markdown",
   "metadata": {},
   "source": [
    "#### Baseline Test"
   ]
  },
  {
   "cell_type": "markdown",
   "metadata": {},
   "source": [
    "The baseline dataset was produced after the above analysis was done"
   ]
  },
  {
   "cell_type": "code",
   "execution_count": 10,
   "metadata": {},
   "outputs": [],
   "source": [
    "df_train_baseline=clean_pred_Id(df_train)"
   ]
  },
  {
   "cell_type": "markdown",
   "metadata": {},
   "source": [
    "The values of 'b' and 's' which were indicating the presence of a boson or not are substituted with -1 and 1."
   ]
  },
  {
   "cell_type": "code",
   "execution_count": 11,
   "metadata": {},
   "outputs": [],
   "source": [
    "y_baseline=assign_y_values(df_train)"
   ]
  },
  {
   "cell_type": "markdown",
   "metadata": {},
   "source": [
    "#### Feature Space 1: Selection based on physics knowledge and correlation coefficients"
   ]
  },
  {
   "cell_type": "markdown",
   "metadata": {},
   "source": [
    "The feature space was further reduced by looking at the correlation coefficients"
   ]
  },
  {
   "cell_type": "code",
   "execution_count": 12,
   "metadata": {},
   "outputs": [],
   "source": [
    "df_train_FS1=clean_pred_Id(df_train)"
   ]
  },
  {
   "cell_type": "markdown",
   "metadata": {},
   "source": [
    "The values of 'b' and 's' which were indicating the presence of a boson or not are substituted with -1 and 1."
   ]
  },
  {
   "cell_type": "code",
   "execution_count": 13,
   "metadata": {},
   "outputs": [],
   "source": [
    "y_FS1=assign_y_values(df_train)"
   ]
  },
  {
   "cell_type": "code",
   "execution_count": 14,
   "metadata": {},
   "outputs": [
    {
     "data": {
      "text/plain": [
       "{'DER_mass_MMC': 38114,\n",
       " 'DER_mass_transverse_met_lep': 0,\n",
       " 'DER_mass_vis': 0,\n",
       " 'DER_pt_h': 0,\n",
       " 'DER_deltaeta_jet_jet': 177457,\n",
       " 'DER_mass_jet_jet': 177457,\n",
       " 'DER_prodeta_jet_jet': 177457,\n",
       " 'DER_deltar_tau_lep': 0,\n",
       " 'DER_pt_tot': 0,\n",
       " 'DER_sum_pt': 0,\n",
       " 'DER_pt_ratio_lep_tau': 0,\n",
       " 'DER_met_phi_centrality': 0,\n",
       " 'DER_lep_eta_centrality': 177457,\n",
       " 'PRI_tau_pt': 0,\n",
       " 'PRI_tau_eta': 0,\n",
       " 'PRI_tau_phi': 0,\n",
       " 'PRI_lep_pt': 0,\n",
       " 'PRI_lep_eta': 0,\n",
       " 'PRI_lep_phi': 0,\n",
       " 'PRI_met': 0,\n",
       " 'PRI_met_phi': 0,\n",
       " 'PRI_met_sumet': 0,\n",
       " 'PRI_jet_num': 0,\n",
       " 'PRI_jet_leading_pt': 99913,\n",
       " 'PRI_jet_leading_eta': 99913,\n",
       " 'PRI_jet_leading_phi': 99913,\n",
       " 'PRI_jet_subleading_pt': 177457,\n",
       " 'PRI_jet_subleading_eta': 177457,\n",
       " 'PRI_jet_subleading_phi': 177457,\n",
       " 'PRI_jet_all_pt': 0}"
      ]
     },
     "execution_count": 14,
     "metadata": {},
     "output_type": "execute_result"
    }
   ],
   "source": [
    "counts={}\n",
    "for column_name in df_train_FS1.columns.values:\n",
    "    \n",
    "    check=df_train_FS1[column_name]==-999.0\n",
    "    counts[column_name]=np.sum(check.astype('int'))\n",
    "counts"
   ]
  },
  {
   "cell_type": "code",
   "execution_count": 15,
   "metadata": {},
   "outputs": [],
   "source": [
    "df_train_FS1, median = phy.physics_train(df_train_FS1, full_cleaning=False)"
   ]
  },
  {
   "cell_type": "code",
   "execution_count": 16,
   "metadata": {},
   "outputs": [
    {
     "data": {
      "text/html": [
       "<div>\n",
       "<style scoped>\n",
       "    .dataframe tbody tr th:only-of-type {\n",
       "        vertical-align: middle;\n",
       "    }\n",
       "\n",
       "    .dataframe tbody tr th {\n",
       "        vertical-align: top;\n",
       "    }\n",
       "\n",
       "    .dataframe thead th {\n",
       "        text-align: right;\n",
       "    }\n",
       "</style>\n",
       "<table border=\"1\" class=\"dataframe\">\n",
       "  <thead>\n",
       "    <tr style=\"text-align: right;\">\n",
       "      <th></th>\n",
       "      <th>DER_mass_MMC</th>\n",
       "      <th>DER_mass_transverse_met_lep</th>\n",
       "      <th>DER_mass_vis</th>\n",
       "      <th>DER_pt_h</th>\n",
       "      <th>DER_deltar_tau_lep</th>\n",
       "      <th>DER_pt_tot</th>\n",
       "      <th>DER_sum_pt</th>\n",
       "      <th>DER_pt_ratio_lep_tau</th>\n",
       "      <th>DER_met_phi_centrality</th>\n",
       "      <th>PRI_tau_pt</th>\n",
       "      <th>PRI_tau_eta</th>\n",
       "      <th>PRI_tau_phi</th>\n",
       "      <th>PRI_lep_pt</th>\n",
       "      <th>PRI_lep_eta</th>\n",
       "      <th>PRI_lep_phi</th>\n",
       "      <th>PRI_met</th>\n",
       "      <th>PRI_met_phi</th>\n",
       "      <th>PRI_met_sumet</th>\n",
       "      <th>PRI_jet_num</th>\n",
       "      <th>PRI_jet_all_pt</th>\n",
       "    </tr>\n",
       "  </thead>\n",
       "  <tbody>\n",
       "    <tr>\n",
       "      <th>DER_mass_MMC</th>\n",
       "      <td>1.000000</td>\n",
       "      <td>0.121331</td>\n",
       "      <td>0.804807</td>\n",
       "      <td>0.044962</td>\n",
       "      <td>0.464608</td>\n",
       "      <td>0.017307</td>\n",
       "      <td>0.138637</td>\n",
       "      <td>0.062635</td>\n",
       "      <td>0.059554</td>\n",
       "      <td>0.259609</td>\n",
       "      <td>0.002617</td>\n",
       "      <td>-0.003494</td>\n",
       "      <td>0.322839</td>\n",
       "      <td>0.004306</td>\n",
       "      <td>-0.002982</td>\n",
       "      <td>0.062620</td>\n",
       "      <td>0.000779</td>\n",
       "      <td>0.106596</td>\n",
       "      <td>0.039144</td>\n",
       "      <td>0.031621</td>\n",
       "    </tr>\n",
       "    <tr>\n",
       "      <th>DER_mass_transverse_met_lep</th>\n",
       "      <td>0.121331</td>\n",
       "      <td>1.000000</td>\n",
       "      <td>0.190109</td>\n",
       "      <td>-0.249116</td>\n",
       "      <td>0.043251</td>\n",
       "      <td>0.017758</td>\n",
       "      <td>-0.146837</td>\n",
       "      <td>0.349504</td>\n",
       "      <td>-0.419757</td>\n",
       "      <td>-0.145464</td>\n",
       "      <td>-0.002109</td>\n",
       "      <td>0.001132</td>\n",
       "      <td>0.310648</td>\n",
       "      <td>-0.006777</td>\n",
       "      <td>0.000340</td>\n",
       "      <td>0.183716</td>\n",
       "      <td>-0.015925</td>\n",
       "      <td>-0.167811</td>\n",
       "      <td>-0.210537</td>\n",
       "      <td>-0.210009</td>\n",
       "    </tr>\n",
       "    <tr>\n",
       "      <th>DER_mass_vis</th>\n",
       "      <td>0.804807</td>\n",
       "      <td>0.190109</td>\n",
       "      <td>1.000000</td>\n",
       "      <td>-0.062562</td>\n",
       "      <td>0.579712</td>\n",
       "      <td>-0.000702</td>\n",
       "      <td>0.088685</td>\n",
       "      <td>0.097490</td>\n",
       "      <td>-0.090846</td>\n",
       "      <td>0.290011</td>\n",
       "      <td>0.002127</td>\n",
       "      <td>-0.003624</td>\n",
       "      <td>0.405482</td>\n",
       "      <td>0.002196</td>\n",
       "      <td>-0.002018</td>\n",
       "      <td>-0.087330</td>\n",
       "      <td>-0.001467</td>\n",
       "      <td>0.053300</td>\n",
       "      <td>-0.026860</td>\n",
       "      <td>-0.052902</td>\n",
       "    </tr>\n",
       "    <tr>\n",
       "      <th>DER_pt_h</th>\n",
       "      <td>0.044962</td>\n",
       "      <td>-0.249116</td>\n",
       "      <td>-0.062562</td>\n",
       "      <td>1.000000</td>\n",
       "      <td>-0.539379</td>\n",
       "      <td>0.310501</td>\n",
       "      <td>0.832733</td>\n",
       "      <td>0.089187</td>\n",
       "      <td>0.539356</td>\n",
       "      <td>0.407421</td>\n",
       "      <td>0.001665</td>\n",
       "      <td>0.005248</td>\n",
       "      <td>0.360939</td>\n",
       "      <td>0.008354</td>\n",
       "      <td>-0.002923</td>\n",
       "      <td>0.679585</td>\n",
       "      <td>0.008585</td>\n",
       "      <td>0.782547</td>\n",
       "      <td>0.623401</td>\n",
       "      <td>0.808616</td>\n",
       "    </tr>\n",
       "    <tr>\n",
       "      <th>DER_deltar_tau_lep</th>\n",
       "      <td>0.464608</td>\n",
       "      <td>0.043251</td>\n",
       "      <td>0.579712</td>\n",
       "      <td>-0.539379</td>\n",
       "      <td>1.000000</td>\n",
       "      <td>-0.148081</td>\n",
       "      <td>-0.432603</td>\n",
       "      <td>0.047046</td>\n",
       "      <td>-0.205441</td>\n",
       "      <td>-0.202035</td>\n",
       "      <td>0.003632</td>\n",
       "      <td>-0.011229</td>\n",
       "      <td>-0.069957</td>\n",
       "      <td>0.000699</td>\n",
       "      <td>-0.000776</td>\n",
       "      <td>-0.402345</td>\n",
       "      <td>-0.001570</td>\n",
       "      <td>-0.407002</td>\n",
       "      <td>-0.347904</td>\n",
       "      <td>-0.448737</td>\n",
       "    </tr>\n",
       "  </tbody>\n",
       "</table>\n",
       "</div>"
      ],
      "text/plain": [
       "                             DER_mass_MMC  DER_mass_transverse_met_lep  \\\n",
       "DER_mass_MMC                     1.000000                     0.121331   \n",
       "DER_mass_transverse_met_lep      0.121331                     1.000000   \n",
       "DER_mass_vis                     0.804807                     0.190109   \n",
       "DER_pt_h                         0.044962                    -0.249116   \n",
       "DER_deltar_tau_lep               0.464608                     0.043251   \n",
       "\n",
       "                             DER_mass_vis  DER_pt_h  DER_deltar_tau_lep  \\\n",
       "DER_mass_MMC                     0.804807  0.044962            0.464608   \n",
       "DER_mass_transverse_met_lep      0.190109 -0.249116            0.043251   \n",
       "DER_mass_vis                     1.000000 -0.062562            0.579712   \n",
       "DER_pt_h                        -0.062562  1.000000           -0.539379   \n",
       "DER_deltar_tau_lep               0.579712 -0.539379            1.000000   \n",
       "\n",
       "                             DER_pt_tot  DER_sum_pt  DER_pt_ratio_lep_tau  \\\n",
       "DER_mass_MMC                   0.017307    0.138637              0.062635   \n",
       "DER_mass_transverse_met_lep    0.017758   -0.146837              0.349504   \n",
       "DER_mass_vis                  -0.000702    0.088685              0.097490   \n",
       "DER_pt_h                       0.310501    0.832733              0.089187   \n",
       "DER_deltar_tau_lep            -0.148081   -0.432603              0.047046   \n",
       "\n",
       "                             DER_met_phi_centrality  PRI_tau_pt  PRI_tau_eta  \\\n",
       "DER_mass_MMC                               0.059554    0.259609     0.002617   \n",
       "DER_mass_transverse_met_lep               -0.419757   -0.145464    -0.002109   \n",
       "DER_mass_vis                              -0.090846    0.290011     0.002127   \n",
       "DER_pt_h                                   0.539356    0.407421     0.001665   \n",
       "DER_deltar_tau_lep                        -0.205441   -0.202035     0.003632   \n",
       "\n",
       "                             PRI_tau_phi  PRI_lep_pt  PRI_lep_eta  \\\n",
       "DER_mass_MMC                   -0.003494    0.322839     0.004306   \n",
       "DER_mass_transverse_met_lep     0.001132    0.310648    -0.006777   \n",
       "DER_mass_vis                   -0.003624    0.405482     0.002196   \n",
       "DER_pt_h                        0.005248    0.360939     0.008354   \n",
       "DER_deltar_tau_lep             -0.011229   -0.069957     0.000699   \n",
       "\n",
       "                             PRI_lep_phi   PRI_met  PRI_met_phi  \\\n",
       "DER_mass_MMC                   -0.002982  0.062620     0.000779   \n",
       "DER_mass_transverse_met_lep     0.000340  0.183716    -0.015925   \n",
       "DER_mass_vis                   -0.002018 -0.087330    -0.001467   \n",
       "DER_pt_h                       -0.002923  0.679585     0.008585   \n",
       "DER_deltar_tau_lep             -0.000776 -0.402345    -0.001570   \n",
       "\n",
       "                             PRI_met_sumet  PRI_jet_num  PRI_jet_all_pt  \n",
       "DER_mass_MMC                      0.106596     0.039144        0.031621  \n",
       "DER_mass_transverse_met_lep      -0.167811    -0.210537       -0.210009  \n",
       "DER_mass_vis                      0.053300    -0.026860       -0.052902  \n",
       "DER_pt_h                          0.782547     0.623401        0.808616  \n",
       "DER_deltar_tau_lep               -0.407002    -0.347904       -0.448737  "
      ]
     },
     "execution_count": 16,
     "metadata": {},
     "output_type": "execute_result"
    }
   ],
   "source": [
    "corr_FS1=df_train_FS1.corr()\n",
    "corr_FS1.head()"
   ]
  },
  {
   "cell_type": "code",
   "execution_count": 17,
   "metadata": {
    "scrolled": true
   },
   "outputs": [
    {
     "data": {
      "text/html": [
       "<div>\n",
       "<style scoped>\n",
       "    .dataframe tbody tr th:only-of-type {\n",
       "        vertical-align: middle;\n",
       "    }\n",
       "\n",
       "    .dataframe tbody tr th {\n",
       "        vertical-align: top;\n",
       "    }\n",
       "\n",
       "    .dataframe thead th {\n",
       "        text-align: right;\n",
       "    }\n",
       "</style>\n",
       "<table border=\"1\" class=\"dataframe\">\n",
       "  <thead>\n",
       "    <tr style=\"text-align: right;\">\n",
       "      <th></th>\n",
       "      <th>0</th>\n",
       "      <th>1</th>\n",
       "      <th>2</th>\n",
       "      <th>3</th>\n",
       "      <th>4</th>\n",
       "      <th>5</th>\n",
       "      <th>6</th>\n",
       "      <th>7</th>\n",
       "      <th>8</th>\n",
       "      <th>9</th>\n",
       "      <th>10</th>\n",
       "      <th>11</th>\n",
       "      <th>12</th>\n",
       "      <th>13</th>\n",
       "      <th>14</th>\n",
       "      <th>15</th>\n",
       "      <th>16</th>\n",
       "      <th>17</th>\n",
       "      <th>18</th>\n",
       "      <th>19</th>\n",
       "    </tr>\n",
       "  </thead>\n",
       "  <tbody>\n",
       "    <tr>\n",
       "      <th>0</th>\n",
       "      <td>1.000000</td>\n",
       "      <td>0.035924</td>\n",
       "      <td>0.752812</td>\n",
       "      <td>0.054944</td>\n",
       "      <td>0.427170</td>\n",
       "      <td>-0.020733</td>\n",
       "      <td>0.214596</td>\n",
       "      <td>-0.057620</td>\n",
       "      <td>0.078170</td>\n",
       "      <td>0.351865</td>\n",
       "      <td>0.002296</td>\n",
       "      <td>-0.003353</td>\n",
       "      <td>0.307801</td>\n",
       "      <td>0.001682</td>\n",
       "      <td>-0.002275</td>\n",
       "      <td>0.061575</td>\n",
       "      <td>0.001586</td>\n",
       "      <td>0.122314</td>\n",
       "      <td>0.034086</td>\n",
       "      <td>0.041573</td>\n",
       "    </tr>\n",
       "    <tr>\n",
       "      <th>1</th>\n",
       "      <td>0.035924</td>\n",
       "      <td>1.000000</td>\n",
       "      <td>0.106169</td>\n",
       "      <td>-0.312263</td>\n",
       "      <td>0.039784</td>\n",
       "      <td>-0.033817</td>\n",
       "      <td>-0.230117</td>\n",
       "      <td>0.370798</td>\n",
       "      <td>-0.367944</td>\n",
       "      <td>-0.240391</td>\n",
       "      <td>-0.002622</td>\n",
       "      <td>0.001615</td>\n",
       "      <td>0.282696</td>\n",
       "      <td>-0.009097</td>\n",
       "      <td>-0.000387</td>\n",
       "      <td>0.276755</td>\n",
       "      <td>-0.017198</td>\n",
       "      <td>-0.237319</td>\n",
       "      <td>-0.267018</td>\n",
       "      <td>-0.299374</td>\n",
       "    </tr>\n",
       "    <tr>\n",
       "      <th>2</th>\n",
       "      <td>0.752812</td>\n",
       "      <td>0.106169</td>\n",
       "      <td>1.000000</td>\n",
       "      <td>-0.086651</td>\n",
       "      <td>0.592098</td>\n",
       "      <td>-0.023775</td>\n",
       "      <td>0.136481</td>\n",
       "      <td>-0.003055</td>\n",
       "      <td>-0.096586</td>\n",
       "      <td>0.375304</td>\n",
       "      <td>0.002778</td>\n",
       "      <td>-0.006287</td>\n",
       "      <td>0.421104</td>\n",
       "      <td>0.000694</td>\n",
       "      <td>-0.000233</td>\n",
       "      <td>-0.187260</td>\n",
       "      <td>-0.001623</td>\n",
       "      <td>0.040188</td>\n",
       "      <td>-0.068506</td>\n",
       "      <td>-0.087177</td>\n",
       "    </tr>\n",
       "    <tr>\n",
       "      <th>3</th>\n",
       "      <td>0.054944</td>\n",
       "      <td>-0.312263</td>\n",
       "      <td>-0.086651</td>\n",
       "      <td>1.000000</td>\n",
       "      <td>-0.488339</td>\n",
       "      <td>0.375494</td>\n",
       "      <td>0.805124</td>\n",
       "      <td>-0.044072</td>\n",
       "      <td>0.614896</td>\n",
       "      <td>0.232492</td>\n",
       "      <td>0.005899</td>\n",
       "      <td>0.004947</td>\n",
       "      <td>0.191882</td>\n",
       "      <td>0.016317</td>\n",
       "      <td>-0.002427</td>\n",
       "      <td>0.422934</td>\n",
       "      <td>0.009492</td>\n",
       "      <td>0.771787</td>\n",
       "      <td>0.769568</td>\n",
       "      <td>0.849246</td>\n",
       "    </tr>\n",
       "    <tr>\n",
       "      <th>4</th>\n",
       "      <td>0.427170</td>\n",
       "      <td>0.039784</td>\n",
       "      <td>0.592098</td>\n",
       "      <td>-0.488339</td>\n",
       "      <td>1.000000</td>\n",
       "      <td>-0.122927</td>\n",
       "      <td>-0.371489</td>\n",
       "      <td>0.084804</td>\n",
       "      <td>-0.200441</td>\n",
       "      <td>-0.117411</td>\n",
       "      <td>0.003147</td>\n",
       "      <td>-0.011490</td>\n",
       "      <td>-0.013426</td>\n",
       "      <td>-0.001050</td>\n",
       "      <td>-0.000133</td>\n",
       "      <td>-0.405530</td>\n",
       "      <td>-0.002033</td>\n",
       "      <td>-0.365896</td>\n",
       "      <td>-0.367983</td>\n",
       "      <td>-0.444967</td>\n",
       "    </tr>\n",
       "  </tbody>\n",
       "</table>\n",
       "</div>"
      ],
      "text/plain": [
       "         0         1         2         3         4         5         6   \\\n",
       "0  1.000000  0.035924  0.752812  0.054944  0.427170 -0.020733  0.214596   \n",
       "1  0.035924  1.000000  0.106169 -0.312263  0.039784 -0.033817 -0.230117   \n",
       "2  0.752812  0.106169  1.000000 -0.086651  0.592098 -0.023775  0.136481   \n",
       "3  0.054944 -0.312263 -0.086651  1.000000 -0.488339  0.375494  0.805124   \n",
       "4  0.427170  0.039784  0.592098 -0.488339  1.000000 -0.122927 -0.371489   \n",
       "\n",
       "         7         8         9         10        11        12        13  \\\n",
       "0 -0.057620  0.078170  0.351865  0.002296 -0.003353  0.307801  0.001682   \n",
       "1  0.370798 -0.367944 -0.240391 -0.002622  0.001615  0.282696 -0.009097   \n",
       "2 -0.003055 -0.096586  0.375304  0.002778 -0.006287  0.421104  0.000694   \n",
       "3 -0.044072  0.614896  0.232492  0.005899  0.004947  0.191882  0.016317   \n",
       "4  0.084804 -0.200441 -0.117411  0.003147 -0.011490 -0.013426 -0.001050   \n",
       "\n",
       "         14        15        16        17        18        19  \n",
       "0 -0.002275  0.061575  0.001586  0.122314  0.034086  0.041573  \n",
       "1 -0.000387  0.276755 -0.017198 -0.237319 -0.267018 -0.299374  \n",
       "2 -0.000233 -0.187260 -0.001623  0.040188 -0.068506 -0.087177  \n",
       "3 -0.002427  0.422934  0.009492  0.771787  0.769568  0.849246  \n",
       "4 -0.000133 -0.405530 -0.002033 -0.365896 -0.367983 -0.444967  "
      ]
     },
     "execution_count": 17,
     "metadata": {},
     "output_type": "execute_result"
    }
   ],
   "source": [
    "spears=pd.DataFrame(stats.spearmanr(df_train_FS1)[0])\n",
    "spears.head()"
   ]
  },
  {
   "cell_type": "markdown",
   "metadata": {},
   "source": [
    "The following correlation can be considered meaningful with a limit of 0.7:\n",
    "\n",
    "-  DER_sum_pt 0.85 with PRI_jet_num, \n",
    "-  PRI_met_sumet 0.79 with DER_sum_pt, \n",
    "-  PRI_jet_all_pt 0.95 with DER_sum_pt, \n",
    "-  PRI_jet_all_pt 0.90 with PRI_jet_num, \n",
    "-  PRI_jet_all_pt 0.77 with PRI_met_sumet, \n",
    "-  DER_mass_MMC 0.67 with DER_mass_vis, \n",
    "-  DER_pt_h 0.7 with PRI_met_sumet, \n",
    "-  DER_pt_h 0.79 with PRI_jet_all_pt\n",
    "-  PRI_jet_all_pt 0.79 with DER_pt_h, \n",
    "-  DER_pt_h 0.79 with DER_sum_pt"
   ]
  },
  {
   "cell_type": "markdown",
   "metadata": {},
   "source": [
    "As it can be seen there is a strong correlation between the above features which they can all be reconduced to the presence of PRI_jet_num. As a matter of fact there is a clear dominant linear relationship between most of the features outlined above; in other words PRI_jet_num retains most of the information of the other features which depend on it. For these reasons the dependent features will be discarded for the analysis.\n",
    "\n",
    "From the analysis above, it has been decided that the features which are going to be used for the regression are the independent ones from which PRI_jet_num, DER_sum_pt, PRI_met_sumet and DER_pt_h have been considered redundant since they depend on PRI_jet_all_pt."
   ]
  },
  {
   "cell_type": "code",
   "execution_count": 18,
   "metadata": {},
   "outputs": [],
   "source": [
    "df_train_FS1=clean_pred_Id(df_train)"
   ]
  },
  {
   "cell_type": "code",
   "execution_count": 19,
   "metadata": {},
   "outputs": [],
   "source": [
    "df_train_FS1, median = phy.physics_train(df_train_FS1)"
   ]
  },
  {
   "cell_type": "markdown",
   "metadata": {},
   "source": [
    "#### Feature Space 2: Pricipal Components Analysis feature selection"
   ]
  },
  {
   "cell_type": "code",
   "execution_count": 20,
   "metadata": {},
   "outputs": [],
   "source": [
    "df_train_FS2=df_train"
   ]
  },
  {
   "cell_type": "code",
   "execution_count": 21,
   "metadata": {},
   "outputs": [],
   "source": [
    "df_train_FS2=clean_pred_Id(df_train)"
   ]
  },
  {
   "cell_type": "markdown",
   "metadata": {},
   "source": [
    "The values of 'b' and 's' which were indicating the presence of a boson or not are substituted with -1 and 1."
   ]
  },
  {
   "cell_type": "code",
   "execution_count": 22,
   "metadata": {},
   "outputs": [],
   "source": [
    "y_FS2=assign_y_values(df_train)"
   ]
  },
  {
   "cell_type": "code",
   "execution_count": 23,
   "metadata": {},
   "outputs": [],
   "source": [
    "df_train_FS2[df_train_FS2==-999.0]=0"
   ]
  },
  {
   "cell_type": "markdown",
   "metadata": {},
   "source": [
    "In order to have an idea of the distribution of each feature when the boson was assigned a density plot of the standardized feature was made. The distribution of each feature could then be highlighted individually."
   ]
  },
  {
   "cell_type": "code",
   "execution_count": 24,
   "metadata": {},
   "outputs": [
    {
     "data": {
      "text/plain": [
       "Text(0,0.5,'Density')"
      ]
     },
     "execution_count": 24,
     "metadata": {},
     "output_type": "execute_result"
    },
    {
     "data": {
      "image/png": "[encoded data removed]",
      "text/plain": [
       "<Figure size 1440x720 with 1 Axes>"
      ]
     },
     "metadata": {},
     "output_type": "display_data"
    }
   ],
   "source": [
    "features = df_train_FS2.columns.values\n",
    "\n",
    "fig=plt.figure(figsize=(20,10))\n",
    "for feature in features:\n",
    "    \n",
    "    # Subset for boson and not boson\n",
    "    subset_boson = df_train_FS2[df_train['Prediction'] == 'b']\n",
    "    \n",
    "    standard,_,_=standardize_personal(subset_boson[feature])\n",
    "    # Draw the density plot\n",
    "    sns.distplot(standard, hist = False, kde = True,\n",
    "                 kde_kws = {'linewidth': 3},\n",
    "                 label = feature)\n",
    "    \n",
    "# Plot formatting\n",
    "\n",
    "plt.legend(prop={'size': 10}, title = 'Features')\n",
    "plt.title('Density plot of rows with boson')\n",
    "plt.xlabel('Standardized axes')\n",
    "plt.ylabel('Density')"
   ]
  },
  {
   "cell_type": "markdown",
   "metadata": {},
   "source": [
    "The number of principal components was determined visualizing the variance explained and ranking the eigenvector of the covariance matrix."
   ]
  },
  {
   "attachments": {
    "newplot-5.png": {
     "image/png": "[encoded data removed]"
    }
   },
   "cell_type": "markdown",
   "metadata": {},
   "source": [
    "![newplot-5.png](attachment:newplot-5.png)"
   ]
  },
  {
   "cell_type": "markdown",
   "metadata": {},
   "source": [
    "Hence the matrix was standardized and the principal components obtained. The mean and the standard deviation were also obtained in order to standardize the test data with the same parameters"
   ]
  },
  {
   "cell_type": "code",
   "execution_count": 25,
   "metadata": {},
   "outputs": [],
   "source": [
    "number_pa=20\n",
    "df_train_FS2_std_transf, matrix_w, mean_train, std_train=pca.perform_PCA(df_train_FS2,number_pa)"
   ]
  },
  {
   "cell_type": "markdown",
   "metadata": {},
   "source": [
    "## Testing"
   ]
  },
  {
   "cell_type": "markdown",
   "metadata": {},
   "source": [
    "Firstly the dataset and arrays were renamed in order to be able to select the desired version of the feature space"
   ]
  },
  {
   "cell_type": "code",
   "execution_count": 26,
   "metadata": {},
   "outputs": [],
   "source": [
    "tx_train=df_train_FS1\n",
    "y_train=y_FS1"
   ]
  },
  {
   "cell_type": "markdown",
   "metadata": {},
   "source": [
    "#### Least Square"
   ]
  },
  {
   "cell_type": "markdown",
   "metadata": {},
   "source": [
    "The baseline test is produced with least square and the baseline feature space"
   ]
  },
  {
   "cell_type": "code",
   "execution_count": 27,
   "metadata": {},
   "outputs": [],
   "source": [
    "w,loss=implementations.least_squares(y_train,tx_train)"
   ]
  },
  {
   "cell_type": "code",
   "execution_count": 28,
   "metadata": {},
   "outputs": [
    {
     "name": "stdout",
     "output_type": "stream",
     "text": [
      "\n",
      "Learning Performance:  0.722772\n"
     ]
    }
   ],
   "source": [
    "y_pred=predict_labels(w,tx_train)\n",
    "print('')\n",
    "print('Learning Performance: ',list(y_pred*y_train).count(1.)/len(tx_train))"
   ]
  },
  {
   "cell_type": "markdown",
   "metadata": {},
   "source": [
    "#### Ridge Regression"
   ]
  },
  {
   "cell_type": "markdown",
   "metadata": {},
   "source": [
    "The following Ridge regression performs a cross validation and an optimization of the degree and the hyperparamter lambda."
   ]
  },
  {
   "cell_type": "code",
   "execution_count": 29,
   "metadata": {},
   "outputs": [
    {
     "name": "stdout",
     "output_type": "stream",
     "text": [
      "STARTING OPTIMIZATION\n",
      "Degree under optimization:  1\n",
      "Degree under optimization:  8\n"
     ]
    },
    {
     "ename": "KeyboardInterrupt",
     "evalue": "",
     "output_type": "error",
     "traceback": [
      "\u001b[0;31m---------------------------------------------------------------------------\u001b[0m",
      "\u001b[0;31mKeyboardInterrupt\u001b[0m                         Traceback (most recent call last)",
      "\u001b[0;32m<ipython-input-29-9c9a5c6bf695>\u001b[0m in \u001b[0;36m<module>\u001b[0;34m()\u001b[0m\n\u001b[1;32m      9\u001b[0m     \u001b[0mprint\u001b[0m\u001b[0;34m(\u001b[0m\u001b[0;34m'Degree under optimization: '\u001b[0m\u001b[0;34m,\u001b[0m\u001b[0mdegree\u001b[0m\u001b[0;34m)\u001b[0m\u001b[0;34m\u001b[0m\u001b[0m\n\u001b[1;32m     10\u001b[0m     \u001b[0;32mfor\u001b[0m \u001b[0mind_lambda\u001b[0m\u001b[0;34m,\u001b[0m\u001b[0mlambda_\u001b[0m \u001b[0;32min\u001b[0m \u001b[0menumerate\u001b[0m\u001b[0;34m(\u001b[0m\u001b[0mlambdas\u001b[0m\u001b[0;34m)\u001b[0m\u001b[0;34m:\u001b[0m\u001b[0;34m\u001b[0m\u001b[0m\n\u001b[0;32m---> 11\u001b[0;31m         \u001b[0mw\u001b[0m\u001b[0;34m,\u001b[0m \u001b[0mloss_tr\u001b[0m\u001b[0;34m,\u001b[0m \u001b[0mloss_te\u001b[0m \u001b[0;34m=\u001b[0m \u001b[0mcross_validation_ridge_loop\u001b[0m\u001b[0;34m(\u001b[0m\u001b[0my_train\u001b[0m\u001b[0;34m,\u001b[0m \u001b[0mtx_train_selection_polynomial\u001b[0m\u001b[0;34m,\u001b[0m \u001b[0mlambda_\u001b[0m\u001b[0;34m,\u001b[0m \u001b[0mk_fold\u001b[0m\u001b[0;34m,\u001b[0m \u001b[0mseed\u001b[0m\u001b[0;34m=\u001b[0m\u001b[0;36m1\u001b[0m\u001b[0;34m)\u001b[0m\u001b[0;34m\u001b[0m\u001b[0m\n\u001b[0m\u001b[1;32m     12\u001b[0m         \u001b[0mmses\u001b[0m\u001b[0;34m[\u001b[0m\u001b[0mind_degree\u001b[0m\u001b[0;34m,\u001b[0m \u001b[0mind_lambda\u001b[0m\u001b[0;34m]\u001b[0m\u001b[0;34m[\u001b[0m\u001b[0;36m0\u001b[0m\u001b[0;34m]\u001b[0m\u001b[0;34m=\u001b[0m\u001b[0mloss_tr\u001b[0m\u001b[0;34m\u001b[0m\u001b[0m\n\u001b[1;32m     13\u001b[0m         \u001b[0mmses\u001b[0m\u001b[0;34m[\u001b[0m\u001b[0mind_degree\u001b[0m\u001b[0;34m,\u001b[0m \u001b[0mind_lambda\u001b[0m\u001b[0;34m]\u001b[0m\u001b[0;34m[\u001b[0m\u001b[0;36m1\u001b[0m\u001b[0;34m]\u001b[0m\u001b[0;34m=\u001b[0m\u001b[0mloss_te\u001b[0m\u001b[0;34m\u001b[0m\u001b[0m\n",
      "\u001b[0;32m~/Desktop/EPFL EDU/machine_learning/ml_project1/additional_implementations.py\u001b[0m in \u001b[0;36mcross_validation_ridge_loop\u001b[0;34m(y, tx, lambda_, k_fold, seed)\u001b[0m\n\u001b[1;32m    157\u001b[0m     \u001b[0mwsi_train_lst\u001b[0m\u001b[0;34m=\u001b[0m\u001b[0;34m[\u001b[0m\u001b[0;34m]\u001b[0m\u001b[0;34m\u001b[0m\u001b[0m\n\u001b[1;32m    158\u001b[0m     \u001b[0;32mfor\u001b[0m \u001b[0mk\u001b[0m \u001b[0;32min\u001b[0m \u001b[0mrange\u001b[0m\u001b[0;34m(\u001b[0m\u001b[0mk_fold\u001b[0m\u001b[0;34m)\u001b[0m\u001b[0;34m:\u001b[0m\u001b[0;34m\u001b[0m\u001b[0m\n\u001b[0;32m--> 159\u001b[0;31m         \u001b[0mloss_tr\u001b[0m\u001b[0;34m,\u001b[0m \u001b[0mloss_te\u001b[0m\u001b[0;34m,\u001b[0m\u001b[0mwsi_train\u001b[0m\u001b[0;34m=\u001b[0m\u001b[0mcross_validation_ridge\u001b[0m\u001b[0;34m(\u001b[0m\u001b[0my\u001b[0m\u001b[0;34m,\u001b[0m \u001b[0mtx\u001b[0m\u001b[0;34m,\u001b[0m \u001b[0mk_indices\u001b[0m\u001b[0;34m,\u001b[0m \u001b[0mk\u001b[0m\u001b[0;34m,\u001b[0m \u001b[0mlambda_\u001b[0m\u001b[0;34m)\u001b[0m\u001b[0;34m\u001b[0m\u001b[0m\n\u001b[0m\u001b[1;32m    160\u001b[0m         \u001b[0mmse_tr\u001b[0m\u001b[0;34m.\u001b[0m\u001b[0mappend\u001b[0m\u001b[0;34m(\u001b[0m\u001b[0mloss_tr\u001b[0m\u001b[0;34m)\u001b[0m\u001b[0;34m\u001b[0m\u001b[0m\n\u001b[1;32m    161\u001b[0m         \u001b[0mmse_te\u001b[0m\u001b[0;34m.\u001b[0m\u001b[0mappend\u001b[0m\u001b[0;34m(\u001b[0m\u001b[0mloss_te\u001b[0m\u001b[0;34m)\u001b[0m\u001b[0;34m\u001b[0m\u001b[0m\n",
      "\u001b[0;32m~/Desktop/EPFL EDU/machine_learning/ml_project1/additional_implementations.py\u001b[0m in \u001b[0;36mcross_validation_ridge\u001b[0;34m(y, x, k_indices, k, lambda_)\u001b[0m\n\u001b[1;32m    140\u001b[0m     \u001b[0myi_test\u001b[0m\u001b[0;34m=\u001b[0m\u001b[0my\u001b[0m\u001b[0;34m[\u001b[0m\u001b[0mtest_ind\u001b[0m\u001b[0;34m]\u001b[0m\u001b[0;34m\u001b[0m\u001b[0m\n\u001b[1;32m    141\u001b[0m     \u001b[0mtrain_ind\u001b[0m\u001b[0;34m=\u001b[0m\u001b[0mtotal_ind\u001b[0m\u001b[0;34m[\u001b[0m\u001b[0mnp\u001b[0m\u001b[0;34m.\u001b[0m\u001b[0mlogical_not\u001b[0m\u001b[0;34m(\u001b[0m\u001b[0mnp\u001b[0m\u001b[0;34m.\u001b[0m\u001b[0misin\u001b[0m\u001b[0;34m(\u001b[0m\u001b[0mtotal_ind\u001b[0m\u001b[0;34m,\u001b[0m\u001b[0mtest_ind\u001b[0m\u001b[0;34m)\u001b[0m\u001b[0;34m)\u001b[0m\u001b[0;34m]\u001b[0m\u001b[0;34m\u001b[0m\u001b[0m\n\u001b[0;32m--> 142\u001b[0;31m     \u001b[0mxi_train\u001b[0m\u001b[0;34m=\u001b[0m\u001b[0mx\u001b[0m\u001b[0;34m[\u001b[0m\u001b[0mtrain_ind\u001b[0m\u001b[0;34m]\u001b[0m\u001b[0;34m\u001b[0m\u001b[0m\n\u001b[0m\u001b[1;32m    143\u001b[0m     \u001b[0myi_train\u001b[0m\u001b[0;34m=\u001b[0m\u001b[0my\u001b[0m\u001b[0;34m[\u001b[0m\u001b[0mtrain_ind\u001b[0m\u001b[0;34m]\u001b[0m\u001b[0;34m\u001b[0m\u001b[0m\n\u001b[1;32m    144\u001b[0m \u001b[0;34m\u001b[0m\u001b[0m\n",
      "\u001b[0;31mKeyboardInterrupt\u001b[0m: "
     ]
    }
   ],
   "source": [
    "#Run Optimization algorithm \n",
    "lambdas=np.logspace(-10,-1,2)\n",
    "degrees=np.linspace(1,15,3).astype('int')\n",
    "k_fold=4\n",
    "mses= np.zeros((len(degrees), len(lambdas),2))\n",
    "print('STARTING OPTIMIZATION')\n",
    "for ind_degree,degree in enumerate(degrees):\n",
    "    tx_train_selection_polynomial=polynomial_features_simple(tx_train, degree)\n",
    "    print('Degree under optimization: ',degree)\n",
    "    for ind_lambda,lambda_ in enumerate(lambdas):\n",
    "        w, loss_tr, loss_te = cross_validation_ridge_loop(y_train, tx_train_selection_polynomial, lambda_, k_fold, seed=1)\n",
    "        mses[ind_degree, ind_lambda][0]=loss_tr\n",
    "        mses[ind_degree, ind_lambda][1]=loss_te\n",
    "        \n",
    "mse_tr_final, degree_final,lambda_final, min_row, min_col=get_best_parameters(degrees, lambdas, mses[:,:,0],return_idx=True)\n",
    "mse_te_final=mses[min_row,min_col,1]\n",
    "tx_train_selection_polynomial=polynomial_features_simple(tx_train, degree_final)\n",
    "w_final,loss=implementations.ridge_regression(y_train,tx_train_selection_polynomial,lambda_final)\n",
    "print('')\n",
    "print('MSE train: ',mse_tr_final,'   MSE test: ',mse_te_final)\n",
    "print('Degree:    ',degree_final,'   Lambda:   ',lambda_final)\n",
    "\n",
    "y_pred=predict_labels(w_final,tx_train_selection_polynomial)\n",
    "print('')\n",
    "print('Learning Performance: ',list(y_pred*y_train).count(1.)/len(tx_train_selection_polynomial))\n",
    "\n"
   ]
  },
  {
   "cell_type": "markdown",
   "metadata": {},
   "source": [
    "#### Logistic Regression"
   ]
  },
  {
   "cell_type": "markdown",
   "metadata": {},
   "source": [
    "Redefine y values according to the sigmoid function"
   ]
  },
  {
   "cell_type": "code",
   "execution_count": 30,
   "metadata": {},
   "outputs": [],
   "source": [
    "y_logistic=assign_y_values(df_train, logistic=True)"
   ]
  },
  {
   "cell_type": "markdown",
   "metadata": {},
   "source": [
    "The degree of the polynomial was not optimized due to computational inability of the regression to converge"
   ]
  },
  {
   "cell_type": "code",
   "execution_count": 31,
   "metadata": {},
   "outputs": [],
   "source": [
    "tx_train_selection_polynomial=polynomial_features_simple(tx_train, 3)"
   ]
  },
  {
   "cell_type": "code",
   "execution_count": 32,
   "metadata": {},
   "outputs": [
    {
     "name": "stdout",
     "output_type": "stream",
     "text": [
      "Current iteration=0, loss=33964211.8474406\n"
     ]
    },
    {
     "ename": "KeyboardInterrupt",
     "evalue": "",
     "output_type": "error",
     "traceback": [
      "\u001b[0;31m---------------------------------------------------------------------------\u001b[0m",
      "\u001b[0;31mKeyboardInterrupt\u001b[0m                         Traceback (most recent call last)",
      "\u001b[0;32m<ipython-input-32-52ad93754224>\u001b[0m in \u001b[0;36m<module>\u001b[0;34m()\u001b[0m\n\u001b[1;32m      8\u001b[0m \u001b[0;31m# the maximum number of iteration was set to 10 but already after 2 iterations the loss was diverging\u001b[0m\u001b[0;34m\u001b[0m\u001b[0;34m\u001b[0m\u001b[0m\n\u001b[1;32m      9\u001b[0m \u001b[0mmax_iters\u001b[0m \u001b[0;34m=\u001b[0m \u001b[0;36m2\u001b[0m\u001b[0;34m\u001b[0m\u001b[0m\n\u001b[0;32m---> 10\u001b[0;31m \u001b[0mw\u001b[0m\u001b[0;34m,\u001b[0m\u001b[0mloss\u001b[0m\u001b[0;34m=\u001b[0m\u001b[0mimplementations\u001b[0m\u001b[0;34m.\u001b[0m\u001b[0mreg_logistic_regression\u001b[0m\u001b[0;34m(\u001b[0m\u001b[0my_logistic\u001b[0m\u001b[0;34m,\u001b[0m \u001b[0mtx_train_selection_polynomial\u001b[0m\u001b[0;34m,\u001b[0m \u001b[0mlambda_\u001b[0m\u001b[0;34m,\u001b[0m \u001b[0minitial_w\u001b[0m\u001b[0;34m,\u001b[0m \u001b[0mmax_iters\u001b[0m\u001b[0;34m,\u001b[0m \u001b[0mgamma\u001b[0m\u001b[0;34m,\u001b[0m \u001b[0mkeeptrack\u001b[0m\u001b[0;34m=\u001b[0m\u001b[0;32mFalse\u001b[0m\u001b[0;34m,\u001b[0m \u001b[0mlog_info\u001b[0m\u001b[0;34m=\u001b[0m\u001b[0;32mTrue\u001b[0m\u001b[0;34m)\u001b[0m\u001b[0;34m\u001b[0m\u001b[0m\n\u001b[0m",
      "\u001b[0;32m~/Desktop/EPFL EDU/machine_learning/ml_project1/implementations.py\u001b[0m in \u001b[0;36mreg_logistic_regression\u001b[0;34m(y, tx, lambda_, initial_w, max_iters, gamma, keeptrack, convergence_stop, threshold, log_info)\u001b[0m\n\u001b[1;32m    114\u001b[0m     \u001b[0;32mfor\u001b[0m \u001b[0mn_iter\u001b[0m \u001b[0;32min\u001b[0m \u001b[0mrange\u001b[0m\u001b[0;34m(\u001b[0m\u001b[0mmax_iters\u001b[0m\u001b[0;34m)\u001b[0m\u001b[0;34m:\u001b[0m\u001b[0;34m\u001b[0m\u001b[0m\n\u001b[1;32m    115\u001b[0m         \u001b[0;31m# get loss and update w.\u001b[0m\u001b[0;34m\u001b[0m\u001b[0;34m\u001b[0m\u001b[0m\n\u001b[0;32m--> 116\u001b[0;31m         \u001b[0mloss\u001b[0m\u001b[0;34m,\u001b[0m \u001b[0mw\u001b[0m \u001b[0;34m=\u001b[0m \u001b[0mlearning_by_penalized_gradient\u001b[0m\u001b[0;34m(\u001b[0m\u001b[0my\u001b[0m\u001b[0;34m,\u001b[0m \u001b[0mtx\u001b[0m\u001b[0;34m,\u001b[0m \u001b[0mw\u001b[0m\u001b[0;34m,\u001b[0m \u001b[0mgamma\u001b[0m\u001b[0;34m,\u001b[0m \u001b[0mlambda_\u001b[0m\u001b[0;34m)\u001b[0m\u001b[0;34m\u001b[0m\u001b[0m\n\u001b[0m\u001b[1;32m    117\u001b[0m         \u001b[0;31m# log info\u001b[0m\u001b[0;34m\u001b[0m\u001b[0;34m\u001b[0m\u001b[0m\n\u001b[1;32m    118\u001b[0m         \u001b[0;32mif\u001b[0m \u001b[0mlog_info\u001b[0m\u001b[0;34m:\u001b[0m\u001b[0;34m\u001b[0m\u001b[0m\n",
      "\u001b[0;32m~/Desktop/EPFL EDU/machine_learning/ml_project1/implementations.py\u001b[0m in \u001b[0;36mlearning_by_penalized_gradient\u001b[0;34m(y, tx, w, gamma, lambda_)\u001b[0m\n\u001b[1;32m    210\u001b[0m     \"\"\"\n\u001b[1;32m    211\u001b[0m     \u001b[0;31m# return loss, gradient and hessian\u001b[0m\u001b[0;34m\u001b[0m\u001b[0;34m\u001b[0m\u001b[0m\n\u001b[0;32m--> 212\u001b[0;31m     \u001b[0mloss\u001b[0m\u001b[0;34m,\u001b[0m \u001b[0mgrad\u001b[0m\u001b[0;34m,\u001b[0m \u001b[0mH\u001b[0m\u001b[0;34m=\u001b[0m\u001b[0mpenalized_logistic_regression\u001b[0m\u001b[0;34m(\u001b[0m\u001b[0my\u001b[0m\u001b[0;34m,\u001b[0m \u001b[0mtx\u001b[0m\u001b[0;34m,\u001b[0m \u001b[0mw\u001b[0m\u001b[0;34m,\u001b[0m\u001b[0mlambda_\u001b[0m\u001b[0;34m)\u001b[0m\u001b[0;34m\u001b[0m\u001b[0m\n\u001b[0m\u001b[1;32m    213\u001b[0m     \u001b[0;31m# update w\u001b[0m\u001b[0;34m\u001b[0m\u001b[0;34m\u001b[0m\u001b[0m\n\u001b[1;32m    214\u001b[0m     \u001b[0mw\u001b[0m\u001b[0;34m=\u001b[0m\u001b[0mw\u001b[0m\u001b[0;34m-\u001b[0m\u001b[0mgamma\u001b[0m\u001b[0;34m*\u001b[0m\u001b[0mgrad\u001b[0m\u001b[0;34m\u001b[0m\u001b[0m\n",
      "\u001b[0;32m~/Desktop/EPFL EDU/machine_learning/ml_project1/implementations.py\u001b[0m in \u001b[0;36mpenalized_logistic_regression\u001b[0;34m(y, tx, w, lambda_)\u001b[0m\n\u001b[1;32m    200\u001b[0m     \u001b[0;31m# return loss, gradient, and hessian\u001b[0m\u001b[0;34m\u001b[0m\u001b[0;34m\u001b[0m\u001b[0m\n\u001b[1;32m    201\u001b[0m     \u001b[0mloss\u001b[0m\u001b[0;34m=\u001b[0m\u001b[0mcalculate_loss\u001b[0m\u001b[0;34m(\u001b[0m\u001b[0my\u001b[0m\u001b[0;34m,\u001b[0m \u001b[0mtx\u001b[0m\u001b[0;34m,\u001b[0m \u001b[0mw\u001b[0m\u001b[0;34m)\u001b[0m\u001b[0;34m+\u001b[0m\u001b[0;34m(\u001b[0m\u001b[0mlambda_\u001b[0m\u001b[0;34m*\u001b[0m\u001b[0;36m0.5\u001b[0m\u001b[0;34m*\u001b[0m\u001b[0;34m(\u001b[0m\u001b[0mw\u001b[0m\u001b[0;34m.\u001b[0m\u001b[0mT\u001b[0m\u001b[0;34m.\u001b[0m\u001b[0mdot\u001b[0m\u001b[0;34m(\u001b[0m\u001b[0mw\u001b[0m\u001b[0;34m)\u001b[0m\u001b[0;34m)\u001b[0m\u001b[0;34m)\u001b[0m\u001b[0;34m[\u001b[0m\u001b[0;36m0\u001b[0m\u001b[0;34m]\u001b[0m\u001b[0;34m[\u001b[0m\u001b[0;36m0\u001b[0m\u001b[0;34m]\u001b[0m\u001b[0;34m\u001b[0m\u001b[0m\n\u001b[0;32m--> 202\u001b[0;31m     \u001b[0mgrad\u001b[0m\u001b[0;34m=\u001b[0m\u001b[0mcalculate_gradient\u001b[0m\u001b[0;34m(\u001b[0m\u001b[0my\u001b[0m\u001b[0;34m,\u001b[0m \u001b[0mtx\u001b[0m\u001b[0;34m,\u001b[0m \u001b[0mw\u001b[0m\u001b[0;34m)\u001b[0m\u001b[0;34m+\u001b[0m\u001b[0mlambda_\u001b[0m\u001b[0;34m*\u001b[0m\u001b[0mw\u001b[0m\u001b[0;34m\u001b[0m\u001b[0m\n\u001b[0m\u001b[1;32m    203\u001b[0m     \u001b[0mH\u001b[0m\u001b[0;34m=\u001b[0m\u001b[0mcalculate_hessian\u001b[0m\u001b[0;34m(\u001b[0m\u001b[0my\u001b[0m\u001b[0;34m,\u001b[0m \u001b[0mtx\u001b[0m\u001b[0;34m,\u001b[0m \u001b[0mw\u001b[0m\u001b[0;34m)\u001b[0m\u001b[0;34m+\u001b[0m\u001b[0mlambda_\u001b[0m\u001b[0;34m*\u001b[0m\u001b[0mnp\u001b[0m\u001b[0;34m.\u001b[0m\u001b[0meye\u001b[0m\u001b[0;34m(\u001b[0m\u001b[0mtx\u001b[0m\u001b[0;34m.\u001b[0m\u001b[0mshape\u001b[0m\u001b[0;34m[\u001b[0m\u001b[0;36m1\u001b[0m\u001b[0;34m]\u001b[0m\u001b[0;34m)\u001b[0m\u001b[0;34m\u001b[0m\u001b[0m\n\u001b[1;32m    204\u001b[0m     \u001b[0;32mreturn\u001b[0m \u001b[0mloss\u001b[0m\u001b[0;34m,\u001b[0m \u001b[0mgrad\u001b[0m\u001b[0;34m,\u001b[0m \u001b[0mH\u001b[0m\u001b[0;34m\u001b[0m\u001b[0m\n",
      "\u001b[0;32m~/Desktop/EPFL EDU/machine_learning/ml_project1/implementations.py\u001b[0m in \u001b[0;36mcalculate_gradient\u001b[0;34m(y, tx, w)\u001b[0m\n\u001b[1;32m    186\u001b[0m \u001b[0;32mdef\u001b[0m \u001b[0mcalculate_gradient\u001b[0m\u001b[0;34m(\u001b[0m\u001b[0my\u001b[0m\u001b[0;34m,\u001b[0m \u001b[0mtx\u001b[0m\u001b[0;34m,\u001b[0m \u001b[0mw\u001b[0m\u001b[0;34m)\u001b[0m\u001b[0;34m:\u001b[0m\u001b[0;34m\u001b[0m\u001b[0m\n\u001b[1;32m    187\u001b[0m     \u001b[0;34m\"\"\"compute the gradient of loss.\"\"\"\u001b[0m\u001b[0;34m\u001b[0m\u001b[0m\n\u001b[0;32m--> 188\u001b[0;31m     \u001b[0;32mreturn\u001b[0m \u001b[0mtx\u001b[0m\u001b[0;34m.\u001b[0m\u001b[0mT\u001b[0m\u001b[0;34m.\u001b[0m\u001b[0mdot\u001b[0m\u001b[0;34m(\u001b[0m\u001b[0msigmoid\u001b[0m\u001b[0;34m(\u001b[0m\u001b[0mtx\u001b[0m\u001b[0;34m.\u001b[0m\u001b[0mdot\u001b[0m\u001b[0;34m(\u001b[0m\u001b[0mw\u001b[0m\u001b[0;34m)\u001b[0m\u001b[0;34m)\u001b[0m\u001b[0;34m-\u001b[0m\u001b[0my\u001b[0m\u001b[0;34m)\u001b[0m\u001b[0;34m\u001b[0m\u001b[0m\n\u001b[0m\u001b[1;32m    189\u001b[0m \u001b[0;34m\u001b[0m\u001b[0m\n\u001b[1;32m    190\u001b[0m \u001b[0;32mdef\u001b[0m \u001b[0mcalculate_hessian\u001b[0m\u001b[0;34m(\u001b[0m\u001b[0my\u001b[0m\u001b[0;34m,\u001b[0m \u001b[0mtx\u001b[0m\u001b[0;34m,\u001b[0m \u001b[0mw\u001b[0m\u001b[0;34m)\u001b[0m\u001b[0;34m:\u001b[0m\u001b[0;34m\u001b[0m\u001b[0m\n",
      "\u001b[0;32m~/Desktop/EPFL EDU/machine_learning/ml_project1/implementations.py\u001b[0m in \u001b[0;36msigmoid\u001b[0;34m(t)\u001b[0m\n\u001b[1;32m    177\u001b[0m \u001b[0;32mdef\u001b[0m \u001b[0msigmoid\u001b[0m\u001b[0;34m(\u001b[0m\u001b[0mt\u001b[0m\u001b[0;34m)\u001b[0m\u001b[0;34m:\u001b[0m\u001b[0;34m\u001b[0m\u001b[0m\n\u001b[1;32m    178\u001b[0m     \u001b[0;34m\"\"\"apply sigmoid function on t.\"\"\"\u001b[0m\u001b[0;34m\u001b[0m\u001b[0m\n\u001b[0;32m--> 179\u001b[0;31m     \u001b[0;32mreturn\u001b[0m \u001b[0;34m(\u001b[0m\u001b[0mnp\u001b[0m\u001b[0;34m.\u001b[0m\u001b[0mexp\u001b[0m\u001b[0;34m(\u001b[0m\u001b[0mt\u001b[0m\u001b[0;34m)\u001b[0m\u001b[0;34m)\u001b[0m\u001b[0;34m/\u001b[0m\u001b[0;34m(\u001b[0m\u001b[0;36m1\u001b[0m\u001b[0;34m+\u001b[0m\u001b[0;34m(\u001b[0m\u001b[0mnp\u001b[0m\u001b[0;34m.\u001b[0m\u001b[0mexp\u001b[0m\u001b[0;34m(\u001b[0m\u001b[0mt\u001b[0m\u001b[0;34m)\u001b[0m\u001b[0;34m)\u001b[0m\u001b[0;34m)\u001b[0m\u001b[0;34m\u001b[0m\u001b[0m\n\u001b[0m\u001b[1;32m    180\u001b[0m \u001b[0;34m\u001b[0m\u001b[0m\n\u001b[1;32m    181\u001b[0m \u001b[0;32mdef\u001b[0m \u001b[0mcalculate_loss\u001b[0m\u001b[0;34m(\u001b[0m\u001b[0my\u001b[0m\u001b[0;34m,\u001b[0m \u001b[0mtx\u001b[0m\u001b[0;34m,\u001b[0m \u001b[0mw\u001b[0m\u001b[0;34m)\u001b[0m\u001b[0;34m:\u001b[0m\u001b[0;34m\u001b[0m\u001b[0m\n",
      "\u001b[0;31mKeyboardInterrupt\u001b[0m: "
     ]
    }
   ],
   "source": [
    "gamma = 0.000001\n",
    "lambda_ = 0.0001\n",
    "points=7000\n",
    "tx_train_selection_polynomial=tx_train_selection_polynomial[:points]\n",
    "y_logistic=y_logistic[:points]\n",
    "\n",
    "initial_w = np.zeros((tx_train_selection_polynomial.shape[1], 1))\n",
    "# the maximum number of iteration was set to 10 but already after 2 iterations the loss was diverging\n",
    "max_iters = 2\n",
    "w,loss=implementations.reg_logistic_regression(y_logistic, tx_train_selection_polynomial, lambda_, initial_w, max_iters, gamma, keeptrack=False, log_info=True)"
   ]
  },
  {
   "cell_type": "markdown",
   "metadata": {},
   "source": [
    "## Feature Spaces Test Examples"
   ]
  },
  {
   "cell_type": "markdown",
   "metadata": {},
   "source": [
    "#### Baseline Feature Space Test"
   ]
  },
  {
   "cell_type": "code",
   "execution_count": 33,
   "metadata": {},
   "outputs": [],
   "source": [
    "df_test_baseline=clean_pred_Id(df_test)"
   ]
  },
  {
   "cell_type": "markdown",
   "metadata": {},
   "source": [
    "The values of 'b' and 's' which were indicating the presence of a boson or not are substituted with -1 and 1."
   ]
  },
  {
   "cell_type": "markdown",
   "metadata": {},
   "source": [
    "#### Feature Space 1 Test"
   ]
  },
  {
   "cell_type": "markdown",
   "metadata": {},
   "source": [
    "Apply the same feature transformation of the training set"
   ]
  },
  {
   "cell_type": "code",
   "execution_count": 34,
   "metadata": {},
   "outputs": [
    {
     "ename": "NameError",
     "evalue": "name 'degree_final' is not defined",
     "output_type": "error",
     "traceback": [
      "\u001b[0;31m---------------------------------------------------------------------------\u001b[0m",
      "\u001b[0;31mNameError\u001b[0m                                 Traceback (most recent call last)",
      "\u001b[0;32m<ipython-input-34-9f5059516f22>\u001b[0m in \u001b[0;36m<module>\u001b[0;34m()\u001b[0m\n\u001b[1;32m      3\u001b[0m \u001b[0mdf_test_FS1\u001b[0m\u001b[0;34m=\u001b[0m\u001b[0mphy\u001b[0m\u001b[0;34m.\u001b[0m\u001b[0mphysics_test\u001b[0m\u001b[0;34m(\u001b[0m\u001b[0mdf_test_FS1\u001b[0m\u001b[0;34m,\u001b[0m \u001b[0mmedian\u001b[0m\u001b[0;34m)\u001b[0m\u001b[0;34m\u001b[0m\u001b[0m\n\u001b[1;32m      4\u001b[0m \u001b[0;31m#Create the test matrix\u001b[0m\u001b[0;34m\u001b[0m\u001b[0;34m\u001b[0m\u001b[0m\n\u001b[0;32m----> 5\u001b[0;31m \u001b[0mtx_test_FS1_polynomial\u001b[0m\u001b[0;34m=\u001b[0m\u001b[0mpolynomial_features_simple\u001b[0m\u001b[0;34m(\u001b[0m\u001b[0mdf_test_FS1\u001b[0m\u001b[0;34m,\u001b[0m \u001b[0mdegree_final\u001b[0m\u001b[0;34m)\u001b[0m\u001b[0;34m\u001b[0m\u001b[0m\n\u001b[0m",
      "\u001b[0;31mNameError\u001b[0m: name 'degree_final' is not defined"
     ]
    }
   ],
   "source": [
    "df_test_FS1=clean_pred_Id(df_test)\n",
    "#Apply the required feature selection\n",
    "df_test_FS1=phy.physics_test(df_test_FS1, median)\n",
    "#Create the test matrix\n",
    "tx_test_FS1_polynomial=polynomial_features_simple(df_test_FS1, degree_final)"
   ]
  },
  {
   "cell_type": "markdown",
   "metadata": {},
   "source": [
    "#### Feature Space 2 Test"
   ]
  },
  {
   "cell_type": "markdown",
   "metadata": {},
   "source": [
    "Apply the same feature transformation of the training set"
   ]
  },
  {
   "cell_type": "code",
   "execution_count": 35,
   "metadata": {},
   "outputs": [],
   "source": [
    "df_test_FS2=clean_pred_Id(df_test)\n",
    "df_test_FS2_std_transf=pca.apply_PCA_to_test(df_test_FS2,matrix_w, mean_train, std_train)"
   ]
  }
 ],
 "metadata": {
  "kernelspec": {
   "display_name": "Python [conda env:anaconda3]",
   "language": "python",
   "name": "conda-env-anaconda3-py"
  },
  "language_info": {
   "codemirror_mode": {
    "name": "ipython",
    "version": 3
   },
   "file_extension": ".py",
   "mimetype": "text/x-python",
   "name": "python",
   "nbconvert_exporter": "python",
   "pygments_lexer": "ipython3",
   "version": "3.6.5"
  }
 },
 "nbformat": 4,
 "nbformat_minor": 2
}
