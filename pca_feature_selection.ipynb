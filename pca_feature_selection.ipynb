{
 "cells": [
  {
   "cell_type": "code",
   "execution_count": 36,
   "metadata": {},
   "outputs": [
    {
     "name": "stdout",
     "output_type": "stream",
     "text": [
      "The autoreload extension is already loaded. To reload it, use:\n",
      "  %reload_ext autoreload\n"
     ]
    }
   ],
   "source": [
    "# Useful starting lines\n",
    "%matplotlib inline\n",
    "import numpy as np\n",
    "import matplotlib.pyplot as plt\n",
    "%load_ext autoreload\n",
    "%autoreload 2\n",
    "#allows to print the dataframe nicely\n",
    "from IPython.core import display as ICD\n",
    "#!pip install plotly\n",
    "# import plotly.plotly as py\n",
    "# from plotly.graph_objs import *\n",
    "# import plotly.tools as tls\n",
    "# from scipy import stats"
   ]
  },
  {
   "cell_type": "code",
   "execution_count": 37,
   "metadata": {},
   "outputs": [],
   "source": [
    "# import additional packages to insepct data and clean them\n",
    "import pandas as pd\n",
    "import os \n",
    "import random \n",
    "from zipfile import ZipFile\n",
    "import datetime"
   ]
  },
  {
   "cell_type": "code",
   "execution_count": 39,
   "metadata": {},
   "outputs": [],
   "source": [
    "# import helping functions from the implementation file\n",
    "#from proj1_helpers import load_csv_data\n",
    "from proj1_helpers import *\n",
    "import implementations\n",
    "from additional_implementations import *\n",
    "import seaborn as sns"
   ]
  },
  {
   "cell_type": "code",
   "execution_count": 40,
   "metadata": {},
   "outputs": [
    {
     "data": {
      "text/plain": [
       "[<ZipInfo filename='train.csv' compress_type=deflate file_size=48103379 compress_size=17670847>,\n",
       " <ZipInfo filename='test.csv' compress_type=deflate file_size=109335584 compress_size=40089137>,\n",
       " <ZipInfo filename='sample-submission.csv' compress_type=deflate file_size=5682394 compress_size=1263762>]"
      ]
     },
     "execution_count": 40,
     "metadata": {},
     "output_type": "execute_result"
    }
   ],
   "source": [
    "# import zipped files from the github repository\n",
    "data_folder='./data/'\n",
    "zip_file = ZipFile(data_folder+'all.zip')\n",
    "# zip file creates a list of files with certain properties\n",
    "zip_file.infolist()"
   ]
  },
  {
   "cell_type": "code",
   "execution_count": 41,
   "metadata": {},
   "outputs": [],
   "source": [
    "# now we want to access the 'filename' property in the zipfile variable\n",
    "# and we create a dictionary of dataframe\n",
    "dfs = {text_file.filename: pd.read_csv(zip_file.open(text_file.filename))\n",
    "       for text_file in zip_file.infolist()\n",
    "       if text_file.filename.endswith('.csv')}\n",
    "df_train=dfs['train.csv']\n",
    "df_test=dfs['test.csv']\n",
    "df_sample_submission=dfs['sample-submission.csv']"
   ]
  },
  {
   "cell_type": "code",
   "execution_count": 42,
   "metadata": {},
   "outputs": [],
   "source": [
    "df_train_pca=df_train.drop(columns=['Prediction', 'Id'])"
   ]
  },
  {
   "cell_type": "code",
   "execution_count": 24,
   "metadata": {},
   "outputs": [
    {
     "data": {
      "text/plain": [
       "{'DER_mass_MMC': 38114,\n",
       " 'DER_mass_transverse_met_lep': 0,\n",
       " 'DER_mass_vis': 0,\n",
       " 'DER_pt_h': 0,\n",
       " 'DER_deltaeta_jet_jet': 177457,\n",
       " 'DER_mass_jet_jet': 177457,\n",
       " 'DER_prodeta_jet_jet': 177457,\n",
       " 'DER_deltar_tau_lep': 0,\n",
       " 'DER_pt_tot': 0,\n",
       " 'DER_sum_pt': 0,\n",
       " 'DER_pt_ratio_lep_tau': 0,\n",
       " 'DER_met_phi_centrality': 0,\n",
       " 'DER_lep_eta_centrality': 177457,\n",
       " 'PRI_tau_pt': 0,\n",
       " 'PRI_tau_eta': 0,\n",
       " 'PRI_tau_phi': 0,\n",
       " 'PRI_lep_pt': 0,\n",
       " 'PRI_lep_eta': 0,\n",
       " 'PRI_lep_phi': 0,\n",
       " 'PRI_met': 0,\n",
       " 'PRI_met_phi': 0,\n",
       " 'PRI_met_sumet': 0,\n",
       " 'PRI_jet_num': 0,\n",
       " 'PRI_jet_leading_pt': 99913,\n",
       " 'PRI_jet_leading_eta': 99913,\n",
       " 'PRI_jet_leading_phi': 99913,\n",
       " 'PRI_jet_subleading_pt': 177457,\n",
       " 'PRI_jet_subleading_eta': 177457,\n",
       " 'PRI_jet_subleading_phi': 177457,\n",
       " 'PRI_jet_all_pt': 0}"
      ]
     },
     "execution_count": 24,
     "metadata": {},
     "output_type": "execute_result"
    }
   ],
   "source": [
    "counts={}\n",
    "for column_name in df_train_pca.columns.values:\n",
    "    \n",
    "    check=df_train_pca[column_name]==-999.0\n",
    "    counts[column_name]=np.sum(check.astype('int'))\n",
    "counts"
   ]
  },
  {
   "cell_type": "code",
   "execution_count": 25,
   "metadata": {},
   "outputs": [],
   "source": [
    "#df_train_pca=df_train_pca.drop(columns=['PRI_jet_subleading_pt', 'PRI_jet_subleading_eta', 'PRI_jet_subleading_phi', 'DER_lep_eta_centrality', 'DER_prodeta_jet_jet', 'DER_mass_jet_jet', 'DER_deltaeta_jet_jet','PRI_jet_leading_pt','PRI_jet_leading_eta','PRI_jet_leading_phi'])"
   ]
  },
  {
   "cell_type": "code",
   "execution_count": 26,
   "metadata": {
    "scrolled": true
   },
   "outputs": [],
   "source": [
    "#median=np.median(df_train_pca['DER_mass_MMC'])\n",
    "#df_train_pca['DER_mass_MMC'][df_train_pca['DER_mass_MMC']==-999.0]=median"
   ]
  },
  {
   "cell_type": "code",
   "execution_count": 43,
   "metadata": {},
   "outputs": [],
   "source": [
    "df_train_pca[df_train_pca==-999.0]=0"
   ]
  },
  {
   "cell_type": "markdown",
   "metadata": {},
   "source": [
    "### PCA"
   ]
  },
  {
   "cell_type": "code",
   "execution_count": 44,
   "metadata": {},
   "outputs": [
    {
     "name": "stdout",
     "output_type": "stream",
     "text": [
      "30\n"
     ]
    }
   ],
   "source": [
    "features = df_train_pca.columns.values\n",
    "df_train_pca_std=pd.DataFrame()\n",
    "\n",
    "df_train_pca_std, mean_train, std_train=standardize_personal(df_train_pca)\n",
    "df_train_pca_std.head()\n",
    "print(len(features))"
   ]
  },
  {
   "cell_type": "code",
   "execution_count": 29,
   "metadata": {},
   "outputs": [],
   "source": [
    "cov_df_train_pca_std=np.cov(df_train_pca_std.T)\n",
    "eig_vals, eig_vecs = np.linalg.eig(cov_df_train_pca_std)"
   ]
  },
  {
   "cell_type": "code",
   "execution_count": 30,
   "metadata": {},
   "outputs": [],
   "source": [
    "# Make a list of (eigenvalue, eigenvector) tuples\n",
    "eig_pairs = [(np.abs(eig_vals[i]), eig_vecs[:,i]) for i in range(len(eig_vals))]\n",
    "\n",
    "# Sort the (eigenvalue, eigenvector) tuples from high to low\n",
    "eig_pairs.sort()\n",
    "eig_pairs.reverse()"
   ]
  },
  {
   "cell_type": "code",
   "execution_count": null,
   "metadata": {},
   "outputs": [],
   "source": [
    "tot = sum(eig_vals)\n",
    "var_exp = [(i / tot)*100 for i in sorted(eig_vals, reverse=True)]\n",
    "cum_var_exp = np.cumsum(var_exp)\n",
    "\n",
    "trace1 = Bar(\n",
    "        x=['PC %s' %i for i in range(1,20)],\n",
    "        y=var_exp,\n",
    "        showlegend=False)\n",
    "\n",
    "trace2 = Scatter(\n",
    "        x=['PC %s' %i for i in range(1,20)], \n",
    "        y=cum_var_exp,\n",
    "        name='cumulative explained variance')\n",
    "\n",
    "data = Data([trace1, trace2])\n",
    "\n",
    "layout=Layout(\n",
    "        yaxis=YAxis(title='Explained variance in percent'),\n",
    "        title='Explained variance by different principal components')\n",
    "\n",
    "fig = Figure(data=data, layout=layout)\n",
    "py.iplot(fig)"
   ]
  },
  {
   "cell_type": "code",
   "execution_count": 31,
   "metadata": {},
   "outputs": [],
   "source": [
    "number_features=30\n",
    "#decide how many principal components i get\n",
    "number_pa=25\n",
    "#define matrix to be filled in\n",
    "matrix_w=np.ones((number_features, number_pa))\n",
    "for i in range(number_pa):\n",
    "    matrix_w[:,i] = eig_pairs[i][1]"
   ]
  },
  {
   "cell_type": "code",
   "execution_count": 32,
   "metadata": {},
   "outputs": [],
   "source": [
    "df_train_pca_std_transf = df_train_pca_std.dot(matrix_w)"
   ]
  },
  {
   "cell_type": "code",
   "execution_count": 33,
   "metadata": {},
   "outputs": [],
   "source": [
    "y_train_pca=np.array(df_train['Prediction'])\n",
    "y_train_pca[np.where(y_train_pca=='b')] = -1.\n",
    "y_train_pca[np.where(y_train_pca=='s')] = 1.\n",
    "y_train_pca=y_train_pca.astype('float')"
   ]
  },
  {
   "cell_type": "code",
   "execution_count": 34,
   "metadata": {},
   "outputs": [
    {
     "name": "stdout",
     "output_type": "stream",
     "text": [
      "MSE:  0.31457740951832713    Degree:  13    Lambda:  1e-06\n",
      "\n",
      "Ws:  [-1.02834031e-01 -8.86880666e-02 -9.62697170e-03  3.64530106e-03\n",
      "  1.59228366e-03  1.67996988e-04 -2.13359798e-05 -7.11536440e-06\n",
      " -7.94164307e-07 -4.92470065e-08 -1.88287832e-09 -4.51301528e-11\n",
      " -6.37746490e-13 -4.13175495e-15 -4.99123608e-02 -6.25137703e-02\n",
      "  1.11283873e-02  5.67196791e-03 -2.18312571e-04 -1.88927524e-04\n",
      " -6.19088162e-06  2.32505283e-06  1.91441799e-07 -4.91892221e-09\n",
      " -1.13785856e-09 -4.78538244e-11 -6.65447878e-13 -1.79651053e-01\n",
      " -1.27129054e-02  1.12061142e-02  2.76451331e-04 -4.93925146e-04\n",
      " -9.25950077e-06  8.59668202e-06  1.81697440e-07 -6.11730519e-08\n",
      " -1.16024089e-09  1.65299235e-10  1.25051993e-14 -2.57303083e-13\n",
      " -2.77810098e-01  4.96642755e-02  2.31347936e-02 -4.25646678e-03\n",
      " -6.78673738e-04  1.19856002e-04  7.65967750e-06 -1.46171875e-06\n",
      " -2.45673239e-08  7.96729473e-09 -8.34597652e-11 -1.58648744e-11\n",
      "  4.35589378e-13 -3.94232062e-03 -4.43001293e-02 -1.13612999e-03\n",
      "  6.65482634e-03 -1.89864815e-03 -3.14987937e-03  1.02371058e-03\n",
      "  6.18016888e-04 -1.95266629e-04 -4.56080357e-05  1.59783214e-05\n",
      "  1.20251499e-06 -4.80075946e-07  1.48380618e-02  7.65129522e-02\n",
      " -1.18875582e-02 -1.02387447e-01  9.45252141e-03  4.17601146e-02\n",
      " -4.09744543e-03 -7.07293555e-03  7.00054605e-04  5.12743769e-04\n",
      " -4.48633463e-05 -1.30091398e-05  8.01208178e-07 -2.54108518e-02\n",
      " -5.16920869e-02  3.04992555e-03  7.77569155e-03  3.79919770e-04\n",
      " -3.16411556e-04 -3.62575305e-05  3.07197034e-06  6.62543971e-07\n",
      "  1.77750603e-08 -2.48571497e-09 -1.86418514e-10 -3.78033291e-12\n",
      "  6.36699068e-02 -5.12154898e-01 -2.21268886e-01  7.99461448e-01\n",
      "  2.60708995e-01 -5.24548797e-01 -1.40249540e-01  1.59518124e-01\n",
      "  3.74398261e-02 -2.21285768e-02 -4.79738788e-03  1.12965567e-03\n",
      "  2.34360558e-04  6.01419462e-03  1.45531804e-01 -1.44012674e-03\n",
      " -5.24099989e-02 -9.86125903e-04  1.04451135e-02  2.75357497e-04\n",
      " -9.26727201e-04 -2.67941521e-05  3.72344427e-05  1.13962742e-06\n",
      " -5.56730753e-07 -1.80390299e-08  7.26293754e-03 -3.01385971e-02\n",
      " -3.92896346e-03  1.14191127e-02  4.89019657e-03 -3.05347128e-03\n",
      " -1.51891296e-03  3.88627366e-04  1.92208727e-04 -2.01224202e-05\n",
      " -1.03833072e-05  3.29948460e-07  1.92726479e-07  1.39966098e-01\n",
      "  5.86388445e-06 -7.82092134e-03  1.22442212e-04  2.50644561e-04\n",
      "  1.20248112e-05 -1.98557278e-06 -1.75226018e-07 -1.63218985e-09\n",
      "  1.15758266e-10 -3.24111461e-14  5.54608076e-15 -1.86346203e-16\n",
      " -1.99618326e-02  1.24797482e-01  5.02199421e-02 -1.44471107e-01\n",
      " -3.08056379e-02  7.83268386e-02  4.25653231e-03 -2.19280895e-02\n",
      "  7.99587620e-04  2.94079607e-03 -2.30234907e-04 -1.48231264e-04\n",
      "  1.45130787e-05 -4.53844326e-03  1.01888242e-01  2.15044624e-02\n",
      " -2.85105414e-02 -4.92336345e-03  3.13113295e-03  3.51400909e-04\n",
      " -1.37729595e-04  1.61479133e-08  3.69734155e-06 -5.53756224e-07\n",
      " -7.74933907e-08  7.43831238e-09 -1.17585297e-01  9.52145855e-04\n",
      "  3.39855048e-03  1.87384136e-04  2.16013516e-05 -5.56449821e-06\n",
      " -1.53092890e-06 -7.41524565e-09 -3.29368386e-11  5.68936546e-13\n",
      "  6.67993831e-15 -1.08266873e-16  5.21167480e-20  3.41050213e-02\n",
      " -2.01235346e-02  5.22632508e-03  2.78745921e-03 -6.82626334e-04\n",
      " -1.31126338e-04  2.08438652e-05  3.40865678e-06 -2.90371345e-07\n",
      " -4.42964396e-08  2.54195512e-09  2.19307154e-10 -1.22687987e-11\n",
      " -1.90698984e-02 -2.46054228e-02  9.25227072e-02  8.39076147e-02\n",
      " -1.17126029e-01 -5.84148831e-02  6.15901593e-02  1.59626785e-02\n",
      " -1.52464468e-02 -1.91861390e-03  1.74650478e-03  8.42730546e-05\n",
      " -7.39210057e-05 -6.17425729e-02  1.73315181e-01 -1.80286583e-02\n",
      " -5.35249684e-02  3.32648385e-03  5.89835317e-03 -3.05088179e-05\n",
      " -2.67802239e-04 -8.50504710e-06  5.24962502e-06  2.92413165e-07\n",
      " -3.66556657e-08 -2.62789813e-09 -6.91678889e-03  2.03228927e-02\n",
      "  2.42805737e-02 -4.13278235e-01 -2.63619377e-02  1.53907968e-01\n",
      "  1.13327508e-02 -1.74240628e-02 -2.01315655e-03 -7.26410339e-05\n",
      "  1.31212737e-04  7.93894006e-05 -1.12099835e-06 -1.59107895e-01\n",
      " -4.39824893e-02  2.86429489e-02  2.53704073e-03 -2.58066607e-03\n",
      "  1.84349374e-04  4.28800330e-05 -6.29529952e-06  1.70368284e-07\n",
      "  6.08402627e-09  1.56635478e-10 -3.07365336e-12  1.54947337e-13\n",
      "  3.23619241e-01 -8.67357185e-02 -1.02779801e-01  1.56849991e-02\n",
      "  1.23509797e-02 -1.52085083e-03 -5.40852525e-04  6.88047221e-05\n",
      "  8.99142501e-06 -1.39527946e-06 -2.91036909e-08  1.02271995e-08\n",
      " -3.59079942e-10]\n"
     ]
    }
   ],
   "source": [
    "lambdas=np.logspace(-10,-1,10)\n",
    "degrees=np.linspace(1,15,15).astype('int')\n",
    "mses= np.zeros((len(degrees), len(lambdas)))\n",
    "\n",
    "for ind_degree,degree in enumerate(degrees):\n",
    "    tx_train_pca_std_transf_polynomial=polynomial_features_simple(df_train_pca_std_transf, degree)\n",
    "    for ind_lambda,lambda_ in enumerate(lambdas):\n",
    "        w,loss=implementations.ridge_regression(y_train_pca,tx_train_pca_std_transf_polynomial,lambda_)\n",
    "        mses[ind_degree, ind_lambda]=loss\n",
    "        \n",
    "mse_final, degree_final,lambda_final=get_best_parameters(degrees, lambdas, mses)\n",
    "tx_train_pca_std_transf_polynomial=polynomial_features_simple(df_train_pca_std_transf, degree_final)\n",
    "w_final,loss=implementations.ridge_regression(y_train_pca,tx_train_pca_std_transf_polynomial,lambda_final)\n",
    "\n",
    "print('MSE: ',mse_final,'   Degree: ',degree_final,'   Lambda: ',lambda_final)\n",
    "print('')\n",
    "print('Ws: ',w_final)"
   ]
  },
  {
   "cell_type": "code",
   "execution_count": 35,
   "metadata": {},
   "outputs": [
    {
     "name": "stdout",
     "output_type": "stream",
     "text": [
      "Performance:  0.77598\n",
      "Degree:  13\n",
      "Lambda:  1e-06\n"
     ]
    }
   ],
   "source": [
    "y_pred=predict_labels(w_final,tx_train_pca_std_transf_polynomial)\n",
    "print('Performance: ',list(y_pred*y_train_pca).count(1.)/len(tx_train_pca_std_transf_polynomial))\n",
    "print('Degree: ',degree_final)\n",
    "print('Lambda: ',lambda_final)"
   ]
  },
  {
   "cell_type": "code",
   "execution_count": null,
   "metadata": {},
   "outputs": [],
   "source": [
    "df_test_pca=df_test.drop(columns=['Prediction', 'Id'])"
   ]
  },
  {
   "cell_type": "code",
   "execution_count": null,
   "metadata": {},
   "outputs": [],
   "source": [
    "df_test_pca=df_test_pca.drop(columns=['PRI_jet_subleading_pt', 'PRI_jet_subleading_eta', 'PRI_jet_subleading_phi', 'DER_lep_eta_centrality', 'DER_prodeta_jet_jet', 'DER_mass_jet_jet', 'DER_deltaeta_jet_jet','PRI_jet_leading_pt','PRI_jet_leading_eta','PRI_jet_leading_phi'])"
   ]
  },
  {
   "cell_type": "code",
   "execution_count": null,
   "metadata": {
    "scrolled": true
   },
   "outputs": [],
   "source": [
    "df_test_pca['DER_mass_MMC'][df_test_pca['DER_mass_MMC']==-999.0]=median"
   ]
  },
  {
   "cell_type": "code",
   "execution_count": null,
   "metadata": {},
   "outputs": [],
   "source": [
    "features = df_test_pca.columns.values\n",
    "df_test_pca_std=pd.DataFrame()\n",
    "\n",
    "# def standardize_test(x, train_set):\n",
    "#     x=(x-np.mean(train_set, axis=0))/np.std(train_set, axis=0)\n",
    "#     return x\n",
    "\n",
    "df_test_pca_std=standardize_test(df_test_pca, mean_train, std_train)\n",
    "df_test_pca_std.head()"
   ]
  },
  {
   "cell_type": "code",
   "execution_count": null,
   "metadata": {},
   "outputs": [],
   "source": [
    "df_test_pca_std_transf = df_test_pca_std.dot(matrix_w)"
   ]
  },
  {
   "cell_type": "code",
   "execution_count": null,
   "metadata": {},
   "outputs": [],
   "source": [
    "tx_test_pca_std_transf_polynomial=polynomial_features_simple(df_test_pca_std_transf, degree_final)"
   ]
  },
  {
   "cell_type": "markdown",
   "metadata": {},
   "source": [
    "# Submission"
   ]
  },
  {
   "cell_type": "code",
   "execution_count": null,
   "metadata": {},
   "outputs": [],
   "source": [
    "tx_test=tx_test_pca_std_transf_polynomial\n",
    "y_pred=predict_labels(w_final,tx_test)\n",
    "create_csv_submission(df_test['Id'], y_pred, 'trial_ridge_polynomial_pca')"
   ]
  },
  {
   "cell_type": "code",
   "execution_count": null,
   "metadata": {},
   "outputs": [],
   "source": []
  }
 ],
 "metadata": {
  "kernelspec": {
   "display_name": "Python 3",
   "language": "python",
   "name": "python3"
  },
  "language_info": {
   "codemirror_mode": {
    "name": "ipython",
    "version": 3
   },
   "file_extension": ".py",
   "mimetype": "text/x-python",
   "name": "python",
   "nbconvert_exporter": "python",
   "pygments_lexer": "ipython3",
   "version": "3.6.5"
  }
 },
 "nbformat": 4,
 "nbformat_minor": 2
}
