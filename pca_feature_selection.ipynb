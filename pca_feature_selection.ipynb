{
 "cells": [
  {
   "cell_type": "code",
   "execution_count": 13,
   "metadata": {},
   "outputs": [
    {
     "name": "stdout",
     "output_type": "stream",
     "text": [
      "The autoreload extension is already loaded. To reload it, use:\n",
      "  %reload_ext autoreload\n",
      "Requirement already satisfied: plotly in /Users/gianlucamancini/anaconda3/lib/python3.6/site-packages (3.3.0)\n",
      "Requirement already satisfied: requests in /Users/gianlucamancini/anaconda3/lib/python3.6/site-packages (from plotly) (2.18.4)\n",
      "Requirement already satisfied: six in /Users/gianlucamancini/anaconda3/lib/python3.6/site-packages (from plotly) (1.11.0)\n",
      "Requirement already satisfied: decorator>=4.0.6 in /Users/gianlucamancini/anaconda3/lib/python3.6/site-packages (from plotly) (4.3.0)\n",
      "Requirement already satisfied: pytz in /Users/gianlucamancini/anaconda3/lib/python3.6/site-packages (from plotly) (2018.4)\n",
      "Requirement already satisfied: nbformat>=4.2 in /Users/gianlucamancini/anaconda3/lib/python3.6/site-packages (from plotly) (4.4.0)\n",
      "Requirement already satisfied: retrying>=1.3.3 in /Users/gianlucamancini/anaconda3/lib/python3.6/site-packages (from plotly) (1.3.3)\n",
      "Requirement already satisfied: chardet<3.1.0,>=3.0.2 in /Users/gianlucamancini/anaconda3/lib/python3.6/site-packages (from requests->plotly) (3.0.4)\n",
      "Requirement already satisfied: idna<2.7,>=2.5 in /Users/gianlucamancini/anaconda3/lib/python3.6/site-packages (from requests->plotly) (2.6)\n",
      "Requirement already satisfied: urllib3<1.23,>=1.21.1 in /Users/gianlucamancini/anaconda3/lib/python3.6/site-packages (from requests->plotly) (1.22)\n",
      "Requirement already satisfied: certifi>=2017.4.17 in /Users/gianlucamancini/anaconda3/lib/python3.6/site-packages (from requests->plotly) (2018.4.16)\n",
      "Requirement already satisfied: ipython_genutils in /Users/gianlucamancini/anaconda3/lib/python3.6/site-packages (from nbformat>=4.2->plotly) (0.2.0)\n",
      "Requirement already satisfied: traitlets>=4.1 in /Users/gianlucamancini/anaconda3/lib/python3.6/site-packages (from nbformat>=4.2->plotly) (4.3.2)\n",
      "Requirement already satisfied: jsonschema!=2.5.0,>=2.4 in /Users/gianlucamancini/anaconda3/lib/python3.6/site-packages (from nbformat>=4.2->plotly) (2.6.0)\n",
      "Requirement already satisfied: jupyter_core in /Users/gianlucamancini/anaconda3/lib/python3.6/site-packages (from nbformat>=4.2->plotly) (4.4.0)\n",
      "\u001b[31mdistributed 1.21.8 requires msgpack, which is not installed.\u001b[0m\n",
      "\u001b[33mYou are using pip version 10.0.1, however version 18.1 is available.\n",
      "You should consider upgrading via the 'pip install --upgrade pip' command.\u001b[0m\n"
     ]
    }
   ],
   "source": [
    "# Useful starting lines\n",
    "%matplotlib inline\n",
    "import numpy as np\n",
    "import matplotlib.pyplot as plt\n",
    "%load_ext autoreload\n",
    "%autoreload 2\n",
    "#allows to print the dataframe nicely\n",
    "from IPython.core import display as ICD\n",
    "!pip install plotly\n",
    "import plotly.plotly as py\n",
    "from plotly.graph_objs import *\n",
    "import plotly.tools as tls\n",
    "from scipy import stats"
   ]
  },
  {
   "cell_type": "code",
   "execution_count": 2,
   "metadata": {},
   "outputs": [],
   "source": [
    "# import additional packages to insepct data and clean them\n",
    "import pandas as pd\n",
    "import os \n",
    "import random \n",
    "from zipfile import ZipFile\n",
    "import datetime"
   ]
  },
  {
   "cell_type": "code",
   "execution_count": 38,
   "metadata": {},
   "outputs": [],
   "source": [
    "# import helping functions from the implementation file\n",
    "#from proj1_helpers import load_csv_data\n",
    "from proj1_helpers import *\n",
    "import implementations\n",
    "from additional_implementations import *\n",
    "import seaborn as sns"
   ]
  },
  {
   "cell_type": "code",
   "execution_count": 4,
   "metadata": {},
   "outputs": [
    {
     "data": {
      "text/plain": [
       "[<ZipInfo filename='train.csv' compress_type=deflate file_size=48103379 compress_size=17670847>,\n",
       " <ZipInfo filename='test.csv' compress_type=deflate file_size=109335584 compress_size=40089137>,\n",
       " <ZipInfo filename='sample-submission.csv' compress_type=deflate file_size=5682394 compress_size=1263762>]"
      ]
     },
     "execution_count": 4,
     "metadata": {},
     "output_type": "execute_result"
    }
   ],
   "source": [
    "# import zipped files from the github repository\n",
    "data_folder='./data/'\n",
    "zip_file = ZipFile(data_folder+'all.zip')\n",
    "# zip file creates a list of files with certain properties\n",
    "zip_file.infolist()"
   ]
  },
  {
   "cell_type": "code",
   "execution_count": 5,
   "metadata": {},
   "outputs": [],
   "source": [
    "# now we want to access the 'filename' property in the zipfile variable\n",
    "# and we create a dictionary of dataframe\n",
    "dfs = {text_file.filename: pd.read_csv(zip_file.open(text_file.filename))\n",
    "       for text_file in zip_file.infolist()\n",
    "       if text_file.filename.endswith('.csv')}\n",
    "df_train=dfs['train.csv']\n",
    "df_test=dfs['test.csv']\n",
    "df_sample_submission=dfs['sample-submission.csv']"
   ]
  },
  {
   "cell_type": "code",
   "execution_count": 6,
   "metadata": {},
   "outputs": [],
   "source": [
    "df_train_pca=df_train.drop(columns=['Prediction', 'Id'])"
   ]
  },
  {
   "cell_type": "code",
   "execution_count": 7,
   "metadata": {},
   "outputs": [
    {
     "data": {
      "text/plain": [
       "{'DER_mass_MMC': 38114,\n",
       " 'DER_mass_transverse_met_lep': 0,\n",
       " 'DER_mass_vis': 0,\n",
       " 'DER_pt_h': 0,\n",
       " 'DER_deltaeta_jet_jet': 177457,\n",
       " 'DER_mass_jet_jet': 177457,\n",
       " 'DER_prodeta_jet_jet': 177457,\n",
       " 'DER_deltar_tau_lep': 0,\n",
       " 'DER_pt_tot': 0,\n",
       " 'DER_sum_pt': 0,\n",
       " 'DER_pt_ratio_lep_tau': 0,\n",
       " 'DER_met_phi_centrality': 0,\n",
       " 'DER_lep_eta_centrality': 177457,\n",
       " 'PRI_tau_pt': 0,\n",
       " 'PRI_tau_eta': 0,\n",
       " 'PRI_tau_phi': 0,\n",
       " 'PRI_lep_pt': 0,\n",
       " 'PRI_lep_eta': 0,\n",
       " 'PRI_lep_phi': 0,\n",
       " 'PRI_met': 0,\n",
       " 'PRI_met_phi': 0,\n",
       " 'PRI_met_sumet': 0,\n",
       " 'PRI_jet_num': 0,\n",
       " 'PRI_jet_leading_pt': 99913,\n",
       " 'PRI_jet_leading_eta': 99913,\n",
       " 'PRI_jet_leading_phi': 99913,\n",
       " 'PRI_jet_subleading_pt': 177457,\n",
       " 'PRI_jet_subleading_eta': 177457,\n",
       " 'PRI_jet_subleading_phi': 177457,\n",
       " 'PRI_jet_all_pt': 0}"
      ]
     },
     "execution_count": 7,
     "metadata": {},
     "output_type": "execute_result"
    }
   ],
   "source": [
    "counts={}\n",
    "for column_name in df_train_pca.columns.values:\n",
    "    \n",
    "    check=df_train_pca[column_name]==-999.0\n",
    "    counts[column_name]=np.sum(check.astype('int'))\n",
    "counts"
   ]
  },
  {
   "cell_type": "code",
   "execution_count": 25,
   "metadata": {},
   "outputs": [],
   "source": [
    "#df_train_pca=df_train_pca.drop(columns=['PRI_jet_subleading_pt', 'PRI_jet_subleading_eta', 'PRI_jet_subleading_phi', 'DER_lep_eta_centrality', 'DER_prodeta_jet_jet', 'DER_mass_jet_jet', 'DER_deltaeta_jet_jet','PRI_jet_leading_pt','PRI_jet_leading_eta','PRI_jet_leading_phi'])"
   ]
  },
  {
   "cell_type": "code",
   "execution_count": 26,
   "metadata": {
    "scrolled": true
   },
   "outputs": [],
   "source": [
    "#median=np.median(df_train_pca['DER_mass_MMC'])\n",
    "#df_train_pca['DER_mass_MMC'][df_train_pca['DER_mass_MMC']==-999.0]=median"
   ]
  },
  {
   "cell_type": "code",
   "execution_count": 8,
   "metadata": {},
   "outputs": [],
   "source": [
    "df_train_pca[df_train_pca==-999.0]=0"
   ]
  },
  {
   "cell_type": "markdown",
   "metadata": {},
   "source": [
    "### PCA"
   ]
  },
  {
   "cell_type": "code",
   "execution_count": 40,
   "metadata": {},
   "outputs": [
    {
     "data": {
      "text/html": [
       "<div>\n",
       "<style scoped>\n",
       "    .dataframe tbody tr th:only-of-type {\n",
       "        vertical-align: middle;\n",
       "    }\n",
       "\n",
       "    .dataframe tbody tr th {\n",
       "        vertical-align: top;\n",
       "    }\n",
       "\n",
       "    .dataframe thead th {\n",
       "        text-align: right;\n",
       "    }\n",
       "</style>\n",
       "<table border=\"1\" class=\"dataframe\">\n",
       "  <thead>\n",
       "    <tr style=\"text-align: right;\">\n",
       "      <th></th>\n",
       "      <th>DER_mass_MMC</th>\n",
       "      <th>DER_mass_transverse_met_lep</th>\n",
       "      <th>DER_mass_vis</th>\n",
       "      <th>DER_pt_h</th>\n",
       "      <th>DER_deltaeta_jet_jet</th>\n",
       "      <th>DER_mass_jet_jet</th>\n",
       "      <th>DER_prodeta_jet_jet</th>\n",
       "      <th>DER_deltar_tau_lep</th>\n",
       "      <th>DER_pt_tot</th>\n",
       "      <th>DER_sum_pt</th>\n",
       "      <th>...</th>\n",
       "      <th>PRI_met_phi</th>\n",
       "      <th>PRI_met_sumet</th>\n",
       "      <th>PRI_jet_num</th>\n",
       "      <th>PRI_jet_leading_pt</th>\n",
       "      <th>PRI_jet_leading_eta</th>\n",
       "      <th>PRI_jet_leading_phi</th>\n",
       "      <th>PRI_jet_subleading_pt</th>\n",
       "      <th>PRI_jet_subleading_eta</th>\n",
       "      <th>PRI_jet_subleading_phi</th>\n",
       "      <th>PRI_jet_all_pt</th>\n",
       "    </tr>\n",
       "  </thead>\n",
       "  <tbody>\n",
       "    <tr>\n",
       "      <th>0</th>\n",
       "      <td>0.513222</td>\n",
       "      <td>0.068332</td>\n",
       "      <td>0.407680</td>\n",
       "      <td>-0.469966</td>\n",
       "      <td>0.147669</td>\n",
       "      <td>0.061716</td>\n",
       "      <td>1.476969</td>\n",
       "      <td>0.882478</td>\n",
       "      <td>1.033099</td>\n",
       "      <td>0.339894</td>\n",
       "      <td>...</td>\n",
       "      <td>-0.147267</td>\n",
       "      <td>0.386847</td>\n",
       "      <td>1.044402</td>\n",
       "      <td>0.263213</td>\n",
       "      <td>1.556350</td>\n",
       "      <td>0.321296</td>\n",
       "      <td>0.935741</td>\n",
       "      <td>1.136122</td>\n",
       "      <td>-2.528290</td>\n",
       "      <td>0.412510</td>\n",
       "    </tr>\n",
       "    <tr>\n",
       "      <th>1</th>\n",
       "      <td>0.840891</td>\n",
       "      <td>0.552505</td>\n",
       "      <td>0.540136</td>\n",
       "      <td>-0.153167</td>\n",
       "      <td>-0.484693</td>\n",
       "      <td>-0.395606</td>\n",
       "      <td>0.121248</td>\n",
       "      <td>1.404888</td>\n",
       "      <td>-0.756027</td>\n",
       "      <td>-0.287584</td>\n",
       "      <td>...</td>\n",
       "      <td>-1.051683</td>\n",
       "      <td>-0.357719</td>\n",
       "      <td>0.021305</td>\n",
       "      <td>-0.074869</td>\n",
       "      <td>0.525758</td>\n",
       "      <td>0.829460</td>\n",
       "      <td>-0.534065</td>\n",
       "      <td>0.003141</td>\n",
       "      <td>0.000469</td>\n",
       "      <td>-0.273820</td>\n",
       "    </tr>\n",
       "    <tr>\n",
       "      <th>2</th>\n",
       "      <td>-1.506293</td>\n",
       "      <td>3.195156</td>\n",
       "      <td>1.096560</td>\n",
       "      <td>-0.349710</td>\n",
       "      <td>-0.484693</td>\n",
       "      <td>-0.395606</td>\n",
       "      <td>0.121248</td>\n",
       "      <td>0.989770</td>\n",
       "      <td>-0.430168</td>\n",
       "      <td>0.340361</td>\n",
       "      <td>...</td>\n",
       "      <td>-1.200672</td>\n",
       "      <td>0.400135</td>\n",
       "      <td>0.021305</td>\n",
       "      <td>-0.106352</td>\n",
       "      <td>1.486197</td>\n",
       "      <td>-1.438062</td>\n",
       "      <td>-0.534065</td>\n",
       "      <td>0.003141</td>\n",
       "      <td>0.000469</td>\n",
       "      <td>-0.293970</td>\n",
       "    </tr>\n",
       "    <tr>\n",
       "      <th>3</th>\n",
       "      <td>0.592488</td>\n",
       "      <td>0.910379</td>\n",
       "      <td>-0.005853</td>\n",
       "      <td>-0.903016</td>\n",
       "      <td>-0.484693</td>\n",
       "      <td>-0.395606</td>\n",
       "      <td>0.121248</td>\n",
       "      <td>1.196690</td>\n",
       "      <td>-0.830735</td>\n",
       "      <td>-0.712705</td>\n",
       "      <td>...</td>\n",
       "      <td>0.038692</td>\n",
       "      <td>-0.978149</td>\n",
       "      <td>-1.001792</td>\n",
       "      <td>-0.811735</td>\n",
       "      <td>0.001422</td>\n",
       "      <td>0.005295</td>\n",
       "      <td>-0.534065</td>\n",
       "      <td>0.003141</td>\n",
       "      <td>0.000469</td>\n",
       "      <td>-0.745439</td>\n",
       "    </tr>\n",
       "    <tr>\n",
       "      <th>4</th>\n",
       "      <td>1.058594</td>\n",
       "      <td>-0.914556</td>\n",
       "      <td>1.313369</td>\n",
       "      <td>-0.651804</td>\n",
       "      <td>-0.484693</td>\n",
       "      <td>-0.395606</td>\n",
       "      <td>0.121248</td>\n",
       "      <td>1.938794</td>\n",
       "      <td>-0.112795</td>\n",
       "      <td>-0.868143</td>\n",
       "      <td>...</td>\n",
       "      <td>-0.475042</td>\n",
       "      <td>-1.238475</td>\n",
       "      <td>-1.001792</td>\n",
       "      <td>-0.811735</td>\n",
       "      <td>0.001422</td>\n",
       "      <td>0.005295</td>\n",
       "      <td>-0.534065</td>\n",
       "      <td>0.003141</td>\n",
       "      <td>0.000469</td>\n",
       "      <td>-0.745439</td>\n",
       "    </tr>\n",
       "  </tbody>\n",
       "</table>\n",
       "<p>5 rows × 30 columns</p>\n",
       "</div>"
      ],
      "text/plain": [
       "   DER_mass_MMC  DER_mass_transverse_met_lep  DER_mass_vis  DER_pt_h  \\\n",
       "0      0.513222                     0.068332      0.407680 -0.469966   \n",
       "1      0.840891                     0.552505      0.540136 -0.153167   \n",
       "2     -1.506293                     3.195156      1.096560 -0.349710   \n",
       "3      0.592488                     0.910379     -0.005853 -0.903016   \n",
       "4      1.058594                    -0.914556      1.313369 -0.651804   \n",
       "\n",
       "   DER_deltaeta_jet_jet  DER_mass_jet_jet  DER_prodeta_jet_jet  \\\n",
       "0              0.147669          0.061716             1.476969   \n",
       "1             -0.484693         -0.395606             0.121248   \n",
       "2             -0.484693         -0.395606             0.121248   \n",
       "3             -0.484693         -0.395606             0.121248   \n",
       "4             -0.484693         -0.395606             0.121248   \n",
       "\n",
       "   DER_deltar_tau_lep  DER_pt_tot  DER_sum_pt       ...        PRI_met_phi  \\\n",
       "0            0.882478    1.033099    0.339894       ...          -0.147267   \n",
       "1            1.404888   -0.756027   -0.287584       ...          -1.051683   \n",
       "2            0.989770   -0.430168    0.340361       ...          -1.200672   \n",
       "3            1.196690   -0.830735   -0.712705       ...           0.038692   \n",
       "4            1.938794   -0.112795   -0.868143       ...          -0.475042   \n",
       "\n",
       "   PRI_met_sumet  PRI_jet_num  PRI_jet_leading_pt  PRI_jet_leading_eta  \\\n",
       "0       0.386847     1.044402            0.263213             1.556350   \n",
       "1      -0.357719     0.021305           -0.074869             0.525758   \n",
       "2       0.400135     0.021305           -0.106352             1.486197   \n",
       "3      -0.978149    -1.001792           -0.811735             0.001422   \n",
       "4      -1.238475    -1.001792           -0.811735             0.001422   \n",
       "\n",
       "   PRI_jet_leading_phi  PRI_jet_subleading_pt  PRI_jet_subleading_eta  \\\n",
       "0             0.321296               0.935741                1.136122   \n",
       "1             0.829460              -0.534065                0.003141   \n",
       "2            -1.438062              -0.534065                0.003141   \n",
       "3             0.005295              -0.534065                0.003141   \n",
       "4             0.005295              -0.534065                0.003141   \n",
       "\n",
       "   PRI_jet_subleading_phi  PRI_jet_all_pt  \n",
       "0               -2.528290        0.412510  \n",
       "1                0.000469       -0.273820  \n",
       "2                0.000469       -0.293970  \n",
       "3                0.000469       -0.745439  \n",
       "4                0.000469       -0.745439  \n",
       "\n",
       "[5 rows x 30 columns]"
      ]
     },
     "execution_count": 40,
     "metadata": {},
     "output_type": "execute_result"
    }
   ],
   "source": [
    "features = df_train_pca.columns.values\n",
    "df_train_pca_std=pd.DataFrame()\n",
    "\n",
    "df_train_pca_std, mean_train, std_train=standardize_personal(df_train_pca)\n",
    "df_train_pca_std.head()\n",
    "print(len(features))"
   ]
  },
  {
   "cell_type": "code",
   "execution_count": 10,
   "metadata": {},
   "outputs": [],
   "source": [
    "cov_df_train_pca_std=np.cov(df_train_pca_std.T)\n",
    "eig_vals, eig_vecs = np.linalg.eig(cov_df_train_pca_std)"
   ]
  },
  {
   "cell_type": "code",
   "execution_count": 11,
   "metadata": {},
   "outputs": [],
   "source": [
    "# Make a list of (eigenvalue, eigenvector) tuples\n",
    "eig_pairs = [(np.abs(eig_vals[i]), eig_vecs[:,i]) for i in range(len(eig_vals))]\n",
    "\n",
    "# Sort the (eigenvalue, eigenvector) tuples from high to low\n",
    "eig_pairs.sort()\n",
    "eig_pairs.reverse()"
   ]
  },
  {
   "cell_type": "code",
   "execution_count": 31,
   "metadata": {},
   "outputs": [
    {
     "name": "stderr",
     "output_type": "stream",
     "text": [
      "/Users/gianlucamancini/anaconda3/lib/python3.6/site-packages/plotly/graph_objs/_deprecations.py:39: DeprecationWarning:\n",
      "\n",
      "plotly.graph_objs.Data is deprecated.\n",
      "Please replace it with a list or tuple of instances of the following types\n",
      "  - plotly.graph_objs.Scatter\n",
      "  - plotly.graph_objs.Bar\n",
      "  - plotly.graph_objs.Area\n",
      "  - plotly.graph_objs.Histogram\n",
      "  - etc.\n",
      "\n",
      "\n",
      "/Users/gianlucamancini/anaconda3/lib/python3.6/site-packages/plotly/graph_objs/_deprecations.py:558: DeprecationWarning:\n",
      "\n",
      "plotly.graph_objs.YAxis is deprecated.\n",
      "Please replace it with one of the following more specific types\n",
      "  - plotly.graph_objs.layout.YAxis\n",
      "  - plotly.graph_objs.layout.scene.YAxis\n",
      "\n",
      "\n",
      "/Users/gianlucamancini/anaconda3/lib/python3.6/site-packages/plotly/graph_objs/_deprecations.py:531: DeprecationWarning:\n",
      "\n",
      "plotly.graph_objs.XAxis is deprecated.\n",
      "Please replace it with one of the following more specific types\n",
      "  - plotly.graph_objs.layout.XAxis\n",
      "  - plotly.graph_objs.layout.scene.XAxis\n",
      "\n",
      "\n"
     ]
    },
    {
     "data": {
      "text/html": [
       "<iframe id=\"igraph\" scrolling=\"no\" style=\"border:none;\" seamless=\"seamless\" src=\"https://plot.ly/~gianlucamancini7/60.embed\" height=\"525px\" width=\"100%\"></iframe>"
      ],
      "text/plain": [
       "<plotly.tools.PlotlyDisplay object>"
      ]
     },
     "execution_count": 31,
     "metadata": {},
     "output_type": "execute_result"
    }
   ],
   "source": [
    "tot = sum(eig_vals)\n",
    "var_exp = [(i / tot)*100 for i in sorted(eig_vals, reverse=True)]\n",
    "cum_var_exp = np.cumsum(var_exp)\n",
    "\n",
    "trace1 = Bar(\n",
    "        x=['PC %s' %i for i in range(1,21)],\n",
    "        y=var_exp,\n",
    "        showlegend=False)\n",
    "\n",
    "trace2 = Scatter(\n",
    "        x=['PC %s' %i for i in range(1,21)], \n",
    "        y=cum_var_exp,\n",
    "        name='Cumulative Explained Variance',\n",
    "        showlegend=False)\n",
    "\n",
    "data = Data([trace1, trace2])\n",
    "\n",
    "layout=Layout(\n",
    "        yaxis=YAxis(title='Explained variance in percent', titlefont=dict(size=20)),\n",
    "        xaxis=XAxis(title='Principal Components',titlefont=dict(size=20)),\n",
    "        font=dict(\n",
    "            family='sans-serif',\n",
    "            size=17,\n",
    "            color='#000'\n",
    "        ))\n",
    "\n",
    "fig = Figure(data=data, layout=layout)\n",
    "py.iplot(fig)"
   ]
  },
  {
   "cell_type": "code",
   "execution_count": 32,
   "metadata": {},
   "outputs": [],
   "source": [
    "number_features=30\n",
    "#decide how many principal components i get\n",
    "number_pa=25\n",
    "#define matrix to be filled in\n",
    "matrix_w=np.ones((number_features, number_pa))\n",
    "for i in range(number_pa):\n",
    "    matrix_w[:,i] = eig_pairs[i][1]"
   ]
  },
  {
   "cell_type": "code",
   "execution_count": 33,
   "metadata": {},
   "outputs": [],
   "source": [
    "df_train_pca_std_transf = df_train_pca_std.dot(matrix_w)"
   ]
  },
  {
   "cell_type": "code",
   "execution_count": 34,
   "metadata": {},
   "outputs": [],
   "source": [
    "y_train_pca=np.array(df_train['Prediction'])\n",
    "y_train_pca[np.where(y_train_pca=='b')] = -1.\n",
    "y_train_pca[np.where(y_train_pca=='s')] = 1.\n",
    "y_train_pca=y_train_pca.astype('float')"
   ]
  },
  {
   "cell_type": "code",
   "execution_count": 36,
   "metadata": {},
   "outputs": [
    {
     "name": "stdout",
     "output_type": "stream",
     "text": [
      "MSE:  0.3128958907234863    Degree:  10    Lambda:  1e-10\n",
      "\n",
      "Ws:  [-1.99480760e-02 -1.10954791e-01 -3.77521487e-02 -3.48138051e-03\n",
      "  1.79570536e-03  6.86045146e-04  9.97033175e-05  7.50215942e-06\n",
      "  3.09021719e-07  6.61508003e-09  5.76003885e-11 -2.76706260e-02\n",
      " -4.22440081e-02  5.26730524e-03  2.37612856e-03 -4.44076563e-05\n",
      " -4.37211621e-05 -1.60957512e-06  2.20649625e-07  1.74096444e-08\n",
      "  3.45269098e-10 -1.34271244e-01 -1.70884104e-02  6.09594495e-03\n",
      "  7.50112147e-04 -1.52354612e-04 -1.44027500e-05  1.31776765e-06\n",
      "  1.08042697e-07 -3.12525610e-09 -2.37893636e-10 -2.51912359e-01\n",
      "  2.27626493e-02  1.46600455e-02 -1.20894938e-03 -2.54642334e-04\n",
      "  1.69299510e-05  1.54947669e-06 -9.06523973e-08 -2.94950778e-09\n",
      "  1.61986396e-10  4.30649183e-03 -3.68710924e-02  4.69915063e-03\n",
      " -1.54123551e-03 -1.25238717e-03 -3.97855388e-05  1.33034440e-04\n",
      "  9.28895605e-05 -4.29880886e-06 -4.70676761e-06 -9.75255467e-03\n",
      "  5.39240367e-02 -6.44825934e-03 -5.24377038e-02  5.09806206e-03\n",
      "  1.72126541e-02 -7.83085280e-04 -2.14228325e-03  2.74345298e-05\n",
      "  8.48403904e-05  4.83012759e-02 -5.24746700e-02 -5.28446216e-03\n",
      "  5.67339501e-03  9.94089925e-05 -1.91195477e-04  9.20055332e-06\n",
      "  1.74625899e-06 -1.77354811e-07  4.53565671e-09 -2.38402573e-02\n",
      " -1.68884950e-01  3.69668934e-02  1.52436992e-01 -1.62721786e-02\n",
      " -6.27274244e-02  2.45867641e-03  1.20200337e-02 -1.07677189e-04\n",
      " -8.32209755e-04 -5.87991797e-03  1.40664760e-01  3.28216817e-03\n",
      " -3.16918434e-02 -3.29803086e-04  4.63635406e-03  1.20093676e-05\n",
      " -2.66495309e-04 -1.07383232e-07  5.06116528e-06 -8.30953382e-03\n",
      " -8.95409988e-03 -5.50273190e-03 -2.36123807e-03  2.44697322e-03\n",
      "  3.29504302e-04 -3.28536534e-04  1.43330673e-05  1.34633175e-05\n",
      " -1.51017788e-06 -1.33070404e-01 -2.65270040e-04  5.48240524e-03\n",
      "  2.49440615e-04 -2.39639321e-04  6.47383268e-06  2.53927187e-06\n",
      " -1.68022374e-07 -2.94139564e-10  1.50783590e-10  1.95080477e-02\n",
      "  5.32996569e-02 -4.44971901e-02 -2.29300573e-02  2.89732609e-02\n",
      "  1.13117507e-03 -6.12584087e-03  5.62002214e-04  3.90955971e-04\n",
      " -6.06262639e-05  6.03507295e-03  1.19334138e-01 -1.77351083e-02\n",
      " -3.69099132e-02  3.35140949e-03  4.63994301e-03 -2.54459217e-04\n",
      " -2.15668654e-04  6.41223099e-06  3.20131133e-06  8.50265191e-02\n",
      " -1.52537756e-02 -4.14203582e-04  5.99520270e-04  1.99590291e-05\n",
      " -8.34435427e-06 -3.57027333e-07  6.50800833e-09  9.65926880e-11\n",
      "  1.12517056e-12 -1.11978219e-02 -3.62688100e-02 -4.64940826e-03\n",
      "  3.13255356e-03  6.20513168e-04 -5.99588247e-05 -1.63241971e-05\n",
      "  2.85626572e-08  1.18489034e-07  4.47615624e-09  5.05920220e-03\n",
      " -9.01768081e-03 -1.39429350e-02  3.58441001e-02  7.89123897e-03\n",
      " -1.85101200e-02 -1.39995353e-03  3.17096817e-03  6.60372293e-05\n",
      " -1.71558321e-04 -1.36249644e-01  1.09510092e-01 -1.14847508e-02\n",
      " -2.03372883e-02  2.31648477e-03  1.35497469e-03 -9.01161391e-05\n",
      " -3.34311355e-05  9.53379836e-07  2.70064482e-07 -2.64488427e-03\n",
      "  1.05384151e-01  1.08018737e-02 -4.34059288e-01 -6.71353240e-03\n",
      "  1.75290733e-01  1.81149001e-03 -2.57047182e-02 -1.58535391e-04\n",
      "  1.28471691e-03 -1.57639070e-01 -6.87914582e-02  3.46153811e-02\n",
      "  5.62085326e-03 -4.36551131e-03  1.73574737e-04  1.36537369e-04\n",
      " -1.83656862e-05  7.58256023e-07 -1.82534860e-08  2.96031119e-01\n",
      " -5.81177056e-02 -4.86252569e-02  6.17130949e-03  4.00343447e-03\n",
      " -3.35738672e-04 -1.12945110e-04  8.31874006e-06  9.91573117e-07\n",
      " -7.62481348e-08 -2.87128474e-01 -4.40060182e-02  8.62721651e-03\n",
      "  2.12795645e-02  7.88373226e-03 -7.91881320e-04 -7.36910421e-04\n",
      " -6.78978174e-05  9.31554379e-06  1.22978404e-06 -6.09592041e-02\n",
      " -4.10306204e-02  4.12195933e-02 -1.53212273e-02 -6.67371129e-03\n",
      "  4.12051647e-03  1.69692101e-04 -2.54974969e-04  4.22970841e-06\n",
      "  4.88563289e-06  2.09665740e-02 -5.37345963e-02 -9.21878251e-03\n",
      "  8.10642164e-03 -2.41409252e-05 -2.30280740e-04  8.20868450e-06\n",
      "  1.53061328e-06 -7.19532179e-08 -2.94160222e-10  9.11037869e-02\n",
      "  5.88718177e-02 -1.14351743e-01 -1.81654846e-02  2.80098192e-02\n",
      "  3.85851214e-03 -2.26284073e-03 -3.19534922e-04  5.58297804e-05\n",
      "  7.98973901e-06 -7.93441183e-02 -1.04743382e-02 -1.58640246e-01\n",
      "  7.43710096e-02  5.35771480e-02 -1.32805876e-02 -7.20195773e-03\n",
      "  2.11293428e-04  2.99472961e-04  2.56530441e-05]\n"
     ]
    }
   ],
   "source": [
    "lambdas=np.logspace(-10,-1,2)\n",
    "degrees=np.linspace(5,15,3).astype('int')\n",
    "mses= np.zeros((len(degrees), len(lambdas)))\n",
    "\n",
    "for ind_degree,degree in enumerate(degrees):\n",
    "    tx_train_pca_std_transf_polynomial=polynomial_features_simple(df_train_pca_std_transf, degree)\n",
    "    for ind_lambda,lambda_ in enumerate(lambdas):\n",
    "        w,loss=implementations.ridge_regression(y_train_pca,tx_train_pca_std_transf_polynomial,lambda_)\n",
    "        mses[ind_degree, ind_lambda]=loss\n",
    "        \n",
    "mse_final, degree_final,lambda_final=get_best_parameters(degrees, lambdas, mses)\n",
    "tx_train_pca_std_transf_polynomial=polynomial_features_simple(df_train_pca_std_transf, degree_final)\n",
    "w_final,loss=implementations.ridge_regression(y_train_pca,tx_train_pca_std_transf_polynomial,lambda_final)\n",
    "\n",
    "print('MSE: ',mse_final,'   Degree: ',degree_final,'   Lambda: ',lambda_final)\n",
    "print('')\n",
    "print('Ws: ',w_final)"
   ]
  },
  {
   "cell_type": "code",
   "execution_count": 35,
   "metadata": {},
   "outputs": [
    {
     "name": "stdout",
     "output_type": "stream",
     "text": [
      "Performance:  0.77598\n",
      "Degree:  13\n",
      "Lambda:  1e-06\n"
     ]
    }
   ],
   "source": [
    "y_pred=predict_labels(w_final,tx_train_pca_std_transf_polynomial)\n",
    "print('Performance: ',list(y_pred*y_train_pca).count(1.)/len(tx_train_pca_std_transf_polynomial))\n",
    "print('Degree: ',degree_final)\n",
    "print('Lambda: ',lambda_final)"
   ]
  },
  {
   "cell_type": "code",
   "execution_count": null,
   "metadata": {},
   "outputs": [],
   "source": [
    "df_test_pca=df_test.drop(columns=['Prediction', 'Id'])"
   ]
  },
  {
   "cell_type": "code",
   "execution_count": null,
   "metadata": {},
   "outputs": [],
   "source": [
    "df_test_pca=df_test_pca.drop(columns=['PRI_jet_subleading_pt', 'PRI_jet_subleading_eta', 'PRI_jet_subleading_phi', 'DER_lep_eta_centrality', 'DER_prodeta_jet_jet', 'DER_mass_jet_jet', 'DER_deltaeta_jet_jet','PRI_jet_leading_pt','PRI_jet_leading_eta','PRI_jet_leading_phi'])"
   ]
  },
  {
   "cell_type": "code",
   "execution_count": null,
   "metadata": {
    "scrolled": true
   },
   "outputs": [],
   "source": [
    "df_test_pca['DER_mass_MMC'][df_test_pca['DER_mass_MMC']==-999.0]=median"
   ]
  },
  {
   "cell_type": "code",
   "execution_count": null,
   "metadata": {},
   "outputs": [],
   "source": [
    "features = df_test_pca.columns.values\n",
    "df_test_pca_std=pd.DataFrame()\n",
    "\n",
    "# def standardize_test(x, train_set):\n",
    "#     x=(x-np.mean(train_set, axis=0))/np.std(train_set, axis=0)\n",
    "#     return x\n",
    "\n",
    "df_test_pca_std=standardize_test(df_test_pca, mean_train, std_train)\n",
    "df_test_pca_std.head()"
   ]
  },
  {
   "cell_type": "code",
   "execution_count": null,
   "metadata": {},
   "outputs": [],
   "source": [
    "df_test_pca_std_transf = df_test_pca_std.dot(matrix_w)"
   ]
  },
  {
   "cell_type": "code",
   "execution_count": null,
   "metadata": {},
   "outputs": [],
   "source": [
    "tx_test_pca_std_transf_polynomial=polynomial_features_simple(df_test_pca_std_transf, degree_final)"
   ]
  },
  {
   "cell_type": "markdown",
   "metadata": {},
   "source": [
    "# Submission"
   ]
  },
  {
   "cell_type": "code",
   "execution_count": null,
   "metadata": {},
   "outputs": [],
   "source": [
    "tx_test=tx_test_pca_std_transf_polynomial\n",
    "y_pred=predict_labels(w_final,tx_test)\n",
    "create_csv_submission(df_test['Id'], y_pred, 'trial_ridge_polynomial_pca')"
   ]
  },
  {
   "cell_type": "code",
   "execution_count": null,
   "metadata": {},
   "outputs": [],
   "source": []
  }
 ],
 "metadata": {
  "kernelspec": {
   "display_name": "Python [default]",
   "language": "python",
   "name": "python3"
  },
  "language_info": {
   "codemirror_mode": {
    "name": "ipython",
    "version": 3
   },
   "file_extension": ".py",
   "mimetype": "text/x-python",
   "name": "python",
   "nbconvert_exporter": "python",
   "pygments_lexer": "ipython3",
   "version": "3.6.5"
  }
 },
 "nbformat": 4,
 "nbformat_minor": 2
}
